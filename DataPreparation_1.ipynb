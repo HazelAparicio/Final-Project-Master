{
 "cells": [
  {
   "cell_type": "markdown",
   "metadata": {},
   "source": [
    "# Data Preparation 1\n",
    "\n",
    "This notebook consist in the first data preparation. PATIENTS, ADMISSIONS and ICUSTAYS files will be preprocessed. Then the creation of databases associated to intractable files directly with pandas DataFrames due to memory limitations (INPUTEVENTS_CV, LABEVENTS, NOTEEVENTS, CHARTEVENTS) is adressed. This approach is necessary because the use of SQL to query desired instances and put it in the form of pandas DataFrame will help to automate the process of feature extraction.\n",
    "\n",
    "Files from MIMIC III used in this notebook:\n",
    "- PATIENTS.csv       (processed directly as a pandas DataFrame)\n",
    "- ADMISSIONS.csv     (processed directly as a pandas DataFrame)\n",
    "- ICUSTAYS.csv       (processed directly as a pandas DataFrame)\n",
    "\n",
    "\n",
    "- INPUTEVENTS_CV.csv (processed through database INPUTEVENTS_CV.db creation)\n",
    "- LABEVENTS.csv      (processed through database LABEVENTS.db creation)\n",
    "- NOTEEVENTS.csv     (processed through database NOTEEVENTS.db creation)\n",
    "- CHARTEVENTS.csv    (processed through database CHARTEVENTS.db creation)"
   ]
  },
  {
   "cell_type": "code",
   "execution_count": 1,
   "metadata": {
    "collapsed": true
   },
   "outputs": [],
   "source": [
    "import pandas as pd\n",
    "import numpy as np\n",
    "import matplotlib.pyplot as plt\n",
    "import matplotlib\n",
    "import scipy.stats as stats\n",
    "import pylab\n",
    "import sqlite3\n",
    "matplotlib.style.use('ggplot')"
   ]
  },
  {
   "cell_type": "markdown",
   "metadata": {},
   "source": [
    "### PATIENTS, ADMISSIONS and ICUSTAYS files preprocessing"
   ]
  },
  {
   "cell_type": "markdown",
   "metadata": {},
   "source": [
    "#### PATIENTS"
   ]
  },
  {
   "cell_type": "code",
   "execution_count": 2,
   "metadata": {},
   "outputs": [
    {
     "name": "stdout",
     "output_type": "stream",
     "text": [
      "(46520, 8)\n",
      "unique SUBJECT_ID: 46520\n"
     ]
    },
    {
     "data": {
      "text/html": [
       "<div>\n",
       "<style scoped>\n",
       "    .dataframe tbody tr th:only-of-type {\n",
       "        vertical-align: middle;\n",
       "    }\n",
       "\n",
       "    .dataframe tbody tr th {\n",
       "        vertical-align: top;\n",
       "    }\n",
       "\n",
       "    .dataframe thead th {\n",
       "        text-align: right;\n",
       "    }\n",
       "</style>\n",
       "<table border=\"1\" class=\"dataframe\">\n",
       "  <thead>\n",
       "    <tr style=\"text-align: right;\">\n",
       "      <th></th>\n",
       "      <th>ROW_ID</th>\n",
       "      <th>SUBJECT_ID</th>\n",
       "      <th>GENDER</th>\n",
       "      <th>DOB</th>\n",
       "      <th>DOD</th>\n",
       "      <th>DOD_HOSP</th>\n",
       "      <th>DOD_SSN</th>\n",
       "      <th>EXPIRE_FLAG</th>\n",
       "    </tr>\n",
       "  </thead>\n",
       "  <tbody>\n",
       "    <tr>\n",
       "      <th>0</th>\n",
       "      <td>1</td>\n",
       "      <td>2</td>\n",
       "      <td>M</td>\n",
       "      <td>2138-07-17 00:00:00</td>\n",
       "      <td>NaN</td>\n",
       "      <td>NaN</td>\n",
       "      <td>NaN</td>\n",
       "      <td>0</td>\n",
       "    </tr>\n",
       "    <tr>\n",
       "      <th>1</th>\n",
       "      <td>2</td>\n",
       "      <td>3</td>\n",
       "      <td>M</td>\n",
       "      <td>2025-04-11 00:00:00</td>\n",
       "      <td>2102-06-14 00:00:00</td>\n",
       "      <td>NaN</td>\n",
       "      <td>2102-06-14 00:00:00</td>\n",
       "      <td>1</td>\n",
       "    </tr>\n",
       "    <tr>\n",
       "      <th>2</th>\n",
       "      <td>3</td>\n",
       "      <td>4</td>\n",
       "      <td>F</td>\n",
       "      <td>2143-05-12 00:00:00</td>\n",
       "      <td>NaN</td>\n",
       "      <td>NaN</td>\n",
       "      <td>NaN</td>\n",
       "      <td>0</td>\n",
       "    </tr>\n",
       "    <tr>\n",
       "      <th>3</th>\n",
       "      <td>4</td>\n",
       "      <td>5</td>\n",
       "      <td>M</td>\n",
       "      <td>2103-02-02 00:00:00</td>\n",
       "      <td>NaN</td>\n",
       "      <td>NaN</td>\n",
       "      <td>NaN</td>\n",
       "      <td>0</td>\n",
       "    </tr>\n",
       "    <tr>\n",
       "      <th>4</th>\n",
       "      <td>5</td>\n",
       "      <td>6</td>\n",
       "      <td>F</td>\n",
       "      <td>2109-06-21 00:00:00</td>\n",
       "      <td>NaN</td>\n",
       "      <td>NaN</td>\n",
       "      <td>NaN</td>\n",
       "      <td>0</td>\n",
       "    </tr>\n",
       "  </tbody>\n",
       "</table>\n",
       "</div>"
      ],
      "text/plain": [
       "   ROW_ID  SUBJECT_ID GENDER                  DOB                  DOD  \\\n",
       "0       1           2      M  2138-07-17 00:00:00                  NaN   \n",
       "1       2           3      M  2025-04-11 00:00:00  2102-06-14 00:00:00   \n",
       "2       3           4      F  2143-05-12 00:00:00                  NaN   \n",
       "3       4           5      M  2103-02-02 00:00:00                  NaN   \n",
       "4       5           6      F  2109-06-21 00:00:00                  NaN   \n",
       "\n",
       "  DOD_HOSP              DOD_SSN  EXPIRE_FLAG  \n",
       "0      NaN                  NaN            0  \n",
       "1      NaN  2102-06-14 00:00:00            1  \n",
       "2      NaN                  NaN            0  \n",
       "3      NaN                  NaN            0  \n",
       "4      NaN                  NaN            0  "
      ]
     },
     "execution_count": 2,
     "metadata": {},
     "output_type": "execute_result"
    }
   ],
   "source": [
    "patients=pd.read_csv('data/PATIENTS.csv')\n",
    "print(patients.shape)\n",
    "print('unique SUBJECT_ID:', patients.SUBJECT_ID.nunique())\n",
    "patients=patients.sort_values(by=['SUBJECT_ID'])\n",
    "patients=patients.reset_index(drop=True)\n",
    "patients.head()"
   ]
  },
  {
   "cell_type": "code",
   "execution_count": 3,
   "metadata": {},
   "outputs": [
    {
     "data": {
      "text/plain": [
       "ROW_ID             0\n",
       "SUBJECT_ID         0\n",
       "GENDER             0\n",
       "DOB                0\n",
       "DOD            30761\n",
       "DOD_HOSP       36546\n",
       "DOD_SSN        33142\n",
       "EXPIRE_FLAG        0\n",
       "dtype: int64"
      ]
     },
     "execution_count": 3,
     "metadata": {},
     "output_type": "execute_result"
    }
   ],
   "source": [
    "patients.isnull().sum()"
   ]
  },
  {
   "cell_type": "markdown",
   "metadata": {},
   "source": [
    "Not interested in any date of death (DOD) nor EXPIRE_FLAG. We are interested in the HOSPITAL_EXPIRE_FLAG, nextly"
   ]
  },
  {
   "cell_type": "code",
   "execution_count": 4,
   "metadata": {},
   "outputs": [
    {
     "data": {
      "text/html": [
       "<div>\n",
       "<style scoped>\n",
       "    .dataframe tbody tr th:only-of-type {\n",
       "        vertical-align: middle;\n",
       "    }\n",
       "\n",
       "    .dataframe tbody tr th {\n",
       "        vertical-align: top;\n",
       "    }\n",
       "\n",
       "    .dataframe thead th {\n",
       "        text-align: right;\n",
       "    }\n",
       "</style>\n",
       "<table border=\"1\" class=\"dataframe\">\n",
       "  <thead>\n",
       "    <tr style=\"text-align: right;\">\n",
       "      <th></th>\n",
       "      <th>SUBJECT_ID</th>\n",
       "      <th>GENDER</th>\n",
       "      <th>DOB</th>\n",
       "    </tr>\n",
       "  </thead>\n",
       "  <tbody>\n",
       "    <tr>\n",
       "      <th>0</th>\n",
       "      <td>2</td>\n",
       "      <td>M</td>\n",
       "      <td>2138-07-17 00:00:00</td>\n",
       "    </tr>\n",
       "    <tr>\n",
       "      <th>1</th>\n",
       "      <td>3</td>\n",
       "      <td>M</td>\n",
       "      <td>2025-04-11 00:00:00</td>\n",
       "    </tr>\n",
       "    <tr>\n",
       "      <th>2</th>\n",
       "      <td>4</td>\n",
       "      <td>F</td>\n",
       "      <td>2143-05-12 00:00:00</td>\n",
       "    </tr>\n",
       "    <tr>\n",
       "      <th>3</th>\n",
       "      <td>5</td>\n",
       "      <td>M</td>\n",
       "      <td>2103-02-02 00:00:00</td>\n",
       "    </tr>\n",
       "    <tr>\n",
       "      <th>4</th>\n",
       "      <td>6</td>\n",
       "      <td>F</td>\n",
       "      <td>2109-06-21 00:00:00</td>\n",
       "    </tr>\n",
       "  </tbody>\n",
       "</table>\n",
       "</div>"
      ],
      "text/plain": [
       "   SUBJECT_ID GENDER                  DOB\n",
       "0           2      M  2138-07-17 00:00:00\n",
       "1           3      M  2025-04-11 00:00:00\n",
       "2           4      F  2143-05-12 00:00:00\n",
       "3           5      M  2103-02-02 00:00:00\n",
       "4           6      F  2109-06-21 00:00:00"
      ]
     },
     "execution_count": 4,
     "metadata": {},
     "output_type": "execute_result"
    }
   ],
   "source": [
    "patients=patients[['SUBJECT_ID', 'GENDER', 'DOB']]\n",
    "patients.head()"
   ]
  },
  {
   "cell_type": "markdown",
   "metadata": {},
   "source": [
    "#### ADMISSIONS"
   ]
  },
  {
   "cell_type": "code",
   "execution_count": 5,
   "metadata": {},
   "outputs": [
    {
     "name": "stdout",
     "output_type": "stream",
     "text": [
      "(58976, 19)\n",
      "unique SUBJECT_ID: 46520\n",
      "unique HADM_ID   : 58976\n"
     ]
    },
    {
     "data": {
      "text/html": [
       "<div>\n",
       "<style scoped>\n",
       "    .dataframe tbody tr th:only-of-type {\n",
       "        vertical-align: middle;\n",
       "    }\n",
       "\n",
       "    .dataframe tbody tr th {\n",
       "        vertical-align: top;\n",
       "    }\n",
       "\n",
       "    .dataframe thead th {\n",
       "        text-align: right;\n",
       "    }\n",
       "</style>\n",
       "<table border=\"1\" class=\"dataframe\">\n",
       "  <thead>\n",
       "    <tr style=\"text-align: right;\">\n",
       "      <th></th>\n",
       "      <th>ROW_ID</th>\n",
       "      <th>SUBJECT_ID</th>\n",
       "      <th>HADM_ID</th>\n",
       "      <th>ADMITTIME</th>\n",
       "      <th>DISCHTIME</th>\n",
       "      <th>DEATHTIME</th>\n",
       "      <th>ADMISSION_TYPE</th>\n",
       "      <th>ADMISSION_LOCATION</th>\n",
       "      <th>DISCHARGE_LOCATION</th>\n",
       "      <th>INSURANCE</th>\n",
       "      <th>LANGUAGE</th>\n",
       "      <th>RELIGION</th>\n",
       "      <th>MARITAL_STATUS</th>\n",
       "      <th>ETHNICITY</th>\n",
       "      <th>EDREGTIME</th>\n",
       "      <th>EDOUTTIME</th>\n",
       "      <th>DIAGNOSIS</th>\n",
       "      <th>HOSPITAL_EXPIRE_FLAG</th>\n",
       "      <th>HAS_CHARTEVENTS_DATA</th>\n",
       "    </tr>\n",
       "  </thead>\n",
       "  <tbody>\n",
       "    <tr>\n",
       "      <th>0</th>\n",
       "      <td>1</td>\n",
       "      <td>2</td>\n",
       "      <td>163353</td>\n",
       "      <td>2138-07-17 19:04:00</td>\n",
       "      <td>2138-07-21 15:48:00</td>\n",
       "      <td>NaN</td>\n",
       "      <td>NEWBORN</td>\n",
       "      <td>PHYS REFERRAL/NORMAL DELI</td>\n",
       "      <td>HOME</td>\n",
       "      <td>Private</td>\n",
       "      <td>NaN</td>\n",
       "      <td>NOT SPECIFIED</td>\n",
       "      <td>NaN</td>\n",
       "      <td>ASIAN</td>\n",
       "      <td>NaN</td>\n",
       "      <td>NaN</td>\n",
       "      <td>NEWBORN</td>\n",
       "      <td>0</td>\n",
       "      <td>1</td>\n",
       "    </tr>\n",
       "    <tr>\n",
       "      <th>1</th>\n",
       "      <td>2</td>\n",
       "      <td>3</td>\n",
       "      <td>145834</td>\n",
       "      <td>2101-10-20 19:08:00</td>\n",
       "      <td>2101-10-31 13:58:00</td>\n",
       "      <td>NaN</td>\n",
       "      <td>EMERGENCY</td>\n",
       "      <td>EMERGENCY ROOM ADMIT</td>\n",
       "      <td>SNF</td>\n",
       "      <td>Medicare</td>\n",
       "      <td>NaN</td>\n",
       "      <td>CATHOLIC</td>\n",
       "      <td>MARRIED</td>\n",
       "      <td>WHITE</td>\n",
       "      <td>2101-10-20 17:09:00</td>\n",
       "      <td>2101-10-20 19:24:00</td>\n",
       "      <td>HYPOTENSION</td>\n",
       "      <td>0</td>\n",
       "      <td>1</td>\n",
       "    </tr>\n",
       "    <tr>\n",
       "      <th>2</th>\n",
       "      <td>3</td>\n",
       "      <td>4</td>\n",
       "      <td>185777</td>\n",
       "      <td>2191-03-16 00:28:00</td>\n",
       "      <td>2191-03-23 18:41:00</td>\n",
       "      <td>NaN</td>\n",
       "      <td>EMERGENCY</td>\n",
       "      <td>EMERGENCY ROOM ADMIT</td>\n",
       "      <td>HOME WITH HOME IV PROVIDR</td>\n",
       "      <td>Private</td>\n",
       "      <td>NaN</td>\n",
       "      <td>PROTESTANT QUAKER</td>\n",
       "      <td>SINGLE</td>\n",
       "      <td>WHITE</td>\n",
       "      <td>2191-03-15 13:10:00</td>\n",
       "      <td>2191-03-16 01:10:00</td>\n",
       "      <td>FEVER,DEHYDRATION,FAILURE TO THRIVE</td>\n",
       "      <td>0</td>\n",
       "      <td>1</td>\n",
       "    </tr>\n",
       "    <tr>\n",
       "      <th>3</th>\n",
       "      <td>4</td>\n",
       "      <td>5</td>\n",
       "      <td>178980</td>\n",
       "      <td>2103-02-02 04:31:00</td>\n",
       "      <td>2103-02-04 12:15:00</td>\n",
       "      <td>NaN</td>\n",
       "      <td>NEWBORN</td>\n",
       "      <td>PHYS REFERRAL/NORMAL DELI</td>\n",
       "      <td>HOME</td>\n",
       "      <td>Private</td>\n",
       "      <td>NaN</td>\n",
       "      <td>BUDDHIST</td>\n",
       "      <td>NaN</td>\n",
       "      <td>ASIAN</td>\n",
       "      <td>NaN</td>\n",
       "      <td>NaN</td>\n",
       "      <td>NEWBORN</td>\n",
       "      <td>0</td>\n",
       "      <td>1</td>\n",
       "    </tr>\n",
       "    <tr>\n",
       "      <th>4</th>\n",
       "      <td>5</td>\n",
       "      <td>6</td>\n",
       "      <td>107064</td>\n",
       "      <td>2175-05-30 07:15:00</td>\n",
       "      <td>2175-06-15 16:00:00</td>\n",
       "      <td>NaN</td>\n",
       "      <td>ELECTIVE</td>\n",
       "      <td>PHYS REFERRAL/NORMAL DELI</td>\n",
       "      <td>HOME HEALTH CARE</td>\n",
       "      <td>Medicare</td>\n",
       "      <td>ENGL</td>\n",
       "      <td>NOT SPECIFIED</td>\n",
       "      <td>MARRIED</td>\n",
       "      <td>WHITE</td>\n",
       "      <td>NaN</td>\n",
       "      <td>NaN</td>\n",
       "      <td>CHRONIC RENAL FAILURE/SDA</td>\n",
       "      <td>0</td>\n",
       "      <td>1</td>\n",
       "    </tr>\n",
       "  </tbody>\n",
       "</table>\n",
       "</div>"
      ],
      "text/plain": [
       "   ROW_ID  SUBJECT_ID  HADM_ID            ADMITTIME            DISCHTIME  \\\n",
       "0       1           2   163353  2138-07-17 19:04:00  2138-07-21 15:48:00   \n",
       "1       2           3   145834  2101-10-20 19:08:00  2101-10-31 13:58:00   \n",
       "2       3           4   185777  2191-03-16 00:28:00  2191-03-23 18:41:00   \n",
       "3       4           5   178980  2103-02-02 04:31:00  2103-02-04 12:15:00   \n",
       "4       5           6   107064  2175-05-30 07:15:00  2175-06-15 16:00:00   \n",
       "\n",
       "  DEATHTIME ADMISSION_TYPE         ADMISSION_LOCATION  \\\n",
       "0       NaN        NEWBORN  PHYS REFERRAL/NORMAL DELI   \n",
       "1       NaN      EMERGENCY       EMERGENCY ROOM ADMIT   \n",
       "2       NaN      EMERGENCY       EMERGENCY ROOM ADMIT   \n",
       "3       NaN        NEWBORN  PHYS REFERRAL/NORMAL DELI   \n",
       "4       NaN       ELECTIVE  PHYS REFERRAL/NORMAL DELI   \n",
       "\n",
       "          DISCHARGE_LOCATION INSURANCE LANGUAGE           RELIGION  \\\n",
       "0                       HOME   Private      NaN      NOT SPECIFIED   \n",
       "1                        SNF  Medicare      NaN           CATHOLIC   \n",
       "2  HOME WITH HOME IV PROVIDR   Private      NaN  PROTESTANT QUAKER   \n",
       "3                       HOME   Private      NaN           BUDDHIST   \n",
       "4           HOME HEALTH CARE  Medicare     ENGL      NOT SPECIFIED   \n",
       "\n",
       "  MARITAL_STATUS ETHNICITY            EDREGTIME            EDOUTTIME  \\\n",
       "0            NaN     ASIAN                  NaN                  NaN   \n",
       "1        MARRIED     WHITE  2101-10-20 17:09:00  2101-10-20 19:24:00   \n",
       "2         SINGLE     WHITE  2191-03-15 13:10:00  2191-03-16 01:10:00   \n",
       "3            NaN     ASIAN                  NaN                  NaN   \n",
       "4        MARRIED     WHITE                  NaN                  NaN   \n",
       "\n",
       "                             DIAGNOSIS  HOSPITAL_EXPIRE_FLAG  \\\n",
       "0                              NEWBORN                     0   \n",
       "1                          HYPOTENSION                     0   \n",
       "2  FEVER,DEHYDRATION,FAILURE TO THRIVE                     0   \n",
       "3                              NEWBORN                     0   \n",
       "4            CHRONIC RENAL FAILURE/SDA                     0   \n",
       "\n",
       "   HAS_CHARTEVENTS_DATA  \n",
       "0                     1  \n",
       "1                     1  \n",
       "2                     1  \n",
       "3                     1  \n",
       "4                     1  "
      ]
     },
     "execution_count": 5,
     "metadata": {},
     "output_type": "execute_result"
    }
   ],
   "source": [
    "admissions=pd.read_csv('data/ADMISSIONS.csv')\n",
    "print(admissions.shape)\n",
    "print('unique SUBJECT_ID:', admissions.SUBJECT_ID.nunique())\n",
    "print('unique HADM_ID   :', admissions.HADM_ID.nunique())\n",
    "admissions=admissions.sort_values(by=['SUBJECT_ID'])\n",
    "admissions=admissions.reset_index(drop=True)\n",
    "admissions.head()"
   ]
  },
  {
   "cell_type": "code",
   "execution_count": 6,
   "metadata": {},
   "outputs": [
    {
     "data": {
      "text/plain": [
       "ROW_ID                      0\n",
       "SUBJECT_ID                  0\n",
       "HADM_ID                     0\n",
       "ADMITTIME                   0\n",
       "DISCHTIME                   0\n",
       "DEATHTIME               53122\n",
       "ADMISSION_TYPE              0\n",
       "ADMISSION_LOCATION          0\n",
       "DISCHARGE_LOCATION          0\n",
       "INSURANCE                   0\n",
       "LANGUAGE                25332\n",
       "RELIGION                  458\n",
       "MARITAL_STATUS          10128\n",
       "ETHNICITY                   0\n",
       "EDREGTIME               28099\n",
       "EDOUTTIME               28099\n",
       "DIAGNOSIS                  25\n",
       "HOSPITAL_EXPIRE_FLAG        0\n",
       "HAS_CHARTEVENTS_DATA        0\n",
       "dtype: int64"
      ]
     },
     "execution_count": 6,
     "metadata": {},
     "output_type": "execute_result"
    }
   ],
   "source": [
    "admissions.isnull().sum()"
   ]
  },
  {
   "cell_type": "markdown",
   "metadata": {},
   "source": [
    "Drop not informative/important attributes. DEATHTIME is equal to DISCHTIME if HOSPITAL_EXPIRE_FLAG equals 1"
   ]
  },
  {
   "cell_type": "code",
   "execution_count": 7,
   "metadata": {
    "collapsed": true
   },
   "outputs": [],
   "source": [
    "admissions=admissions.drop(['ROW_ID', 'DEATHTIME',\n",
    "                            'LANGUAGE', 'RELIGION', 'MARITAL_STATUS', 'EDREGTIME', 'EDOUTTIME'], axis=1)"
   ]
  },
  {
   "cell_type": "markdown",
   "metadata": {},
   "source": [
    "merge in a default inner manner patients with admissions"
   ]
  },
  {
   "cell_type": "code",
   "execution_count": 8,
   "metadata": {},
   "outputs": [
    {
     "name": "stdout",
     "output_type": "stream",
     "text": [
      "(58976, 14)\n",
      "unique SUBJECT_ID: 46520\n",
      "unique HADM_ID   : 58976\n"
     ]
    },
    {
     "data": {
      "text/html": [
       "<div>\n",
       "<style scoped>\n",
       "    .dataframe tbody tr th:only-of-type {\n",
       "        vertical-align: middle;\n",
       "    }\n",
       "\n",
       "    .dataframe tbody tr th {\n",
       "        vertical-align: top;\n",
       "    }\n",
       "\n",
       "    .dataframe thead th {\n",
       "        text-align: right;\n",
       "    }\n",
       "</style>\n",
       "<table border=\"1\" class=\"dataframe\">\n",
       "  <thead>\n",
       "    <tr style=\"text-align: right;\">\n",
       "      <th></th>\n",
       "      <th>SUBJECT_ID</th>\n",
       "      <th>GENDER</th>\n",
       "      <th>DOB</th>\n",
       "      <th>HADM_ID</th>\n",
       "      <th>ADMITTIME</th>\n",
       "      <th>DISCHTIME</th>\n",
       "      <th>ADMISSION_TYPE</th>\n",
       "      <th>ADMISSION_LOCATION</th>\n",
       "      <th>DISCHARGE_LOCATION</th>\n",
       "      <th>INSURANCE</th>\n",
       "      <th>ETHNICITY</th>\n",
       "      <th>DIAGNOSIS</th>\n",
       "      <th>HOSPITAL_EXPIRE_FLAG</th>\n",
       "      <th>HAS_CHARTEVENTS_DATA</th>\n",
       "    </tr>\n",
       "  </thead>\n",
       "  <tbody>\n",
       "    <tr>\n",
       "      <th>0</th>\n",
       "      <td>2</td>\n",
       "      <td>M</td>\n",
       "      <td>2138-07-17 00:00:00</td>\n",
       "      <td>163353</td>\n",
       "      <td>2138-07-17 19:04:00</td>\n",
       "      <td>2138-07-21 15:48:00</td>\n",
       "      <td>NEWBORN</td>\n",
       "      <td>PHYS REFERRAL/NORMAL DELI</td>\n",
       "      <td>HOME</td>\n",
       "      <td>Private</td>\n",
       "      <td>ASIAN</td>\n",
       "      <td>NEWBORN</td>\n",
       "      <td>0</td>\n",
       "      <td>1</td>\n",
       "    </tr>\n",
       "    <tr>\n",
       "      <th>1</th>\n",
       "      <td>3</td>\n",
       "      <td>M</td>\n",
       "      <td>2025-04-11 00:00:00</td>\n",
       "      <td>145834</td>\n",
       "      <td>2101-10-20 19:08:00</td>\n",
       "      <td>2101-10-31 13:58:00</td>\n",
       "      <td>EMERGENCY</td>\n",
       "      <td>EMERGENCY ROOM ADMIT</td>\n",
       "      <td>SNF</td>\n",
       "      <td>Medicare</td>\n",
       "      <td>WHITE</td>\n",
       "      <td>HYPOTENSION</td>\n",
       "      <td>0</td>\n",
       "      <td>1</td>\n",
       "    </tr>\n",
       "    <tr>\n",
       "      <th>2</th>\n",
       "      <td>4</td>\n",
       "      <td>F</td>\n",
       "      <td>2143-05-12 00:00:00</td>\n",
       "      <td>185777</td>\n",
       "      <td>2191-03-16 00:28:00</td>\n",
       "      <td>2191-03-23 18:41:00</td>\n",
       "      <td>EMERGENCY</td>\n",
       "      <td>EMERGENCY ROOM ADMIT</td>\n",
       "      <td>HOME WITH HOME IV PROVIDR</td>\n",
       "      <td>Private</td>\n",
       "      <td>WHITE</td>\n",
       "      <td>FEVER,DEHYDRATION,FAILURE TO THRIVE</td>\n",
       "      <td>0</td>\n",
       "      <td>1</td>\n",
       "    </tr>\n",
       "    <tr>\n",
       "      <th>3</th>\n",
       "      <td>5</td>\n",
       "      <td>M</td>\n",
       "      <td>2103-02-02 00:00:00</td>\n",
       "      <td>178980</td>\n",
       "      <td>2103-02-02 04:31:00</td>\n",
       "      <td>2103-02-04 12:15:00</td>\n",
       "      <td>NEWBORN</td>\n",
       "      <td>PHYS REFERRAL/NORMAL DELI</td>\n",
       "      <td>HOME</td>\n",
       "      <td>Private</td>\n",
       "      <td>ASIAN</td>\n",
       "      <td>NEWBORN</td>\n",
       "      <td>0</td>\n",
       "      <td>1</td>\n",
       "    </tr>\n",
       "    <tr>\n",
       "      <th>4</th>\n",
       "      <td>6</td>\n",
       "      <td>F</td>\n",
       "      <td>2109-06-21 00:00:00</td>\n",
       "      <td>107064</td>\n",
       "      <td>2175-05-30 07:15:00</td>\n",
       "      <td>2175-06-15 16:00:00</td>\n",
       "      <td>ELECTIVE</td>\n",
       "      <td>PHYS REFERRAL/NORMAL DELI</td>\n",
       "      <td>HOME HEALTH CARE</td>\n",
       "      <td>Medicare</td>\n",
       "      <td>WHITE</td>\n",
       "      <td>CHRONIC RENAL FAILURE/SDA</td>\n",
       "      <td>0</td>\n",
       "      <td>1</td>\n",
       "    </tr>\n",
       "  </tbody>\n",
       "</table>\n",
       "</div>"
      ],
      "text/plain": [
       "   SUBJECT_ID GENDER                  DOB  HADM_ID            ADMITTIME  \\\n",
       "0           2      M  2138-07-17 00:00:00   163353  2138-07-17 19:04:00   \n",
       "1           3      M  2025-04-11 00:00:00   145834  2101-10-20 19:08:00   \n",
       "2           4      F  2143-05-12 00:00:00   185777  2191-03-16 00:28:00   \n",
       "3           5      M  2103-02-02 00:00:00   178980  2103-02-02 04:31:00   \n",
       "4           6      F  2109-06-21 00:00:00   107064  2175-05-30 07:15:00   \n",
       "\n",
       "             DISCHTIME ADMISSION_TYPE         ADMISSION_LOCATION  \\\n",
       "0  2138-07-21 15:48:00        NEWBORN  PHYS REFERRAL/NORMAL DELI   \n",
       "1  2101-10-31 13:58:00      EMERGENCY       EMERGENCY ROOM ADMIT   \n",
       "2  2191-03-23 18:41:00      EMERGENCY       EMERGENCY ROOM ADMIT   \n",
       "3  2103-02-04 12:15:00        NEWBORN  PHYS REFERRAL/NORMAL DELI   \n",
       "4  2175-06-15 16:00:00       ELECTIVE  PHYS REFERRAL/NORMAL DELI   \n",
       "\n",
       "          DISCHARGE_LOCATION INSURANCE ETHNICITY  \\\n",
       "0                       HOME   Private     ASIAN   \n",
       "1                        SNF  Medicare     WHITE   \n",
       "2  HOME WITH HOME IV PROVIDR   Private     WHITE   \n",
       "3                       HOME   Private     ASIAN   \n",
       "4           HOME HEALTH CARE  Medicare     WHITE   \n",
       "\n",
       "                             DIAGNOSIS  HOSPITAL_EXPIRE_FLAG  \\\n",
       "0                              NEWBORN                     0   \n",
       "1                          HYPOTENSION                     0   \n",
       "2  FEVER,DEHYDRATION,FAILURE TO THRIVE                     0   \n",
       "3                              NEWBORN                     0   \n",
       "4            CHRONIC RENAL FAILURE/SDA                     0   \n",
       "\n",
       "   HAS_CHARTEVENTS_DATA  \n",
       "0                     1  \n",
       "1                     1  \n",
       "2                     1  \n",
       "3                     1  \n",
       "4                     1  "
      ]
     },
     "execution_count": 8,
     "metadata": {},
     "output_type": "execute_result"
    }
   ],
   "source": [
    "admissions=pd.merge(patients, admissions, on=['SUBJECT_ID'])\n",
    "print(admissions.shape)\n",
    "print('unique SUBJECT_ID:', admissions.SUBJECT_ID.nunique())\n",
    "print('unique HADM_ID   :', admissions.HADM_ID.nunique())\n",
    "admissions=admissions.sort_values(by=['SUBJECT_ID'])\n",
    "admissions=admissions.reset_index(drop=True)\n",
    "admissions.head()"
   ]
  },
  {
   "cell_type": "markdown",
   "metadata": {},
   "source": [
    "#### ICUSTAYS"
   ]
  },
  {
   "cell_type": "code",
   "execution_count": 9,
   "metadata": {},
   "outputs": [
    {
     "name": "stdout",
     "output_type": "stream",
     "text": [
      "(61532, 12)\n",
      "unique SUBJECT_ID: 46476\n",
      "unique HADM_ID   : 57786\n",
      "unique ICUSTAY_ID: 61532\n"
     ]
    },
    {
     "data": {
      "text/html": [
       "<div>\n",
       "<style scoped>\n",
       "    .dataframe tbody tr th:only-of-type {\n",
       "        vertical-align: middle;\n",
       "    }\n",
       "\n",
       "    .dataframe tbody tr th {\n",
       "        vertical-align: top;\n",
       "    }\n",
       "\n",
       "    .dataframe thead th {\n",
       "        text-align: right;\n",
       "    }\n",
       "</style>\n",
       "<table border=\"1\" class=\"dataframe\">\n",
       "  <thead>\n",
       "    <tr style=\"text-align: right;\">\n",
       "      <th></th>\n",
       "      <th>ROW_ID</th>\n",
       "      <th>SUBJECT_ID</th>\n",
       "      <th>HADM_ID</th>\n",
       "      <th>ICUSTAY_ID</th>\n",
       "      <th>DBSOURCE</th>\n",
       "      <th>FIRST_CAREUNIT</th>\n",
       "      <th>LAST_CAREUNIT</th>\n",
       "      <th>FIRST_WARDID</th>\n",
       "      <th>LAST_WARDID</th>\n",
       "      <th>INTIME</th>\n",
       "      <th>OUTTIME</th>\n",
       "      <th>LOS</th>\n",
       "    </tr>\n",
       "  </thead>\n",
       "  <tbody>\n",
       "    <tr>\n",
       "      <th>0</th>\n",
       "      <td>1</td>\n",
       "      <td>2</td>\n",
       "      <td>163353</td>\n",
       "      <td>243653</td>\n",
       "      <td>carevue</td>\n",
       "      <td>NICU</td>\n",
       "      <td>NICU</td>\n",
       "      <td>56</td>\n",
       "      <td>56</td>\n",
       "      <td>2138-07-17 21:20:07</td>\n",
       "      <td>2138-07-17 23:32:21</td>\n",
       "      <td>0.0918</td>\n",
       "    </tr>\n",
       "    <tr>\n",
       "      <th>1</th>\n",
       "      <td>2</td>\n",
       "      <td>3</td>\n",
       "      <td>145834</td>\n",
       "      <td>211552</td>\n",
       "      <td>carevue</td>\n",
       "      <td>MICU</td>\n",
       "      <td>MICU</td>\n",
       "      <td>12</td>\n",
       "      <td>12</td>\n",
       "      <td>2101-10-20 19:10:11</td>\n",
       "      <td>2101-10-26 20:43:09</td>\n",
       "      <td>6.0646</td>\n",
       "    </tr>\n",
       "    <tr>\n",
       "      <th>2</th>\n",
       "      <td>3</td>\n",
       "      <td>4</td>\n",
       "      <td>185777</td>\n",
       "      <td>294638</td>\n",
       "      <td>carevue</td>\n",
       "      <td>MICU</td>\n",
       "      <td>MICU</td>\n",
       "      <td>52</td>\n",
       "      <td>52</td>\n",
       "      <td>2191-03-16 00:29:31</td>\n",
       "      <td>2191-03-17 16:46:31</td>\n",
       "      <td>1.6785</td>\n",
       "    </tr>\n",
       "    <tr>\n",
       "      <th>3</th>\n",
       "      <td>4</td>\n",
       "      <td>5</td>\n",
       "      <td>178980</td>\n",
       "      <td>214757</td>\n",
       "      <td>carevue</td>\n",
       "      <td>NICU</td>\n",
       "      <td>NICU</td>\n",
       "      <td>56</td>\n",
       "      <td>56</td>\n",
       "      <td>2103-02-02 06:04:24</td>\n",
       "      <td>2103-02-02 08:06:00</td>\n",
       "      <td>0.0844</td>\n",
       "    </tr>\n",
       "    <tr>\n",
       "      <th>4</th>\n",
       "      <td>5</td>\n",
       "      <td>6</td>\n",
       "      <td>107064</td>\n",
       "      <td>228232</td>\n",
       "      <td>carevue</td>\n",
       "      <td>SICU</td>\n",
       "      <td>SICU</td>\n",
       "      <td>33</td>\n",
       "      <td>33</td>\n",
       "      <td>2175-05-30 21:30:54</td>\n",
       "      <td>2175-06-03 13:39:54</td>\n",
       "      <td>3.6729</td>\n",
       "    </tr>\n",
       "  </tbody>\n",
       "</table>\n",
       "</div>"
      ],
      "text/plain": [
       "   ROW_ID  SUBJECT_ID  HADM_ID  ICUSTAY_ID DBSOURCE FIRST_CAREUNIT  \\\n",
       "0       1           2   163353      243653  carevue           NICU   \n",
       "1       2           3   145834      211552  carevue           MICU   \n",
       "2       3           4   185777      294638  carevue           MICU   \n",
       "3       4           5   178980      214757  carevue           NICU   \n",
       "4       5           6   107064      228232  carevue           SICU   \n",
       "\n",
       "  LAST_CAREUNIT  FIRST_WARDID  LAST_WARDID               INTIME  \\\n",
       "0          NICU            56           56  2138-07-17 21:20:07   \n",
       "1          MICU            12           12  2101-10-20 19:10:11   \n",
       "2          MICU            52           52  2191-03-16 00:29:31   \n",
       "3          NICU            56           56  2103-02-02 06:04:24   \n",
       "4          SICU            33           33  2175-05-30 21:30:54   \n",
       "\n",
       "               OUTTIME     LOS  \n",
       "0  2138-07-17 23:32:21  0.0918  \n",
       "1  2101-10-26 20:43:09  6.0646  \n",
       "2  2191-03-17 16:46:31  1.6785  \n",
       "3  2103-02-02 08:06:00  0.0844  \n",
       "4  2175-06-03 13:39:54  3.6729  "
      ]
     },
     "execution_count": 9,
     "metadata": {},
     "output_type": "execute_result"
    }
   ],
   "source": [
    "icustays=pd.read_csv('data/ICUSTAYS.csv')\n",
    "print(icustays.shape)\n",
    "print('unique SUBJECT_ID:', icustays.SUBJECT_ID.nunique())\n",
    "print('unique HADM_ID   :', icustays.HADM_ID.nunique())\n",
    "print('unique ICUSTAY_ID:', icustays.ICUSTAY_ID.nunique())\n",
    "icustays=icustays.sort_values(by=['SUBJECT_ID'])\n",
    "icustays=icustays.reset_index(drop=True)\n",
    "icustays.head()"
   ]
  },
  {
   "cell_type": "code",
   "execution_count": 10,
   "metadata": {
    "collapsed": true
   },
   "outputs": [],
   "source": [
    "icustays=icustays.drop(['ROW_ID'], axis=1)"
   ]
  },
  {
   "cell_type": "markdown",
   "metadata": {},
   "source": [
    "merge in a default inner manner admissions (patients+admissions) with icustays"
   ]
  },
  {
   "cell_type": "code",
   "execution_count": 11,
   "metadata": {
    "scrolled": false
   },
   "outputs": [
    {
     "name": "stdout",
     "output_type": "stream",
     "text": [
      "(61532, 23)\n",
      "unique SUBJECT_ID: 46476\n",
      "unique HADM_ID   : 57786\n",
      "unique ICUSTAY_ID: 61532\n"
     ]
    },
    {
     "data": {
      "text/html": [
       "<div>\n",
       "<style scoped>\n",
       "    .dataframe tbody tr th:only-of-type {\n",
       "        vertical-align: middle;\n",
       "    }\n",
       "\n",
       "    .dataframe tbody tr th {\n",
       "        vertical-align: top;\n",
       "    }\n",
       "\n",
       "    .dataframe thead th {\n",
       "        text-align: right;\n",
       "    }\n",
       "</style>\n",
       "<table border=\"1\" class=\"dataframe\">\n",
       "  <thead>\n",
       "    <tr style=\"text-align: right;\">\n",
       "      <th></th>\n",
       "      <th>SUBJECT_ID</th>\n",
       "      <th>GENDER</th>\n",
       "      <th>DOB</th>\n",
       "      <th>HADM_ID</th>\n",
       "      <th>ADMITTIME</th>\n",
       "      <th>DISCHTIME</th>\n",
       "      <th>ADMISSION_TYPE</th>\n",
       "      <th>ADMISSION_LOCATION</th>\n",
       "      <th>DISCHARGE_LOCATION</th>\n",
       "      <th>INSURANCE</th>\n",
       "      <th>...</th>\n",
       "      <th>HAS_CHARTEVENTS_DATA</th>\n",
       "      <th>ICUSTAY_ID</th>\n",
       "      <th>DBSOURCE</th>\n",
       "      <th>FIRST_CAREUNIT</th>\n",
       "      <th>LAST_CAREUNIT</th>\n",
       "      <th>FIRST_WARDID</th>\n",
       "      <th>LAST_WARDID</th>\n",
       "      <th>INTIME</th>\n",
       "      <th>OUTTIME</th>\n",
       "      <th>LOS</th>\n",
       "    </tr>\n",
       "  </thead>\n",
       "  <tbody>\n",
       "    <tr>\n",
       "      <th>0</th>\n",
       "      <td>2</td>\n",
       "      <td>M</td>\n",
       "      <td>2138-07-17 00:00:00</td>\n",
       "      <td>163353</td>\n",
       "      <td>2138-07-17 19:04:00</td>\n",
       "      <td>2138-07-21 15:48:00</td>\n",
       "      <td>NEWBORN</td>\n",
       "      <td>PHYS REFERRAL/NORMAL DELI</td>\n",
       "      <td>HOME</td>\n",
       "      <td>Private</td>\n",
       "      <td>...</td>\n",
       "      <td>1</td>\n",
       "      <td>243653</td>\n",
       "      <td>carevue</td>\n",
       "      <td>NICU</td>\n",
       "      <td>NICU</td>\n",
       "      <td>56</td>\n",
       "      <td>56</td>\n",
       "      <td>2138-07-17 21:20:07</td>\n",
       "      <td>2138-07-17 23:32:21</td>\n",
       "      <td>0.0918</td>\n",
       "    </tr>\n",
       "    <tr>\n",
       "      <th>1</th>\n",
       "      <td>3</td>\n",
       "      <td>M</td>\n",
       "      <td>2025-04-11 00:00:00</td>\n",
       "      <td>145834</td>\n",
       "      <td>2101-10-20 19:08:00</td>\n",
       "      <td>2101-10-31 13:58:00</td>\n",
       "      <td>EMERGENCY</td>\n",
       "      <td>EMERGENCY ROOM ADMIT</td>\n",
       "      <td>SNF</td>\n",
       "      <td>Medicare</td>\n",
       "      <td>...</td>\n",
       "      <td>1</td>\n",
       "      <td>211552</td>\n",
       "      <td>carevue</td>\n",
       "      <td>MICU</td>\n",
       "      <td>MICU</td>\n",
       "      <td>12</td>\n",
       "      <td>12</td>\n",
       "      <td>2101-10-20 19:10:11</td>\n",
       "      <td>2101-10-26 20:43:09</td>\n",
       "      <td>6.0646</td>\n",
       "    </tr>\n",
       "    <tr>\n",
       "      <th>2</th>\n",
       "      <td>4</td>\n",
       "      <td>F</td>\n",
       "      <td>2143-05-12 00:00:00</td>\n",
       "      <td>185777</td>\n",
       "      <td>2191-03-16 00:28:00</td>\n",
       "      <td>2191-03-23 18:41:00</td>\n",
       "      <td>EMERGENCY</td>\n",
       "      <td>EMERGENCY ROOM ADMIT</td>\n",
       "      <td>HOME WITH HOME IV PROVIDR</td>\n",
       "      <td>Private</td>\n",
       "      <td>...</td>\n",
       "      <td>1</td>\n",
       "      <td>294638</td>\n",
       "      <td>carevue</td>\n",
       "      <td>MICU</td>\n",
       "      <td>MICU</td>\n",
       "      <td>52</td>\n",
       "      <td>52</td>\n",
       "      <td>2191-03-16 00:29:31</td>\n",
       "      <td>2191-03-17 16:46:31</td>\n",
       "      <td>1.6785</td>\n",
       "    </tr>\n",
       "    <tr>\n",
       "      <th>3</th>\n",
       "      <td>5</td>\n",
       "      <td>M</td>\n",
       "      <td>2103-02-02 00:00:00</td>\n",
       "      <td>178980</td>\n",
       "      <td>2103-02-02 04:31:00</td>\n",
       "      <td>2103-02-04 12:15:00</td>\n",
       "      <td>NEWBORN</td>\n",
       "      <td>PHYS REFERRAL/NORMAL DELI</td>\n",
       "      <td>HOME</td>\n",
       "      <td>Private</td>\n",
       "      <td>...</td>\n",
       "      <td>1</td>\n",
       "      <td>214757</td>\n",
       "      <td>carevue</td>\n",
       "      <td>NICU</td>\n",
       "      <td>NICU</td>\n",
       "      <td>56</td>\n",
       "      <td>56</td>\n",
       "      <td>2103-02-02 06:04:24</td>\n",
       "      <td>2103-02-02 08:06:00</td>\n",
       "      <td>0.0844</td>\n",
       "    </tr>\n",
       "    <tr>\n",
       "      <th>4</th>\n",
       "      <td>6</td>\n",
       "      <td>F</td>\n",
       "      <td>2109-06-21 00:00:00</td>\n",
       "      <td>107064</td>\n",
       "      <td>2175-05-30 07:15:00</td>\n",
       "      <td>2175-06-15 16:00:00</td>\n",
       "      <td>ELECTIVE</td>\n",
       "      <td>PHYS REFERRAL/NORMAL DELI</td>\n",
       "      <td>HOME HEALTH CARE</td>\n",
       "      <td>Medicare</td>\n",
       "      <td>...</td>\n",
       "      <td>1</td>\n",
       "      <td>228232</td>\n",
       "      <td>carevue</td>\n",
       "      <td>SICU</td>\n",
       "      <td>SICU</td>\n",
       "      <td>33</td>\n",
       "      <td>33</td>\n",
       "      <td>2175-05-30 21:30:54</td>\n",
       "      <td>2175-06-03 13:39:54</td>\n",
       "      <td>3.6729</td>\n",
       "    </tr>\n",
       "  </tbody>\n",
       "</table>\n",
       "<p>5 rows × 23 columns</p>\n",
       "</div>"
      ],
      "text/plain": [
       "   SUBJECT_ID GENDER                  DOB  HADM_ID            ADMITTIME  \\\n",
       "0           2      M  2138-07-17 00:00:00   163353  2138-07-17 19:04:00   \n",
       "1           3      M  2025-04-11 00:00:00   145834  2101-10-20 19:08:00   \n",
       "2           4      F  2143-05-12 00:00:00   185777  2191-03-16 00:28:00   \n",
       "3           5      M  2103-02-02 00:00:00   178980  2103-02-02 04:31:00   \n",
       "4           6      F  2109-06-21 00:00:00   107064  2175-05-30 07:15:00   \n",
       "\n",
       "             DISCHTIME ADMISSION_TYPE         ADMISSION_LOCATION  \\\n",
       "0  2138-07-21 15:48:00        NEWBORN  PHYS REFERRAL/NORMAL DELI   \n",
       "1  2101-10-31 13:58:00      EMERGENCY       EMERGENCY ROOM ADMIT   \n",
       "2  2191-03-23 18:41:00      EMERGENCY       EMERGENCY ROOM ADMIT   \n",
       "3  2103-02-04 12:15:00        NEWBORN  PHYS REFERRAL/NORMAL DELI   \n",
       "4  2175-06-15 16:00:00       ELECTIVE  PHYS REFERRAL/NORMAL DELI   \n",
       "\n",
       "          DISCHARGE_LOCATION INSURANCE   ...   HAS_CHARTEVENTS_DATA  \\\n",
       "0                       HOME   Private   ...                      1   \n",
       "1                        SNF  Medicare   ...                      1   \n",
       "2  HOME WITH HOME IV PROVIDR   Private   ...                      1   \n",
       "3                       HOME   Private   ...                      1   \n",
       "4           HOME HEALTH CARE  Medicare   ...                      1   \n",
       "\n",
       "  ICUSTAY_ID  DBSOURCE  FIRST_CAREUNIT  LAST_CAREUNIT FIRST_WARDID  \\\n",
       "0     243653   carevue            NICU           NICU           56   \n",
       "1     211552   carevue            MICU           MICU           12   \n",
       "2     294638   carevue            MICU           MICU           52   \n",
       "3     214757   carevue            NICU           NICU           56   \n",
       "4     228232   carevue            SICU           SICU           33   \n",
       "\n",
       "  LAST_WARDID               INTIME              OUTTIME     LOS  \n",
       "0          56  2138-07-17 21:20:07  2138-07-17 23:32:21  0.0918  \n",
       "1          12  2101-10-20 19:10:11  2101-10-26 20:43:09  6.0646  \n",
       "2          52  2191-03-16 00:29:31  2191-03-17 16:46:31  1.6785  \n",
       "3          56  2103-02-02 06:04:24  2103-02-02 08:06:00  0.0844  \n",
       "4          33  2175-05-30 21:30:54  2175-06-03 13:39:54  3.6729  \n",
       "\n",
       "[5 rows x 23 columns]"
      ]
     },
     "execution_count": 11,
     "metadata": {},
     "output_type": "execute_result"
    }
   ],
   "source": [
    "admissions=pd.merge(admissions, icustays, on=['SUBJECT_ID', 'HADM_ID'])\n",
    "print(admissions.shape)\n",
    "print('unique SUBJECT_ID:', admissions.SUBJECT_ID.nunique())\n",
    "print('unique HADM_ID   :', admissions.HADM_ID.nunique())\n",
    "print('unique ICUSTAY_ID:', admissions.ICUSTAY_ID.nunique())\n",
    "admissions=admissions.sort_values(by=['SUBJECT_ID'])\n",
    "admissions=admissions.reset_index(drop=True)\n",
    "admissions.head()"
   ]
  },
  {
   "cell_type": "code",
   "execution_count": 12,
   "metadata": {},
   "outputs": [
    {
     "data": {
      "text/plain": [
       "1    61051\n",
       "0      481\n",
       "Name: HAS_CHARTEVENTS_DATA, dtype: int64"
      ]
     },
     "execution_count": 12,
     "metadata": {},
     "output_type": "execute_result"
    }
   ],
   "source": [
    "admissions['HAS_CHARTEVENTS_DATA'].value_counts()"
   ]
  },
  {
   "cell_type": "markdown",
   "metadata": {},
   "source": [
    "We drop admissions without chartevents data"
   ]
  },
  {
   "cell_type": "code",
   "execution_count": 13,
   "metadata": {},
   "outputs": [
    {
     "name": "stdout",
     "output_type": "stream",
     "text": [
      "(61051, 22)\n",
      "unique SUBJECT_ID: 46428\n",
      "unique HADM_ID   : 57328\n",
      "unique ICUSTAY_ID   : 61051\n"
     ]
    }
   ],
   "source": [
    "admissions=admissions[admissions['HAS_CHARTEVENTS_DATA']==1]\n",
    "admissions=admissions.drop(['HAS_CHARTEVENTS_DATA'], axis=1)\n",
    "print(admissions.shape)\n",
    "print('unique SUBJECT_ID:', admissions.SUBJECT_ID.nunique())\n",
    "print('unique HADM_ID   :', admissions.HADM_ID.nunique())\n",
    "print('unique ICUSTAY_ID   :', admissions.ICUSTAY_ID.nunique())"
   ]
  },
  {
   "cell_type": "code",
   "execution_count": 14,
   "metadata": {},
   "outputs": [
    {
     "data": {
      "text/plain": [
       "SUBJECT_ID               0\n",
       "GENDER                   0\n",
       "DOB                      0\n",
       "HADM_ID                  0\n",
       "ADMITTIME                0\n",
       "DISCHTIME                0\n",
       "ADMISSION_TYPE           0\n",
       "ADMISSION_LOCATION       0\n",
       "DISCHARGE_LOCATION       0\n",
       "INSURANCE                0\n",
       "ETHNICITY                0\n",
       "DIAGNOSIS                1\n",
       "HOSPITAL_EXPIRE_FLAG     0\n",
       "ICUSTAY_ID               0\n",
       "DBSOURCE                 0\n",
       "FIRST_CAREUNIT           0\n",
       "LAST_CAREUNIT            0\n",
       "FIRST_WARDID             0\n",
       "LAST_WARDID              0\n",
       "INTIME                   0\n",
       "OUTTIME                 10\n",
       "LOS                     10\n",
       "dtype: int64"
      ]
     },
     "execution_count": 14,
     "metadata": {},
     "output_type": "execute_result"
    }
   ],
   "source": [
    "admissions.isnull().sum()"
   ]
  },
  {
   "cell_type": "markdown",
   "metadata": {},
   "source": [
    "Drop rows with at least one NaN in DIAGNOSIS, OUTTIME and LOS. DIAGNOSIS is important, LOS is the label (computed from OUTTIME and INTIME)"
   ]
  },
  {
   "cell_type": "code",
   "execution_count": 15,
   "metadata": {
    "collapsed": true
   },
   "outputs": [],
   "source": [
    "admissions=admissions.dropna(subset=['DIAGNOSIS', 'OUTTIME', 'LOS'])"
   ]
  },
  {
   "cell_type": "code",
   "execution_count": 16,
   "metadata": {},
   "outputs": [
    {
     "data": {
      "text/plain": [
       "SUBJECT_ID              0\n",
       "GENDER                  0\n",
       "DOB                     0\n",
       "HADM_ID                 0\n",
       "ADMITTIME               0\n",
       "DISCHTIME               0\n",
       "ADMISSION_TYPE          0\n",
       "ADMISSION_LOCATION      0\n",
       "DISCHARGE_LOCATION      0\n",
       "INSURANCE               0\n",
       "ETHNICITY               0\n",
       "DIAGNOSIS               0\n",
       "HOSPITAL_EXPIRE_FLAG    0\n",
       "ICUSTAY_ID              0\n",
       "DBSOURCE                0\n",
       "FIRST_CAREUNIT          0\n",
       "LAST_CAREUNIT           0\n",
       "FIRST_WARDID            0\n",
       "LAST_WARDID             0\n",
       "INTIME                  0\n",
       "OUTTIME                 0\n",
       "LOS                     0\n",
       "dtype: int64"
      ]
     },
     "execution_count": 16,
     "metadata": {},
     "output_type": "execute_result"
    }
   ],
   "source": [
    "admissions.isnull().sum()"
   ]
  },
  {
   "cell_type": "markdown",
   "metadata": {},
   "source": [
    "Duration for each single HADM_ID. Duration for each single ICUSTAY_ID is the LOS"
   ]
  },
  {
   "cell_type": "code",
   "execution_count": 17,
   "metadata": {},
   "outputs": [
    {
     "name": "stdout",
     "output_type": "stream",
     "text": [
      "(61040, 25)\n"
     ]
    },
    {
     "data": {
      "text/html": [
       "<div>\n",
       "<style scoped>\n",
       "    .dataframe tbody tr th:only-of-type {\n",
       "        vertical-align: middle;\n",
       "    }\n",
       "\n",
       "    .dataframe tbody tr th {\n",
       "        vertical-align: top;\n",
       "    }\n",
       "\n",
       "    .dataframe thead th {\n",
       "        text-align: right;\n",
       "    }\n",
       "</style>\n",
       "<table border=\"1\" class=\"dataframe\">\n",
       "  <thead>\n",
       "    <tr style=\"text-align: right;\">\n",
       "      <th></th>\n",
       "      <th>SUBJECT_ID</th>\n",
       "      <th>GENDER</th>\n",
       "      <th>DOB</th>\n",
       "      <th>HADM_ID</th>\n",
       "      <th>ADMITTIME</th>\n",
       "      <th>DISCHTIME</th>\n",
       "      <th>ADMISSION_TYPE</th>\n",
       "      <th>ADMISSION_LOCATION</th>\n",
       "      <th>DISCHARGE_LOCATION</th>\n",
       "      <th>INSURANCE</th>\n",
       "      <th>...</th>\n",
       "      <th>FIRST_CAREUNIT</th>\n",
       "      <th>LAST_CAREUNIT</th>\n",
       "      <th>FIRST_WARDID</th>\n",
       "      <th>LAST_WARDID</th>\n",
       "      <th>INTIME</th>\n",
       "      <th>OUTTIME</th>\n",
       "      <th>LOS</th>\n",
       "      <th>TIMEDELTA</th>\n",
       "      <th>TIMEDELTA_C</th>\n",
       "      <th>LOS_C</th>\n",
       "    </tr>\n",
       "  </thead>\n",
       "  <tbody>\n",
       "    <tr>\n",
       "      <th>0</th>\n",
       "      <td>2</td>\n",
       "      <td>M</td>\n",
       "      <td>2138-07-17 00:00:00</td>\n",
       "      <td>163353</td>\n",
       "      <td>2138-07-17 19:04:00</td>\n",
       "      <td>2138-07-21 15:48:00</td>\n",
       "      <td>NEWBORN</td>\n",
       "      <td>PHYS REFERRAL/NORMAL DELI</td>\n",
       "      <td>HOME</td>\n",
       "      <td>Private</td>\n",
       "      <td>...</td>\n",
       "      <td>NICU</td>\n",
       "      <td>NICU</td>\n",
       "      <td>56</td>\n",
       "      <td>56</td>\n",
       "      <td>2138-07-17 21:20:07</td>\n",
       "      <td>2138-07-17 23:32:21</td>\n",
       "      <td>0.0918</td>\n",
       "      <td>3.86</td>\n",
       "      <td>3-6</td>\n",
       "      <td>0-1</td>\n",
       "    </tr>\n",
       "    <tr>\n",
       "      <th>1</th>\n",
       "      <td>3</td>\n",
       "      <td>M</td>\n",
       "      <td>2025-04-11 00:00:00</td>\n",
       "      <td>145834</td>\n",
       "      <td>2101-10-20 19:08:00</td>\n",
       "      <td>2101-10-31 13:58:00</td>\n",
       "      <td>EMERGENCY</td>\n",
       "      <td>EMERGENCY ROOM ADMIT</td>\n",
       "      <td>SNF</td>\n",
       "      <td>Medicare</td>\n",
       "      <td>...</td>\n",
       "      <td>MICU</td>\n",
       "      <td>MICU</td>\n",
       "      <td>12</td>\n",
       "      <td>12</td>\n",
       "      <td>2101-10-20 19:10:11</td>\n",
       "      <td>2101-10-26 20:43:09</td>\n",
       "      <td>6.0646</td>\n",
       "      <td>10.78</td>\n",
       "      <td>&gt;10</td>\n",
       "      <td>&gt;4</td>\n",
       "    </tr>\n",
       "    <tr>\n",
       "      <th>2</th>\n",
       "      <td>4</td>\n",
       "      <td>F</td>\n",
       "      <td>2143-05-12 00:00:00</td>\n",
       "      <td>185777</td>\n",
       "      <td>2191-03-16 00:28:00</td>\n",
       "      <td>2191-03-23 18:41:00</td>\n",
       "      <td>EMERGENCY</td>\n",
       "      <td>EMERGENCY ROOM ADMIT</td>\n",
       "      <td>HOME WITH HOME IV PROVIDR</td>\n",
       "      <td>Private</td>\n",
       "      <td>...</td>\n",
       "      <td>MICU</td>\n",
       "      <td>MICU</td>\n",
       "      <td>52</td>\n",
       "      <td>52</td>\n",
       "      <td>2191-03-16 00:29:31</td>\n",
       "      <td>2191-03-17 16:46:31</td>\n",
       "      <td>1.6785</td>\n",
       "      <td>7.76</td>\n",
       "      <td>6-10</td>\n",
       "      <td>1-2</td>\n",
       "    </tr>\n",
       "    <tr>\n",
       "      <th>3</th>\n",
       "      <td>5</td>\n",
       "      <td>M</td>\n",
       "      <td>2103-02-02 00:00:00</td>\n",
       "      <td>178980</td>\n",
       "      <td>2103-02-02 04:31:00</td>\n",
       "      <td>2103-02-04 12:15:00</td>\n",
       "      <td>NEWBORN</td>\n",
       "      <td>PHYS REFERRAL/NORMAL DELI</td>\n",
       "      <td>HOME</td>\n",
       "      <td>Private</td>\n",
       "      <td>...</td>\n",
       "      <td>NICU</td>\n",
       "      <td>NICU</td>\n",
       "      <td>56</td>\n",
       "      <td>56</td>\n",
       "      <td>2103-02-02 06:04:24</td>\n",
       "      <td>2103-02-02 08:06:00</td>\n",
       "      <td>0.0844</td>\n",
       "      <td>2.32</td>\n",
       "      <td>0-3</td>\n",
       "      <td>0-1</td>\n",
       "    </tr>\n",
       "    <tr>\n",
       "      <th>4</th>\n",
       "      <td>6</td>\n",
       "      <td>F</td>\n",
       "      <td>2109-06-21 00:00:00</td>\n",
       "      <td>107064</td>\n",
       "      <td>2175-05-30 07:15:00</td>\n",
       "      <td>2175-06-15 16:00:00</td>\n",
       "      <td>ELECTIVE</td>\n",
       "      <td>PHYS REFERRAL/NORMAL DELI</td>\n",
       "      <td>HOME HEALTH CARE</td>\n",
       "      <td>Medicare</td>\n",
       "      <td>...</td>\n",
       "      <td>SICU</td>\n",
       "      <td>SICU</td>\n",
       "      <td>33</td>\n",
       "      <td>33</td>\n",
       "      <td>2175-05-30 21:30:54</td>\n",
       "      <td>2175-06-03 13:39:54</td>\n",
       "      <td>3.6729</td>\n",
       "      <td>16.36</td>\n",
       "      <td>&gt;10</td>\n",
       "      <td>2-4</td>\n",
       "    </tr>\n",
       "  </tbody>\n",
       "</table>\n",
       "<p>5 rows × 25 columns</p>\n",
       "</div>"
      ],
      "text/plain": [
       "   SUBJECT_ID GENDER                  DOB  HADM_ID            ADMITTIME  \\\n",
       "0           2      M  2138-07-17 00:00:00   163353  2138-07-17 19:04:00   \n",
       "1           3      M  2025-04-11 00:00:00   145834  2101-10-20 19:08:00   \n",
       "2           4      F  2143-05-12 00:00:00   185777  2191-03-16 00:28:00   \n",
       "3           5      M  2103-02-02 00:00:00   178980  2103-02-02 04:31:00   \n",
       "4           6      F  2109-06-21 00:00:00   107064  2175-05-30 07:15:00   \n",
       "\n",
       "             DISCHTIME ADMISSION_TYPE         ADMISSION_LOCATION  \\\n",
       "0  2138-07-21 15:48:00        NEWBORN  PHYS REFERRAL/NORMAL DELI   \n",
       "1  2101-10-31 13:58:00      EMERGENCY       EMERGENCY ROOM ADMIT   \n",
       "2  2191-03-23 18:41:00      EMERGENCY       EMERGENCY ROOM ADMIT   \n",
       "3  2103-02-04 12:15:00        NEWBORN  PHYS REFERRAL/NORMAL DELI   \n",
       "4  2175-06-15 16:00:00       ELECTIVE  PHYS REFERRAL/NORMAL DELI   \n",
       "\n",
       "          DISCHARGE_LOCATION INSURANCE  ...  FIRST_CAREUNIT LAST_CAREUNIT  \\\n",
       "0                       HOME   Private  ...            NICU          NICU   \n",
       "1                        SNF  Medicare  ...            MICU          MICU   \n",
       "2  HOME WITH HOME IV PROVIDR   Private  ...            MICU          MICU   \n",
       "3                       HOME   Private  ...            NICU          NICU   \n",
       "4           HOME HEALTH CARE  Medicare  ...            SICU          SICU   \n",
       "\n",
       "   FIRST_WARDID  LAST_WARDID               INTIME              OUTTIME  \\\n",
       "0            56           56  2138-07-17 21:20:07  2138-07-17 23:32:21   \n",
       "1            12           12  2101-10-20 19:10:11  2101-10-26 20:43:09   \n",
       "2            52           52  2191-03-16 00:29:31  2191-03-17 16:46:31   \n",
       "3            56           56  2103-02-02 06:04:24  2103-02-02 08:06:00   \n",
       "4            33           33  2175-05-30 21:30:54  2175-06-03 13:39:54   \n",
       "\n",
       "      LOS  TIMEDELTA  TIMEDELTA_C LOS_C  \n",
       "0  0.0918       3.86          3-6   0-1  \n",
       "1  6.0646      10.78          >10    >4  \n",
       "2  1.6785       7.76         6-10   1-2  \n",
       "3  0.0844       2.32          0-3   0-1  \n",
       "4  3.6729      16.36          >10   2-4  \n",
       "\n",
       "[5 rows x 25 columns]"
      ]
     },
     "execution_count": 17,
     "metadata": {},
     "output_type": "execute_result"
    }
   ],
   "source": [
    "a=pd.to_datetime(admissions.DISCHTIME)-pd.to_datetime(admissions.ADMITTIME)\n",
    "admissions['TIMEDELTA']=np.round(a.dt.total_seconds()/86400, 2)\n",
    "admissions['TIMEDELTA_C']=np.where((admissions['TIMEDELTA']>0)&(admissions['TIMEDELTA']<3), '0-3',\n",
    "                              np.where((admissions['TIMEDELTA']>=3)&(admissions['TIMEDELTA']<6), '3-6',\n",
    "                                  np.where((admissions['TIMEDELTA']>=6)&(admissions['TIMEDELTA']<=10), '6-10','>10')))\n",
    "admissions['LOS_C']=np.where((admissions['LOS']>0)&(admissions['LOS']<1), '0-1',\n",
    "                              np.where((admissions['LOS']>=1)&(admissions['LOS']<2), '1-2',\n",
    "                                  np.where((admissions['LOS']>=2)&(admissions['LOS']<4), '2-4','>4')))\n",
    "print(admissions.shape)\n",
    "admissions.head()"
   ]
  },
  {
   "cell_type": "code",
   "execution_count": 18,
   "metadata": {},
   "outputs": [
    {
     "data": {
      "image/png": "[encoded data removed]",
      "text/plain": [
       "<matplotlib.figure.Figure at 0x7fda3e1f0b70>"
      ]
     },
     "metadata": {},
     "output_type": "display_data"
    },
    {
     "data": {
      "image/png": "[encoded data removed]",
      "text/plain": [
       "<matplotlib.figure.Figure at 0x7fda3e1f0eb8>"
      ]
     },
     "metadata": {},
     "output_type": "display_data"
    }
   ],
   "source": [
    "admissions['TIMEDELTA'].hist(bins=600)\n",
    "plt.title('histogram of duration in days for all HADM_ID')\n",
    "plt.show()\n",
    "stats.probplot(admissions['TIMEDELTA'], dist=\"norm\", plot=pylab, rvalue=True)\n",
    "pylab.show()"
   ]
  },
  {
   "cell_type": "code",
   "execution_count": 19,
   "metadata": {},
   "outputs": [
    {
     "data": {
      "image/png": "[encoded data removed]",
      "text/plain": [
       "<matplotlib.figure.Figure at 0x7fda30a4eba8>"
      ]
     },
     "metadata": {},
     "output_type": "display_data"
    },
    {
     "data": {
      "image/png": "[encoded data removed]",
      "text/plain": [
       "<matplotlib.figure.Figure at 0x7fda30a4eb70>"
      ]
     },
     "metadata": {},
     "output_type": "display_data"
    }
   ],
   "source": [
    "admissions['LOS'].hist(bins=600)\n",
    "plt.title('histogram of duration in days for all ICUSTAY_ID')\n",
    "plt.show()\n",
    "stats.probplot(admissions['LOS'], dist=\"norm\", plot=pylab, rvalue=True)\n",
    "pylab.show()"
   ]
  },
  {
   "cell_type": "markdown",
   "metadata": {},
   "source": [
    "Preserve coherence TIMEDELTA>0 and moderate TIMEDELTA (outlier removal)\n",
    "\n",
    "Preserve coherence LOS>0 and moderate LOS (outlier removal)"
   ]
  },
  {
   "cell_type": "code",
   "execution_count": 20,
   "metadata": {},
   "outputs": [
    {
     "name": "stdout",
     "output_type": "stream",
     "text": [
      "(55518, 25)\n"
     ]
    }
   ],
   "source": [
    "admissions=admissions[np.abs(admissions['TIMEDELTA']-admissions['TIMEDELTA'].mean()) \n",
    "                      <= 2*admissions['TIMEDELTA'].std()]\n",
    "admissions=admissions[np.abs(admissions['LOS']-admissions['LOS'].mean()) \n",
    "                      <= 2*admissions['LOS'].std()]\n",
    "admissions=admissions[admissions['TIMEDELTA']>0]\n",
    "admissions=admissions[admissions['LOS']>0]\n",
    "print(admissions.shape)"
   ]
  },
  {
   "cell_type": "code",
   "execution_count": 21,
   "metadata": {},
   "outputs": [
    {
     "data": {
      "image/png": "[encoded data removed]",
      "text/plain": [
       "<matplotlib.figure.Figure at 0x7fda3320cc88>"
      ]
     },
     "metadata": {},
     "output_type": "display_data"
    },
    {
     "data": {
      "image/png": "[encoded data removed]",
      "text/plain": [
       "<matplotlib.figure.Figure at 0x7fda30d51898>"
      ]
     },
     "metadata": {},
     "output_type": "display_data"
    }
   ],
   "source": [
    "admissions['TIMEDELTA'].hist(bins=600)\n",
    "plt.title('histogram of duration in days for all HADM_ID')\n",
    "plt.show()\n",
    "stats.probplot(admissions['TIMEDELTA'], dist=\"norm\", plot=pylab, rvalue=True)\n",
    "pylab.show()"
   ]
  },
  {
   "cell_type": "code",
   "execution_count": 22,
   "metadata": {},
   "outputs": [
    {
     "data": {
      "image/png": "[encoded data removed]",
      "text/plain": [
       "<matplotlib.figure.Figure at 0x7fda32913908>"
      ]
     },
     "metadata": {},
     "output_type": "display_data"
    },
    {
     "data": {
      "image/png": "[encoded data removed]",
      "text/plain": [
       "<matplotlib.figure.Figure at 0x7fda33060978>"
      ]
     },
     "metadata": {},
     "output_type": "display_data"
    }
   ],
   "source": [
    "admissions['LOS'].hist(bins=600)\n",
    "plt.title('histogram of duration in days for all ICUSTAY_ID')\n",
    "plt.show()\n",
    "stats.probplot(admissions['LOS'], dist=\"norm\", plot=pylab, rvalue=True)\n",
    "pylab.show()"
   ]
  },
  {
   "cell_type": "markdown",
   "metadata": {},
   "source": [
    "we compute the age at the time the patient is admitted from date of birth DOB, then we drop DOB"
   ]
  },
  {
   "cell_type": "code",
   "execution_count": 23,
   "metadata": {
    "collapsed": true
   },
   "outputs": [],
   "source": [
    "age_h=pd.to_datetime(admissions.ADMITTIME)-pd.to_datetime(admissions.DOB)\n",
    "admissions['AGE_AD']=np.round(age_h.dt.total_seconds()/31557600, 2)\n",
    "admissions=admissions.drop(['DOB'], axis=1)"
   ]
  },
  {
   "cell_type": "code",
   "execution_count": 24,
   "metadata": {},
   "outputs": [
    {
     "data": {
      "image/png": "[encoded data removed]",
      "text/plain": [
       "<matplotlib.figure.Figure at 0x7fda32b1c208>"
      ]
     },
     "metadata": {},
     "output_type": "display_data"
    }
   ],
   "source": [
    "admissions.hist(column='AGE_AD', figsize=(8,4), bins=200)\n",
    "plt.show()"
   ]
  },
  {
   "cell_type": "code",
   "execution_count": 25,
   "metadata": {},
   "outputs": [
    {
     "data": {
      "image/png": "[encoded data removed]",
      "text/plain": [
       "<matplotlib.figure.Figure at 0x7fda330d4a58>"
      ]
     },
     "metadata": {},
     "output_type": "display_data"
    }
   ],
   "source": [
    "admissions['ADMISSION_TYPE'].value_counts().plot(kind='bar')\n",
    "plt.show()"
   ]
  },
  {
   "cell_type": "markdown",
   "metadata": {},
   "source": [
    "We have newborn admissions, they are not of our interest"
   ]
  },
  {
   "cell_type": "code",
   "execution_count": 26,
   "metadata": {
    "collapsed": true
   },
   "outputs": [],
   "source": [
    "admissions=admissions[admissions['ADMISSION_TYPE']!='NEWBORN']"
   ]
  },
  {
   "cell_type": "code",
   "execution_count": 27,
   "metadata": {},
   "outputs": [
    {
     "data": {
      "text/plain": [
       "(49149, 25)"
      ]
     },
     "execution_count": 27,
     "metadata": {},
     "output_type": "execute_result"
    }
   ],
   "source": [
    "admissions.shape"
   ]
  },
  {
   "cell_type": "markdown",
   "metadata": {},
   "source": [
    "number admissions of patients older than 89 are negatively coded to preserve privacity (see MIMIC webpage)"
   ]
  },
  {
   "cell_type": "code",
   "execution_count": 28,
   "metadata": {},
   "outputs": [
    {
     "data": {
      "text/plain": [
       "2617"
      ]
     },
     "execution_count": 28,
     "metadata": {},
     "output_type": "execute_result"
    }
   ],
   "source": [
    "older89=len(admissions[(admissions['AGE_AD']<0)])\n",
    "older89"
   ]
  },
  {
   "cell_type": "code",
   "execution_count": 29,
   "metadata": {},
   "outputs": [
    {
     "data": {
      "image/png": "[encoded data removed]",
      "text/plain": [
       "<matplotlib.figure.Figure at 0x7fda33325b70>"
      ]
     },
     "metadata": {},
     "output_type": "display_data"
    }
   ],
   "source": [
    "h=plt.hist(np.random.triangular(89.01, 89.01, 100, older89), bins=100, normed=True)\n",
    "plt.show()"
   ]
  },
  {
   "cell_type": "markdown",
   "metadata": {},
   "source": [
    "fill random triangular age to patients older than 89\n",
    "\n",
    "not interested on patients younger than 16 "
   ]
  },
  {
   "cell_type": "code",
   "execution_count": 30,
   "metadata": {
    "collapsed": true
   },
   "outputs": [],
   "source": [
    "admissions['AGE_AD']=admissions['AGE_AD'].apply(lambda x: np.random.triangular(89.01, 89.01, 100) if x < 0 else x)\n",
    "admissions=admissions[admissions['AGE_AD']>16]\n",
    "admissions['AGE_C']=np.where((admissions['AGE_AD']>16)&(admissions['AGE_AD']<=40), '16-40',\n",
    "                        np.where((admissions['AGE_AD']>40)&(admissions['AGE_AD']<=60), '40-60',\n",
    "                            np.where((admissions['AGE_AD']>60)&(admissions['AGE_AD']<=80), '60-80', 'aged (>80)')))"
   ]
  },
  {
   "cell_type": "code",
   "execution_count": 31,
   "metadata": {},
   "outputs": [
    {
     "name": "stdout",
     "output_type": "stream",
     "text": [
      "(48989, 26)\n"
     ]
    },
    {
     "data": {
      "image/png": "[encoded data removed]",
      "text/plain": [
       "<matplotlib.figure.Figure at 0x7fda380c4198>"
      ]
     },
     "metadata": {},
     "output_type": "display_data"
    }
   ],
   "source": [
    "admissions.hist(column='AGE_AD', figsize=(9,6), bins=200)\n",
    "print(admissions.shape)\n",
    "plt.show()"
   ]
  },
  {
   "cell_type": "code",
   "execution_count": 32,
   "metadata": {},
   "outputs": [
    {
     "data": {
      "image/png": "[encoded data removed]",
      "text/plain": [
       "<matplotlib.figure.Figure at 0x7fda326c3e48>"
      ]
     },
     "metadata": {},
     "output_type": "display_data"
    },
    {
     "data": {
      "image/png": "[encoded data removed]",
      "text/plain": [
       "<matplotlib.figure.Figure at 0x7fda30d8f240>"
      ]
     },
     "metadata": {},
     "output_type": "display_data"
    },
    {
     "data": {
      "image/png": "[encoded data removed]",
      "text/plain": [
       "<matplotlib.figure.Figure at 0x7fda32cf9320>"
      ]
     },
     "metadata": {},
     "output_type": "display_data"
    }
   ],
   "source": [
    "carat_table = pd.crosstab(index=admissions[\"GENDER\"], \n",
    "                          columns=admissions[\"HOSPITAL_EXPIRE_FLAG\"])\n",
    "carat_table.plot(kind=\"bar\", figsize=(6,6), stacked=True, colormap='RdYlGn_r')\n",
    "plt.show()\n",
    "carat_table = pd.crosstab(index=admissions[\"GENDER\"], \n",
    "                          columns=admissions[\"TIMEDELTA_C\"])\n",
    "carat_table.plot(kind=\"bar\", figsize=(6,6), stacked=True, colormap='RdYlGn_r')\n",
    "plt.show()\n",
    "carat_table = pd.crosstab(index=admissions[\"GENDER\"], \n",
    "                          columns=admissions[\"LOS_C\"])\n",
    "carat_table.plot(kind=\"bar\", figsize=(6,6), stacked=True, colormap='RdYlGn_r')\n",
    "plt.show()"
   ]
  },
  {
   "cell_type": "code",
   "execution_count": 33,
   "metadata": {},
   "outputs": [
    {
     "data": {
      "image/png": "[encoded data removed]",
      "text/plain": [
       "<matplotlib.figure.Figure at 0x7fda32e62b00>"
      ]
     },
     "metadata": {},
     "output_type": "display_data"
    },
    {
     "data": {
      "image/png": "[encoded data removed]",
      "text/plain": [
       "<matplotlib.figure.Figure at 0x7fda32b324e0>"
      ]
     },
     "metadata": {},
     "output_type": "display_data"
    },
    {
     "data": {
      "image/png": "[encoded data removed]",
      "text/plain": [
       "<matplotlib.figure.Figure at 0x7fda32a049e8>"
      ]
     },
     "metadata": {},
     "output_type": "display_data"
    }
   ],
   "source": [
    "carat_table = pd.crosstab(index=admissions[\"AGE_C\"], \n",
    "                          columns=admissions[\"HOSPITAL_EXPIRE_FLAG\"])\n",
    "carat_table.plot(kind=\"bar\", figsize=(6,6), stacked=True, colormap='RdYlGn_r')\n",
    "plt.show()\n",
    "carat_table = pd.crosstab(index=admissions[\"AGE_C\"], \n",
    "                          columns=admissions[\"TIMEDELTA_C\"])\n",
    "#carat_table=carat_table.reindex([\"young\", \"20-60\", \"60-89\", 'aged (>89)'])\n",
    "carat_table.plot(kind=\"bar\", figsize=(6,6), stacked=True, colormap='RdYlGn_r')\n",
    "plt.show()\n",
    "carat_table = pd.crosstab(index=admissions[\"AGE_C\"], \n",
    "                          columns=admissions[\"LOS_C\"])\n",
    "carat_table.plot(kind=\"bar\", figsize=(6,6), stacked=True, colormap='RdYlGn_r')\n",
    "plt.show()"
   ]
  },
  {
   "cell_type": "code",
   "execution_count": 34,
   "metadata": {
    "scrolled": false
   },
   "outputs": [
    {
     "data": {
      "image/png": "[encoded data removed]",
      "text/plain": [
       "<matplotlib.figure.Figure at 0x7fda30a5a9e8>"
      ]
     },
     "metadata": {},
     "output_type": "display_data"
    },
    {
     "data": {
      "image/png": "[encoded data removed]",
      "text/plain": [
       "<matplotlib.figure.Figure at 0x7fda30dbfb70>"
      ]
     },
     "metadata": {},
     "output_type": "display_data"
    },
    {
     "data": {
      "image/png": "[encoded data removed]",
      "text/plain": [
       "<matplotlib.figure.Figure at 0x7fda329a55f8>"
      ]
     },
     "metadata": {},
     "output_type": "display_data"
    }
   ],
   "source": [
    "carat_table = pd.crosstab(index=admissions[\"ADMISSION_TYPE\"], \n",
    "                          columns=admissions[\"HOSPITAL_EXPIRE_FLAG\"])\n",
    "carat_table.plot(kind=\"bar\", figsize=(6,6), stacked=True, colormap='RdYlGn_r')\n",
    "plt.show()\n",
    "carat_table = pd.crosstab(index=admissions[\"ADMISSION_TYPE\"], \n",
    "                          columns=admissions[\"TIMEDELTA_C\"])\n",
    "carat_table.plot(kind=\"bar\", figsize=(6,6), stacked=True, colormap='RdYlGn_r')\n",
    "plt.show()\n",
    "carat_table = pd.crosstab(index=admissions[\"ADMISSION_TYPE\"], \n",
    "                          columns=admissions[\"LOS_C\"])\n",
    "carat_table.plot(kind=\"bar\", figsize=(6,6), stacked=True, colormap='RdYlGn_r')\n",
    "plt.show()"
   ]
  },
  {
   "cell_type": "code",
   "execution_count": 35,
   "metadata": {
    "scrolled": false
   },
   "outputs": [
    {
     "data": {
      "image/png": "[encoded data removed]",
      "text/plain": [
       "<matplotlib.figure.Figure at 0x7fda32a5e390>"
      ]
     },
     "metadata": {},
     "output_type": "display_data"
    },
    {
     "data": {
      "image/png": "[encoded data removed]",
      "text/plain": [
       "<matplotlib.figure.Figure at 0x7fda382999e8>"
      ]
     },
     "metadata": {},
     "output_type": "display_data"
    },
    {
     "data": {
      "image/png": "[encoded data removed]",
      "text/plain": [
       "<matplotlib.figure.Figure at 0x7fda30a38860>"
      ]
     },
     "metadata": {},
     "output_type": "display_data"
    }
   ],
   "source": [
    "carat_table = pd.crosstab(index=admissions[\"ADMISSION_LOCATION\"], \n",
    "                          columns=admissions[\"HOSPITAL_EXPIRE_FLAG\"])\n",
    "carat_table.plot(kind=\"bar\", figsize=(6,6), stacked=True, colormap='RdYlGn_r')\n",
    "plt.show()\n",
    "carat_table = pd.crosstab(index=admissions[\"ADMISSION_LOCATION\"], \n",
    "                          columns=admissions[\"TIMEDELTA_C\"])\n",
    "carat_table.plot(kind=\"bar\", figsize=(6,6), stacked=True, colormap='RdYlGn_r')\n",
    "plt.show()\n",
    "carat_table = pd.crosstab(index=admissions[\"ADMISSION_LOCATION\"], \n",
    "                          columns=admissions[\"LOS_C\"])\n",
    "carat_table.plot(kind=\"bar\", figsize=(6,6), stacked=True, colormap='RdYlGn_r')\n",
    "plt.show()"
   ]
  },
  {
   "cell_type": "code",
   "execution_count": 36,
   "metadata": {},
   "outputs": [
    {
     "data": {
      "image/png": "[encoded data removed]",
      "text/plain": [
       "<matplotlib.figure.Figure at 0x7fda32a2c4e0>"
      ]
     },
     "metadata": {},
     "output_type": "display_data"
    },
    {
     "data": {
      "image/png": "[encoded data removed]",
      "text/plain": [
       "<matplotlib.figure.Figure at 0x7fda329db9e8>"
      ]
     },
     "metadata": {},
     "output_type": "display_data"
    },
    {
     "data": {
      "image/png": "[encoded data removed]",
      "text/plain": [
       "<matplotlib.figure.Figure at 0x7fda32dc1fd0>"
      ]
     },
     "metadata": {},
     "output_type": "display_data"
    }
   ],
   "source": [
    "carat_table = pd.crosstab(index=admissions[\"INSURANCE\"], \n",
    "                          columns=admissions[\"HOSPITAL_EXPIRE_FLAG\"])\n",
    "carat_table.plot(kind=\"bar\", figsize=(6,6), stacked=True, colormap='RdYlGn_r')\n",
    "plt.show()\n",
    "carat_table = pd.crosstab(index=admissions[\"INSURANCE\"], \n",
    "                          columns=admissions[\"TIMEDELTA_C\"])\n",
    "carat_table.plot(kind=\"bar\", figsize=(6,6), stacked=True, colormap='RdYlGn_r')\n",
    "plt.show()\n",
    "carat_table = pd.crosstab(index=admissions[\"INSURANCE\"], \n",
    "                          columns=admissions[\"LOS_C\"])\n",
    "carat_table.plot(kind=\"bar\", figsize=(6,6), stacked=True, colormap='RdYlGn_r')\n",
    "plt.show()"
   ]
  },
  {
   "cell_type": "code",
   "execution_count": 37,
   "metadata": {},
   "outputs": [
    {
     "name": "stderr",
     "output_type": "stream",
     "text": [
      "/home/jordi/anaconda3/lib/python3.6/site-packages/ipykernel_launcher.py:1: SettingWithCopyWarning: \n",
      "A value is trying to be set on a copy of a slice from a DataFrame\n",
      "\n",
      "See the caveats in the documentation: http://pandas.pydata.org/pandas-docs/stable/indexing.html#indexing-view-versus-copy\n",
      "  \"\"\"Entry point for launching an IPython kernel.\n"
     ]
    }
   ],
   "source": [
    "admissions.ETHNICITY[admissions.ETHNICITY != 'WHITE'] = 'NW'"
   ]
  },
  {
   "cell_type": "code",
   "execution_count": 38,
   "metadata": {
    "scrolled": false
   },
   "outputs": [
    {
     "data": {
      "image/png": "[encoded data removed]",
      "text/plain": [
       "<matplotlib.figure.Figure at 0x7fda382db0f0>"
      ]
     },
     "metadata": {},
     "output_type": "display_data"
    },
    {
     "data": {
      "image/png": "[encoded data removed]",
      "text/plain": [
       "<matplotlib.figure.Figure at 0x7fda38070198>"
      ]
     },
     "metadata": {},
     "output_type": "display_data"
    },
    {
     "data": {
      "image/png": "[encoded data removed]",
      "text/plain": [
       "<matplotlib.figure.Figure at 0x7fda332398d0>"
      ]
     },
     "metadata": {},
     "output_type": "display_data"
    }
   ],
   "source": [
    "carat_table = pd.crosstab(index=admissions[\"ETHNICITY\"], \n",
    "                          columns=admissions[\"HOSPITAL_EXPIRE_FLAG\"])\n",
    "carat_table.plot(kind=\"bar\", figsize=(6,6), stacked=True, colormap='RdYlGn_r')\n",
    "plt.show()\n",
    "carat_table = pd.crosstab(index=admissions[\"ETHNICITY\"], \n",
    "                          columns=admissions[\"TIMEDELTA_C\"])\n",
    "carat_table.plot(kind=\"bar\", figsize=(6,6), stacked=True, colormap='RdYlGn_r')\n",
    "plt.show()\n",
    "carat_table = pd.crosstab(index=admissions[\"ETHNICITY\"], \n",
    "                          columns=admissions[\"LOS_C\"])\n",
    "carat_table.plot(kind=\"bar\", figsize=(6,6), stacked=True, colormap='RdYlGn_r')\n",
    "plt.show()"
   ]
  },
  {
   "cell_type": "code",
   "execution_count": 39,
   "metadata": {},
   "outputs": [
    {
     "name": "stdout",
     "output_type": "stream",
     "text": [
      "(48989, 25)\n",
      "unique SUBJECT_ID: 36659\n",
      "unique HADM_ID:    46273\n",
      "unique ICUSTAY_ID: 48989\n"
     ]
    },
    {
     "data": {
      "text/html": [
       "<div>\n",
       "<style scoped>\n",
       "    .dataframe tbody tr th:only-of-type {\n",
       "        vertical-align: middle;\n",
       "    }\n",
       "\n",
       "    .dataframe tbody tr th {\n",
       "        vertical-align: top;\n",
       "    }\n",
       "\n",
       "    .dataframe thead th {\n",
       "        text-align: right;\n",
       "    }\n",
       "</style>\n",
       "<table border=\"1\" class=\"dataframe\">\n",
       "  <thead>\n",
       "    <tr style=\"text-align: right;\">\n",
       "      <th></th>\n",
       "      <th>SUBJECT_ID</th>\n",
       "      <th>GENDER</th>\n",
       "      <th>HADM_ID</th>\n",
       "      <th>ADMITTIME</th>\n",
       "      <th>DISCHTIME</th>\n",
       "      <th>ADMISSION_TYPE</th>\n",
       "      <th>ADMISSION_LOCATION</th>\n",
       "      <th>DISCHARGE_LOCATION</th>\n",
       "      <th>INSURANCE</th>\n",
       "      <th>ETHNICITY</th>\n",
       "      <th>...</th>\n",
       "      <th>LAST_CAREUNIT</th>\n",
       "      <th>FIRST_WARDID</th>\n",
       "      <th>LAST_WARDID</th>\n",
       "      <th>INTIME</th>\n",
       "      <th>OUTTIME</th>\n",
       "      <th>LOS</th>\n",
       "      <th>TIMEDELTA</th>\n",
       "      <th>TIMEDELTA_C</th>\n",
       "      <th>LOS_C</th>\n",
       "      <th>AGE_AD</th>\n",
       "    </tr>\n",
       "  </thead>\n",
       "  <tbody>\n",
       "    <tr>\n",
       "      <th>0</th>\n",
       "      <td>3</td>\n",
       "      <td>M</td>\n",
       "      <td>145834</td>\n",
       "      <td>2101-10-20 19:08:00</td>\n",
       "      <td>2101-10-31 13:58:00</td>\n",
       "      <td>EMERGENCY</td>\n",
       "      <td>EMERGENCY ROOM ADMIT</td>\n",
       "      <td>SNF</td>\n",
       "      <td>Medicare</td>\n",
       "      <td>WHITE</td>\n",
       "      <td>...</td>\n",
       "      <td>MICU</td>\n",
       "      <td>12</td>\n",
       "      <td>12</td>\n",
       "      <td>2101-10-20 19:10:11</td>\n",
       "      <td>2101-10-26 20:43:09</td>\n",
       "      <td>6.0646</td>\n",
       "      <td>10.78</td>\n",
       "      <td>&gt;10</td>\n",
       "      <td>&gt;4</td>\n",
       "      <td>76.53</td>\n",
       "    </tr>\n",
       "    <tr>\n",
       "      <th>1</th>\n",
       "      <td>4</td>\n",
       "      <td>F</td>\n",
       "      <td>185777</td>\n",
       "      <td>2191-03-16 00:28:00</td>\n",
       "      <td>2191-03-23 18:41:00</td>\n",
       "      <td>EMERGENCY</td>\n",
       "      <td>EMERGENCY ROOM ADMIT</td>\n",
       "      <td>HOME WITH HOME IV PROVIDR</td>\n",
       "      <td>Private</td>\n",
       "      <td>WHITE</td>\n",
       "      <td>...</td>\n",
       "      <td>MICU</td>\n",
       "      <td>52</td>\n",
       "      <td>52</td>\n",
       "      <td>2191-03-16 00:29:31</td>\n",
       "      <td>2191-03-17 16:46:31</td>\n",
       "      <td>1.6785</td>\n",
       "      <td>7.76</td>\n",
       "      <td>6-10</td>\n",
       "      <td>1-2</td>\n",
       "      <td>47.84</td>\n",
       "    </tr>\n",
       "    <tr>\n",
       "      <th>2</th>\n",
       "      <td>6</td>\n",
       "      <td>F</td>\n",
       "      <td>107064</td>\n",
       "      <td>2175-05-30 07:15:00</td>\n",
       "      <td>2175-06-15 16:00:00</td>\n",
       "      <td>ELECTIVE</td>\n",
       "      <td>PHYS REFERRAL/NORMAL DELI</td>\n",
       "      <td>HOME HEALTH CARE</td>\n",
       "      <td>Medicare</td>\n",
       "      <td>WHITE</td>\n",
       "      <td>...</td>\n",
       "      <td>SICU</td>\n",
       "      <td>33</td>\n",
       "      <td>33</td>\n",
       "      <td>2175-05-30 21:30:54</td>\n",
       "      <td>2175-06-03 13:39:54</td>\n",
       "      <td>3.6729</td>\n",
       "      <td>16.36</td>\n",
       "      <td>&gt;10</td>\n",
       "      <td>2-4</td>\n",
       "      <td>65.94</td>\n",
       "    </tr>\n",
       "    <tr>\n",
       "      <th>3</th>\n",
       "      <td>9</td>\n",
       "      <td>M</td>\n",
       "      <td>150750</td>\n",
       "      <td>2149-11-09 13:06:00</td>\n",
       "      <td>2149-11-14 10:15:00</td>\n",
       "      <td>EMERGENCY</td>\n",
       "      <td>EMERGENCY ROOM ADMIT</td>\n",
       "      <td>DEAD/EXPIRED</td>\n",
       "      <td>Medicaid</td>\n",
       "      <td>NW</td>\n",
       "      <td>...</td>\n",
       "      <td>MICU</td>\n",
       "      <td>15</td>\n",
       "      <td>15</td>\n",
       "      <td>2149-11-09 13:07:02</td>\n",
       "      <td>2149-11-14 20:52:14</td>\n",
       "      <td>5.3231</td>\n",
       "      <td>4.88</td>\n",
       "      <td>3-6</td>\n",
       "      <td>&gt;4</td>\n",
       "      <td>41.79</td>\n",
       "    </tr>\n",
       "    <tr>\n",
       "      <th>4</th>\n",
       "      <td>11</td>\n",
       "      <td>F</td>\n",
       "      <td>194540</td>\n",
       "      <td>2178-04-16 06:18:00</td>\n",
       "      <td>2178-05-11 19:00:00</td>\n",
       "      <td>EMERGENCY</td>\n",
       "      <td>EMERGENCY ROOM ADMIT</td>\n",
       "      <td>HOME HEALTH CARE</td>\n",
       "      <td>Private</td>\n",
       "      <td>WHITE</td>\n",
       "      <td>...</td>\n",
       "      <td>SICU</td>\n",
       "      <td>57</td>\n",
       "      <td>57</td>\n",
       "      <td>2178-04-16 06:19:32</td>\n",
       "      <td>2178-04-17 20:21:05</td>\n",
       "      <td>1.5844</td>\n",
       "      <td>25.53</td>\n",
       "      <td>&gt;10</td>\n",
       "      <td>1-2</td>\n",
       "      <td>50.15</td>\n",
       "    </tr>\n",
       "  </tbody>\n",
       "</table>\n",
       "<p>5 rows × 25 columns</p>\n",
       "</div>"
      ],
      "text/plain": [
       "   SUBJECT_ID GENDER  HADM_ID            ADMITTIME            DISCHTIME  \\\n",
       "0           3      M   145834  2101-10-20 19:08:00  2101-10-31 13:58:00   \n",
       "1           4      F   185777  2191-03-16 00:28:00  2191-03-23 18:41:00   \n",
       "2           6      F   107064  2175-05-30 07:15:00  2175-06-15 16:00:00   \n",
       "3           9      M   150750  2149-11-09 13:06:00  2149-11-14 10:15:00   \n",
       "4          11      F   194540  2178-04-16 06:18:00  2178-05-11 19:00:00   \n",
       "\n",
       "  ADMISSION_TYPE         ADMISSION_LOCATION         DISCHARGE_LOCATION  \\\n",
       "0      EMERGENCY       EMERGENCY ROOM ADMIT                        SNF   \n",
       "1      EMERGENCY       EMERGENCY ROOM ADMIT  HOME WITH HOME IV PROVIDR   \n",
       "2       ELECTIVE  PHYS REFERRAL/NORMAL DELI           HOME HEALTH CARE   \n",
       "3      EMERGENCY       EMERGENCY ROOM ADMIT               DEAD/EXPIRED   \n",
       "4      EMERGENCY       EMERGENCY ROOM ADMIT           HOME HEALTH CARE   \n",
       "\n",
       "  INSURANCE ETHNICITY  ...   LAST_CAREUNIT  FIRST_WARDID  LAST_WARDID  \\\n",
       "0  Medicare     WHITE  ...            MICU            12           12   \n",
       "1   Private     WHITE  ...            MICU            52           52   \n",
       "2  Medicare     WHITE  ...            SICU            33           33   \n",
       "3  Medicaid        NW  ...            MICU            15           15   \n",
       "4   Private     WHITE  ...            SICU            57           57   \n",
       "\n",
       "                INTIME              OUTTIME     LOS  TIMEDELTA  TIMEDELTA_C  \\\n",
       "0  2101-10-20 19:10:11  2101-10-26 20:43:09  6.0646      10.78          >10   \n",
       "1  2191-03-16 00:29:31  2191-03-17 16:46:31  1.6785       7.76         6-10   \n",
       "2  2175-05-30 21:30:54  2175-06-03 13:39:54  3.6729      16.36          >10   \n",
       "3  2149-11-09 13:07:02  2149-11-14 20:52:14  5.3231       4.88          3-6   \n",
       "4  2178-04-16 06:19:32  2178-04-17 20:21:05  1.5844      25.53          >10   \n",
       "\n",
       "  LOS_C AGE_AD  \n",
       "0    >4  76.53  \n",
       "1   1-2  47.84  \n",
       "2   2-4  65.94  \n",
       "3    >4  41.79  \n",
       "4   1-2  50.15  \n",
       "\n",
       "[5 rows x 25 columns]"
      ]
     },
     "execution_count": 39,
     "metadata": {},
     "output_type": "execute_result"
    }
   ],
   "source": [
    "admissions=admissions.drop(['AGE_C'], axis=1)\n",
    "print(admissions.shape)\n",
    "print('unique SUBJECT_ID:', admissions.SUBJECT_ID.nunique())\n",
    "print('unique HADM_ID:   ', admissions.HADM_ID.nunique())\n",
    "print('unique ICUSTAY_ID:', admissions.ICUSTAY_ID.nunique())\n",
    "admissions=admissions.sort_values(by=['SUBJECT_ID'])\n",
    "admissions=admissions.reset_index(drop=True)\n",
    "admissions.head()"
   ]
  },
  {
   "cell_type": "code",
   "execution_count": 40,
   "metadata": {},
   "outputs": [
    {
     "data": {
      "text/plain": [
       "0    43416\n",
       "1     5573\n",
       "Name: HOSPITAL_EXPIRE_FLAG, dtype: int64"
      ]
     },
     "execution_count": 40,
     "metadata": {},
     "output_type": "execute_result"
    }
   ],
   "source": [
    "admissions.HOSPITAL_EXPIRE_FLAG.value_counts()"
   ]
  },
  {
   "cell_type": "code",
   "execution_count": 41,
   "metadata": {},
   "outputs": [
    {
     "data": {
      "text/plain": [
       "SUBJECT_ID              0\n",
       "GENDER                  0\n",
       "HADM_ID                 0\n",
       "ADMITTIME               0\n",
       "DISCHTIME               0\n",
       "ADMISSION_TYPE          0\n",
       "ADMISSION_LOCATION      0\n",
       "DISCHARGE_LOCATION      0\n",
       "INSURANCE               0\n",
       "ETHNICITY               0\n",
       "DIAGNOSIS               0\n",
       "HOSPITAL_EXPIRE_FLAG    0\n",
       "ICUSTAY_ID              0\n",
       "DBSOURCE                0\n",
       "FIRST_CAREUNIT          0\n",
       "LAST_CAREUNIT           0\n",
       "FIRST_WARDID            0\n",
       "LAST_WARDID             0\n",
       "INTIME                  0\n",
       "OUTTIME                 0\n",
       "LOS                     0\n",
       "TIMEDELTA               0\n",
       "TIMEDELTA_C             0\n",
       "LOS_C                   0\n",
       "AGE_AD                  0\n",
       "dtype: int64"
      ]
     },
     "execution_count": 41,
     "metadata": {},
     "output_type": "execute_result"
    }
   ],
   "source": [
    "admissions.isnull().sum()"
   ]
  },
  {
   "cell_type": "code",
   "execution_count": 42,
   "metadata": {},
   "outputs": [
    {
     "data": {
      "text/plain": [
       "Index(['SUBJECT_ID', 'GENDER', 'HADM_ID', 'ADMITTIME', 'DISCHTIME',\n",
       "       'ADMISSION_TYPE', 'ADMISSION_LOCATION', 'DISCHARGE_LOCATION',\n",
       "       'INSURANCE', 'ETHNICITY', 'DIAGNOSIS', 'HOSPITAL_EXPIRE_FLAG',\n",
       "       'ICUSTAY_ID', 'DBSOURCE', 'FIRST_CAREUNIT', 'LAST_CAREUNIT',\n",
       "       'FIRST_WARDID', 'LAST_WARDID', 'INTIME', 'OUTTIME', 'LOS', 'TIMEDELTA',\n",
       "       'TIMEDELTA_C', 'LOS_C', 'AGE_AD'],\n",
       "      dtype='object')"
      ]
     },
     "execution_count": 42,
     "metadata": {},
     "output_type": "execute_result"
    }
   ],
   "source": [
    "admissions.columns"
   ]
  },
  {
   "cell_type": "code",
   "execution_count": 43,
   "metadata": {
    "collapsed": true
   },
   "outputs": [],
   "source": [
    "admissions=admissions[['SUBJECT_ID', 'HADM_ID', 'ICUSTAY_ID', 'GENDER', 'AGE_AD', 'ADMITTIME',\n",
    "       'DISCHTIME', 'ADMISSION_TYPE', 'ADMISSION_LOCATION', 'DISCHARGE_LOCATION', 'INSURANCE', 'ETHNICITY', \n",
    "       'DIAGNOSIS', 'DBSOURCE', 'FIRST_CAREUNIT', 'LAST_CAREUNIT', 'FIRST_WARDID', 'LAST_WARDID', 'INTIME', 'OUTTIME', \n",
    "       'LOS', 'LOS_C', 'TIMEDELTA', 'TIMEDELTA_C', 'HOSPITAL_EXPIRE_FLAG']]"
   ]
  },
  {
   "cell_type": "markdown",
   "metadata": {},
   "source": [
    "From the original 58976 unique HADM_ID and 61532 unique ICUSTAY_ID associated to a total of 46520 different SUBJECT_ID, we have now 46273 unique HADM_ID and 48989 unique ICUSTAY_ID associated to a total of 36659 different SUBJECT_ID. Note that ICUSTAY_ID is a good candidate to identify each single row"
   ]
  },
  {
   "cell_type": "markdown",
   "metadata": {},
   "source": [
    "We have patients with a single hospital admission and patients with several hospital admissions (same to icu admissions ICUSTAY_ID)"
   ]
  },
  {
   "cell_type": "code",
   "execution_count": 44,
   "metadata": {},
   "outputs": [
    {
     "data": {
      "text/html": [
       "<div>\n",
       "<style scoped>\n",
       "    .dataframe tbody tr th:only-of-type {\n",
       "        vertical-align: middle;\n",
       "    }\n",
       "\n",
       "    .dataframe tbody tr th {\n",
       "        vertical-align: top;\n",
       "    }\n",
       "\n",
       "    .dataframe thead th {\n",
       "        text-align: right;\n",
       "    }\n",
       "</style>\n",
       "<table border=\"1\" class=\"dataframe\">\n",
       "  <thead>\n",
       "    <tr style=\"text-align: right;\">\n",
       "      <th></th>\n",
       "      <th>SUBJECT_ID</th>\n",
       "      <th>HADM_ID</th>\n",
       "      <th>ICUSTAY_ID</th>\n",
       "      <th>GENDER</th>\n",
       "      <th>AGE_AD</th>\n",
       "      <th>ADMITTIME</th>\n",
       "      <th>DISCHTIME</th>\n",
       "      <th>ADMISSION_TYPE</th>\n",
       "      <th>ADMISSION_LOCATION</th>\n",
       "      <th>DISCHARGE_LOCATION</th>\n",
       "      <th>...</th>\n",
       "      <th>LAST_CAREUNIT</th>\n",
       "      <th>FIRST_WARDID</th>\n",
       "      <th>LAST_WARDID</th>\n",
       "      <th>INTIME</th>\n",
       "      <th>OUTTIME</th>\n",
       "      <th>LOS</th>\n",
       "      <th>LOS_C</th>\n",
       "      <th>TIMEDELTA</th>\n",
       "      <th>TIMEDELTA_C</th>\n",
       "      <th>HOSPITAL_EXPIRE_FLAG</th>\n",
       "    </tr>\n",
       "  </thead>\n",
       "  <tbody>\n",
       "    <tr>\n",
       "      <th>0</th>\n",
       "      <td>3</td>\n",
       "      <td>145834</td>\n",
       "      <td>211552</td>\n",
       "      <td>M</td>\n",
       "      <td>76.53</td>\n",
       "      <td>2101-10-20 19:08:00</td>\n",
       "      <td>2101-10-31 13:58:00</td>\n",
       "      <td>EMERGENCY</td>\n",
       "      <td>EMERGENCY ROOM ADMIT</td>\n",
       "      <td>SNF</td>\n",
       "      <td>...</td>\n",
       "      <td>MICU</td>\n",
       "      <td>12</td>\n",
       "      <td>12</td>\n",
       "      <td>2101-10-20 19:10:11</td>\n",
       "      <td>2101-10-26 20:43:09</td>\n",
       "      <td>6.0646</td>\n",
       "      <td>&gt;4</td>\n",
       "      <td>10.78</td>\n",
       "      <td>&gt;10</td>\n",
       "      <td>0</td>\n",
       "    </tr>\n",
       "  </tbody>\n",
       "</table>\n",
       "<p>1 rows × 25 columns</p>\n",
       "</div>"
      ],
      "text/plain": [
       "   SUBJECT_ID  HADM_ID  ICUSTAY_ID GENDER  AGE_AD            ADMITTIME  \\\n",
       "0           3   145834      211552      M   76.53  2101-10-20 19:08:00   \n",
       "\n",
       "             DISCHTIME ADMISSION_TYPE    ADMISSION_LOCATION  \\\n",
       "0  2101-10-31 13:58:00      EMERGENCY  EMERGENCY ROOM ADMIT   \n",
       "\n",
       "  DISCHARGE_LOCATION         ...          LAST_CAREUNIT FIRST_WARDID  \\\n",
       "0                SNF         ...                   MICU           12   \n",
       "\n",
       "  LAST_WARDID               INTIME              OUTTIME     LOS  LOS_C  \\\n",
       "0          12  2101-10-20 19:10:11  2101-10-26 20:43:09  6.0646     >4   \n",
       "\n",
       "   TIMEDELTA TIMEDELTA_C HOSPITAL_EXPIRE_FLAG  \n",
       "0      10.78         >10                    0  \n",
       "\n",
       "[1 rows x 25 columns]"
      ]
     },
     "execution_count": 44,
     "metadata": {},
     "output_type": "execute_result"
    }
   ],
   "source": [
    "admissions[admissions['SUBJECT_ID']==3]"
   ]
  },
  {
   "cell_type": "code",
   "execution_count": 45,
   "metadata": {},
   "outputs": [
    {
     "data": {
      "text/html": [
       "<div>\n",
       "<style scoped>\n",
       "    .dataframe tbody tr th:only-of-type {\n",
       "        vertical-align: middle;\n",
       "    }\n",
       "\n",
       "    .dataframe tbody tr th {\n",
       "        vertical-align: top;\n",
       "    }\n",
       "\n",
       "    .dataframe thead th {\n",
       "        text-align: right;\n",
       "    }\n",
       "</style>\n",
       "<table border=\"1\" class=\"dataframe\">\n",
       "  <thead>\n",
       "    <tr style=\"text-align: right;\">\n",
       "      <th></th>\n",
       "      <th>SUBJECT_ID</th>\n",
       "      <th>HADM_ID</th>\n",
       "      <th>ICUSTAY_ID</th>\n",
       "      <th>GENDER</th>\n",
       "      <th>AGE_AD</th>\n",
       "      <th>ADMITTIME</th>\n",
       "      <th>DISCHTIME</th>\n",
       "      <th>ADMISSION_TYPE</th>\n",
       "      <th>ADMISSION_LOCATION</th>\n",
       "      <th>DISCHARGE_LOCATION</th>\n",
       "      <th>...</th>\n",
       "      <th>LAST_CAREUNIT</th>\n",
       "      <th>FIRST_WARDID</th>\n",
       "      <th>LAST_WARDID</th>\n",
       "      <th>INTIME</th>\n",
       "      <th>OUTTIME</th>\n",
       "      <th>LOS</th>\n",
       "      <th>LOS_C</th>\n",
       "      <th>TIMEDELTA</th>\n",
       "      <th>TIMEDELTA_C</th>\n",
       "      <th>HOSPITAL_EXPIRE_FLAG</th>\n",
       "    </tr>\n",
       "  </thead>\n",
       "  <tbody>\n",
       "    <tr>\n",
       "      <th>7</th>\n",
       "      <td>17</td>\n",
       "      <td>161087</td>\n",
       "      <td>257980</td>\n",
       "      <td>F</td>\n",
       "      <td>47.82</td>\n",
       "      <td>2135-05-09 14:11:00</td>\n",
       "      <td>2135-05-13 14:40:00</td>\n",
       "      <td>EMERGENCY</td>\n",
       "      <td>EMERGENCY ROOM ADMIT</td>\n",
       "      <td>HOME HEALTH CARE</td>\n",
       "      <td>...</td>\n",
       "      <td>CSRU</td>\n",
       "      <td>12</td>\n",
       "      <td>12</td>\n",
       "      <td>2135-05-09 14:12:06</td>\n",
       "      <td>2135-05-10 11:18:34</td>\n",
       "      <td>0.8795</td>\n",
       "      <td>0-1</td>\n",
       "      <td>4.02</td>\n",
       "      <td>3-6</td>\n",
       "      <td>0</td>\n",
       "    </tr>\n",
       "    <tr>\n",
       "      <th>8</th>\n",
       "      <td>17</td>\n",
       "      <td>194023</td>\n",
       "      <td>277042</td>\n",
       "      <td>F</td>\n",
       "      <td>47.45</td>\n",
       "      <td>2134-12-27 07:15:00</td>\n",
       "      <td>2134-12-31 16:05:00</td>\n",
       "      <td>ELECTIVE</td>\n",
       "      <td>PHYS REFERRAL/NORMAL DELI</td>\n",
       "      <td>HOME HEALTH CARE</td>\n",
       "      <td>...</td>\n",
       "      <td>CSRU</td>\n",
       "      <td>12</td>\n",
       "      <td>12</td>\n",
       "      <td>2134-12-27 16:21:48</td>\n",
       "      <td>2134-12-29 18:04:03</td>\n",
       "      <td>2.0710</td>\n",
       "      <td>2-4</td>\n",
       "      <td>4.37</td>\n",
       "      <td>3-6</td>\n",
       "      <td>0</td>\n",
       "    </tr>\n",
       "  </tbody>\n",
       "</table>\n",
       "<p>2 rows × 25 columns</p>\n",
       "</div>"
      ],
      "text/plain": [
       "   SUBJECT_ID  HADM_ID  ICUSTAY_ID GENDER  AGE_AD            ADMITTIME  \\\n",
       "7          17   161087      257980      F   47.82  2135-05-09 14:11:00   \n",
       "8          17   194023      277042      F   47.45  2134-12-27 07:15:00   \n",
       "\n",
       "             DISCHTIME ADMISSION_TYPE         ADMISSION_LOCATION  \\\n",
       "7  2135-05-13 14:40:00      EMERGENCY       EMERGENCY ROOM ADMIT   \n",
       "8  2134-12-31 16:05:00       ELECTIVE  PHYS REFERRAL/NORMAL DELI   \n",
       "\n",
       "  DISCHARGE_LOCATION         ...          LAST_CAREUNIT FIRST_WARDID  \\\n",
       "7   HOME HEALTH CARE         ...                   CSRU           12   \n",
       "8   HOME HEALTH CARE         ...                   CSRU           12   \n",
       "\n",
       "  LAST_WARDID               INTIME              OUTTIME     LOS  LOS_C  \\\n",
       "7          12  2135-05-09 14:12:06  2135-05-10 11:18:34  0.8795    0-1   \n",
       "8          12  2134-12-27 16:21:48  2134-12-29 18:04:03  2.0710    2-4   \n",
       "\n",
       "   TIMEDELTA TIMEDELTA_C HOSPITAL_EXPIRE_FLAG  \n",
       "7       4.02         3-6                    0  \n",
       "8       4.37         3-6                    0  \n",
       "\n",
       "[2 rows x 25 columns]"
      ]
     },
     "execution_count": 45,
     "metadata": {},
     "output_type": "execute_result"
    }
   ],
   "source": [
    "admissions[admissions['SUBJECT_ID']==17]"
   ]
  },
  {
   "cell_type": "markdown",
   "metadata": {},
   "source": [
    "At the end we are interested in each single case (row with ICUSTAY_ID identification)"
   ]
  },
  {
   "cell_type": "markdown",
   "metadata": {},
   "source": [
    "Export the table as a csv file. This file will be the basis in order to aggregate features"
   ]
  },
  {
   "cell_type": "code",
   "execution_count": 46,
   "metadata": {
    "collapsed": true
   },
   "outputs": [],
   "source": [
    "admissions.to_csv('MAIN_DF.csv')"
   ]
  },
  {
   "cell_type": "markdown",
   "metadata": {},
   "source": [
    "# DATABASE CREATIONS"
   ]
  },
  {
   "cell_type": "markdown",
   "metadata": {},
   "source": [
    "### INPUTEVENTS_CV_DB Database creation from INPUTEVENTS_CV.csv"
   ]
  },
  {
   "cell_type": "code",
   "execution_count": 29,
   "metadata": {
    "collapsed": true
   },
   "outputs": [],
   "source": [
    "connex = sqlite3.connect(\"data/INPUTEVENTS_CV.db\")"
   ]
  },
  {
   "cell_type": "code",
   "execution_count": 31,
   "metadata": {},
   "outputs": [
    {
     "name": "stderr",
     "output_type": "stream",
     "text": [
      "/home/jordi/anaconda3/lib/python3.6/site-packages/IPython/core/interactiveshell.py:2717: DtypeWarning: Columns (20,21) have mixed types. Specify dtype option on import or set low_memory=False.\n",
      "  interactivity=interactivity, compiler=compiler, result=result)\n",
      "/home/jordi/anaconda3/lib/python3.6/site-packages/IPython/core/interactiveshell.py:2717: DtypeWarning: Columns (21) have mixed types. Specify dtype option on import or set low_memory=False.\n",
      "  interactivity=interactivity, compiler=compiler, result=result)\n",
      "/home/jordi/anaconda3/lib/python3.6/site-packages/IPython/core/interactiveshell.py:2717: DtypeWarning: Columns (9) have mixed types. Specify dtype option on import or set low_memory=False.\n",
      "  interactivity=interactivity, compiler=compiler, result=result)\n",
      "/home/jordi/anaconda3/lib/python3.6/site-packages/IPython/core/interactiveshell.py:2717: DtypeWarning: Columns (7,9,17,20,21) have mixed types. Specify dtype option on import or set low_memory=False.\n",
      "  interactivity=interactivity, compiler=compiler, result=result)\n",
      "/home/jordi/anaconda3/lib/python3.6/site-packages/IPython/core/interactiveshell.py:2717: DtypeWarning: Columns (7,17,20,21) have mixed types. Specify dtype option on import or set low_memory=False.\n",
      "  interactivity=interactivity, compiler=compiler, result=result)\n",
      "/home/jordi/anaconda3/lib/python3.6/site-packages/IPython/core/interactiveshell.py:2717: DtypeWarning: Columns (7) have mixed types. Specify dtype option on import or set low_memory=False.\n",
      "  interactivity=interactivity, compiler=compiler, result=result)\n"
     ]
    }
   ],
   "source": [
    "for chunk in pd.read_csv('data/INPUTEVENTS_CV.csv', chunksize=1000000):\n",
    "    chunk.to_sql(name=\"INPUTEVENTS_CV_DB\", con=connex, if_exists=\"append\", index=False)"
   ]
  },
  {
   "cell_type": "markdown",
   "metadata": {},
   "source": [
    "### LABEVENTS_DB Database creation from LABEVENTS.csv"
   ]
  },
  {
   "cell_type": "code",
   "execution_count": 32,
   "metadata": {
    "collapsed": true
   },
   "outputs": [],
   "source": [
    "connex = sqlite3.connect(\"data/LABEVENTS.db\")"
   ]
  },
  {
   "cell_type": "code",
   "execution_count": 34,
   "metadata": {
    "collapsed": true
   },
   "outputs": [],
   "source": [
    "for chunk in pd.read_csv('data/LABEVENTS.csv', chunksize=1000000):\n",
    "    chunk.to_sql(name=\"LABEVENTS_DB\", con=connex, if_exists=\"append\", index=False)"
   ]
  },
  {
   "cell_type": "markdown",
   "metadata": {},
   "source": [
    "### NOTEEVENTS_DB Database creation from NOTEEVENTS.csv"
   ]
  },
  {
   "cell_type": "code",
   "execution_count": 41,
   "metadata": {
    "collapsed": true
   },
   "outputs": [],
   "source": [
    "connex = sqlite3.connect(\"data/NOTEEVENTS.db\")"
   ]
  },
  {
   "cell_type": "code",
   "execution_count": 36,
   "metadata": {},
   "outputs": [
    {
     "name": "stderr",
     "output_type": "stream",
     "text": [
      "/home/jordi/anaconda3/lib/python3.6/site-packages/IPython/core/interactiveshell.py:2717: DtypeWarning: Columns (4,5) have mixed types. Specify dtype option on import or set low_memory=False.\n",
      "  interactivity=interactivity, compiler=compiler, result=result)\n",
      "/home/jordi/anaconda3/lib/python3.6/site-packages/IPython/core/interactiveshell.py:2717: DtypeWarning: Columns (5) have mixed types. Specify dtype option on import or set low_memory=False.\n",
      "  interactivity=interactivity, compiler=compiler, result=result)\n"
     ]
    }
   ],
   "source": [
    "for chunk in pd.read_csv('data/NOTEEVENTS.csv', chunksize=1000000):\n",
    "    chunk.to_sql(name=\"NOTEEVENTS_DB\", con=connex, if_exists=\"append\", index=False)"
   ]
  },
  {
   "cell_type": "markdown",
   "metadata": {},
   "source": [
    "### CHARTEVENTS_DB Database creation from CHARTEVENTS.csv"
   ]
  },
  {
   "cell_type": "code",
   "execution_count": 111,
   "metadata": {
    "collapsed": true
   },
   "outputs": [],
   "source": [
    "connex = sqlite3.connect(\"data/CHARTEVENTS.db\")"
   ]
  },
  {
   "cell_type": "code",
   "execution_count": 23,
   "metadata": {
    "collapsed": true
   },
   "outputs": [],
   "source": [
    "for chunk in pd.read_csv('data/CHARTEVENTS.csv', chunksize=1000000):\n",
    "    chunk.to_sql(name=\"CHARTEVENTS_DB\", con=connex, if_exists=\"append\", index=False)"
   ]
  },
  {
   "cell_type": "markdown",
   "metadata": {},
   "source": [
    "### Example of data extraction from SUBJECT_ID nº 34 from CHARTEVENTS_DB\n",
    "From CHARTEVENTS_DB to a pandas DataFrame"
   ]
  },
  {
   "cell_type": "code",
   "execution_count": 128,
   "metadata": {
    "collapsed": true
   },
   "outputs": [],
   "source": [
    "connex = sqlite3.connect(\"data/CHARTEVENTS.db\")"
   ]
  },
  {
   "cell_type": "code",
   "execution_count": 129,
   "metadata": {
    "collapsed": true
   },
   "outputs": [],
   "source": [
    "cur = connex.cursor()"
   ]
  },
  {
   "cell_type": "code",
   "execution_count": 130,
   "metadata": {},
   "outputs": [
    {
     "name": "stdout",
     "output_type": "stream",
     "text": [
      "(34)\n"
     ]
    }
   ],
   "source": [
    "ids = [34]\n",
    "ids = [str(id) for id in ids] \n",
    "str_matching = \"(\" + \",\".join(ids) + \")\"  # Construct the string of SQL\n",
    "print(str_matching)"
   ]
  },
  {
   "cell_type": "code",
   "execution_count": 131,
   "metadata": {},
   "outputs": [
    {
     "name": "stdout",
     "output_type": "stream",
     "text": [
      "String of SQL   : SELECT * FROM CHARTEVENTS_DB WHERE SUBJECT_ID IN (34);\n",
      "Object Execution: <sqlite3.Cursor object at 0x7f3f1fe50ce0>\n"
     ]
    }
   ],
   "source": [
    "#sql = \"SELECT DISTINCT SUBJECT_ID FROM CHARTEVENTS_DB;\"\n",
    "sql = \"SELECT * FROM CHARTEVENTS_DB WHERE SUBJECT_ID IN \" + str_matching + \";\"\n",
    "print('String of SQL   :', sql)\n",
    "print('Object Execution:', cur.execute(sql))"
   ]
  },
  {
   "cell_type": "code",
   "execution_count": 132,
   "metadata": {
    "scrolled": true
   },
   "outputs": [
    {
     "name": "stdout",
     "output_type": "stream",
     "text": [
      "<class 'pandas.core.frame.DataFrame'>\n",
      "(2498, 15)\n"
     ]
    },
    {
     "data": {
      "text/html": [
       "<div>\n",
       "<style scoped>\n",
       "    .dataframe tbody tr th:only-of-type {\n",
       "        vertical-align: middle;\n",
       "    }\n",
       "\n",
       "    .dataframe tbody tr th {\n",
       "        vertical-align: top;\n",
       "    }\n",
       "\n",
       "    .dataframe thead th {\n",
       "        text-align: right;\n",
       "    }\n",
       "</style>\n",
       "<table border=\"1\" class=\"dataframe\">\n",
       "  <thead>\n",
       "    <tr style=\"text-align: right;\">\n",
       "      <th></th>\n",
       "      <th>ROW_ID</th>\n",
       "      <th>SUBJECT_ID</th>\n",
       "      <th>HADM_ID</th>\n",
       "      <th>ICUSTAY_ID</th>\n",
       "      <th>ITEMID</th>\n",
       "      <th>CHARTTIME</th>\n",
       "      <th>STORETIME</th>\n",
       "      <th>CGID</th>\n",
       "      <th>VALUE</th>\n",
       "      <th>VALUENUM</th>\n",
       "      <th>VALUEUOM</th>\n",
       "      <th>WARNING</th>\n",
       "      <th>ERROR</th>\n",
       "      <th>RESULTSTATUS</th>\n",
       "      <th>STOPPED</th>\n",
       "    </tr>\n",
       "  </thead>\n",
       "  <tbody>\n",
       "    <tr>\n",
       "      <th>0</th>\n",
       "      <td>326</td>\n",
       "      <td>34</td>\n",
       "      <td>144319</td>\n",
       "      <td>290505.0</td>\n",
       "      <td>220180</td>\n",
       "      <td>2191-02-23 05:30:00</td>\n",
       "      <td>2191-02-23 07:45:00</td>\n",
       "      <td>17741.0</td>\n",
       "      <td>66</td>\n",
       "      <td>66.0</td>\n",
       "      <td>mmHg</td>\n",
       "      <td>0.0</td>\n",
       "      <td>0.0</td>\n",
       "      <td>None</td>\n",
       "      <td>None</td>\n",
       "    </tr>\n",
       "    <tr>\n",
       "      <th>1</th>\n",
       "      <td>327</td>\n",
       "      <td>34</td>\n",
       "      <td>144319</td>\n",
       "      <td>290505.0</td>\n",
       "      <td>220181</td>\n",
       "      <td>2191-02-23 05:30:00</td>\n",
       "      <td>2191-02-23 07:45:00</td>\n",
       "      <td>17741.0</td>\n",
       "      <td>78</td>\n",
       "      <td>78.0</td>\n",
       "      <td>mmHg</td>\n",
       "      <td>0.0</td>\n",
       "      <td>0.0</td>\n",
       "      <td>None</td>\n",
       "      <td>None</td>\n",
       "    </tr>\n",
       "    <tr>\n",
       "      <th>2</th>\n",
       "      <td>328</td>\n",
       "      <td>34</td>\n",
       "      <td>144319</td>\n",
       "      <td>290505.0</td>\n",
       "      <td>223875</td>\n",
       "      <td>2191-02-23 07:00:00</td>\n",
       "      <td>2191-02-23 07:36:00</td>\n",
       "      <td>16924.0</td>\n",
       "      <td>10</td>\n",
       "      <td>10.0</td>\n",
       "      <td>insp/min</td>\n",
       "      <td>0.0</td>\n",
       "      <td>0.0</td>\n",
       "      <td>None</td>\n",
       "      <td>None</td>\n",
       "    </tr>\n",
       "    <tr>\n",
       "      <th>3</th>\n",
       "      <td>329</td>\n",
       "      <td>34</td>\n",
       "      <td>144319</td>\n",
       "      <td>290505.0</td>\n",
       "      <td>224690</td>\n",
       "      <td>2191-02-23 07:00:00</td>\n",
       "      <td>2191-02-23 07:35:00</td>\n",
       "      <td>16924.0</td>\n",
       "      <td>22</td>\n",
       "      <td>22.0</td>\n",
       "      <td>insp/min</td>\n",
       "      <td>0.0</td>\n",
       "      <td>0.0</td>\n",
       "      <td>None</td>\n",
       "      <td>None</td>\n",
       "    </tr>\n",
       "    <tr>\n",
       "      <th>4</th>\n",
       "      <td>330</td>\n",
       "      <td>34</td>\n",
       "      <td>144319</td>\n",
       "      <td>290505.0</td>\n",
       "      <td>224696</td>\n",
       "      <td>2191-02-23 07:00:00</td>\n",
       "      <td>2191-02-23 07:35:00</td>\n",
       "      <td>16924.0</td>\n",
       "      <td>16</td>\n",
       "      <td>16.0</td>\n",
       "      <td>cmH2O</td>\n",
       "      <td>0.0</td>\n",
       "      <td>0.0</td>\n",
       "      <td>None</td>\n",
       "      <td>None</td>\n",
       "    </tr>\n",
       "  </tbody>\n",
       "</table>\n",
       "</div>"
      ],
      "text/plain": [
       "   ROW_ID  SUBJECT_ID  HADM_ID  ICUSTAY_ID  ITEMID            CHARTTIME  \\\n",
       "0     326          34   144319    290505.0  220180  2191-02-23 05:30:00   \n",
       "1     327          34   144319    290505.0  220181  2191-02-23 05:30:00   \n",
       "2     328          34   144319    290505.0  223875  2191-02-23 07:00:00   \n",
       "3     329          34   144319    290505.0  224690  2191-02-23 07:00:00   \n",
       "4     330          34   144319    290505.0  224696  2191-02-23 07:00:00   \n",
       "\n",
       "             STORETIME     CGID VALUE  VALUENUM  VALUEUOM  WARNING  ERROR  \\\n",
       "0  2191-02-23 07:45:00  17741.0    66      66.0      mmHg      0.0    0.0   \n",
       "1  2191-02-23 07:45:00  17741.0    78      78.0      mmHg      0.0    0.0   \n",
       "2  2191-02-23 07:36:00  16924.0    10      10.0  insp/min      0.0    0.0   \n",
       "3  2191-02-23 07:35:00  16924.0    22      22.0  insp/min      0.0    0.0   \n",
       "4  2191-02-23 07:35:00  16924.0    16      16.0     cmH2O      0.0    0.0   \n",
       "\n",
       "  RESULTSTATUS STOPPED  \n",
       "0         None    None  \n",
       "1         None    None  \n",
       "2         None    None  \n",
       "3         None    None  \n",
       "4         None    None  "
      ]
     },
     "execution_count": 132,
     "metadata": {},
     "output_type": "execute_result"
    }
   ],
   "source": [
    "df = pd.read_sql_query(sql, connex)\n",
    "print(type(df))\n",
    "print(df.shape)\n",
    "df.head()"
   ]
  },
  {
   "cell_type": "markdown",
   "metadata": {
    "collapsed": true
   },
   "source": [
    "The use of SQL through sqlite3 library will help to automate the feature extraction process"
   ]
  },
  {
   "cell_type": "code",
   "execution_count": null,
   "metadata": {
    "collapsed": true
   },
   "outputs": [],
   "source": []
  },
  {
   "cell_type": "code",
   "execution_count": null,
   "metadata": {
    "collapsed": true
   },
   "outputs": [],
   "source": []
  }
 ],
 "metadata": {
  "kernelspec": {
   "display_name": "Python 3",
   "language": "python",
   "name": "python3"
  },
  "language_info": {
   "codemirror_mode": {
    "name": "ipython",
    "version": 3
   },
   "file_extension": ".py",
   "mimetype": "text/x-python",
   "name": "python",
   "nbconvert_exporter": "python",
   "pygments_lexer": "ipython3",
   "version": "3.6.1"
  }
 },
 "nbformat": 4,
 "nbformat_minor": 2
}
