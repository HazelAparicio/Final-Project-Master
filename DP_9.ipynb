{
 "cells": [
  {
   "cell_type": "markdown",
   "metadata": {
    "collapsed": true
   },
   "source": [
    "# Data preparation 9"
   ]
  },
  {
   "cell_type": "code",
   "execution_count": 64,
   "metadata": {
    "collapsed": true
   },
   "outputs": [],
   "source": [
    "import pandas as pd\n",
    "import numpy as np\n",
    "import matplotlib.pyplot as plt\n",
    "from IPython.display import display\n",
    "pd.options.display.max_columns = None\n",
    "pd.options.display.max_rows = 200"
   ]
  },
  {
   "cell_type": "code",
   "execution_count": 65,
   "metadata": {},
   "outputs": [
    {
     "name": "stdout",
     "output_type": "stream",
     "text": [
      "(23055, 54)\n",
      "unique SUBJECT_ID: 17469\n",
      "unique HADM_ID   : 21650\n",
      "unique ICUSTAY_ID: 23055\n"
     ]
    },
    {
     "data": {
      "text/html": [
       "<div>\n",
       "<style scoped>\n",
       "    .dataframe tbody tr th:only-of-type {\n",
       "        vertical-align: middle;\n",
       "    }\n",
       "\n",
       "    .dataframe tbody tr th {\n",
       "        vertical-align: top;\n",
       "    }\n",
       "\n",
       "    .dataframe thead th {\n",
       "        text-align: right;\n",
       "    }\n",
       "</style>\n",
       "<table border=\"1\" class=\"dataframe\">\n",
       "  <thead>\n",
       "    <tr style=\"text-align: right;\">\n",
       "      <th></th>\n",
       "      <th>SUBJECT_ID</th>\n",
       "      <th>HADM_ID</th>\n",
       "      <th>ICUSTAY_ID</th>\n",
       "      <th>GENDER</th>\n",
       "      <th>AGE_AD</th>\n",
       "      <th>ADMITTIME</th>\n",
       "      <th>DISCHTIME</th>\n",
       "      <th>ADMISSION_TYPE</th>\n",
       "      <th>INSURANCE</th>\n",
       "      <th>ETHNICITY</th>\n",
       "      <th>DIAGNOSIS</th>\n",
       "      <th>FIRST_CAREUNIT</th>\n",
       "      <th>FIRST_WARDID</th>\n",
       "      <th>INTIME</th>\n",
       "      <th>OUTTIME</th>\n",
       "      <th>LOS</th>\n",
       "      <th>LOS_C</th>\n",
       "      <th>TIMEDELTA</th>\n",
       "      <th>TIMEDELTA_C</th>\n",
       "      <th>HOSPITAL_EXPIRE_FLAG</th>\n",
       "      <th>BMI</th>\n",
       "      <th>I_VEN</th>\n",
       "      <th>NI_VEN</th>\n",
       "      <th>227456_V</th>\n",
       "      <th>225624_V</th>\n",
       "      <th>220615_V</th>\n",
       "      <th>220621_V</th>\n",
       "      <th>220545_V</th>\n",
       "      <th>225668_V</th>\n",
       "      <th>220235_V</th>\n",
       "      <th>223830_V</th>\n",
       "      <th>220734_V</th>\n",
       "      <th>227457_V</th>\n",
       "      <th>220224_V</th>\n",
       "      <th>220227_V</th>\n",
       "      <th>220645_V</th>\n",
       "      <th>225690_V</th>\n",
       "      <th>220546_V</th>\n",
       "      <th>220739_V</th>\n",
       "      <th>223901_V</th>\n",
       "      <th>223900_V</th>\n",
       "      <th>223835_V</th>\n",
       "      <th>220210_V</th>\n",
       "      <th>220277_V</th>\n",
       "      <th>220051_V</th>\n",
       "      <th>220052_V</th>\n",
       "      <th>220050_V</th>\n",
       "      <th>220045_V</th>\n",
       "      <th>220180_V</th>\n",
       "      <th>220181_V</th>\n",
       "      <th>220179_V</th>\n",
       "      <th>223761_V</th>\n",
       "      <th>224027_V</th>\n",
       "      <th>PrevHospDays</th>\n",
       "    </tr>\n",
       "  </thead>\n",
       "  <tbody>\n",
       "    <tr>\n",
       "      <th>0</th>\n",
       "      <td>23</td>\n",
       "      <td>124321</td>\n",
       "      <td>234044</td>\n",
       "      <td>M</td>\n",
       "      <td>75.26000</td>\n",
       "      <td>2157-10-18 19:34:00</td>\n",
       "      <td>2157-10-25 14:00:00</td>\n",
       "      <td>EMERGENCY</td>\n",
       "      <td>Medicare</td>\n",
       "      <td>WHITE</td>\n",
       "      <td>BRAIN MASS</td>\n",
       "      <td>SICU</td>\n",
       "      <td>57</td>\n",
       "      <td>2157-10-21 11:40:38</td>\n",
       "      <td>2157-10-22 16:08:48</td>\n",
       "      <td>1.1862</td>\n",
       "      <td>1-2</td>\n",
       "      <td>6.77</td>\n",
       "      <td>6-10</td>\n",
       "      <td>0</td>\n",
       "      <td>21.7</td>\n",
       "      <td>0</td>\n",
       "      <td>0</td>\n",
       "      <td>NaN</td>\n",
       "      <td>14.0</td>\n",
       "      <td>0.6</td>\n",
       "      <td>136.0</td>\n",
       "      <td>36.9</td>\n",
       "      <td>NaN</td>\n",
       "      <td>NaN</td>\n",
       "      <td>NaN</td>\n",
       "      <td>NaN</td>\n",
       "      <td>208.0</td>\n",
       "      <td>NaN</td>\n",
       "      <td>NaN</td>\n",
       "      <td>144.0</td>\n",
       "      <td>NaN</td>\n",
       "      <td>14.8</td>\n",
       "      <td>Spontaneously</td>\n",
       "      <td>Obeys Commands</td>\n",
       "      <td>Oriented</td>\n",
       "      <td>NaN</td>\n",
       "      <td>14.0</td>\n",
       "      <td>100.0</td>\n",
       "      <td>74.0</td>\n",
       "      <td>86.0</td>\n",
       "      <td>181.0</td>\n",
       "      <td>77.0</td>\n",
       "      <td>45.0</td>\n",
       "      <td>50.0</td>\n",
       "      <td>67.0</td>\n",
       "      <td>35.4</td>\n",
       "      <td>Warm</td>\n",
       "      <td>2.67</td>\n",
       "    </tr>\n",
       "    <tr>\n",
       "      <th>1</th>\n",
       "      <td>34</td>\n",
       "      <td>144319</td>\n",
       "      <td>290505</td>\n",
       "      <td>M</td>\n",
       "      <td>90.89934</td>\n",
       "      <td>2191-02-23 05:23:00</td>\n",
       "      <td>2191-02-25 20:20:00</td>\n",
       "      <td>EMERGENCY</td>\n",
       "      <td>Medicare</td>\n",
       "      <td>WHITE</td>\n",
       "      <td>BRADYCARDIA</td>\n",
       "      <td>CCU</td>\n",
       "      <td>7</td>\n",
       "      <td>2191-02-23 05:25:32</td>\n",
       "      <td>2191-02-24 19:24:10</td>\n",
       "      <td>1.5824</td>\n",
       "      <td>1-2</td>\n",
       "      <td>2.62</td>\n",
       "      <td>0-3</td>\n",
       "      <td>0</td>\n",
       "      <td>27.4</td>\n",
       "      <td>0</td>\n",
       "      <td>0</td>\n",
       "      <td>NaN</td>\n",
       "      <td>36.0</td>\n",
       "      <td>1.6</td>\n",
       "      <td>116.0</td>\n",
       "      <td>35.9</td>\n",
       "      <td>NaN</td>\n",
       "      <td>NaN</td>\n",
       "      <td>NaN</td>\n",
       "      <td>NaN</td>\n",
       "      <td>343.0</td>\n",
       "      <td>NaN</td>\n",
       "      <td>NaN</td>\n",
       "      <td>139.0</td>\n",
       "      <td>NaN</td>\n",
       "      <td>7.1</td>\n",
       "      <td>None</td>\n",
       "      <td>Localizes Pain</td>\n",
       "      <td>No Response-ETT</td>\n",
       "      <td>60.0</td>\n",
       "      <td>14.0</td>\n",
       "      <td>98.0</td>\n",
       "      <td>NaN</td>\n",
       "      <td>NaN</td>\n",
       "      <td>NaN</td>\n",
       "      <td>72.0</td>\n",
       "      <td>66.0</td>\n",
       "      <td>78.0</td>\n",
       "      <td>112.0</td>\n",
       "      <td>36.1</td>\n",
       "      <td>Warm</td>\n",
       "      <td>0.00</td>\n",
       "    </tr>\n",
       "    <tr>\n",
       "      <th>2</th>\n",
       "      <td>36</td>\n",
       "      <td>165660</td>\n",
       "      <td>241249</td>\n",
       "      <td>M</td>\n",
       "      <td>72.73000</td>\n",
       "      <td>2134-05-10 11:30:00</td>\n",
       "      <td>2134-05-20 13:16:00</td>\n",
       "      <td>ELECTIVE</td>\n",
       "      <td>Medicare</td>\n",
       "      <td>WHITE</td>\n",
       "      <td>VENTRAL HERNIA/SDA</td>\n",
       "      <td>MICU</td>\n",
       "      <td>52</td>\n",
       "      <td>2134-05-12 06:52:47</td>\n",
       "      <td>2134-05-16 15:14:20</td>\n",
       "      <td>4.3483</td>\n",
       "      <td>&gt;4</td>\n",
       "      <td>10.07</td>\n",
       "      <td>&gt;10</td>\n",
       "      <td>0</td>\n",
       "      <td>32.7</td>\n",
       "      <td>1</td>\n",
       "      <td>0</td>\n",
       "      <td>2.8</td>\n",
       "      <td>19.0</td>\n",
       "      <td>0.9</td>\n",
       "      <td>126.0</td>\n",
       "      <td>36.3</td>\n",
       "      <td>1.0</td>\n",
       "      <td>60.0</td>\n",
       "      <td>7.29</td>\n",
       "      <td>NaN</td>\n",
       "      <td>174.0</td>\n",
       "      <td>58.0</td>\n",
       "      <td>94.0</td>\n",
       "      <td>139.0</td>\n",
       "      <td>0.6</td>\n",
       "      <td>15.3</td>\n",
       "      <td>Spontaneously</td>\n",
       "      <td>Obeys Commands</td>\n",
       "      <td>Oriented</td>\n",
       "      <td>100.0</td>\n",
       "      <td>20.0</td>\n",
       "      <td>91.0</td>\n",
       "      <td>NaN</td>\n",
       "      <td>NaN</td>\n",
       "      <td>NaN</td>\n",
       "      <td>94.0</td>\n",
       "      <td>72.0</td>\n",
       "      <td>84.0</td>\n",
       "      <td>122.0</td>\n",
       "      <td>37.4</td>\n",
       "      <td>Warm</td>\n",
       "      <td>1.81</td>\n",
       "    </tr>\n",
       "    <tr>\n",
       "      <th>3</th>\n",
       "      <td>85</td>\n",
       "      <td>112077</td>\n",
       "      <td>291697</td>\n",
       "      <td>M</td>\n",
       "      <td>76.85000</td>\n",
       "      <td>2167-07-25 18:49:00</td>\n",
       "      <td>2167-07-30 15:24:00</td>\n",
       "      <td>EMERGENCY</td>\n",
       "      <td>Medicare</td>\n",
       "      <td>WHITE</td>\n",
       "      <td>PNEUMONIA</td>\n",
       "      <td>MICU</td>\n",
       "      <td>23</td>\n",
       "      <td>2167-07-25 18:50:37</td>\n",
       "      <td>2167-07-27 18:37:35</td>\n",
       "      <td>1.9909</td>\n",
       "      <td>1-2</td>\n",
       "      <td>4.86</td>\n",
       "      <td>3-6</td>\n",
       "      <td>0</td>\n",
       "      <td>31.8</td>\n",
       "      <td>0</td>\n",
       "      <td>0</td>\n",
       "      <td>NaN</td>\n",
       "      <td>17.0</td>\n",
       "      <td>1.4</td>\n",
       "      <td>114.0</td>\n",
       "      <td>26.4</td>\n",
       "      <td>NaN</td>\n",
       "      <td>NaN</td>\n",
       "      <td>NaN</td>\n",
       "      <td>NaN</td>\n",
       "      <td>24.0</td>\n",
       "      <td>NaN</td>\n",
       "      <td>NaN</td>\n",
       "      <td>137.0</td>\n",
       "      <td>NaN</td>\n",
       "      <td>8.3</td>\n",
       "      <td>Spontaneously</td>\n",
       "      <td>Obeys Commands</td>\n",
       "      <td>Oriented</td>\n",
       "      <td>NaN</td>\n",
       "      <td>39.0</td>\n",
       "      <td>99.0</td>\n",
       "      <td>NaN</td>\n",
       "      <td>NaN</td>\n",
       "      <td>NaN</td>\n",
       "      <td>136.0</td>\n",
       "      <td>87.0</td>\n",
       "      <td>99.0</td>\n",
       "      <td>166.0</td>\n",
       "      <td>37.0</td>\n",
       "      <td>Warm</td>\n",
       "      <td>0.00</td>\n",
       "    </tr>\n",
       "    <tr>\n",
       "      <th>4</th>\n",
       "      <td>107</td>\n",
       "      <td>182383</td>\n",
       "      <td>252542</td>\n",
       "      <td>M</td>\n",
       "      <td>69.66000</td>\n",
       "      <td>2121-11-30 19:24:00</td>\n",
       "      <td>2121-12-05 14:18:00</td>\n",
       "      <td>EMERGENCY</td>\n",
       "      <td>Medicare</td>\n",
       "      <td>NW</td>\n",
       "      <td>HYPERKALEMIA;CONGESTIVE HEART FAILURE</td>\n",
       "      <td>MICU</td>\n",
       "      <td>23</td>\n",
       "      <td>2121-11-30 19:24:56</td>\n",
       "      <td>2121-12-01 21:20:57</td>\n",
       "      <td>1.0806</td>\n",
       "      <td>1-2</td>\n",
       "      <td>4.79</td>\n",
       "      <td>3-6</td>\n",
       "      <td>0</td>\n",
       "      <td>31.3</td>\n",
       "      <td>0</td>\n",
       "      <td>0</td>\n",
       "      <td>NaN</td>\n",
       "      <td>36.0</td>\n",
       "      <td>5.8</td>\n",
       "      <td>125.0</td>\n",
       "      <td>40.3</td>\n",
       "      <td>NaN</td>\n",
       "      <td>NaN</td>\n",
       "      <td>NaN</td>\n",
       "      <td>NaN</td>\n",
       "      <td>303.0</td>\n",
       "      <td>NaN</td>\n",
       "      <td>NaN</td>\n",
       "      <td>139.0</td>\n",
       "      <td>NaN</td>\n",
       "      <td>14.2</td>\n",
       "      <td>Spontaneously</td>\n",
       "      <td>Obeys Commands</td>\n",
       "      <td>Oriented</td>\n",
       "      <td>NaN</td>\n",
       "      <td>19.0</td>\n",
       "      <td>97.0</td>\n",
       "      <td>NaN</td>\n",
       "      <td>NaN</td>\n",
       "      <td>NaN</td>\n",
       "      <td>64.0</td>\n",
       "      <td>67.0</td>\n",
       "      <td>88.0</td>\n",
       "      <td>155.0</td>\n",
       "      <td>36.7</td>\n",
       "      <td>Warm</td>\n",
       "      <td>0.00</td>\n",
       "    </tr>\n",
       "  </tbody>\n",
       "</table>\n",
       "</div>"
      ],
      "text/plain": [
       "   SUBJECT_ID  HADM_ID  ICUSTAY_ID GENDER    AGE_AD            ADMITTIME  \\\n",
       "0          23   124321      234044      M  75.26000  2157-10-18 19:34:00   \n",
       "1          34   144319      290505      M  90.89934  2191-02-23 05:23:00   \n",
       "2          36   165660      241249      M  72.73000  2134-05-10 11:30:00   \n",
       "3          85   112077      291697      M  76.85000  2167-07-25 18:49:00   \n",
       "4         107   182383      252542      M  69.66000  2121-11-30 19:24:00   \n",
       "\n",
       "             DISCHTIME ADMISSION_TYPE INSURANCE ETHNICITY  \\\n",
       "0  2157-10-25 14:00:00      EMERGENCY  Medicare     WHITE   \n",
       "1  2191-02-25 20:20:00      EMERGENCY  Medicare     WHITE   \n",
       "2  2134-05-20 13:16:00       ELECTIVE  Medicare     WHITE   \n",
       "3  2167-07-30 15:24:00      EMERGENCY  Medicare     WHITE   \n",
       "4  2121-12-05 14:18:00      EMERGENCY  Medicare        NW   \n",
       "\n",
       "                               DIAGNOSIS FIRST_CAREUNIT  FIRST_WARDID  \\\n",
       "0                             BRAIN MASS           SICU            57   \n",
       "1                            BRADYCARDIA            CCU             7   \n",
       "2                     VENTRAL HERNIA/SDA           MICU            52   \n",
       "3                              PNEUMONIA           MICU            23   \n",
       "4  HYPERKALEMIA;CONGESTIVE HEART FAILURE           MICU            23   \n",
       "\n",
       "                INTIME              OUTTIME     LOS LOS_C  TIMEDELTA  \\\n",
       "0  2157-10-21 11:40:38  2157-10-22 16:08:48  1.1862   1-2       6.77   \n",
       "1  2191-02-23 05:25:32  2191-02-24 19:24:10  1.5824   1-2       2.62   \n",
       "2  2134-05-12 06:52:47  2134-05-16 15:14:20  4.3483    >4      10.07   \n",
       "3  2167-07-25 18:50:37  2167-07-27 18:37:35  1.9909   1-2       4.86   \n",
       "4  2121-11-30 19:24:56  2121-12-01 21:20:57  1.0806   1-2       4.79   \n",
       "\n",
       "  TIMEDELTA_C  HOSPITAL_EXPIRE_FLAG   BMI  I_VEN  NI_VEN  227456_V  225624_V  \\\n",
       "0        6-10                     0  21.7      0       0       NaN      14.0   \n",
       "1         0-3                     0  27.4      0       0       NaN      36.0   \n",
       "2         >10                     0  32.7      1       0       2.8      19.0   \n",
       "3         3-6                     0  31.8      0       0       NaN      17.0   \n",
       "4         3-6                     0  31.3      0       0       NaN      36.0   \n",
       "\n",
       "   220615_V  220621_V  220545_V  225668_V  220235_V  223830_V  220734_V  \\\n",
       "0       0.6     136.0      36.9       NaN       NaN       NaN       NaN   \n",
       "1       1.6     116.0      35.9       NaN       NaN       NaN       NaN   \n",
       "2       0.9     126.0      36.3       1.0      60.0      7.29       NaN   \n",
       "3       1.4     114.0      26.4       NaN       NaN       NaN       NaN   \n",
       "4       5.8     125.0      40.3       NaN       NaN       NaN       NaN   \n",
       "\n",
       "   227457_V  220224_V  220227_V  220645_V  225690_V  220546_V       220739_V  \\\n",
       "0     208.0       NaN       NaN     144.0       NaN      14.8  Spontaneously   \n",
       "1     343.0       NaN       NaN     139.0       NaN       7.1           None   \n",
       "2     174.0      58.0      94.0     139.0       0.6      15.3  Spontaneously   \n",
       "3      24.0       NaN       NaN     137.0       NaN       8.3  Spontaneously   \n",
       "4     303.0       NaN       NaN     139.0       NaN      14.2  Spontaneously   \n",
       "\n",
       "         223901_V         223900_V  223835_V  220210_V  220277_V  220051_V  \\\n",
       "0  Obeys Commands         Oriented       NaN      14.0     100.0      74.0   \n",
       "1  Localizes Pain  No Response-ETT      60.0      14.0      98.0       NaN   \n",
       "2  Obeys Commands         Oriented     100.0      20.0      91.0       NaN   \n",
       "3  Obeys Commands         Oriented       NaN      39.0      99.0       NaN   \n",
       "4  Obeys Commands         Oriented       NaN      19.0      97.0       NaN   \n",
       "\n",
       "   220052_V  220050_V  220045_V  220180_V  220181_V  220179_V  223761_V  \\\n",
       "0      86.0     181.0      77.0      45.0      50.0      67.0      35.4   \n",
       "1       NaN       NaN      72.0      66.0      78.0     112.0      36.1   \n",
       "2       NaN       NaN      94.0      72.0      84.0     122.0      37.4   \n",
       "3       NaN       NaN     136.0      87.0      99.0     166.0      37.0   \n",
       "4       NaN       NaN      64.0      67.0      88.0     155.0      36.7   \n",
       "\n",
       "  224027_V  PrevHospDays  \n",
       "0     Warm          2.67  \n",
       "1     Warm          0.00  \n",
       "2     Warm          1.81  \n",
       "3     Warm          0.00  \n",
       "4     Warm          0.00  "
      ]
     },
     "execution_count": 65,
     "metadata": {},
     "output_type": "execute_result"
    }
   ],
   "source": [
    "admissions=pd.read_csv('MAIN_DF_8.csv')\n",
    "admissions=admissions.drop(['Unnamed: 0'], axis=1)\n",
    "admissions=admissions.reset_index(drop=True)\n",
    "print(admissions.shape)\n",
    "print('unique SUBJECT_ID:', admissions.SUBJECT_ID.nunique())\n",
    "print('unique HADM_ID   :', admissions.HADM_ID.nunique())\n",
    "print('unique ICUSTAY_ID:', admissions.ICUSTAY_ID.nunique())\n",
    "admissions.head()"
   ]
  },
  {
   "cell_type": "code",
   "execution_count": 66,
   "metadata": {},
   "outputs": [
    {
     "data": {
      "text/plain": [
       "(23055, 47)"
      ]
     },
     "execution_count": 66,
     "metadata": {},
     "output_type": "execute_result"
    }
   ],
   "source": [
    "admissions=admissions.drop(['ADMITTIME', 'DISCHTIME', 'INTIME', 'OUTTIME', 'DIAGNOSIS', \n",
    "                            'HOSPITAL_EXPIRE_FLAG', 'LOS_C'], axis=1)\n",
    "admissions.shape"
   ]
  },
  {
   "cell_type": "code",
   "execution_count": 67,
   "metadata": {},
   "outputs": [
    {
     "data": {
      "text/plain": [
       "(23055, 45)"
      ]
     },
     "execution_count": 67,
     "metadata": {},
     "output_type": "execute_result"
    }
   ],
   "source": [
    "admissions=admissions.drop(['TIMEDELTA', 'TIMEDELTA_C'], axis=1)\n",
    "admissions.shape"
   ]
  },
  {
   "cell_type": "code",
   "execution_count": 68,
   "metadata": {},
   "outputs": [
    {
     "data": {
      "text/plain": [
       "SUBJECT_ID            0\n",
       "HADM_ID               0\n",
       "ICUSTAY_ID            0\n",
       "GENDER                0\n",
       "AGE_AD                0\n",
       "ADMISSION_TYPE        0\n",
       "INSURANCE             0\n",
       "ETHNICITY             0\n",
       "FIRST_CAREUNIT        0\n",
       "FIRST_WARDID          0\n",
       "LOS                   0\n",
       "BMI                   0\n",
       "I_VEN                 0\n",
       "NI_VEN                0\n",
       "227456_V          14559\n",
       "225624_V              0\n",
       "220615_V              0\n",
       "220621_V              0\n",
       "220545_V              0\n",
       "225668_V          10837\n",
       "220235_V          11549\n",
       "223830_V          11479\n",
       "220734_V          14115\n",
       "227457_V              0\n",
       "220224_V          11491\n",
       "220227_V          17081\n",
       "220645_V              0\n",
       "225690_V          12842\n",
       "220546_V              0\n",
       "220739_V              0\n",
       "223901_V              0\n",
       "223900_V              0\n",
       "223835_V          10948\n",
       "220210_V              0\n",
       "220277_V              0\n",
       "220051_V          13712\n",
       "220052_V          13737\n",
       "220050_V          13731\n",
       "220045_V              0\n",
       "220180_V              0\n",
       "220181_V              0\n",
       "220179_V              0\n",
       "223761_V              0\n",
       "224027_V              0\n",
       "PrevHospDays          0\n",
       "dtype: int64"
      ]
     },
     "execution_count": 68,
     "metadata": {},
     "output_type": "execute_result"
    }
   ],
   "source": [
    "admissions.isnull().sum()"
   ]
  },
  {
   "cell_type": "code",
   "execution_count": 69,
   "metadata": {
    "collapsed": true
   },
   "outputs": [],
   "source": [
    "admissions=admissions.rename({'220739_V': 'GCS_E', '223901_V': 'GCS_M',\n",
    "                             '223900_V': 'GCS_V', '224027_V': 'S_TEMP'}, axis='columns')"
   ]
  },
  {
   "cell_type": "code",
   "execution_count": 70,
   "metadata": {},
   "outputs": [
    {
     "data": {
      "text/html": [
       "<div>\n",
       "<style scoped>\n",
       "    .dataframe tbody tr th:only-of-type {\n",
       "        vertical-align: middle;\n",
       "    }\n",
       "\n",
       "    .dataframe tbody tr th {\n",
       "        vertical-align: top;\n",
       "    }\n",
       "\n",
       "    .dataframe thead th {\n",
       "        text-align: right;\n",
       "    }\n",
       "</style>\n",
       "<table border=\"1\" class=\"dataframe\">\n",
       "  <thead>\n",
       "    <tr style=\"text-align: right;\">\n",
       "      <th></th>\n",
       "      <th>GENDER</th>\n",
       "      <th>ADMISSION_TYPE</th>\n",
       "      <th>INSURANCE</th>\n",
       "      <th>ETHNICITY</th>\n",
       "      <th>FIRST_CAREUNIT</th>\n",
       "      <th>GCS_E</th>\n",
       "      <th>GCS_M</th>\n",
       "      <th>GCS_V</th>\n",
       "      <th>S_TEMP</th>\n",
       "    </tr>\n",
       "  </thead>\n",
       "  <tbody>\n",
       "    <tr>\n",
       "      <th>0</th>\n",
       "      <td>M</td>\n",
       "      <td>EMERGENCY</td>\n",
       "      <td>Medicare</td>\n",
       "      <td>WHITE</td>\n",
       "      <td>SICU</td>\n",
       "      <td>Spontaneously</td>\n",
       "      <td>Obeys Commands</td>\n",
       "      <td>Oriented</td>\n",
       "      <td>Warm</td>\n",
       "    </tr>\n",
       "    <tr>\n",
       "      <th>1</th>\n",
       "      <td>M</td>\n",
       "      <td>EMERGENCY</td>\n",
       "      <td>Medicare</td>\n",
       "      <td>WHITE</td>\n",
       "      <td>CCU</td>\n",
       "      <td>None</td>\n",
       "      <td>Localizes Pain</td>\n",
       "      <td>No Response-ETT</td>\n",
       "      <td>Warm</td>\n",
       "    </tr>\n",
       "    <tr>\n",
       "      <th>2</th>\n",
       "      <td>M</td>\n",
       "      <td>ELECTIVE</td>\n",
       "      <td>Medicare</td>\n",
       "      <td>WHITE</td>\n",
       "      <td>MICU</td>\n",
       "      <td>Spontaneously</td>\n",
       "      <td>Obeys Commands</td>\n",
       "      <td>Oriented</td>\n",
       "      <td>Warm</td>\n",
       "    </tr>\n",
       "    <tr>\n",
       "      <th>3</th>\n",
       "      <td>M</td>\n",
       "      <td>EMERGENCY</td>\n",
       "      <td>Medicare</td>\n",
       "      <td>WHITE</td>\n",
       "      <td>MICU</td>\n",
       "      <td>Spontaneously</td>\n",
       "      <td>Obeys Commands</td>\n",
       "      <td>Oriented</td>\n",
       "      <td>Warm</td>\n",
       "    </tr>\n",
       "    <tr>\n",
       "      <th>4</th>\n",
       "      <td>M</td>\n",
       "      <td>EMERGENCY</td>\n",
       "      <td>Medicare</td>\n",
       "      <td>NW</td>\n",
       "      <td>MICU</td>\n",
       "      <td>Spontaneously</td>\n",
       "      <td>Obeys Commands</td>\n",
       "      <td>Oriented</td>\n",
       "      <td>Warm</td>\n",
       "    </tr>\n",
       "  </tbody>\n",
       "</table>\n",
       "</div>"
      ],
      "text/plain": [
       "  GENDER ADMISSION_TYPE INSURANCE ETHNICITY FIRST_CAREUNIT          GCS_E  \\\n",
       "0      M      EMERGENCY  Medicare     WHITE           SICU  Spontaneously   \n",
       "1      M      EMERGENCY  Medicare     WHITE            CCU           None   \n",
       "2      M       ELECTIVE  Medicare     WHITE           MICU  Spontaneously   \n",
       "3      M      EMERGENCY  Medicare     WHITE           MICU  Spontaneously   \n",
       "4      M      EMERGENCY  Medicare        NW           MICU  Spontaneously   \n",
       "\n",
       "            GCS_M            GCS_V S_TEMP  \n",
       "0  Obeys Commands         Oriented   Warm  \n",
       "1  Localizes Pain  No Response-ETT   Warm  \n",
       "2  Obeys Commands         Oriented   Warm  \n",
       "3  Obeys Commands         Oriented   Warm  \n",
       "4  Obeys Commands         Oriented   Warm  "
      ]
     },
     "execution_count": 70,
     "metadata": {},
     "output_type": "execute_result"
    }
   ],
   "source": [
    "obj_df = admissions.select_dtypes(include=['object']).copy()\n",
    "obj_df.head()"
   ]
  },
  {
   "cell_type": "code",
   "execution_count": 71,
   "metadata": {},
   "outputs": [
    {
     "data": {
      "text/plain": [
       "EMERGENCY    19696\n",
       "ELECTIVE      3108\n",
       "URGENT         251\n",
       "Name: ADMISSION_TYPE, dtype: int64"
      ]
     },
     "execution_count": 71,
     "metadata": {},
     "output_type": "execute_result"
    }
   ],
   "source": [
    "admissions.ADMISSION_TYPE.value_counts()"
   ]
  },
  {
   "cell_type": "code",
   "execution_count": 72,
   "metadata": {
    "collapsed": true
   },
   "outputs": [],
   "source": [
    "admissions['ADMISSION_TYPE']=np.where(admissions['ADMISSION_TYPE']=='URGENT', 'EMERGENCY', admissions['ADMISSION_TYPE'])\n",
    "admissions['ADMISSION_TYPE']=np.where(admissions['ADMISSION_TYPE']=='EMERGENCY', 1, 0)"
   ]
  },
  {
   "cell_type": "code",
   "execution_count": 73,
   "metadata": {},
   "outputs": [
    {
     "data": {
      "text/plain": [
       "1    19947\n",
       "0     3108\n",
       "Name: ADMISSION_TYPE, dtype: int64"
      ]
     },
     "execution_count": 73,
     "metadata": {},
     "output_type": "execute_result"
    }
   ],
   "source": [
    "admissions.ADMISSION_TYPE.value_counts()"
   ]
  },
  {
   "cell_type": "code",
   "execution_count": 74,
   "metadata": {
    "collapsed": true
   },
   "outputs": [],
   "source": [
    "admissions['GENDER']=np.where(admissions['GENDER']=='M', 1, 0)"
   ]
  },
  {
   "cell_type": "code",
   "execution_count": 75,
   "metadata": {},
   "outputs": [
    {
     "data": {
      "text/plain": [
       "1    12895\n",
       "0    10160\n",
       "Name: GENDER, dtype: int64"
      ]
     },
     "execution_count": 75,
     "metadata": {},
     "output_type": "execute_result"
    }
   ],
   "source": [
    "admissions.GENDER.value_counts()"
   ]
  },
  {
   "cell_type": "code",
   "execution_count": 76,
   "metadata": {},
   "outputs": [
    {
     "data": {
      "text/plain": [
       "Medicare      13064\n",
       "Private        6781\n",
       "Medicaid       2315\n",
       "Government      689\n",
       "Self Pay        206\n",
       "Name: INSURANCE, dtype: int64"
      ]
     },
     "execution_count": 76,
     "metadata": {},
     "output_type": "execute_result"
    }
   ],
   "source": [
    "admissions.INSURANCE.value_counts()"
   ]
  },
  {
   "cell_type": "code",
   "execution_count": 77,
   "metadata": {
    "collapsed": true
   },
   "outputs": [],
   "source": [
    "admissions['INSURANCE']=np.where(admissions['INSURANCE']=='Self Pay', 'Private',\n",
    "                              np.where(admissions['INSURANCE']=='Government', 'Medicare',admissions['INSURANCE']))"
   ]
  },
  {
   "cell_type": "code",
   "execution_count": 78,
   "metadata": {},
   "outputs": [
    {
     "data": {
      "text/plain": [
       "Medicare    13753\n",
       "Private      6987\n",
       "Medicaid     2315\n",
       "Name: INSURANCE, dtype: int64"
      ]
     },
     "execution_count": 78,
     "metadata": {},
     "output_type": "execute_result"
    }
   ],
   "source": [
    "admissions.INSURANCE.value_counts()"
   ]
  },
  {
   "cell_type": "code",
   "execution_count": 79,
   "metadata": {
    "collapsed": true
   },
   "outputs": [],
   "source": [
    "admissions['ETHNICITY']=np.where(admissions['ETHNICITY']=='WHITE', 1, 0)"
   ]
  },
  {
   "cell_type": "code",
   "execution_count": 80,
   "metadata": {},
   "outputs": [
    {
     "data": {
      "text/html": [
       "<div>\n",
       "<style scoped>\n",
       "    .dataframe tbody tr th:only-of-type {\n",
       "        vertical-align: middle;\n",
       "    }\n",
       "\n",
       "    .dataframe tbody tr th {\n",
       "        vertical-align: top;\n",
       "    }\n",
       "\n",
       "    .dataframe thead th {\n",
       "        text-align: right;\n",
       "    }\n",
       "</style>\n",
       "<table border=\"1\" class=\"dataframe\">\n",
       "  <thead>\n",
       "    <tr style=\"text-align: right;\">\n",
       "      <th></th>\n",
       "      <th>INSURANCE</th>\n",
       "      <th>FIRST_CAREUNIT</th>\n",
       "      <th>GCS_E</th>\n",
       "      <th>GCS_M</th>\n",
       "      <th>GCS_V</th>\n",
       "      <th>S_TEMP</th>\n",
       "    </tr>\n",
       "  </thead>\n",
       "  <tbody>\n",
       "    <tr>\n",
       "      <th>0</th>\n",
       "      <td>Medicare</td>\n",
       "      <td>SICU</td>\n",
       "      <td>Spontaneously</td>\n",
       "      <td>Obeys Commands</td>\n",
       "      <td>Oriented</td>\n",
       "      <td>Warm</td>\n",
       "    </tr>\n",
       "    <tr>\n",
       "      <th>1</th>\n",
       "      <td>Medicare</td>\n",
       "      <td>CCU</td>\n",
       "      <td>None</td>\n",
       "      <td>Localizes Pain</td>\n",
       "      <td>No Response-ETT</td>\n",
       "      <td>Warm</td>\n",
       "    </tr>\n",
       "    <tr>\n",
       "      <th>2</th>\n",
       "      <td>Medicare</td>\n",
       "      <td>MICU</td>\n",
       "      <td>Spontaneously</td>\n",
       "      <td>Obeys Commands</td>\n",
       "      <td>Oriented</td>\n",
       "      <td>Warm</td>\n",
       "    </tr>\n",
       "    <tr>\n",
       "      <th>3</th>\n",
       "      <td>Medicare</td>\n",
       "      <td>MICU</td>\n",
       "      <td>Spontaneously</td>\n",
       "      <td>Obeys Commands</td>\n",
       "      <td>Oriented</td>\n",
       "      <td>Warm</td>\n",
       "    </tr>\n",
       "    <tr>\n",
       "      <th>4</th>\n",
       "      <td>Medicare</td>\n",
       "      <td>MICU</td>\n",
       "      <td>Spontaneously</td>\n",
       "      <td>Obeys Commands</td>\n",
       "      <td>Oriented</td>\n",
       "      <td>Warm</td>\n",
       "    </tr>\n",
       "  </tbody>\n",
       "</table>\n",
       "</div>"
      ],
      "text/plain": [
       "  INSURANCE FIRST_CAREUNIT          GCS_E           GCS_M            GCS_V  \\\n",
       "0  Medicare           SICU  Spontaneously  Obeys Commands         Oriented   \n",
       "1  Medicare            CCU           None  Localizes Pain  No Response-ETT   \n",
       "2  Medicare           MICU  Spontaneously  Obeys Commands         Oriented   \n",
       "3  Medicare           MICU  Spontaneously  Obeys Commands         Oriented   \n",
       "4  Medicare           MICU  Spontaneously  Obeys Commands         Oriented   \n",
       "\n",
       "  S_TEMP  \n",
       "0   Warm  \n",
       "1   Warm  \n",
       "2   Warm  \n",
       "3   Warm  \n",
       "4   Warm  "
      ]
     },
     "execution_count": 80,
     "metadata": {},
     "output_type": "execute_result"
    }
   ],
   "source": [
    "obj_df = admissions.select_dtypes(include=['object']).copy()\n",
    "obj_df.head()"
   ]
  },
  {
   "cell_type": "code",
   "execution_count": 81,
   "metadata": {
    "collapsed": true
   },
   "outputs": [],
   "source": [
    "admissions=pd.get_dummies(admissions)"
   ]
  },
  {
   "cell_type": "code",
   "execution_count": 82,
   "metadata": {},
   "outputs": [
    {
     "data": {
      "text/plain": [
       "52    4301\n",
       "50    2963\n",
       "14    2790\n",
       "23    2754\n",
       "7     2745\n",
       "33    2206\n",
       "15    2005\n",
       "57    1964\n",
       "12    1327\n",
       "Name: FIRST_WARDID, dtype: int64"
      ]
     },
     "execution_count": 82,
     "metadata": {},
     "output_type": "execute_result"
    }
   ],
   "source": [
    "admissions.FIRST_WARDID.value_counts()"
   ]
  },
  {
   "cell_type": "code",
   "execution_count": 83,
   "metadata": {
    "collapsed": true
   },
   "outputs": [],
   "source": [
    "admissions['FIRST_WARDID']=np.where(admissions['FIRST_WARDID']==52, '52',\n",
    "                              np.where(admissions['FIRST_WARDID']==50, '50',\n",
    "                                      np.where(admissions['FIRST_WARDID']==14, '14',\n",
    "                                              np.where(admissions['FIRST_WARDID']==23, '23',\n",
    "                                                      np.where(admissions['FIRST_WARDID']==7, '7',\n",
    "                                                              np.where(admissions['FIRST_WARDID']==33, '33',\n",
    "                                                                      np.where(admissions['FIRST_WARDID']==15, '15',\n",
    "                                                                              np.where(admissions['FIRST_WARDID']==57, '57','12'))))))))"
   ]
  },
  {
   "cell_type": "code",
   "execution_count": 84,
   "metadata": {},
   "outputs": [
    {
     "data": {
      "text/plain": [
       "52    4301\n",
       "50    2963\n",
       "14    2790\n",
       "23    2754\n",
       "7     2745\n",
       "33    2206\n",
       "15    2005\n",
       "57    1964\n",
       "12    1327\n",
       "Name: FIRST_WARDID, dtype: int64"
      ]
     },
     "execution_count": 84,
     "metadata": {},
     "output_type": "execute_result"
    }
   ],
   "source": [
    "admissions.FIRST_WARDID.value_counts()"
   ]
  },
  {
   "cell_type": "code",
   "execution_count": 85,
   "metadata": {},
   "outputs": [
    {
     "data": {
      "text/plain": [
       "(23055, 67)"
      ]
     },
     "execution_count": 85,
     "metadata": {},
     "output_type": "execute_result"
    }
   ],
   "source": [
    "admissions.shape"
   ]
  },
  {
   "cell_type": "code",
   "execution_count": 86,
   "metadata": {},
   "outputs": [
    {
     "data": {
      "text/html": [
       "<div>\n",
       "<style scoped>\n",
       "    .dataframe tbody tr th:only-of-type {\n",
       "        vertical-align: middle;\n",
       "    }\n",
       "\n",
       "    .dataframe tbody tr th {\n",
       "        vertical-align: top;\n",
       "    }\n",
       "\n",
       "    .dataframe thead th {\n",
       "        text-align: right;\n",
       "    }\n",
       "</style>\n",
       "<table border=\"1\" class=\"dataframe\">\n",
       "  <thead>\n",
       "    <tr style=\"text-align: right;\">\n",
       "      <th></th>\n",
       "      <th>FIRST_WARDID</th>\n",
       "    </tr>\n",
       "  </thead>\n",
       "  <tbody>\n",
       "    <tr>\n",
       "      <th>0</th>\n",
       "      <td>57</td>\n",
       "    </tr>\n",
       "    <tr>\n",
       "      <th>1</th>\n",
       "      <td>7</td>\n",
       "    </tr>\n",
       "    <tr>\n",
       "      <th>2</th>\n",
       "      <td>52</td>\n",
       "    </tr>\n",
       "    <tr>\n",
       "      <th>3</th>\n",
       "      <td>23</td>\n",
       "    </tr>\n",
       "    <tr>\n",
       "      <th>4</th>\n",
       "      <td>23</td>\n",
       "    </tr>\n",
       "  </tbody>\n",
       "</table>\n",
       "</div>"
      ],
      "text/plain": [
       "  FIRST_WARDID\n",
       "0           57\n",
       "1            7\n",
       "2           52\n",
       "3           23\n",
       "4           23"
      ]
     },
     "execution_count": 86,
     "metadata": {},
     "output_type": "execute_result"
    }
   ],
   "source": [
    "obj_df = admissions.select_dtypes(include=['object']).copy()\n",
    "obj_df.head()"
   ]
  },
  {
   "cell_type": "code",
   "execution_count": 87,
   "metadata": {
    "collapsed": true
   },
   "outputs": [],
   "source": [
    "admissions=pd.get_dummies(admissions)"
   ]
  },
  {
   "cell_type": "code",
   "execution_count": 88,
   "metadata": {},
   "outputs": [
    {
     "data": {
      "text/plain": [
       "(23055, 75)"
      ]
     },
     "execution_count": 88,
     "metadata": {},
     "output_type": "execute_result"
    }
   ],
   "source": [
    "admissions.shape"
   ]
  },
  {
   "cell_type": "code",
   "execution_count": 89,
   "metadata": {},
   "outputs": [
    {
     "data": {
      "text/plain": [
       "Index(['SUBJECT_ID', 'HADM_ID', 'ICUSTAY_ID', 'GENDER', 'AGE_AD',\n",
       "       'ADMISSION_TYPE', 'ETHNICITY', 'LOS', 'BMI', 'I_VEN', 'NI_VEN',\n",
       "       '227456_V', '225624_V', '220615_V', '220621_V', '220545_V', '225668_V',\n",
       "       '220235_V', '223830_V', '220734_V', '227457_V', '220224_V', '220227_V',\n",
       "       '220645_V', '225690_V', '220546_V', '223835_V', '220210_V', '220277_V',\n",
       "       '220051_V', '220052_V', '220050_V', '220045_V', '220180_V', '220181_V',\n",
       "       '220179_V', '223761_V', 'PrevHospDays', 'INSURANCE_Medicaid',\n",
       "       'INSURANCE_Medicare', 'INSURANCE_Private', 'FIRST_CAREUNIT_CCU',\n",
       "       'FIRST_CAREUNIT_CSRU', 'FIRST_CAREUNIT_MICU', 'FIRST_CAREUNIT_SICU',\n",
       "       'FIRST_CAREUNIT_TSICU', 'GCS_E_None', 'GCS_E_Spontaneously',\n",
       "       'GCS_E_To Pain', 'GCS_E_To Speech', 'GCS_M_Abnormal Flexion',\n",
       "       'GCS_M_Abnormal extension', 'GCS_M_Flex-withdraws',\n",
       "       'GCS_M_Localizes Pain', 'GCS_M_No response', 'GCS_M_Obeys Commands',\n",
       "       'GCS_V_Confused', 'GCS_V_Inappropriate Words',\n",
       "       'GCS_V_Incomprehensible sounds', 'GCS_V_No Response',\n",
       "       'GCS_V_No Response-ETT', 'GCS_V_Oriented', 'S_TEMP_Cold', 'S_TEMP_Cool',\n",
       "       'S_TEMP_Hot', 'S_TEMP_Warm', 'FIRST_WARDID_12', 'FIRST_WARDID_14',\n",
       "       'FIRST_WARDID_15', 'FIRST_WARDID_23', 'FIRST_WARDID_33',\n",
       "       'FIRST_WARDID_50', 'FIRST_WARDID_52', 'FIRST_WARDID_57',\n",
       "       'FIRST_WARDID_7'],\n",
       "      dtype='object')"
      ]
     },
     "execution_count": 89,
     "metadata": {},
     "output_type": "execute_result"
    }
   ],
   "source": [
    "admissions.columns"
   ]
  },
  {
   "cell_type": "code",
   "execution_count": 90,
   "metadata": {
    "collapsed": true
   },
   "outputs": [],
   "source": [
    "admissions=admissions.rename({'227456_V': 'ALBUMIN', '225624_V': 'BUN', '220615_V': 'CREATININE', \n",
    "    '220621_V': 'GLUCOSE', '220545_V': 'HEMATOCRIT', '225668_V': 'LACTIC',\n",
    "    '220235_V': 'PCO2A', '223830_V': 'PHA', '220734_V': 'PHD', '227457_V': 'PLATELETC', \n",
    "    '220224_V': 'PO2A', '220227_V': 'SAO2', '220645_V': 'SODIUM', '225690_V': 'TBILIRUBIN', \n",
    "    '220546_V': 'WBC', '223835_V': 'FIO2', '220210_V': 'RR', '220277_V': 'SPO2',\n",
    "    '220051_V': 'ABPD', '220052_V': 'ABPM', '220050_V': 'ABPS', \n",
    "    '220045_V': 'HR', '220180_V': 'NBPD', '220181_V': 'NBPM',\n",
    "    '220179_V': 'NBPS', '223761_V': 'TEMP', 'PrevHospDays':'PrevDays', \n",
    "    'INSURANCE_Medicaid': 'INSMcaid', 'INSURANCE_Medicare': 'INSMcare', \n",
    "    'INSURANCE_Private': 'INSPvate', 'FIRST_CAREUNIT_CCU': 'FCU_CCU', 'FIRST_CAREUNIT_CSRU': 'FCU_CSRU', \n",
    "    'FIRST_CAREUNIT_MICU': 'FCU_MICU', 'FIRST_CAREUNIT_SICU': 'FCU_SICU', \n",
    "    'FIRST_CAREUNIT_TSICU': 'FCU_TSICU', 'GCS_E_Spontaneously': 'GCS_E_Spont', 'GCS_E_To Pain': 'GCS_E_Pain', \n",
    "    'GCS_E_To Speech': 'GCS_E_Speech', 'GCS_M_Abnormal Flexion': 'GCS_M_AbFlex',\n",
    "    'GCS_M_Abnormal extension': 'GCS_M_Abext', 'GCS_M_Flex-withdraws': 'GCS_M_Flexwdr',\n",
    "    'GCS_M_Localizes Pain': 'GCS_M_LocPain', 'GCS_M_No response': 'GCS_M_Noresp', \n",
    "    'GCS_M_Obeys Commands': 'GCS_M_ObeyCom', 'GCS_V_Confused': 'GCS_V_Conf', \n",
    "    'GCS_V_Inappropriate Words': 'GCS_V_InWord', 'GCS_V_Incomprehensible sounds': 'GCS_V_Insou', \n",
    "    'GCS_V_No Response': 'GCS_V_NoResp', 'GCS_V_No Response-ETT': 'GCS_V_NoReETT', \n",
    "    'GCS_V_Oriented': 'GCS_V_Orie', 'FIRST_WARDID_12': 'FW12', 'FIRST_WARDID_14': 'FW14',\n",
    "    'FIRST_WARDID_15': 'FW15', 'FIRST_WARDID_23': 'FW23', 'FIRST_WARDID_33': 'FW33',\n",
    "    'FIRST_WARDID_50': 'FW50', 'FIRST_WARDID_52': 'FW52', 'FIRST_WARDID_57': 'FW57',\n",
    "    'FIRST_WARDID_7': 'FW7'}, axis='columns')"
   ]
  },
  {
   "cell_type": "code",
   "execution_count": 91,
   "metadata": {},
   "outputs": [
    {
     "data": {
      "text/plain": [
       "(23055, 75)"
      ]
     },
     "execution_count": 91,
     "metadata": {},
     "output_type": "execute_result"
    }
   ],
   "source": [
    "admissions.shape"
   ]
  },
  {
   "cell_type": "code",
   "execution_count": 92,
   "metadata": {
    "collapsed": true
   },
   "outputs": [],
   "source": [
    "admissions.to_csv('MAIN_DF_9.csv')"
   ]
  },
  {
   "cell_type": "code",
   "execution_count": null,
   "metadata": {
    "collapsed": true
   },
   "outputs": [],
   "source": []
  },
  {
   "cell_type": "code",
   "execution_count": null,
   "metadata": {
    "collapsed": true
   },
   "outputs": [],
   "source": []
  }
 ],
 "metadata": {
  "kernelspec": {
   "display_name": "Python 3",
   "language": "python",
   "name": "python3"
  },
  "language_info": {
   "codemirror_mode": {
    "name": "ipython",
    "version": 3
   },
   "file_extension": ".py",
   "mimetype": "text/x-python",
   "name": "python",
   "nbconvert_exporter": "python",
   "pygments_lexer": "ipython3",
   "version": "3.6.1"
  }
 },
 "nbformat": 4,
 "nbformat_minor": 2
}
