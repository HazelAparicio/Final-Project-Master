{
 "cells": [
  {
   "cell_type": "markdown",
   "metadata": {},
   "source": [
    "# MS_Rich2_F_extraction"
   ]
  },
  {
   "cell_type": "code",
   "execution_count": 1,
   "metadata": {
    "collapsed": true
   },
   "outputs": [],
   "source": [
    "import warnings\n",
    "warnings.filterwarnings('ignore')\n",
    "import pandas as pd\n",
    "from pandas import DataFrame\n",
    "from IPython.display import display\n",
    "import numpy as np\n",
    "pd.options.display.max_columns = None\n",
    "pd.options.display.max_rows = 200\n",
    "import matplotlib.pyplot as plt\n",
    "import scipy.stats as stats\n",
    "import pylab\n",
    "from sklearn.svm import SVR\n",
    "plt.rc(\"font\", size=14)\n",
    "import seaborn as sns\n",
    "sns.set(style=\"white\")\n",
    "sns.set(style=\"whitegrid\", color_codes=True)\n",
    "from pylab import *\n",
    "matplotlib.style.use('ggplot')"
   ]
  },
  {
   "cell_type": "code",
   "execution_count": 2,
   "metadata": {},
   "outputs": [
    {
     "name": "stdout",
     "output_type": "stream",
     "text": [
      "(23055, 125)\n",
      "unique SUBJECT_ID: 17469\n",
      "unique HADM_ID   : 21650\n",
      "unique ICUSTAY_ID: 23055\n"
     ]
    },
    {
     "data": {
      "text/html": [
       "<div>\n",
       "<style scoped>\n",
       "    .dataframe tbody tr th:only-of-type {\n",
       "        vertical-align: middle;\n",
       "    }\n",
       "\n",
       "    .dataframe tbody tr th {\n",
       "        vertical-align: top;\n",
       "    }\n",
       "\n",
       "    .dataframe thead th {\n",
       "        text-align: right;\n",
       "    }\n",
       "</style>\n",
       "<table border=\"1\" class=\"dataframe\">\n",
       "  <thead>\n",
       "    <tr style=\"text-align: right;\">\n",
       "      <th></th>\n",
       "      <th>SUBJECT_ID</th>\n",
       "      <th>HADM_ID</th>\n",
       "      <th>ICUSTAY_ID</th>\n",
       "      <th>GENDER</th>\n",
       "      <th>AGE_AD</th>\n",
       "      <th>TYPE_AD</th>\n",
       "      <th>ETHNICITY</th>\n",
       "      <th>LOS</th>\n",
       "      <th>BMI</th>\n",
       "      <th>I_VEN</th>\n",
       "      <th>NI_VEN</th>\n",
       "      <th>ALBUMIN</th>\n",
       "      <th>BUN</th>\n",
       "      <th>CREATININE</th>\n",
       "      <th>GLUCOSE</th>\n",
       "      <th>HTOCRIT</th>\n",
       "      <th>LACTIC</th>\n",
       "      <th>PCO2A</th>\n",
       "      <th>PHA</th>\n",
       "      <th>PHD</th>\n",
       "      <th>PLATELETC</th>\n",
       "      <th>PO2A</th>\n",
       "      <th>SAO2</th>\n",
       "      <th>SODIUM</th>\n",
       "      <th>TBILIRUBIN</th>\n",
       "      <th>WBC</th>\n",
       "      <th>FIO2</th>\n",
       "      <th>RR</th>\n",
       "      <th>SPO2</th>\n",
       "      <th>ABPD</th>\n",
       "      <th>ABPM</th>\n",
       "      <th>ABPS</th>\n",
       "      <th>HR</th>\n",
       "      <th>NBPD</th>\n",
       "      <th>NBPM</th>\n",
       "      <th>NBPS</th>\n",
       "      <th>TEMP</th>\n",
       "      <th>PrevDays</th>\n",
       "      <th>INSMcaid</th>\n",
       "      <th>INSMcare</th>\n",
       "      <th>INSPvate</th>\n",
       "      <th>FCU_CCU</th>\n",
       "      <th>FCU_CSRU</th>\n",
       "      <th>FCU_MICU</th>\n",
       "      <th>FCU_SICU</th>\n",
       "      <th>FCU_TSICU</th>\n",
       "      <th>GCS_E_None</th>\n",
       "      <th>GCS_ESpon</th>\n",
       "      <th>GCS_EPain</th>\n",
       "      <th>GCS_ESpch</th>\n",
       "      <th>GCS_MAbFl</th>\n",
       "      <th>GCS_MAbex</th>\n",
       "      <th>GCS_MFlwd</th>\n",
       "      <th>GCS_MLoPa</th>\n",
       "      <th>GCS_MNore</th>\n",
       "      <th>GCS_MObCo</th>\n",
       "      <th>GCS_VConf</th>\n",
       "      <th>GCS_VInWo</th>\n",
       "      <th>GCS_VInso</th>\n",
       "      <th>GCS_VNORe</th>\n",
       "      <th>GCS_VNRET</th>\n",
       "      <th>GCS_VOrie</th>\n",
       "      <th>S_TEMP_Cold</th>\n",
       "      <th>S_TEMP_Cool</th>\n",
       "      <th>S_TEMP_Hot</th>\n",
       "      <th>S_TEMP_Warm</th>\n",
       "      <th>FW12</th>\n",
       "      <th>FW14</th>\n",
       "      <th>FW15</th>\n",
       "      <th>FW23</th>\n",
       "      <th>FW33</th>\n",
       "      <th>FW50</th>\n",
       "      <th>FW52</th>\n",
       "      <th>FW57</th>\n",
       "      <th>FW7</th>\n",
       "      <th>hfail</th>\n",
       "      <th>carr</th>\n",
       "      <th>vdis</th>\n",
       "      <th>pcirc</th>\n",
       "      <th>pvasc</th>\n",
       "      <th>htens</th>\n",
       "      <th>paralysis</th>\n",
       "      <th>oneur</th>\n",
       "      <th>chpul</th>\n",
       "      <th>dunc</th>\n",
       "      <th>dcom</th>\n",
       "      <th>hthy</th>\n",
       "      <th>rfail</th>\n",
       "      <th>ldis</th>\n",
       "      <th>pulc</th>\n",
       "      <th>aids</th>\n",
       "      <th>lymphoma</th>\n",
       "      <th>mcancer</th>\n",
       "      <th>solid_tumor</th>\n",
       "      <th>rhart</th>\n",
       "      <th>coath</th>\n",
       "      <th>obesity</th>\n",
       "      <th>wlost</th>\n",
       "      <th>flele</th>\n",
       "      <th>blane</th>\n",
       "      <th>defane</th>\n",
       "      <th>alch</th>\n",
       "      <th>drg</th>\n",
       "      <th>psychoses</th>\n",
       "      <th>depression</th>\n",
       "      <th>elixvw</th>\n",
       "      <th>elix29</th>\n",
       "      <th>elix30</th>\n",
       "      <th>apsiii</th>\n",
       "      <th>icu_flag</th>\n",
       "      <th>oasis</th>\n",
       "      <th>gcs</th>\n",
       "      <th>uo</th>\n",
       "      <th>surg</th>\n",
       "      <th>saps</th>\n",
       "      <th>sapsii</th>\n",
       "      <th>potass</th>\n",
       "      <th>bicsc</th>\n",
       "      <th>comsco</th>\n",
       "      <th>sofa</th>\n",
       "      <th>coagulation</th>\n",
       "      <th>liver</th>\n",
       "      <th>cardiovascular</th>\n",
       "      <th>cns</th>\n",
       "      <th>renal</th>\n",
       "    </tr>\n",
       "  </thead>\n",
       "  <tbody>\n",
       "    <tr>\n",
       "      <th>0</th>\n",
       "      <td>23</td>\n",
       "      <td>124321</td>\n",
       "      <td>234044</td>\n",
       "      <td>1</td>\n",
       "      <td>75.26000</td>\n",
       "      <td>1</td>\n",
       "      <td>1</td>\n",
       "      <td>1.1862</td>\n",
       "      <td>21.7</td>\n",
       "      <td>0</td>\n",
       "      <td>0</td>\n",
       "      <td>NaN</td>\n",
       "      <td>14.0</td>\n",
       "      <td>0.6</td>\n",
       "      <td>136.0</td>\n",
       "      <td>36.9</td>\n",
       "      <td>NaN</td>\n",
       "      <td>NaN</td>\n",
       "      <td>NaN</td>\n",
       "      <td>NaN</td>\n",
       "      <td>208.0</td>\n",
       "      <td>NaN</td>\n",
       "      <td>NaN</td>\n",
       "      <td>144.0</td>\n",
       "      <td>NaN</td>\n",
       "      <td>14.8</td>\n",
       "      <td>NaN</td>\n",
       "      <td>14.0</td>\n",
       "      <td>100.0</td>\n",
       "      <td>74.0</td>\n",
       "      <td>86.0</td>\n",
       "      <td>181.0</td>\n",
       "      <td>77.0</td>\n",
       "      <td>45.0</td>\n",
       "      <td>50.0</td>\n",
       "      <td>67.0</td>\n",
       "      <td>35.4</td>\n",
       "      <td>2.67</td>\n",
       "      <td>0</td>\n",
       "      <td>1</td>\n",
       "      <td>0</td>\n",
       "      <td>0</td>\n",
       "      <td>0</td>\n",
       "      <td>0</td>\n",
       "      <td>1</td>\n",
       "      <td>0</td>\n",
       "      <td>0</td>\n",
       "      <td>1</td>\n",
       "      <td>0</td>\n",
       "      <td>0</td>\n",
       "      <td>0</td>\n",
       "      <td>0</td>\n",
       "      <td>0</td>\n",
       "      <td>0</td>\n",
       "      <td>0</td>\n",
       "      <td>1</td>\n",
       "      <td>0</td>\n",
       "      <td>0</td>\n",
       "      <td>0</td>\n",
       "      <td>0</td>\n",
       "      <td>0</td>\n",
       "      <td>1</td>\n",
       "      <td>0</td>\n",
       "      <td>0</td>\n",
       "      <td>0</td>\n",
       "      <td>1</td>\n",
       "      <td>0</td>\n",
       "      <td>0</td>\n",
       "      <td>0</td>\n",
       "      <td>0</td>\n",
       "      <td>0</td>\n",
       "      <td>0</td>\n",
       "      <td>0</td>\n",
       "      <td>1</td>\n",
       "      <td>0</td>\n",
       "      <td>0</td>\n",
       "      <td>0</td>\n",
       "      <td>1</td>\n",
       "      <td>0</td>\n",
       "      <td>0</td>\n",
       "      <td>1</td>\n",
       "      <td>0</td>\n",
       "      <td>1</td>\n",
       "      <td>0</td>\n",
       "      <td>0</td>\n",
       "      <td>0</td>\n",
       "      <td>0</td>\n",
       "      <td>0</td>\n",
       "      <td>0</td>\n",
       "      <td>0</td>\n",
       "      <td>0</td>\n",
       "      <td>0</td>\n",
       "      <td>0</td>\n",
       "      <td>0</td>\n",
       "      <td>0</td>\n",
       "      <td>0</td>\n",
       "      <td>0</td>\n",
       "      <td>0</td>\n",
       "      <td>0</td>\n",
       "      <td>0</td>\n",
       "      <td>0</td>\n",
       "      <td>0</td>\n",
       "      <td>0</td>\n",
       "      <td>0</td>\n",
       "      <td>0</td>\n",
       "      <td>-1</td>\n",
       "      <td>0</td>\n",
       "      <td>0</td>\n",
       "      <td>31</td>\n",
       "      <td>0</td>\n",
       "      <td>24</td>\n",
       "      <td>15.0</td>\n",
       "      <td>6445.0</td>\n",
       "      <td>0</td>\n",
       "      <td>19</td>\n",
       "      <td>39</td>\n",
       "      <td>0.0</td>\n",
       "      <td>0.0</td>\n",
       "      <td>0</td>\n",
       "      <td>1</td>\n",
       "      <td>0.0</td>\n",
       "      <td>NaN</td>\n",
       "      <td>1.0</td>\n",
       "      <td>0.0</td>\n",
       "      <td>0.0</td>\n",
       "    </tr>\n",
       "    <tr>\n",
       "      <th>1</th>\n",
       "      <td>34</td>\n",
       "      <td>144319</td>\n",
       "      <td>290505</td>\n",
       "      <td>1</td>\n",
       "      <td>90.89934</td>\n",
       "      <td>1</td>\n",
       "      <td>1</td>\n",
       "      <td>1.5824</td>\n",
       "      <td>27.4</td>\n",
       "      <td>0</td>\n",
       "      <td>0</td>\n",
       "      <td>NaN</td>\n",
       "      <td>36.0</td>\n",
       "      <td>1.6</td>\n",
       "      <td>116.0</td>\n",
       "      <td>35.9</td>\n",
       "      <td>NaN</td>\n",
       "      <td>NaN</td>\n",
       "      <td>NaN</td>\n",
       "      <td>NaN</td>\n",
       "      <td>343.0</td>\n",
       "      <td>NaN</td>\n",
       "      <td>NaN</td>\n",
       "      <td>139.0</td>\n",
       "      <td>NaN</td>\n",
       "      <td>7.1</td>\n",
       "      <td>60.0</td>\n",
       "      <td>14.0</td>\n",
       "      <td>98.0</td>\n",
       "      <td>NaN</td>\n",
       "      <td>NaN</td>\n",
       "      <td>NaN</td>\n",
       "      <td>72.0</td>\n",
       "      <td>66.0</td>\n",
       "      <td>78.0</td>\n",
       "      <td>112.0</td>\n",
       "      <td>36.1</td>\n",
       "      <td>0.00</td>\n",
       "      <td>0</td>\n",
       "      <td>1</td>\n",
       "      <td>0</td>\n",
       "      <td>1</td>\n",
       "      <td>0</td>\n",
       "      <td>0</td>\n",
       "      <td>0</td>\n",
       "      <td>0</td>\n",
       "      <td>1</td>\n",
       "      <td>0</td>\n",
       "      <td>0</td>\n",
       "      <td>0</td>\n",
       "      <td>0</td>\n",
       "      <td>0</td>\n",
       "      <td>0</td>\n",
       "      <td>1</td>\n",
       "      <td>0</td>\n",
       "      <td>0</td>\n",
       "      <td>0</td>\n",
       "      <td>0</td>\n",
       "      <td>0</td>\n",
       "      <td>0</td>\n",
       "      <td>1</td>\n",
       "      <td>0</td>\n",
       "      <td>0</td>\n",
       "      <td>0</td>\n",
       "      <td>0</td>\n",
       "      <td>1</td>\n",
       "      <td>0</td>\n",
       "      <td>0</td>\n",
       "      <td>0</td>\n",
       "      <td>0</td>\n",
       "      <td>0</td>\n",
       "      <td>0</td>\n",
       "      <td>0</td>\n",
       "      <td>0</td>\n",
       "      <td>1</td>\n",
       "      <td>1</td>\n",
       "      <td>1</td>\n",
       "      <td>0</td>\n",
       "      <td>0</td>\n",
       "      <td>0</td>\n",
       "      <td>0</td>\n",
       "      <td>0</td>\n",
       "      <td>0</td>\n",
       "      <td>0</td>\n",
       "      <td>0</td>\n",
       "      <td>0</td>\n",
       "      <td>1</td>\n",
       "      <td>0</td>\n",
       "      <td>0</td>\n",
       "      <td>0</td>\n",
       "      <td>0</td>\n",
       "      <td>0</td>\n",
       "      <td>0</td>\n",
       "      <td>0</td>\n",
       "      <td>0</td>\n",
       "      <td>0</td>\n",
       "      <td>0</td>\n",
       "      <td>0</td>\n",
       "      <td>0</td>\n",
       "      <td>0</td>\n",
       "      <td>0</td>\n",
       "      <td>0</td>\n",
       "      <td>0</td>\n",
       "      <td>0</td>\n",
       "      <td>0</td>\n",
       "      <td>0</td>\n",
       "      <td>0</td>\n",
       "      <td>0</td>\n",
       "      <td>33</td>\n",
       "      <td>0</td>\n",
       "      <td>40</td>\n",
       "      <td>14.0</td>\n",
       "      <td>875.0</td>\n",
       "      <td>0</td>\n",
       "      <td>21</td>\n",
       "      <td>36</td>\n",
       "      <td>0.0</td>\n",
       "      <td>0.0</td>\n",
       "      <td>0</td>\n",
       "      <td>3</td>\n",
       "      <td>0.0</td>\n",
       "      <td>NaN</td>\n",
       "      <td>1.0</td>\n",
       "      <td>1.0</td>\n",
       "      <td>1.0</td>\n",
       "    </tr>\n",
       "    <tr>\n",
       "      <th>2</th>\n",
       "      <td>36</td>\n",
       "      <td>165660</td>\n",
       "      <td>241249</td>\n",
       "      <td>1</td>\n",
       "      <td>72.73000</td>\n",
       "      <td>0</td>\n",
       "      <td>1</td>\n",
       "      <td>4.3483</td>\n",
       "      <td>32.7</td>\n",
       "      <td>1</td>\n",
       "      <td>0</td>\n",
       "      <td>2.8</td>\n",
       "      <td>19.0</td>\n",
       "      <td>0.9</td>\n",
       "      <td>126.0</td>\n",
       "      <td>36.3</td>\n",
       "      <td>1.0</td>\n",
       "      <td>60.0</td>\n",
       "      <td>7.29</td>\n",
       "      <td>NaN</td>\n",
       "      <td>174.0</td>\n",
       "      <td>58.0</td>\n",
       "      <td>94.0</td>\n",
       "      <td>139.0</td>\n",
       "      <td>0.6</td>\n",
       "      <td>15.3</td>\n",
       "      <td>100.0</td>\n",
       "      <td>20.0</td>\n",
       "      <td>91.0</td>\n",
       "      <td>NaN</td>\n",
       "      <td>NaN</td>\n",
       "      <td>NaN</td>\n",
       "      <td>94.0</td>\n",
       "      <td>72.0</td>\n",
       "      <td>84.0</td>\n",
       "      <td>122.0</td>\n",
       "      <td>37.4</td>\n",
       "      <td>1.81</td>\n",
       "      <td>0</td>\n",
       "      <td>1</td>\n",
       "      <td>0</td>\n",
       "      <td>0</td>\n",
       "      <td>0</td>\n",
       "      <td>1</td>\n",
       "      <td>0</td>\n",
       "      <td>0</td>\n",
       "      <td>0</td>\n",
       "      <td>1</td>\n",
       "      <td>0</td>\n",
       "      <td>0</td>\n",
       "      <td>0</td>\n",
       "      <td>0</td>\n",
       "      <td>0</td>\n",
       "      <td>0</td>\n",
       "      <td>0</td>\n",
       "      <td>1</td>\n",
       "      <td>0</td>\n",
       "      <td>0</td>\n",
       "      <td>0</td>\n",
       "      <td>0</td>\n",
       "      <td>0</td>\n",
       "      <td>1</td>\n",
       "      <td>0</td>\n",
       "      <td>0</td>\n",
       "      <td>0</td>\n",
       "      <td>1</td>\n",
       "      <td>0</td>\n",
       "      <td>0</td>\n",
       "      <td>0</td>\n",
       "      <td>0</td>\n",
       "      <td>0</td>\n",
       "      <td>0</td>\n",
       "      <td>1</td>\n",
       "      <td>0</td>\n",
       "      <td>0</td>\n",
       "      <td>0</td>\n",
       "      <td>0</td>\n",
       "      <td>0</td>\n",
       "      <td>1</td>\n",
       "      <td>0</td>\n",
       "      <td>1</td>\n",
       "      <td>0</td>\n",
       "      <td>0</td>\n",
       "      <td>1</td>\n",
       "      <td>0</td>\n",
       "      <td>0</td>\n",
       "      <td>0</td>\n",
       "      <td>0</td>\n",
       "      <td>0</td>\n",
       "      <td>0</td>\n",
       "      <td>0</td>\n",
       "      <td>0</td>\n",
       "      <td>0</td>\n",
       "      <td>0</td>\n",
       "      <td>0</td>\n",
       "      <td>0</td>\n",
       "      <td>0</td>\n",
       "      <td>0</td>\n",
       "      <td>0</td>\n",
       "      <td>0</td>\n",
       "      <td>0</td>\n",
       "      <td>0</td>\n",
       "      <td>0</td>\n",
       "      <td>0</td>\n",
       "      <td>0</td>\n",
       "      <td>7</td>\n",
       "      <td>8</td>\n",
       "      <td>8</td>\n",
       "      <td>27</td>\n",
       "      <td>0</td>\n",
       "      <td>23</td>\n",
       "      <td>15.0</td>\n",
       "      <td>2030.0</td>\n",
       "      <td>1</td>\n",
       "      <td>14</td>\n",
       "      <td>31</td>\n",
       "      <td>0.0</td>\n",
       "      <td>0.0</td>\n",
       "      <td>0</td>\n",
       "      <td>5</td>\n",
       "      <td>1.0</td>\n",
       "      <td>NaN</td>\n",
       "      <td>1.0</td>\n",
       "      <td>0.0</td>\n",
       "      <td>0.0</td>\n",
       "    </tr>\n",
       "    <tr>\n",
       "      <th>3</th>\n",
       "      <td>85</td>\n",
       "      <td>112077</td>\n",
       "      <td>291697</td>\n",
       "      <td>1</td>\n",
       "      <td>76.85000</td>\n",
       "      <td>1</td>\n",
       "      <td>1</td>\n",
       "      <td>1.9909</td>\n",
       "      <td>31.8</td>\n",
       "      <td>0</td>\n",
       "      <td>0</td>\n",
       "      <td>NaN</td>\n",
       "      <td>17.0</td>\n",
       "      <td>1.4</td>\n",
       "      <td>114.0</td>\n",
       "      <td>26.4</td>\n",
       "      <td>NaN</td>\n",
       "      <td>NaN</td>\n",
       "      <td>NaN</td>\n",
       "      <td>NaN</td>\n",
       "      <td>24.0</td>\n",
       "      <td>NaN</td>\n",
       "      <td>NaN</td>\n",
       "      <td>137.0</td>\n",
       "      <td>NaN</td>\n",
       "      <td>8.3</td>\n",
       "      <td>NaN</td>\n",
       "      <td>39.0</td>\n",
       "      <td>99.0</td>\n",
       "      <td>NaN</td>\n",
       "      <td>NaN</td>\n",
       "      <td>NaN</td>\n",
       "      <td>136.0</td>\n",
       "      <td>87.0</td>\n",
       "      <td>99.0</td>\n",
       "      <td>166.0</td>\n",
       "      <td>37.0</td>\n",
       "      <td>0.00</td>\n",
       "      <td>0</td>\n",
       "      <td>1</td>\n",
       "      <td>0</td>\n",
       "      <td>0</td>\n",
       "      <td>0</td>\n",
       "      <td>1</td>\n",
       "      <td>0</td>\n",
       "      <td>0</td>\n",
       "      <td>0</td>\n",
       "      <td>1</td>\n",
       "      <td>0</td>\n",
       "      <td>0</td>\n",
       "      <td>0</td>\n",
       "      <td>0</td>\n",
       "      <td>0</td>\n",
       "      <td>0</td>\n",
       "      <td>0</td>\n",
       "      <td>1</td>\n",
       "      <td>0</td>\n",
       "      <td>0</td>\n",
       "      <td>0</td>\n",
       "      <td>0</td>\n",
       "      <td>0</td>\n",
       "      <td>1</td>\n",
       "      <td>0</td>\n",
       "      <td>0</td>\n",
       "      <td>0</td>\n",
       "      <td>1</td>\n",
       "      <td>0</td>\n",
       "      <td>0</td>\n",
       "      <td>0</td>\n",
       "      <td>1</td>\n",
       "      <td>0</td>\n",
       "      <td>0</td>\n",
       "      <td>0</td>\n",
       "      <td>0</td>\n",
       "      <td>0</td>\n",
       "      <td>0</td>\n",
       "      <td>1</td>\n",
       "      <td>1</td>\n",
       "      <td>0</td>\n",
       "      <td>0</td>\n",
       "      <td>0</td>\n",
       "      <td>0</td>\n",
       "      <td>1</td>\n",
       "      <td>0</td>\n",
       "      <td>0</td>\n",
       "      <td>0</td>\n",
       "      <td>1</td>\n",
       "      <td>1</td>\n",
       "      <td>0</td>\n",
       "      <td>0</td>\n",
       "      <td>0</td>\n",
       "      <td>0</td>\n",
       "      <td>0</td>\n",
       "      <td>0</td>\n",
       "      <td>0</td>\n",
       "      <td>0</td>\n",
       "      <td>0</td>\n",
       "      <td>0</td>\n",
       "      <td>0</td>\n",
       "      <td>0</td>\n",
       "      <td>0</td>\n",
       "      <td>0</td>\n",
       "      <td>0</td>\n",
       "      <td>0</td>\n",
       "      <td>1</td>\n",
       "      <td>7</td>\n",
       "      <td>6</td>\n",
       "      <td>15</td>\n",
       "      <td>47</td>\n",
       "      <td>0</td>\n",
       "      <td>35</td>\n",
       "      <td>15.0</td>\n",
       "      <td>1650.0</td>\n",
       "      <td>0</td>\n",
       "      <td>19</td>\n",
       "      <td>34</td>\n",
       "      <td>0.0</td>\n",
       "      <td>3.0</td>\n",
       "      <td>0</td>\n",
       "      <td>5</td>\n",
       "      <td>3.0</td>\n",
       "      <td>NaN</td>\n",
       "      <td>1.0</td>\n",
       "      <td>0.0</td>\n",
       "      <td>1.0</td>\n",
       "    </tr>\n",
       "    <tr>\n",
       "      <th>4</th>\n",
       "      <td>107</td>\n",
       "      <td>182383</td>\n",
       "      <td>252542</td>\n",
       "      <td>1</td>\n",
       "      <td>69.66000</td>\n",
       "      <td>1</td>\n",
       "      <td>0</td>\n",
       "      <td>1.0806</td>\n",
       "      <td>31.3</td>\n",
       "      <td>0</td>\n",
       "      <td>0</td>\n",
       "      <td>NaN</td>\n",
       "      <td>36.0</td>\n",
       "      <td>5.8</td>\n",
       "      <td>125.0</td>\n",
       "      <td>40.3</td>\n",
       "      <td>NaN</td>\n",
       "      <td>NaN</td>\n",
       "      <td>NaN</td>\n",
       "      <td>NaN</td>\n",
       "      <td>303.0</td>\n",
       "      <td>NaN</td>\n",
       "      <td>NaN</td>\n",
       "      <td>139.0</td>\n",
       "      <td>NaN</td>\n",
       "      <td>14.2</td>\n",
       "      <td>NaN</td>\n",
       "      <td>19.0</td>\n",
       "      <td>97.0</td>\n",
       "      <td>NaN</td>\n",
       "      <td>NaN</td>\n",
       "      <td>NaN</td>\n",
       "      <td>64.0</td>\n",
       "      <td>67.0</td>\n",
       "      <td>88.0</td>\n",
       "      <td>155.0</td>\n",
       "      <td>36.7</td>\n",
       "      <td>0.00</td>\n",
       "      <td>0</td>\n",
       "      <td>1</td>\n",
       "      <td>0</td>\n",
       "      <td>0</td>\n",
       "      <td>0</td>\n",
       "      <td>1</td>\n",
       "      <td>0</td>\n",
       "      <td>0</td>\n",
       "      <td>0</td>\n",
       "      <td>1</td>\n",
       "      <td>0</td>\n",
       "      <td>0</td>\n",
       "      <td>0</td>\n",
       "      <td>0</td>\n",
       "      <td>0</td>\n",
       "      <td>0</td>\n",
       "      <td>0</td>\n",
       "      <td>1</td>\n",
       "      <td>0</td>\n",
       "      <td>0</td>\n",
       "      <td>0</td>\n",
       "      <td>0</td>\n",
       "      <td>0</td>\n",
       "      <td>1</td>\n",
       "      <td>0</td>\n",
       "      <td>0</td>\n",
       "      <td>0</td>\n",
       "      <td>1</td>\n",
       "      <td>0</td>\n",
       "      <td>0</td>\n",
       "      <td>0</td>\n",
       "      <td>1</td>\n",
       "      <td>0</td>\n",
       "      <td>0</td>\n",
       "      <td>0</td>\n",
       "      <td>0</td>\n",
       "      <td>0</td>\n",
       "      <td>1</td>\n",
       "      <td>0</td>\n",
       "      <td>0</td>\n",
       "      <td>0</td>\n",
       "      <td>0</td>\n",
       "      <td>1</td>\n",
       "      <td>0</td>\n",
       "      <td>0</td>\n",
       "      <td>0</td>\n",
       "      <td>0</td>\n",
       "      <td>0</td>\n",
       "      <td>0</td>\n",
       "      <td>1</td>\n",
       "      <td>0</td>\n",
       "      <td>0</td>\n",
       "      <td>0</td>\n",
       "      <td>0</td>\n",
       "      <td>0</td>\n",
       "      <td>0</td>\n",
       "      <td>0</td>\n",
       "      <td>0</td>\n",
       "      <td>1</td>\n",
       "      <td>0</td>\n",
       "      <td>1</td>\n",
       "      <td>0</td>\n",
       "      <td>1</td>\n",
       "      <td>0</td>\n",
       "      <td>0</td>\n",
       "      <td>0</td>\n",
       "      <td>0</td>\n",
       "      <td>6</td>\n",
       "      <td>14</td>\n",
       "      <td>15</td>\n",
       "      <td>43</td>\n",
       "      <td>0</td>\n",
       "      <td>23</td>\n",
       "      <td>15.0</td>\n",
       "      <td>NaN</td>\n",
       "      <td>0</td>\n",
       "      <td>21</td>\n",
       "      <td>42</td>\n",
       "      <td>3.0</td>\n",
       "      <td>0.0</td>\n",
       "      <td>0</td>\n",
       "      <td>5</td>\n",
       "      <td>0.0</td>\n",
       "      <td>NaN</td>\n",
       "      <td>1.0</td>\n",
       "      <td>0.0</td>\n",
       "      <td>4.0</td>\n",
       "    </tr>\n",
       "  </tbody>\n",
       "</table>\n",
       "</div>"
      ],
      "text/plain": [
       "   SUBJECT_ID  HADM_ID  ICUSTAY_ID  GENDER    AGE_AD  TYPE_AD  ETHNICITY  \\\n",
       "0          23   124321      234044       1  75.26000        1          1   \n",
       "1          34   144319      290505       1  90.89934        1          1   \n",
       "2          36   165660      241249       1  72.73000        0          1   \n",
       "3          85   112077      291697       1  76.85000        1          1   \n",
       "4         107   182383      252542       1  69.66000        1          0   \n",
       "\n",
       "      LOS   BMI  I_VEN  NI_VEN  ALBUMIN   BUN  CREATININE  GLUCOSE  HTOCRIT  \\\n",
       "0  1.1862  21.7      0       0      NaN  14.0         0.6    136.0     36.9   \n",
       "1  1.5824  27.4      0       0      NaN  36.0         1.6    116.0     35.9   \n",
       "2  4.3483  32.7      1       0      2.8  19.0         0.9    126.0     36.3   \n",
       "3  1.9909  31.8      0       0      NaN  17.0         1.4    114.0     26.4   \n",
       "4  1.0806  31.3      0       0      NaN  36.0         5.8    125.0     40.3   \n",
       "\n",
       "   LACTIC  PCO2A   PHA  PHD  PLATELETC  PO2A  SAO2  SODIUM  TBILIRUBIN   WBC  \\\n",
       "0     NaN    NaN   NaN  NaN      208.0   NaN   NaN   144.0         NaN  14.8   \n",
       "1     NaN    NaN   NaN  NaN      343.0   NaN   NaN   139.0         NaN   7.1   \n",
       "2     1.0   60.0  7.29  NaN      174.0  58.0  94.0   139.0         0.6  15.3   \n",
       "3     NaN    NaN   NaN  NaN       24.0   NaN   NaN   137.0         NaN   8.3   \n",
       "4     NaN    NaN   NaN  NaN      303.0   NaN   NaN   139.0         NaN  14.2   \n",
       "\n",
       "    FIO2    RR   SPO2  ABPD  ABPM   ABPS     HR  NBPD  NBPM   NBPS  TEMP  \\\n",
       "0    NaN  14.0  100.0  74.0  86.0  181.0   77.0  45.0  50.0   67.0  35.4   \n",
       "1   60.0  14.0   98.0   NaN   NaN    NaN   72.0  66.0  78.0  112.0  36.1   \n",
       "2  100.0  20.0   91.0   NaN   NaN    NaN   94.0  72.0  84.0  122.0  37.4   \n",
       "3    NaN  39.0   99.0   NaN   NaN    NaN  136.0  87.0  99.0  166.0  37.0   \n",
       "4    NaN  19.0   97.0   NaN   NaN    NaN   64.0  67.0  88.0  155.0  36.7   \n",
       "\n",
       "   PrevDays  INSMcaid  INSMcare  INSPvate  FCU_CCU  FCU_CSRU  FCU_MICU  \\\n",
       "0      2.67         0         1         0        0         0         0   \n",
       "1      0.00         0         1         0        1         0         0   \n",
       "2      1.81         0         1         0        0         0         1   \n",
       "3      0.00         0         1         0        0         0         1   \n",
       "4      0.00         0         1         0        0         0         1   \n",
       "\n",
       "   FCU_SICU  FCU_TSICU  GCS_E_None  GCS_ESpon  GCS_EPain  GCS_ESpch  \\\n",
       "0         1          0           0          1          0          0   \n",
       "1         0          0           1          0          0          0   \n",
       "2         0          0           0          1          0          0   \n",
       "3         0          0           0          1          0          0   \n",
       "4         0          0           0          1          0          0   \n",
       "\n",
       "   GCS_MAbFl  GCS_MAbex  GCS_MFlwd  GCS_MLoPa  GCS_MNore  GCS_MObCo  \\\n",
       "0          0          0          0          0          0          1   \n",
       "1          0          0          0          1          0          0   \n",
       "2          0          0          0          0          0          1   \n",
       "3          0          0          0          0          0          1   \n",
       "4          0          0          0          0          0          1   \n",
       "\n",
       "   GCS_VConf  GCS_VInWo  GCS_VInso  GCS_VNORe  GCS_VNRET  GCS_VOrie  \\\n",
       "0          0          0          0          0          0          1   \n",
       "1          0          0          0          0          1          0   \n",
       "2          0          0          0          0          0          1   \n",
       "3          0          0          0          0          0          1   \n",
       "4          0          0          0          0          0          1   \n",
       "\n",
       "   S_TEMP_Cold  S_TEMP_Cool  S_TEMP_Hot  S_TEMP_Warm  FW12  FW14  FW15  FW23  \\\n",
       "0            0            0           0            1     0     0     0     0   \n",
       "1            0            0           0            1     0     0     0     0   \n",
       "2            0            0           0            1     0     0     0     0   \n",
       "3            0            0           0            1     0     0     0     1   \n",
       "4            0            0           0            1     0     0     0     1   \n",
       "\n",
       "   FW33  FW50  FW52  FW57  FW7  hfail  carr  vdis  pcirc  pvasc  htens  \\\n",
       "0     0     0     0     1    0      0     0     1      0      0      1   \n",
       "1     0     0     0     0    1      1     1     0      0      0      0   \n",
       "2     0     0     1     0    0      0     0     0      1      0      1   \n",
       "3     0     0     0     0    0      0     1     1      0      0      0   \n",
       "4     0     0     0     0    0      1     0     0      0      0      1   \n",
       "\n",
       "   paralysis  oneur  chpul  dunc  dcom  hthy  rfail  ldis  pulc  aids  \\\n",
       "0          0      1      0     0     0     0      0     0     0     0   \n",
       "1          0      0      0     0     0     1      0     0     0     0   \n",
       "2          0      0      1     0     0     0      0     0     0     0   \n",
       "3          0      1      0     0     0     1      1     0     0     0   \n",
       "4          0      0      0     0     0     0      1     0     0     0   \n",
       "\n",
       "   lymphoma  mcancer  solid_tumor  rhart  coath  obesity  wlost  flele  blane  \\\n",
       "0         0        0            0      0      0        0      0      0      0   \n",
       "1         0        0            0      0      0        0      0      0      0   \n",
       "2         0        0            0      0      0        0      0      0      0   \n",
       "3         0        0            0      0      0        0      0      0      0   \n",
       "4         0        0            0      0      0        1      0      1      0   \n",
       "\n",
       "   defane  alch  drg  psychoses  depression  elixvw  elix29  elix30  apsiii  \\\n",
       "0       0     0    0          0           0      -1       0       0      31   \n",
       "1       0     0    0          0           0       0       0       0      33   \n",
       "2       0     0    0          0           0       7       8       8      27   \n",
       "3       0     0    0          0           1       7       6      15      47   \n",
       "4       1     0    0          0           0       6      14      15      43   \n",
       "\n",
       "   icu_flag  oasis   gcs      uo  surg  saps  sapsii  potass  bicsc  comsco  \\\n",
       "0         0     24  15.0  6445.0     0    19      39     0.0    0.0       0   \n",
       "1         0     40  14.0   875.0     0    21      36     0.0    0.0       0   \n",
       "2         0     23  15.0  2030.0     1    14      31     0.0    0.0       0   \n",
       "3         0     35  15.0  1650.0     0    19      34     0.0    3.0       0   \n",
       "4         0     23  15.0     NaN     0    21      42     3.0    0.0       0   \n",
       "\n",
       "   sofa  coagulation  liver  cardiovascular  cns  renal  \n",
       "0     1          0.0    NaN             1.0  0.0    0.0  \n",
       "1     3          0.0    NaN             1.0  1.0    1.0  \n",
       "2     5          1.0    NaN             1.0  0.0    0.0  \n",
       "3     5          3.0    NaN             1.0  0.0    1.0  \n",
       "4     5          0.0    NaN             1.0  0.0    4.0  "
      ]
     },
     "execution_count": 2,
     "metadata": {},
     "output_type": "execute_result"
    }
   ],
   "source": [
    "admissions=pd.read_csv('MAIN_DF_10.csv')\n",
    "admissions=admissions.drop(['Unnamed: 0'], axis=1)\n",
    "admissions=admissions.reset_index(drop=True)\n",
    "print(admissions.shape)\n",
    "print('unique SUBJECT_ID:', admissions.SUBJECT_ID.nunique())\n",
    "print('unique HADM_ID   :', admissions.HADM_ID.nunique())\n",
    "print('unique ICUSTAY_ID:', admissions.ICUSTAY_ID.nunique())\n",
    "admissions.head()"
   ]
  },
  {
   "cell_type": "code",
   "execution_count": 3,
   "metadata": {},
   "outputs": [
    {
     "data": {
      "text/plain": [
       "1-2    7883\n",
       "2-4    6156\n",
       "0-1    3873\n",
       ">6     2957\n",
       "4-6    2186\n",
       "Name: LOS_C, dtype: int64"
      ]
     },
     "execution_count": 3,
     "metadata": {},
     "output_type": "execute_result"
    }
   ],
   "source": [
    "admissions['LOS_C']=np.where((admissions['LOS']>0)&(admissions['LOS']<1), '0-1',\n",
    "                              np.where((admissions['LOS']>=1)&(admissions['LOS']<2), '1-2',\n",
    "                                  np.where((admissions['LOS']>=2)&(admissions['LOS']<4), '2-4',\n",
    "                                          np.where((admissions['LOS']>=4)&(admissions['LOS']<6), '4-6','>6'))))\n",
    "admissions['LOS_C'].value_counts()"
   ]
  },
  {
   "cell_type": "code",
   "execution_count": 4,
   "metadata": {},
   "outputs": [
    {
     "data": {
      "text/plain": [
       "1    17912\n",
       "0     5143\n",
       "Name: LOS_C, dtype: int64"
      ]
     },
     "execution_count": 4,
     "metadata": {},
     "output_type": "execute_result"
    }
   ],
   "source": [
    "admissions['LOS_C']=np.where(admissions['LOS_C']=='0-1', 1,\n",
    "                              np.where(admissions['LOS_C']=='1-2', 1,\n",
    "                                  np.where(admissions['LOS_C']=='2-4', 1,\n",
    "                                          np.where(admissions['LOS_C']=='4-6', 0,0))))\n",
    "admissions['LOS_C'].value_counts()"
   ]
  },
  {
   "cell_type": "code",
   "execution_count": 5,
   "metadata": {},
   "outputs": [
    {
     "data": {
      "text/plain": [
       "0.77692474517458254"
      ]
     },
     "execution_count": 5,
     "metadata": {},
     "output_type": "execute_result"
    }
   ],
   "source": [
    "admissions['LOS_C'].value_counts()[1]/admissions['LOS_C'].value_counts().sum()"
   ]
  },
  {
   "cell_type": "code",
   "execution_count": 6,
   "metadata": {},
   "outputs": [
    {
     "data": {
      "text/plain": [
       "SAO2              17081\n",
       "ALBUMIN           14559\n",
       "PHD               14115\n",
       "ABPM              13737\n",
       "ABPS              13731\n",
       "ABPD              13712\n",
       "TBILIRUBIN        12842\n",
       "liver             12090\n",
       "PCO2A             11549\n",
       "PO2A              11491\n",
       "PHA               11479\n",
       "FIO2              10948\n",
       "LACTIC            10837\n",
       "uo                  972\n",
       "gcs                 351\n",
       "cns                 351\n",
       "cardiovascular      307\n",
       "bicsc               225\n",
       "coagulation         203\n",
       "potass              124\n",
       "renal                38\n",
       "FCU_CCU               0\n",
       "TEMP                  0\n",
       "dtype: int64"
      ]
     },
     "execution_count": 6,
     "metadata": {},
     "output_type": "execute_result"
    }
   ],
   "source": [
    "admissions.isnull().sum().sort_values(ascending=False)[:23]"
   ]
  },
  {
   "cell_type": "code",
   "execution_count": 7,
   "metadata": {},
   "outputs": [
    {
     "data": {
      "text/plain": [
       "0.0    12866\n",
       "1.0     5109\n",
       "2.0     1916\n",
       "4.0     1619\n",
       "3.0     1507\n",
       "Name: renal, dtype: int64"
      ]
     },
     "execution_count": 7,
     "metadata": {},
     "output_type": "execute_result"
    }
   ],
   "source": [
    "admissions['renal'].value_counts()"
   ]
  },
  {
   "cell_type": "code",
   "execution_count": 8,
   "metadata": {},
   "outputs": [
    {
     "data": {
      "image/png": "[encoded data removed]",
      "text/plain": [
       "<matplotlib.figure.Figure at 0x7f45d8c43cc0>"
      ]
     },
     "metadata": {},
     "output_type": "display_data"
    }
   ],
   "source": [
    "admissions.plot.scatter(x='uo',y='LOS',alpha=0.10, s=10)\n",
    "#plt.xlim(-5, 80)\n",
    "plt.title('uo')\n",
    "plt.show()"
   ]
  },
  {
   "cell_type": "code",
   "execution_count": 9,
   "metadata": {
    "collapsed": true
   },
   "outputs": [],
   "source": [
    "admissions['uo']=admissions['uo'].mask(admissions['uo'].gt(7000))\n",
    "admissions['uo']=admissions['uo'].mask(admissions['uo'].lt(-50))"
   ]
  },
  {
   "cell_type": "code",
   "execution_count": 10,
   "metadata": {},
   "outputs": [
    {
     "data": {
      "image/png": "[encoded data removed]",
      "text/plain": [
       "<matplotlib.figure.Figure at 0x7f45a7eec470>"
      ]
     },
     "metadata": {},
     "output_type": "display_data"
    }
   ],
   "source": [
    "admissions.plot.scatter(x='uo',y='LOS',alpha=0.10, s=10)\n",
    "#plt.xlim(-5, 80)\n",
    "plt.title('uo')\n",
    "plt.show()"
   ]
  },
  {
   "cell_type": "code",
   "execution_count": 11,
   "metadata": {},
   "outputs": [
    {
     "data": {
      "text/plain": [
       "SAO2              17081\n",
       "ALBUMIN           14559\n",
       "PHD               14115\n",
       "ABPM              13737\n",
       "ABPS              13731\n",
       "ABPD              13712\n",
       "TBILIRUBIN        12842\n",
       "liver             12090\n",
       "PCO2A             11549\n",
       "PO2A              11491\n",
       "PHA               11479\n",
       "FIO2              10948\n",
       "LACTIC            10837\n",
       "uo                 1086\n",
       "gcs                 351\n",
       "cns                 351\n",
       "cardiovascular      307\n",
       "bicsc               225\n",
       "coagulation         203\n",
       "potass              124\n",
       "renal                38\n",
       "FCU_CCU               0\n",
       "TEMP                  0\n",
       "dtype: int64"
      ]
     },
     "execution_count": 11,
     "metadata": {},
     "output_type": "execute_result"
    }
   ],
   "source": [
    "admissions.isnull().sum().sort_values(ascending=False)[:23]"
   ]
  },
  {
   "cell_type": "code",
   "execution_count": 12,
   "metadata": {},
   "outputs": [
    {
     "data": {
      "text/plain": [
       "(23055, 125)"
      ]
     },
     "execution_count": 12,
     "metadata": {},
     "output_type": "execute_result"
    }
   ],
   "source": [
    "admissions=admissions.drop(['LOS'], axis=1)\n",
    "admissions.shape"
   ]
  },
  {
   "cell_type": "code",
   "execution_count": 13,
   "metadata": {},
   "outputs": [
    {
     "data": {
      "text/plain": [
       "(23055, 124)"
      ]
     },
     "execution_count": 13,
     "metadata": {},
     "output_type": "execute_result"
    }
   ],
   "source": [
    "admissions=admissions.drop(['icu_flag'], axis=1)\n",
    "admissions.shape"
   ]
  },
  {
   "cell_type": "code",
   "execution_count": 14,
   "metadata": {},
   "outputs": [
    {
     "data": {
      "text/plain": [
       "GENDER\n",
       "0    190.981058\n",
       "1    207.025496\n",
       "Name: PO2A, dtype: float64"
      ]
     },
     "execution_count": 14,
     "metadata": {},
     "output_type": "execute_result"
    }
   ],
   "source": [
    "admissions['PO2A'].groupby(admissions['GENDER']).mean()"
   ]
  },
  {
   "cell_type": "markdown",
   "metadata": {},
   "source": [
    "Better fill missing values by gender"
   ]
  },
  {
   "cell_type": "code",
   "execution_count": 15,
   "metadata": {
    "collapsed": true
   },
   "outputs": [],
   "source": [
    "admissions['SAO2'] = admissions['SAO2'].groupby(admissions['GENDER']).transform(\n",
    "    lambda x: x.fillna(np.round(x.mean(),2)))\n",
    "admissions['ALBUMIN'] = admissions['ALBUMIN'].groupby(admissions['GENDER']).transform(\n",
    "    lambda x: x.fillna(np.round(x.mean(),2)))\n",
    "admissions['PHD'] = admissions['PHD'].groupby(admissions['GENDER']).transform(\n",
    "    lambda x: x.fillna(np.round(x.mean(),2)))\n",
    "admissions['ABPM'] = admissions['ABPM'].groupby(admissions['GENDER']).transform(\n",
    "    lambda x: x.fillna(np.round(x.mean(),2)))\n",
    "admissions['ABPS'] = admissions['ABPS'].groupby(admissions['GENDER']).transform(\n",
    "    lambda x: x.fillna(np.round(x.mean(),2)))\n",
    "admissions['ABPD'] = admissions['ABPD'].groupby(admissions['GENDER']).transform(\n",
    "    lambda x: x.fillna(np.round(x.mean(),2)))\n",
    "admissions['TBILIRUBIN'] = admissions['TBILIRUBIN'].groupby(admissions['GENDER']).transform(\n",
    "    lambda x: x.fillna(np.round(x.mean(),2)))\n",
    "admissions['PCO2A'] = admissions['PCO2A'].groupby(admissions['GENDER']).transform(\n",
    "    lambda x: x.fillna(np.round(x.mean(),2)))\n",
    "admissions['PO2A'] = admissions['PO2A'].groupby(admissions['GENDER']).transform(\n",
    "    lambda x: x.fillna(np.round(x.mean(),2)))\n",
    "admissions['PHA'] = admissions['PHA'].groupby(admissions['GENDER']).transform(\n",
    "    lambda x: x.fillna(np.round(x.mean(),2)))\n",
    "admissions['FIO2'] = admissions['FIO2'].groupby(admissions['GENDER']).transform(\n",
    "    lambda x: x.fillna(np.round(x.mean(),2)))\n",
    "admissions['LACTIC'] = admissions['LACTIC'].groupby(admissions['GENDER']).transform(\n",
    "    lambda x: x.fillna(np.round(x.mean(),2)))\n",
    "admissions['liver'] = admissions['liver'].groupby(admissions['GENDER']).transform(\n",
    "    lambda x: x.fillna(np.round(x.mean(),2)))\n",
    "admissions['uo'] = admissions['uo'].groupby(admissions['GENDER']).transform(\n",
    "    lambda x: x.fillna(np.round(x.mean(),2)))\n",
    "admissions['gcs'] = admissions['gcs'].groupby(admissions['GENDER']).transform(\n",
    "    lambda x: x.fillna(np.round(x.mean(),2)))\n",
    "admissions['cns'] = admissions['cns'].groupby(admissions['GENDER']).transform(\n",
    "    lambda x: x.fillna(np.round(x.mean(),2)))\n",
    "admissions['cardiovascular'] = admissions['cardiovascular'].groupby(admissions['GENDER']).transform(\n",
    "    lambda x: x.fillna(np.round(x.mean(),2)))\n",
    "admissions['bicsc'] = admissions['bicsc'].groupby(admissions['GENDER']).transform(\n",
    "    lambda x: x.fillna(np.round(x.mean(),2)))\n",
    "admissions['coagulation'] = admissions['coagulation'].groupby(admissions['GENDER']).transform(\n",
    "    lambda x: x.fillna(np.round(x.mean(),2)))\n",
    "admissions['potass'] = admissions['potass'].groupby(admissions['GENDER']).transform(\n",
    "    lambda x: x.fillna(np.round(x.mean(),2)))\n",
    "admissions['renal'] = admissions['renal'].groupby(admissions['GENDER']).transform(\n",
    "    lambda x: x.fillna(np.round(x.mean(),2)))"
   ]
  },
  {
   "cell_type": "code",
   "execution_count": 16,
   "metadata": {
    "collapsed": true
   },
   "outputs": [],
   "source": [
    "#admissions=admissions.drop(['SAO2', 'ABPD', 'ABPS'], axis=1)\n",
    "#admissions.shape"
   ]
  },
  {
   "cell_type": "code",
   "execution_count": 17,
   "metadata": {},
   "outputs": [
    {
     "data": {
      "text/plain": [
       "(23055, 121)"
      ]
     },
     "execution_count": 17,
     "metadata": {},
     "output_type": "execute_result"
    }
   ],
   "source": [
    "admissions=admissions.drop(['SUBJECT_ID', 'HADM_ID', 'ICUSTAY_ID'], axis=1)\n",
    "admissions.shape"
   ]
  },
  {
   "cell_type": "code",
   "execution_count": 18,
   "metadata": {},
   "outputs": [
    {
     "data": {
      "text/plain": [
       "0"
      ]
     },
     "execution_count": 18,
     "metadata": {},
     "output_type": "execute_result"
    }
   ],
   "source": [
    "admissions.isnull().sum().sum()"
   ]
  },
  {
   "cell_type": "code",
   "execution_count": 19,
   "metadata": {
    "collapsed": true
   },
   "outputs": [],
   "source": [
    "data_final_vars=admissions.columns.values.tolist()\n",
    "z=['LOS_C']\n",
    "x=[i for i in data_final_vars if i not in z]\n",
    "data_final=admissions\n",
    "data_final.shape\n",
    "X=data_final[x]\n",
    "z=data_final[z]"
   ]
  },
  {
   "cell_type": "code",
   "execution_count": 20,
   "metadata": {
    "collapsed": true
   },
   "outputs": [],
   "source": [
    "from sklearn.preprocessing import StandardScaler\n",
    "sc = StandardScaler()\n",
    "X = sc.fit_transform(X)\n",
    "#y = sc.transform(y)"
   ]
  },
  {
   "cell_type": "code",
   "execution_count": 21,
   "metadata": {},
   "outputs": [
    {
     "name": "stdout",
     "output_type": "stream",
     "text": [
      "Warning: Maximum number of iterations has been exceeded.\n",
      "         Current function value: 0.589239\n",
      "         Iterations: 35\n"
     ]
    },
    {
     "name": "stderr",
     "output_type": "stream",
     "text": [
      "/home/jordi/anaconda3/lib/python3.6/site-packages/statsmodels/base/model.py:496: ConvergenceWarning: Maximum Likelihood optimization failed to converge. Check mle_retvals\n",
      "  \"Check mle_retvals\", ConvergenceWarning)\n"
     ]
    }
   ],
   "source": [
    "import statsmodels.api as sm\n",
    "logit_model=sm.Logit(z,X)\n",
    "result=logit_model.fit()\n",
    "#print(result.summary())"
   ]
  },
  {
   "cell_type": "code",
   "execution_count": 22,
   "metadata": {},
   "outputs": [
    {
     "name": "stderr",
     "output_type": "stream",
     "text": [
      "/home/jordi/anaconda3/lib/python3.6/site-packages/sklearn/cross_validation.py:41: DeprecationWarning: This module was deprecated in version 0.18 in favor of the model_selection module into which all the refactored classes and functions are moved. Also note that the interface of the new CV iterators are different from that of this module. This module will be removed in 0.20.\n",
      "  \"This module will be removed in 0.20.\", DeprecationWarning)\n"
     ]
    }
   ],
   "source": [
    "from sklearn.cross_validation import train_test_split\n",
    "from sklearn import preprocessing\n",
    "X_train, X_test, y_train, y_test = train_test_split(X, z, test_size=0.3, random_state=34)\n",
    "X_train = sc.fit_transform(X_train)\n",
    "X_test = sc.transform(X_test)"
   ]
  },
  {
   "cell_type": "markdown",
   "metadata": {},
   "source": [
    "# Logistic Regression"
   ]
  },
  {
   "cell_type": "code",
   "execution_count": 23,
   "metadata": {
    "collapsed": true
   },
   "outputs": [],
   "source": [
    "from sklearn import metrics\n",
    "from sklearn.model_selection import KFold, cross_val_score\n",
    "from sklearn.pipeline import make_pipeline\n",
    "from sklearn.linear_model import LogisticRegression\n",
    "from sklearn import datasets, linear_model\n",
    "from sklearn.model_selection import train_test_split"
   ]
  },
  {
   "cell_type": "code",
   "execution_count": 24,
   "metadata": {},
   "outputs": [
    {
     "data": {
      "text/plain": [
       "0.82579152811912682"
      ]
     },
     "execution_count": 24,
     "metadata": {},
     "output_type": "execute_result"
    }
   ],
   "source": [
    "logreg = LogisticRegression()\n",
    "model = logreg.fit(X_train, y_train)\n",
    "predictions = logreg.predict(X_test)\n",
    "model.score(X_test, y_test)"
   ]
  },
  {
   "cell_type": "code",
   "execution_count": 25,
   "metadata": {},
   "outputs": [
    {
     "data": {
      "text/plain": [
       "0.82550360937138423"
      ]
     },
     "execution_count": 25,
     "metadata": {},
     "output_type": "execute_result"
    }
   ],
   "source": [
    "standardizer = StandardScaler()\n",
    "logit = LogisticRegression()\n",
    "pipeline = make_pipeline(standardizer, logit)\n",
    "# Create k-Fold cross-validation\n",
    "kf = KFold(n_splits=10, shuffle=True, random_state=1)\n",
    "# Do k-fold cross-validation\n",
    "cv_results = cross_val_score(pipeline,X,z,cv=kf,\n",
    "                             scoring=\"accuracy\", # Loss function\n",
    "                             n_jobs=-1) # Use all CPU scores\n",
    "cv_results.mean()"
   ]
  },
  {
   "cell_type": "code",
   "execution_count": 26,
   "metadata": {},
   "outputs": [
    {
     "name": "stdout",
     "output_type": "stream",
     "text": [
      "Accuracy of logistic regression classifier on train set: 82.9409\n",
      "Accuracy of logistic regression classifier on test set: 82.5792\n"
     ]
    }
   ],
   "source": [
    "logreg = LogisticRegression()\n",
    "logreg.fit(X_train, y_train)\n",
    "y_pred = logreg.predict(X_test)\n",
    "actr=np.round(100*logreg.score(X_train, y_train),4)\n",
    "acte=np.round(100*logreg.score(X_test, y_test),4)\n",
    "print('Accuracy of logistic regression classifier on train set:', actr)\n",
    "print('Accuracy of logistic regression classifier on test set:', acte)"
   ]
  },
  {
   "cell_type": "code",
   "execution_count": 33,
   "metadata": {},
   "outputs": [
    {
     "name": "stdout",
     "output_type": "stream",
     "text": [
      "[[ 674  883]\n",
      " [ 322 5038]]\n"
     ]
    }
   ],
   "source": [
    "from sklearn.metrics import confusion_matrix\n",
    "confusion_matrix = confusion_matrix(y_test, y_pred)\n",
    "print(confusion_matrix)"
   ]
  },
  {
   "cell_type": "code",
   "execution_count": 39,
   "metadata": {
    "collapsed": true
   },
   "outputs": [],
   "source": [
    "cm = metrics.confusion_matrix(y_test, y_pred)\n",
    "score = np.round(logreg.score(X_test, y_test)*100,2)"
   ]
  },
  {
   "cell_type": "code",
   "execution_count": 40,
   "metadata": {},
   "outputs": [
    {
     "data": {
      "image/png": "[encoded data removed]",
      "text/plain": [
       "<matplotlib.figure.Figure at 0x7f4590cd8a58>"
      ]
     },
     "metadata": {},
     "output_type": "display_data"
    }
   ],
   "source": [
    "plt.figure(figsize=(6,6))\n",
    "sns.heatmap(cm, annot=True, fmt=\".0f\", linewidths=.5, square = True, cmap = 'Blues_r');\n",
    "plt.ylabel('Actual label');\n",
    "plt.xlabel('Predicted label');\n",
    "all_sample_title = 'Accuracy Score: {0}'.format(score)\n",
    "plt.title(all_sample_title, size = 15)\n",
    "plt.show()"
   ]
  },
  {
   "cell_type": "code",
   "execution_count": 41,
   "metadata": {
    "collapsed": true
   },
   "outputs": [],
   "source": [
    "cm = cm.astype('float') / cm.sum(axis=1)[:, np.newaxis]"
   ]
  },
  {
   "cell_type": "code",
   "execution_count": 42,
   "metadata": {},
   "outputs": [
    {
     "data": {
      "image/png": "[encoded data removed]",
      "text/plain": [
       "<matplotlib.figure.Figure at 0x7f459ac84dd8>"
      ]
     },
     "metadata": {},
     "output_type": "display_data"
    }
   ],
   "source": [
    "plt.figure(figsize=(6,6))\n",
    "sns.heatmap(cm, annot=True, fmt=\".4f\", linewidths=.5, square = True, cmap = 'Blues_r');\n",
    "plt.ylabel('Actual label');\n",
    "plt.xlabel('Predicted label');\n",
    "all_sample_title = 'Accuracy Score: {0}'.format(score)\n",
    "plt.title(all_sample_title, size = 15)\n",
    "plt.show()"
   ]
  },
  {
   "cell_type": "code",
   "execution_count": 43,
   "metadata": {},
   "outputs": [
    {
     "name": "stdout",
     "output_type": "stream",
     "text": [
      "             precision    recall  f1-score   support\n",
      "\n",
      "          0       0.68      0.43      0.53      1557\n",
      "          1       0.85      0.94      0.89      5360\n",
      "\n",
      "avg / total       0.81      0.83      0.81      6917\n",
      "\n"
     ]
    }
   ],
   "source": [
    "from sklearn.metrics import classification_report\n",
    "print(classification_report(y_test, y_pred))"
   ]
  },
  {
   "cell_type": "code",
   "execution_count": 44,
   "metadata": {},
   "outputs": [
    {
     "data": {
      "text/plain": [
       "array([1, 1, 1, ..., 1, 0, 1])"
      ]
     },
     "execution_count": 44,
     "metadata": {},
     "output_type": "execute_result"
    }
   ],
   "source": [
    "logreg.predict(X_test)"
   ]
  },
  {
   "cell_type": "code",
   "execution_count": 45,
   "metadata": {},
   "outputs": [
    {
     "data": {
      "text/plain": [
       "array([[ 0.11074963,  0.88925037],\n",
       "       [ 0.14736863,  0.85263137],\n",
       "       [ 0.14444351,  0.85555649],\n",
       "       ..., \n",
       "       [ 0.02182193,  0.97817807],\n",
       "       [ 0.70598548,  0.29401452],\n",
       "       [ 0.03113629,  0.96886371]])"
      ]
     },
     "execution_count": 45,
     "metadata": {},
     "output_type": "execute_result"
    }
   ],
   "source": [
    "logreg.predict_proba(X_test)"
   ]
  },
  {
   "cell_type": "code",
   "execution_count": 46,
   "metadata": {},
   "outputs": [
    {
     "data": {
      "text/plain": [
       "array([ 0.88925037,  0.85263137,  0.85555649, ...,  0.97817807,\n",
       "        0.29401452,  0.96886371])"
      ]
     },
     "execution_count": 46,
     "metadata": {},
     "output_type": "execute_result"
    }
   ],
   "source": [
    "logreg.predict_proba(X_test)[::,1]"
   ]
  },
  {
   "cell_type": "markdown",
   "metadata": {},
   "source": [
    "# Random Forest"
   ]
  },
  {
   "cell_type": "code",
   "execution_count": 47,
   "metadata": {},
   "outputs": [
    {
     "name": "stdout",
     "output_type": "stream",
     "text": [
      "Accuracy test: 81.9286\n",
      "Accuracy train: 99.3618\n"
     ]
    }
   ],
   "source": [
    "from sklearn.model_selection import RandomizedSearchCV\n",
    "from sklearn.ensemble import RandomForestClassifier\n",
    "\n",
    "clf=RandomForestClassifier(n_estimators=10, random_state = 42)\n",
    "clf.fit(X_train,y_train)\n",
    "y_pred=clf.predict(X_test)\n",
    "ttac=np.round(metrics.accuracy_score(y_test, y_pred)*100,4)\n",
    "trac=np.round(clf.score(X_train, y_train)*100,4)\n",
    "print(\"Accuracy test:\",ttac)\n",
    "print(\"Accuracy train:\",trac)"
   ]
  },
  {
   "cell_type": "code",
   "execution_count": 48,
   "metadata": {},
   "outputs": [
    {
     "name": "stdout",
     "output_type": "stream",
     "text": [
      "Accuracy test: 84.1984\n",
      "Accuracy train: 99.3618\n"
     ]
    }
   ],
   "source": [
    "clf1=RandomForestClassifier(n_estimators=100, random_state = 42)\n",
    "clf1.fit(X_train,y_train)\n",
    "y_pred=clf1.predict(X_test)\n",
    "print(\"Accuracy test:\",np.round(metrics.accuracy_score(y_test, y_pred)*100,4))\n",
    "print(\"Accuracy train:\",np.round(clf.score(X_train, y_train)*100,4))"
   ]
  },
  {
   "cell_type": "markdown",
   "metadata": {},
   "source": [
    "Put more trees is not the solution! OVERFITTING"
   ]
  },
  {
   "cell_type": "code",
   "execution_count": 49,
   "metadata": {},
   "outputs": [
    {
     "data": {
      "text/plain": [
       "0.84584758381285197"
      ]
     },
     "execution_count": 49,
     "metadata": {},
     "output_type": "execute_result"
    }
   ],
   "source": [
    "RFC = RandomForestClassifier(n_estimators=100)\n",
    "scores = cross_val_score(RFC, X, z, cv = 10, scoring='accuracy')\n",
    "scores.mean()"
   ]
  },
  {
   "cell_type": "code",
   "execution_count": 50,
   "metadata": {},
   "outputs": [
    {
     "data": {
      "text/plain": [
       "0.84516408847766378"
      ]
     },
     "execution_count": 50,
     "metadata": {},
     "output_type": "execute_result"
    }
   ],
   "source": [
    "RFC.fit(X_train,y_train)\n",
    "y_pred=RFC.predict(X_test)\n",
    "metrics.accuracy_score(y_test, y_pred)"
   ]
  },
  {
   "cell_type": "code",
   "execution_count": 51,
   "metadata": {},
   "outputs": [
    {
     "data": {
      "text/plain": [
       "1.0"
      ]
     },
     "execution_count": 51,
     "metadata": {},
     "output_type": "execute_result"
    }
   ],
   "source": [
    "RFC.score(X_train, y_train)"
   ]
  },
  {
   "cell_type": "code",
   "execution_count": 52,
   "metadata": {
    "collapsed": true
   },
   "outputs": [],
   "source": [
    "feature_imp = pd.Series(RFC.feature_importances_,index=x).sort_values(ascending=False)[:50]"
   ]
  },
  {
   "cell_type": "code",
   "execution_count": 53,
   "metadata": {},
   "outputs": [
    {
     "data": {
      "image/png": "[encoded data removed]",
      "text/plain": [
       "<matplotlib.figure.Figure at 0x7f45909ff240>"
      ]
     },
     "metadata": {},
     "output_type": "display_data"
    }
   ],
   "source": [
    "%matplotlib inline\n",
    "plt.figure(figsize=(5,12.5))\n",
    "# Creating a bar plot\n",
    "sns.barplot(x=feature_imp, y=feature_imp.index, color='steelblue')\n",
    "# Add labels to your graph\n",
    "plt.xlabel('Feature Importance Score')\n",
    "plt.ylabel('Features')\n",
    "plt.title('Visualizing 50 Most Important Features')\n",
    "plt.legend()\n",
    "plt.show()"
   ]
  },
  {
   "cell_type": "code",
   "execution_count": 54,
   "metadata": {},
   "outputs": [
    {
     "data": {
      "image/png": "[encoded data removed]",
      "text/plain": [
       "<matplotlib.figure.Figure at 0x7f4590864860>"
      ]
     },
     "metadata": {},
     "output_type": "display_data"
    }
   ],
   "source": [
    "importance = RFC.feature_importances_\n",
    "importance = pd.DataFrame(importance, index=x, columns=[\"Importance\"])\n",
    "importance[\"Std\"] = np.std([tree.feature_importances_\n",
    "                            for tree in RFC.estimators_], axis=0)\n",
    "x = range(importance.shape[0])\n",
    "y = importance.ix[:, 0]\n",
    "yerr = importance.ix[:, 1]\n",
    "plt.bar(x, y, yerr=yerr, align=\"center\")\n",
    "plt.show()"
   ]
  },
  {
   "cell_type": "code",
   "execution_count": 55,
   "metadata": {
    "collapsed": true
   },
   "outputs": [],
   "source": [
    "importance=importance.sort_values(by='Importance', ascending=False)"
   ]
  },
  {
   "cell_type": "code",
   "execution_count": 56,
   "metadata": {},
   "outputs": [
    {
     "data": {
      "image/png": "[encoded data removed]",
      "text/plain": [
       "<matplotlib.figure.Figure at 0x7f4590afe940>"
      ]
     },
     "metadata": {},
     "output_type": "display_data"
    }
   ],
   "source": [
    "plt.figure(figsize=(20,8))\n",
    "x = range(importance.shape[0])\n",
    "y = importance.ix[:, 0]\n",
    "yerr = importance.ix[:, 1]\n",
    "plt.bar(x, y, yerr=yerr, align=\"center\")\n",
    "LABELS = importance.index\n",
    "plt.xticks(x, LABELS, rotation='vertical')\n",
    "plt.ylabel('Feature Importance Score')\n",
    "#plt.margins(0.2)\n",
    "#plt.subplots_adjust(bottom=0.25)\n",
    "#plt.savefig('Rich11features.eps', format='eps', dpi=1200)\n",
    "plt.show()"
   ]
  },
  {
   "cell_type": "code",
   "execution_count": 57,
   "metadata": {},
   "outputs": [
    {
     "data": {
      "text/plain": [
       "(120, 2)"
      ]
     },
     "execution_count": 57,
     "metadata": {},
     "output_type": "execute_result"
    }
   ],
   "source": [
    "importance.shape"
   ]
  },
  {
   "cell_type": "code",
   "execution_count": 58,
   "metadata": {},
   "outputs": [
    {
     "data": {
      "text/plain": [
       "['I_VEN',\n",
       " 'PHD',\n",
       " 'PO2A',\n",
       " 'ALBUMIN',\n",
       " 'PCO2A',\n",
       " 'TBILIRUBIN',\n",
       " 'ABPS',\n",
       " 'oasis',\n",
       " 'ABPM',\n",
       " 'elix30',\n",
       " 'ABPD',\n",
       " 'PHA',\n",
       " 'SAO2',\n",
       " 'LACTIC',\n",
       " 'elix29',\n",
       " 'apsiii',\n",
       " 'sapsii',\n",
       " 'BMI',\n",
       " 'AGE_AD',\n",
       " 'HTOCRIT',\n",
       " 'saps',\n",
       " 'uo',\n",
       " 'GLUCOSE',\n",
       " 'PLATELETC',\n",
       " 'elixvw',\n",
       " 'FIO2',\n",
       " 'sofa',\n",
       " 'WBC',\n",
       " 'TEMP',\n",
       " 'HR',\n",
       " 'NBPS',\n",
       " 'NBPD',\n",
       " 'BUN',\n",
       " 'NBPM',\n",
       " 'RR',\n",
       " 'SODIUM',\n",
       " 'CREATININE',\n",
       " 'PrevDays',\n",
       " 'SPO2',\n",
       " 'cardiovascular',\n",
       " 'liver',\n",
       " 'gcs',\n",
       " 'flele',\n",
       " 'GCS_VNRET',\n",
       " 'renal',\n",
       " 'cns',\n",
       " 'NI_VEN',\n",
       " 'coagulation',\n",
       " 'GCS_VOrie',\n",
       " 'coath',\n",
       " 'FCU_CSRU',\n",
       " 'GCS_MObCo',\n",
       " 'hfail',\n",
       " 'carr',\n",
       " 'bicsc',\n",
       " 'GCS_ESpon',\n",
       " 'potass',\n",
       " 'defane',\n",
       " 'INSMcare',\n",
       " 'oneur',\n",
       " 'htens',\n",
       " 'chpul',\n",
       " 'pcirc',\n",
       " 'hthy',\n",
       " 'comsco',\n",
       " 'FCU_MICU',\n",
       " 'ETHNICITY',\n",
       " 'TYPE_AD',\n",
       " 'paralysis',\n",
       " 'INSPvate',\n",
       " 'vdis',\n",
       " 'dunc',\n",
       " 'GCS_E_None',\n",
       " 'wlost',\n",
       " 'GENDER',\n",
       " 'FW7',\n",
       " 'FCU_SICU',\n",
       " 'FCU_CCU',\n",
       " 'GCS_MNore',\n",
       " 'S_TEMP_Warm',\n",
       " 'FW33',\n",
       " 'FW14',\n",
       " 'FCU_TSICU',\n",
       " 'surg',\n",
       " 'rfail',\n",
       " 'S_TEMP_Cool',\n",
       " 'FW52',\n",
       " 'pvasc',\n",
       " 'depression',\n",
       " 'GCS_MFlwd',\n",
       " 'GCS_MLoPa',\n",
       " 'FW50',\n",
       " 'GCS_ESpch',\n",
       " 'alch',\n",
       " 'FW57',\n",
       " 'obesity',\n",
       " 'solid_tumor',\n",
       " 'FW15',\n",
       " 'FW23',\n",
       " 'INSMcaid',\n",
       " 'ldis',\n",
       " 'dcom',\n",
       " 'mcancer',\n",
       " 'psychoses',\n",
       " 'GCS_VConf',\n",
       " 'GCS_EPain',\n",
       " 'FW12',\n",
       " 'rhart',\n",
       " 'GCS_VNORe',\n",
       " 'drg',\n",
       " 'blane',\n",
       " 'GCS_VInso',\n",
       " 'lymphoma',\n",
       " 'S_TEMP_Hot',\n",
       " 'GCS_MAbex',\n",
       " 'aids',\n",
       " 'GCS_VInWo',\n",
       " 'GCS_MAbFl',\n",
       " 'S_TEMP_Cold',\n",
       " 'pulc']"
      ]
     },
     "execution_count": 58,
     "metadata": {},
     "output_type": "execute_result"
    }
   ],
   "source": [
    "list(importance.index)"
   ]
  },
  {
   "cell_type": "code",
   "execution_count": 59,
   "metadata": {
    "collapsed": true
   },
   "outputs": [],
   "source": [
    "importance=importance[importance['Importance']>0.004]"
   ]
  },
  {
   "cell_type": "code",
   "execution_count": 60,
   "metadata": {},
   "outputs": [
    {
     "data": {
      "text/plain": [
       "['I_VEN',\n",
       " 'PHD',\n",
       " 'PO2A',\n",
       " 'ALBUMIN',\n",
       " 'PCO2A',\n",
       " 'TBILIRUBIN',\n",
       " 'ABPS',\n",
       " 'oasis',\n",
       " 'ABPM',\n",
       " 'elix30',\n",
       " 'ABPD',\n",
       " 'PHA',\n",
       " 'SAO2',\n",
       " 'LACTIC',\n",
       " 'elix29',\n",
       " 'apsiii',\n",
       " 'sapsii',\n",
       " 'BMI',\n",
       " 'AGE_AD',\n",
       " 'HTOCRIT',\n",
       " 'saps',\n",
       " 'uo',\n",
       " 'GLUCOSE',\n",
       " 'PLATELETC',\n",
       " 'elixvw',\n",
       " 'FIO2',\n",
       " 'sofa',\n",
       " 'WBC',\n",
       " 'TEMP',\n",
       " 'HR',\n",
       " 'NBPS',\n",
       " 'NBPD',\n",
       " 'BUN',\n",
       " 'NBPM',\n",
       " 'RR',\n",
       " 'SODIUM',\n",
       " 'CREATININE',\n",
       " 'PrevDays',\n",
       " 'SPO2',\n",
       " 'cardiovascular',\n",
       " 'liver',\n",
       " 'gcs',\n",
       " 'flele',\n",
       " 'GCS_VNRET',\n",
       " 'renal',\n",
       " 'cns',\n",
       " 'NI_VEN',\n",
       " 'coagulation']"
      ]
     },
     "execution_count": 60,
     "metadata": {},
     "output_type": "execute_result"
    }
   ],
   "source": [
    "list(importance.index)"
   ]
  },
  {
   "cell_type": "code",
   "execution_count": 61,
   "metadata": {},
   "outputs": [
    {
     "data": {
      "text/plain": [
       "(23055, 48)"
      ]
     },
     "execution_count": 61,
     "metadata": {},
     "output_type": "execute_result"
    }
   ],
   "source": [
    "admissions=admissions[list(importance.index)]\n",
    "admissions.shape"
   ]
  },
  {
   "cell_type": "code",
   "execution_count": 62,
   "metadata": {
    "collapsed": true
   },
   "outputs": [],
   "source": [
    "data_final_vars=admissions.columns.values.tolist()\n",
    "#y=['LOS_C']\n",
    "x=data_final_vars\n",
    "data_final=admissions\n",
    "data_final.shape\n",
    "X=data_final[x]\n",
    "#y=data_final[y]"
   ]
  },
  {
   "cell_type": "code",
   "execution_count": 63,
   "metadata": {
    "collapsed": true
   },
   "outputs": [],
   "source": [
    "from sklearn.preprocessing import StandardScaler\n",
    "sc = StandardScaler()\n",
    "X = sc.fit_transform(X)\n",
    "#y = sc.transform(y)"
   ]
  },
  {
   "cell_type": "markdown",
   "metadata": {},
   "source": [
    "# Random Forest Classifier"
   ]
  },
  {
   "cell_type": "code",
   "execution_count": 110,
   "metadata": {
    "collapsed": true
   },
   "outputs": [],
   "source": [
    "from sklearn.model_selection import cross_val_predict\n",
    "predicted = cross_val_predict(RFC, X, z, cv=10, method='predict_proba')\n",
    "predicted1 = cross_val_predict(RFC, X, z, cv=10)\n",
    "acrff=np.round(metrics.accuracy_score(z, predicted1)*100,4) "
   ]
  },
  {
   "cell_type": "code",
   "execution_count": 111,
   "metadata": {},
   "outputs": [
    {
     "data": {
      "text/plain": [
       "84.923000000000002"
      ]
     },
     "execution_count": 111,
     "metadata": {},
     "output_type": "execute_result"
    }
   ],
   "source": [
    "acrff"
   ]
  },
  {
   "cell_type": "code",
   "execution_count": 112,
   "metadata": {},
   "outputs": [
    {
     "data": {
      "image/png": "[encoded data removed]",
      "text/plain": [
       "<matplotlib.figure.Figure at 0x7f45347f0a90>"
      ]
     },
     "metadata": {},
     "output_type": "display_data"
    }
   ],
   "source": [
    "plt.figure(figsize=(20,8))\n",
    "x = range(importance.shape[0])\n",
    "y = importance.ix[:, 0]\n",
    "yerr = importance.ix[:, 1]\n",
    "plt.bar(x, y, yerr=yerr, align=\"center\")\n",
    "LABELS = importance.index\n",
    "plt.xticks(x, LABELS, rotation='vertical')\n",
    "plt.ylabel('Feature Importance Score')\n",
    "#plt.margins(0.2)\n",
    "#plt.subplots_adjust(bottom=0.25)\n",
    "#plt.savefig('Rich12features_F_extraction.eps', format='eps', dpi=1200)\n",
    "plt.show()"
   ]
  },
  {
   "cell_type": "markdown",
   "metadata": {},
   "source": [
    "# Log Reg"
   ]
  },
  {
   "cell_type": "code",
   "execution_count": 66,
   "metadata": {
    "collapsed": true
   },
   "outputs": [],
   "source": [
    "logreg = LogisticRegression()\n",
    "pp = cross_val_predict(logreg, X, z, cv=10, method='predict_proba')\n",
    "pp1= cross_val_predict(logreg, X, z, cv=10)\n",
    "mmmm=np.round(metrics.accuracy_score(z, pp1)*100,4)"
   ]
  },
  {
   "cell_type": "markdown",
   "metadata": {
    "collapsed": true
   },
   "source": [
    "# Neural Networks"
   ]
  },
  {
   "cell_type": "code",
   "execution_count": 113,
   "metadata": {},
   "outputs": [
    {
     "data": {
      "text/plain": [
       "(23055, 48)"
      ]
     },
     "execution_count": 113,
     "metadata": {},
     "output_type": "execute_result"
    }
   ],
   "source": [
    "X.shape"
   ]
  },
  {
   "cell_type": "code",
   "execution_count": 114,
   "metadata": {},
   "outputs": [],
   "source": [
    "from keras import models\n",
    "from keras import layers\n",
    "from keras.wrappers.scikit_learn import KerasClassifier\n",
    "from sklearn.model_selection import cross_val_score\n",
    "from sklearn.datasets import make_classification\n",
    "import keras\n",
    "from keras.models import Sequential\n",
    "from keras.layers import Dense, Dropout\n",
    "np.random.seed(0)"
   ]
  },
  {
   "cell_type": "code",
   "execution_count": 115,
   "metadata": {
    "collapsed": true
   },
   "outputs": [],
   "source": [
    "def create_network():\n",
    "    \n",
    "    model = Sequential()\n",
    "    model.add(Dense(64, input_dim=48, activation='relu'))\n",
    "    model.add(Dropout(0.5))\n",
    "    model.add(Dense(64, activation='relu'))\n",
    "    model.add(Dropout(0.5))\n",
    "    model.add(Dense(1, activation='sigmoid'))\n",
    "    model.compile(loss='binary_crossentropy',\n",
    "              optimizer='rmsprop',\n",
    "              metrics=['accuracy'])\n",
    "    \n",
    "    return model"
   ]
  },
  {
   "cell_type": "code",
   "execution_count": 116,
   "metadata": {
    "collapsed": true
   },
   "outputs": [],
   "source": [
    "neural_network = KerasClassifier(build_fn=create_network, \n",
    "                                 epochs=25, \n",
    "                                 batch_size=100, \n",
    "                                 verbose=0)"
   ]
  },
  {
   "cell_type": "code",
   "execution_count": 117,
   "metadata": {},
   "outputs": [
    {
     "data": {
      "text/plain": [
       "0.83669504763326119"
      ]
     },
     "execution_count": 117,
     "metadata": {},
     "output_type": "execute_result"
    }
   ],
   "source": [
    "np.mean(cross_val_score(neural_network, X, z, cv=10))"
   ]
  },
  {
   "cell_type": "code",
   "execution_count": 124,
   "metadata": {
    "collapsed": true
   },
   "outputs": [],
   "source": [
    "nn = cross_val_predict(neural_network, X, z, cv=10, method='predict_proba')\n",
    "nn1 = cross_val_predict(neural_network, X, z, cv=10)\n",
    "nnnn=np.round(metrics.accuracy_score(z, nn1)*100,4)"
   ]
  },
  {
   "cell_type": "code",
   "execution_count": 125,
   "metadata": {},
   "outputs": [
    {
     "data": {
      "text/plain": [
       "83.652100000000004"
      ]
     },
     "execution_count": 125,
     "metadata": {},
     "output_type": "execute_result"
    }
   ],
   "source": [
    "nnnn"
   ]
  },
  {
   "cell_type": "markdown",
   "metadata": {},
   "source": [
    "# KNeighbors Classifier"
   ]
  },
  {
   "cell_type": "code",
   "execution_count": 73,
   "metadata": {
    "collapsed": true
   },
   "outputs": [],
   "source": [
    "from sklearn.neighbors import KNeighborsClassifier"
   ]
  },
  {
   "cell_type": "code",
   "execution_count": 74,
   "metadata": {
    "collapsed": true
   },
   "outputs": [],
   "source": [
    "kn=KNeighborsClassifier(n_neighbors=8)\n",
    "kkk = cross_val_predict(kn, X, z, cv=10, method='predict_proba')\n",
    "kkk1= cross_val_predict(kn, X, z, cv=10)\n",
    "kkkk=np.round(metrics.accuracy_score(z, kkk1)*100,4)"
   ]
  },
  {
   "cell_type": "markdown",
   "metadata": {
    "collapsed": true
   },
   "source": [
    "# Results"
   ]
  },
  {
   "cell_type": "code",
   "execution_count": 127,
   "metadata": {},
   "outputs": [
    {
     "data": {
      "image/png": "[encoded data removed]",
      "text/plain": [
       "<matplotlib.figure.Figure at 0x7f451077c358>"
      ]
     },
     "metadata": {},
     "output_type": "display_data"
    }
   ],
   "source": [
    "from sklearn.metrics import classification_report,confusion_matrix,auc,precision_recall_curve\n",
    "from sklearn.metrics import roc_auc_score\n",
    "from sklearn.metrics import roc_curve\n",
    "fig = plt.figure(figsize=(15,8))\n",
    "ax1 = fig.add_subplot(1,2,1)\n",
    "ax1.set_xlim([-0.025,1])\n",
    "ax1.set_ylim([0,1.025])\n",
    "ax1.set_xlabel('Recall')\n",
    "ax1.set_ylabel('Precision')\n",
    "ax1.set_title('PR Curve')\n",
    "\n",
    "ax2 = fig.add_subplot(1,2,2)\n",
    "ax2.plot([0, 1], [0, 1], color='navy', linestyle='--')\n",
    "ax2.set_xlim([-0.025,1])\n",
    "ax2.set_ylim([0,1.025])\n",
    "ax2.set_xlabel('False Positive Rate')\n",
    "ax2.set_ylabel('True Positive Rate')\n",
    "ax2.set_title('ROC Curve')\n",
    "\n",
    "#y_pred_proba=best_grid.predict(X_test)\n",
    "y_pred_proba=predicted[::,1]\n",
    "fpr, tpr, _ = metrics.roc_curve(z,  y_pred_proba)\n",
    "p,r,_ = precision_recall_curve(z,y_pred_proba)\n",
    "auc = np.round(metrics.roc_auc_score(z, y_pred_proba),6)\n",
    "ax2.plot(fpr,tpr,label=\"RF, AUC=\"+str(auc)+\", AC=\"+str(acrff),color='black')\n",
    "ax1.plot(r,p,label='RF',color='black')\n",
    "#plt.legend(loc=4)\n",
    "\n",
    "#y_pred_proba = model.predict_proba(X_test)\n",
    "y_pred_proba=nn[::,1]\n",
    "fpr, tpr, _ = metrics.roc_curve(z,  y_pred_proba)\n",
    "p,r,_ = precision_recall_curve(z,y_pred_proba)\n",
    "auc = np.round(metrics.roc_auc_score(z, y_pred_proba),6)\n",
    "ax2.plot(fpr,tpr,label=\"NN, AUC=\"+str(auc)+\", AC=\"+str(nnnn),color='darkorange')\n",
    "ax1.plot(r,p,label='NN',color='darkorange')\n",
    "#ax2.legend(loc=4)\n",
    "\n",
    "for w,k in zip([1],'bgrcmykw'):\n",
    "    #lr_model = LogisticRegression(class_weight={0:1,1:w})\n",
    "    #lr_model.fit(X_train,y_train)\n",
    "    #pred_prob = lr_model.predict_proba(X_test)[:,1]\n",
    "    #pred_prob = logreg.predict_proba(X_test)[::,1]\n",
    "    pred_prob=pp[::,1]\n",
    "    p,r,_ = precision_recall_curve(z,pred_prob)\n",
    "    tpr,fpr,_ = roc_curve(z,pred_prob)\n",
    "    auc = np.round(metrics.roc_auc_score(z, pred_prob),6)\n",
    "    ax1.plot(r,p,c=k,label='LR')\n",
    "    ax2.plot(tpr,fpr,c=k,label='LR, AUC='+str(auc)+\", AC=\"+str(mmmm))\n",
    "\n",
    "#y_pred_proba=svclassifier.predict_proba(X_test)[:,1]\n",
    "y_pred_proba=kkk[::,1]\n",
    "fpr, tpr, _ = metrics.roc_curve(z,  y_pred_proba)\n",
    "p,r,_ = precision_recall_curve(z,y_pred_proba)\n",
    "auc = np.round(metrics.roc_auc_score(z, y_pred_proba),6)\n",
    "ax2.plot(fpr,tpr,label=\"KN, AUC=\"+str(auc)+\", AC=\"+str(kkkk),color='red')\n",
    "ax1.plot(r,p,label='KN',color='red')\n",
    "#plt.legend(loc=4)\n",
    "\n",
    "ax1.legend(loc='lower right')    \n",
    "ax2.legend(loc='lower right')\n",
    "plt.savefig('Rich12roc_F_extraction.eps', format='eps', dpi=1200)\n",
    "plt.show()"
   ]
  },
  {
   "cell_type": "markdown",
   "metadata": {
    "collapsed": true
   },
   "source": [
    "# Missclassification costs"
   ]
  },
  {
   "cell_type": "code",
   "execution_count": 139,
   "metadata": {
    "collapsed": true
   },
   "outputs": [],
   "source": [
    "from sklearn.metrics import precision_score, recall_score\n",
    "#y_scores = cross_val_predict(RFC, X, y, cv=10, method='predict_proba')\n",
    "y_scores = predicted\n",
    "precisions, recalls, thresholds = precision_recall_curve(z, y_scores[::,1])"
   ]
  },
  {
   "cell_type": "code",
   "execution_count": 140,
   "metadata": {
    "collapsed": true
   },
   "outputs": [],
   "source": [
    "def plot_precision_recall_vs_threshold(precisions, recalls, thresholds):\n",
    "    plt.figure(figsize=(8,5))\n",
    "    plt.plot(thresholds, precisions[:-1], \"b--\", label=\"Precision\")\n",
    "    plt.plot(thresholds, recalls[:-1], \"g-\", label=\"Recall\")\n",
    "    plt.xlabel(\"Threshold\")\n",
    "    plt.legend(loc=\"lower left\")\n",
    "    plt.ylim([0, 1.05])\n",
    "    plt.xlim([0.12, 1.03])"
   ]
  },
  {
   "cell_type": "code",
   "execution_count": 141,
   "metadata": {},
   "outputs": [
    {
     "data": {
      "image/png": "[encoded data removed]",
      "text/plain": [
       "<matplotlib.figure.Figure at 0x7f4510106710>"
      ]
     },
     "metadata": {},
     "output_type": "display_data"
    }
   ],
   "source": [
    "plot_precision_recall_vs_threshold(precisions, recalls, thresholds)\n",
    "plt.savefig('pr2.eps', format='eps', dpi=1200)\n",
    "plt.show()"
   ]
  },
  {
   "cell_type": "code",
   "execution_count": 142,
   "metadata": {
    "collapsed": true
   },
   "outputs": [],
   "source": [
    "y_scores1=(y_scores[::,1]>0.5)"
   ]
  },
  {
   "cell_type": "code",
   "execution_count": 143,
   "metadata": {},
   "outputs": [
    {
     "data": {
      "text/plain": [
       "0.86610367807905586"
      ]
     },
     "execution_count": 143,
     "metadata": {},
     "output_type": "execute_result"
    }
   ],
   "source": [
    "precision_score(z, y_scores1)"
   ]
  },
  {
   "cell_type": "code",
   "execution_count": 144,
   "metadata": {},
   "outputs": [
    {
     "data": {
      "text/plain": [
       "0.95048012505582846"
      ]
     },
     "execution_count": 144,
     "metadata": {},
     "output_type": "execute_result"
    }
   ],
   "source": [
    "recall_score(z, y_scores1)"
   ]
  },
  {
   "cell_type": "code",
   "execution_count": 145,
   "metadata": {},
   "outputs": [
    {
     "data": {
      "text/plain": [
       "84.736500000000007"
      ]
     },
     "execution_count": 145,
     "metadata": {},
     "output_type": "execute_result"
    }
   ],
   "source": [
    "np.round(metrics.accuracy_score(z, y_scores1)*100,4)"
   ]
  },
  {
   "cell_type": "code",
   "execution_count": 150,
   "metadata": {
    "collapsed": true
   },
   "outputs": [],
   "source": [
    "cm = metrics.confusion_matrix(z, predicted1)\n",
    "cm = cm.astype('float') / cm.sum(axis=1)[:, np.newaxis]\n",
    "#score = np.round(metrics.accuracy_score(z, y_scores1)*100,4)\n",
    "score = np.round(metrics.accuracy_score(z, predicted1)*100,2)"
   ]
  },
  {
   "cell_type": "code",
   "execution_count": 151,
   "metadata": {},
   "outputs": [
    {
     "data": {
      "image/png": "[encoded data removed]",
      "text/plain": [
       "<matplotlib.figure.Figure at 0x7f450fd77da0>"
      ]
     },
     "metadata": {},
     "output_type": "display_data"
    }
   ],
   "source": [
    "plt.figure(figsize=(6,6))\n",
    "sns.heatmap(cm, annot=True, fmt=\".4f\", linewidths=.5, square = True, cmap = 'Blues_r');\n",
    "plt.ylabel('Actual label');\n",
    "plt.xlabel('Predicted label');\n",
    "all_sample_title = 'Accuracy Score: {0}'.format(score)\n",
    "plt.title(all_sample_title, size = 15)\n",
    "plt.savefig('confm1n.eps', format='eps', dpi=1200)\n",
    "plt.show()"
   ]
  },
  {
   "cell_type": "code",
   "execution_count": 152,
   "metadata": {},
   "outputs": [
    {
     "name": "stdout",
     "output_type": "stream",
     "text": [
      "             precision    recall  f1-score   support\n",
      "\n",
      "          0       0.74      0.50      0.60      5143\n",
      "          1       0.87      0.95      0.91     17912\n",
      "\n",
      "avg / total       0.84      0.85      0.84     23055\n",
      "\n"
     ]
    }
   ],
   "source": [
    "from sklearn.metrics import classification_report\n",
    "#print(classification_report(z, y_scores1))\n",
    "print(classification_report(z, predicted1))"
   ]
  },
  {
   "cell_type": "code",
   "execution_count": 153,
   "metadata": {
    "collapsed": true
   },
   "outputs": [],
   "source": [
    "y_pred_80=(y_scores[::,1]>0.80)"
   ]
  },
  {
   "cell_type": "code",
   "execution_count": 154,
   "metadata": {},
   "outputs": [
    {
     "data": {
      "text/plain": [
       "0.94341650671785027"
      ]
     },
     "execution_count": 154,
     "metadata": {},
     "output_type": "execute_result"
    }
   ],
   "source": [
    "precision_score(z, y_pred_80)"
   ]
  },
  {
   "cell_type": "code",
   "execution_count": 155,
   "metadata": {},
   "outputs": [
    {
     "data": {
      "text/plain": [
       "0.68602054488610986"
      ]
     },
     "execution_count": 155,
     "metadata": {},
     "output_type": "execute_result"
    }
   ],
   "source": [
    "recall_score(z, y_pred_80)"
   ]
  },
  {
   "cell_type": "code",
   "execution_count": 162,
   "metadata": {
    "collapsed": true
   },
   "outputs": [],
   "source": [
    "cm = metrics.confusion_matrix(z, y_pred_80)\n",
    "cm = cm.astype('float') / cm.sum(axis=1)[:, np.newaxis]\n",
    "score = np.round(metrics.accuracy_score(z, y_pred_80)*100,2)"
   ]
  },
  {
   "cell_type": "code",
   "execution_count": 163,
   "metadata": {},
   "outputs": [
    {
     "data": {
      "image/png": "[encoded data removed]",
      "text/plain": [
       "<matplotlib.figure.Figure at 0x7f450f994eb8>"
      ]
     },
     "metadata": {},
     "output_type": "display_data"
    }
   ],
   "source": [
    "plt.figure(figsize=(6,6))\n",
    "sns.heatmap(cm, annot=True, fmt=\".4f\", linewidths=.5, square = True, cmap = 'Blues_r');\n",
    "plt.ylabel('Actual label');\n",
    "plt.xlabel('Predicted label');\n",
    "all_sample_title = 'Accuracy Score: {0}'.format(score)\n",
    "plt.title(all_sample_title, size = 15)\n",
    "plt.savefig('cm2_80n.eps', format='eps', dpi=1200)\n",
    "plt.show()"
   ]
  },
  {
   "cell_type": "code",
   "execution_count": 164,
   "metadata": {},
   "outputs": [
    {
     "name": "stdout",
     "output_type": "stream",
     "text": [
      "             precision    recall  f1-score   support\n",
      "\n",
      "          0       0.44      0.86      0.58      5143\n",
      "          1       0.94      0.69      0.79     17912\n",
      "\n",
      "avg / total       0.83      0.72      0.75     23055\n",
      "\n"
     ]
    }
   ],
   "source": [
    "from sklearn.metrics import classification_report\n",
    "#print(classification_report(z, y_scores1))\n",
    "print(classification_report(z, y_pred_80))"
   ]
  },
  {
   "cell_type": "code",
   "execution_count": 165,
   "metadata": {
    "collapsed": true
   },
   "outputs": [],
   "source": [
    "y_pred_90=(y_scores[::,1]>0.90)"
   ]
  },
  {
   "cell_type": "code",
   "execution_count": 166,
   "metadata": {},
   "outputs": [
    {
     "data": {
      "text/plain": [
       "0.96468041472029165"
      ]
     },
     "execution_count": 166,
     "metadata": {},
     "output_type": "execute_result"
    }
   ],
   "source": [
    "precision_score(z, y_pred_90)"
   ]
  },
  {
   "cell_type": "code",
   "execution_count": 167,
   "metadata": {},
   "outputs": [
    {
     "data": {
      "text/plain": [
       "0.47269986601161235"
      ]
     },
     "execution_count": 167,
     "metadata": {},
     "output_type": "execute_result"
    }
   ],
   "source": [
    "recall_score(z, y_pred_90)"
   ]
  },
  {
   "cell_type": "code",
   "execution_count": 170,
   "metadata": {
    "collapsed": true
   },
   "outputs": [],
   "source": [
    "cm = metrics.confusion_matrix(z, y_pred_90)\n",
    "cm = cm.astype('float') / cm.sum(axis=1)[:, np.newaxis]\n",
    "score = np.round(metrics.accuracy_score(z, y_pred_90)*100,2)"
   ]
  },
  {
   "cell_type": "code",
   "execution_count": 171,
   "metadata": {},
   "outputs": [
    {
     "data": {
      "image/png": "[encoded data removed]",
      "text/plain": [
       "<matplotlib.figure.Figure at 0x7f450f81ceb8>"
      ]
     },
     "metadata": {},
     "output_type": "display_data"
    }
   ],
   "source": [
    "plt.figure(figsize=(6,6))\n",
    "sns.heatmap(cm, annot=True, fmt=\".4f\", linewidths=.5, square = True, cmap = 'Blues_r');\n",
    "plt.ylabel('Actual label');\n",
    "plt.xlabel('Predicted label');\n",
    "all_sample_title = 'Accuracy Score: {0}'.format(score)\n",
    "plt.title(all_sample_title, size = 15)\n",
    "plt.savefig('cm2_90n.eps', format='eps', dpi=1200)\n",
    "plt.show()"
   ]
  },
  {
   "cell_type": "code",
   "execution_count": 172,
   "metadata": {},
   "outputs": [
    {
     "name": "stdout",
     "output_type": "stream",
     "text": [
      "             precision    recall  f1-score   support\n",
      "\n",
      "          0       0.34      0.94      0.50      5143\n",
      "          1       0.96      0.47      0.63     17912\n",
      "\n",
      "avg / total       0.82      0.58      0.60     23055\n",
      "\n"
     ]
    }
   ],
   "source": [
    "from sklearn.metrics import classification_report\n",
    "#print(classification_report(z, y_scores1))\n",
    "print(classification_report(z, y_pred_90))"
   ]
  },
  {
   "cell_type": "code",
   "execution_count": null,
   "metadata": {
    "collapsed": true
   },
   "outputs": [],
   "source": []
  },
  {
   "cell_type": "code",
   "execution_count": null,
   "metadata": {
    "collapsed": true
   },
   "outputs": [],
   "source": []
  }
 ],
 "metadata": {
  "kernelspec": {
   "display_name": "Python 3",
   "language": "python",
   "name": "python3"
  },
  "language_info": {
   "codemirror_mode": {
    "name": "ipython",
    "version": 3
   },
   "file_extension": ".py",
   "mimetype": "text/x-python",
   "name": "python",
   "nbconvert_exporter": "python",
   "pygments_lexer": "ipython3",
   "version": "3.6.1"
  }
 },
 "nbformat": 4,
 "nbformat_minor": 2
}
