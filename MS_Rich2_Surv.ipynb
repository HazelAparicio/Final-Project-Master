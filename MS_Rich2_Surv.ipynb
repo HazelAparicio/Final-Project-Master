{
 "cells": [
  {
   "cell_type": "markdown",
   "metadata": {},
   "source": [
    "# MS_Rich2_Surv"
   ]
  },
  {
   "cell_type": "code",
   "execution_count": 51,
   "metadata": {
    "collapsed": true
   },
   "outputs": [],
   "source": [
    "#%matplotlib inline\n",
    "import warnings\n",
    "warnings.filterwarnings('ignore')\n",
    "import pandas as pd\n",
    "from pandas import DataFrame\n",
    "from IPython.display import display\n",
    "import numpy as np\n",
    "pd.options.display.max_columns = None\n",
    "pd.options.display.max_rows = 200\n",
    "import matplotlib.pyplot as plt\n",
    "import scipy.stats as stats\n",
    "import pylab\n",
    "from sklearn.svm import SVR\n",
    "plt.rc(\"font\", size=14)\n",
    "import seaborn as sns\n",
    "sns.set(style=\"white\")\n",
    "sns.set(style=\"whitegrid\", color_codes=True)\n",
    "from pylab import *\n",
    "matplotlib.style.use('ggplot')"
   ]
  },
  {
   "cell_type": "code",
   "execution_count": 52,
   "metadata": {},
   "outputs": [
    {
     "name": "stdout",
     "output_type": "stream",
     "text": [
      "(23055, 125)\n",
      "unique SUBJECT_ID: 17469\n",
      "unique HADM_ID   : 21650\n",
      "unique ICUSTAY_ID: 23055\n"
     ]
    },
    {
     "data": {
      "text/html": [
       "<div>\n",
       "<style scoped>\n",
       "    .dataframe tbody tr th:only-of-type {\n",
       "        vertical-align: middle;\n",
       "    }\n",
       "\n",
       "    .dataframe tbody tr th {\n",
       "        vertical-align: top;\n",
       "    }\n",
       "\n",
       "    .dataframe thead th {\n",
       "        text-align: right;\n",
       "    }\n",
       "</style>\n",
       "<table border=\"1\" class=\"dataframe\">\n",
       "  <thead>\n",
       "    <tr style=\"text-align: right;\">\n",
       "      <th></th>\n",
       "      <th>SUBJECT_ID</th>\n",
       "      <th>HADM_ID</th>\n",
       "      <th>ICUSTAY_ID</th>\n",
       "      <th>GENDER</th>\n",
       "      <th>AGE_AD</th>\n",
       "      <th>TYPE_AD</th>\n",
       "      <th>ETHNICITY</th>\n",
       "      <th>LOS</th>\n",
       "      <th>BMI</th>\n",
       "      <th>I_VEN</th>\n",
       "      <th>NI_VEN</th>\n",
       "      <th>ALBUMIN</th>\n",
       "      <th>BUN</th>\n",
       "      <th>CREATININE</th>\n",
       "      <th>GLUCOSE</th>\n",
       "      <th>HTOCRIT</th>\n",
       "      <th>LACTIC</th>\n",
       "      <th>PCO2A</th>\n",
       "      <th>PHA</th>\n",
       "      <th>PHD</th>\n",
       "      <th>PLATELETC</th>\n",
       "      <th>PO2A</th>\n",
       "      <th>SAO2</th>\n",
       "      <th>SODIUM</th>\n",
       "      <th>TBILIRUBIN</th>\n",
       "      <th>WBC</th>\n",
       "      <th>FIO2</th>\n",
       "      <th>RR</th>\n",
       "      <th>SPO2</th>\n",
       "      <th>ABPD</th>\n",
       "      <th>ABPM</th>\n",
       "      <th>ABPS</th>\n",
       "      <th>HR</th>\n",
       "      <th>NBPD</th>\n",
       "      <th>NBPM</th>\n",
       "      <th>NBPS</th>\n",
       "      <th>TEMP</th>\n",
       "      <th>PrevDays</th>\n",
       "      <th>INSMcaid</th>\n",
       "      <th>INSMcare</th>\n",
       "      <th>INSPvate</th>\n",
       "      <th>FCU_CCU</th>\n",
       "      <th>FCU_CSRU</th>\n",
       "      <th>FCU_MICU</th>\n",
       "      <th>FCU_SICU</th>\n",
       "      <th>FCU_TSICU</th>\n",
       "      <th>GCS_E_None</th>\n",
       "      <th>GCS_ESpon</th>\n",
       "      <th>GCS_EPain</th>\n",
       "      <th>GCS_ESpch</th>\n",
       "      <th>GCS_MAbFl</th>\n",
       "      <th>GCS_MAbex</th>\n",
       "      <th>GCS_MFlwd</th>\n",
       "      <th>GCS_MLoPa</th>\n",
       "      <th>GCS_MNore</th>\n",
       "      <th>GCS_MObCo</th>\n",
       "      <th>GCS_VConf</th>\n",
       "      <th>GCS_VInWo</th>\n",
       "      <th>GCS_VInso</th>\n",
       "      <th>GCS_VNORe</th>\n",
       "      <th>GCS_VNRET</th>\n",
       "      <th>GCS_VOrie</th>\n",
       "      <th>S_TEMP_Cold</th>\n",
       "      <th>S_TEMP_Cool</th>\n",
       "      <th>S_TEMP_Hot</th>\n",
       "      <th>S_TEMP_Warm</th>\n",
       "      <th>FW12</th>\n",
       "      <th>FW14</th>\n",
       "      <th>FW15</th>\n",
       "      <th>FW23</th>\n",
       "      <th>FW33</th>\n",
       "      <th>FW50</th>\n",
       "      <th>FW52</th>\n",
       "      <th>FW57</th>\n",
       "      <th>FW7</th>\n",
       "      <th>hfail</th>\n",
       "      <th>carr</th>\n",
       "      <th>vdis</th>\n",
       "      <th>pcirc</th>\n",
       "      <th>pvasc</th>\n",
       "      <th>htens</th>\n",
       "      <th>paralysis</th>\n",
       "      <th>oneur</th>\n",
       "      <th>chpul</th>\n",
       "      <th>dunc</th>\n",
       "      <th>dcom</th>\n",
       "      <th>hthy</th>\n",
       "      <th>rfail</th>\n",
       "      <th>ldis</th>\n",
       "      <th>pulc</th>\n",
       "      <th>aids</th>\n",
       "      <th>lymphoma</th>\n",
       "      <th>mcancer</th>\n",
       "      <th>solid_tumor</th>\n",
       "      <th>rhart</th>\n",
       "      <th>coath</th>\n",
       "      <th>obesity</th>\n",
       "      <th>wlost</th>\n",
       "      <th>flele</th>\n",
       "      <th>blane</th>\n",
       "      <th>defane</th>\n",
       "      <th>alch</th>\n",
       "      <th>drg</th>\n",
       "      <th>psychoses</th>\n",
       "      <th>depression</th>\n",
       "      <th>elixvw</th>\n",
       "      <th>elix29</th>\n",
       "      <th>elix30</th>\n",
       "      <th>apsiii</th>\n",
       "      <th>icu_flag</th>\n",
       "      <th>oasis</th>\n",
       "      <th>gcs</th>\n",
       "      <th>uo</th>\n",
       "      <th>surg</th>\n",
       "      <th>saps</th>\n",
       "      <th>sapsii</th>\n",
       "      <th>potass</th>\n",
       "      <th>bicsc</th>\n",
       "      <th>comsco</th>\n",
       "      <th>sofa</th>\n",
       "      <th>coagulation</th>\n",
       "      <th>liver</th>\n",
       "      <th>cardiovascular</th>\n",
       "      <th>cns</th>\n",
       "      <th>renal</th>\n",
       "    </tr>\n",
       "  </thead>\n",
       "  <tbody>\n",
       "    <tr>\n",
       "      <th>0</th>\n",
       "      <td>23</td>\n",
       "      <td>124321</td>\n",
       "      <td>234044</td>\n",
       "      <td>1</td>\n",
       "      <td>75.26000</td>\n",
       "      <td>1</td>\n",
       "      <td>1</td>\n",
       "      <td>1.1862</td>\n",
       "      <td>21.7</td>\n",
       "      <td>0</td>\n",
       "      <td>0</td>\n",
       "      <td>NaN</td>\n",
       "      <td>14.0</td>\n",
       "      <td>0.6</td>\n",
       "      <td>136.0</td>\n",
       "      <td>36.9</td>\n",
       "      <td>NaN</td>\n",
       "      <td>NaN</td>\n",
       "      <td>NaN</td>\n",
       "      <td>NaN</td>\n",
       "      <td>208.0</td>\n",
       "      <td>NaN</td>\n",
       "      <td>NaN</td>\n",
       "      <td>144.0</td>\n",
       "      <td>NaN</td>\n",
       "      <td>14.8</td>\n",
       "      <td>NaN</td>\n",
       "      <td>14.0</td>\n",
       "      <td>100.0</td>\n",
       "      <td>74.0</td>\n",
       "      <td>86.0</td>\n",
       "      <td>181.0</td>\n",
       "      <td>77.0</td>\n",
       "      <td>45.0</td>\n",
       "      <td>50.0</td>\n",
       "      <td>67.0</td>\n",
       "      <td>35.4</td>\n",
       "      <td>2.67</td>\n",
       "      <td>0</td>\n",
       "      <td>1</td>\n",
       "      <td>0</td>\n",
       "      <td>0</td>\n",
       "      <td>0</td>\n",
       "      <td>0</td>\n",
       "      <td>1</td>\n",
       "      <td>0</td>\n",
       "      <td>0</td>\n",
       "      <td>1</td>\n",
       "      <td>0</td>\n",
       "      <td>0</td>\n",
       "      <td>0</td>\n",
       "      <td>0</td>\n",
       "      <td>0</td>\n",
       "      <td>0</td>\n",
       "      <td>0</td>\n",
       "      <td>1</td>\n",
       "      <td>0</td>\n",
       "      <td>0</td>\n",
       "      <td>0</td>\n",
       "      <td>0</td>\n",
       "      <td>0</td>\n",
       "      <td>1</td>\n",
       "      <td>0</td>\n",
       "      <td>0</td>\n",
       "      <td>0</td>\n",
       "      <td>1</td>\n",
       "      <td>0</td>\n",
       "      <td>0</td>\n",
       "      <td>0</td>\n",
       "      <td>0</td>\n",
       "      <td>0</td>\n",
       "      <td>0</td>\n",
       "      <td>0</td>\n",
       "      <td>1</td>\n",
       "      <td>0</td>\n",
       "      <td>0</td>\n",
       "      <td>0</td>\n",
       "      <td>1</td>\n",
       "      <td>0</td>\n",
       "      <td>0</td>\n",
       "      <td>1</td>\n",
       "      <td>0</td>\n",
       "      <td>1</td>\n",
       "      <td>0</td>\n",
       "      <td>0</td>\n",
       "      <td>0</td>\n",
       "      <td>0</td>\n",
       "      <td>0</td>\n",
       "      <td>0</td>\n",
       "      <td>0</td>\n",
       "      <td>0</td>\n",
       "      <td>0</td>\n",
       "      <td>0</td>\n",
       "      <td>0</td>\n",
       "      <td>0</td>\n",
       "      <td>0</td>\n",
       "      <td>0</td>\n",
       "      <td>0</td>\n",
       "      <td>0</td>\n",
       "      <td>0</td>\n",
       "      <td>0</td>\n",
       "      <td>0</td>\n",
       "      <td>0</td>\n",
       "      <td>0</td>\n",
       "      <td>0</td>\n",
       "      <td>-1</td>\n",
       "      <td>0</td>\n",
       "      <td>0</td>\n",
       "      <td>31</td>\n",
       "      <td>0</td>\n",
       "      <td>24</td>\n",
       "      <td>15.0</td>\n",
       "      <td>6445.0</td>\n",
       "      <td>0</td>\n",
       "      <td>19</td>\n",
       "      <td>39</td>\n",
       "      <td>0.0</td>\n",
       "      <td>0.0</td>\n",
       "      <td>0</td>\n",
       "      <td>1</td>\n",
       "      <td>0.0</td>\n",
       "      <td>NaN</td>\n",
       "      <td>1.0</td>\n",
       "      <td>0.0</td>\n",
       "      <td>0.0</td>\n",
       "    </tr>\n",
       "    <tr>\n",
       "      <th>1</th>\n",
       "      <td>34</td>\n",
       "      <td>144319</td>\n",
       "      <td>290505</td>\n",
       "      <td>1</td>\n",
       "      <td>90.89934</td>\n",
       "      <td>1</td>\n",
       "      <td>1</td>\n",
       "      <td>1.5824</td>\n",
       "      <td>27.4</td>\n",
       "      <td>0</td>\n",
       "      <td>0</td>\n",
       "      <td>NaN</td>\n",
       "      <td>36.0</td>\n",
       "      <td>1.6</td>\n",
       "      <td>116.0</td>\n",
       "      <td>35.9</td>\n",
       "      <td>NaN</td>\n",
       "      <td>NaN</td>\n",
       "      <td>NaN</td>\n",
       "      <td>NaN</td>\n",
       "      <td>343.0</td>\n",
       "      <td>NaN</td>\n",
       "      <td>NaN</td>\n",
       "      <td>139.0</td>\n",
       "      <td>NaN</td>\n",
       "      <td>7.1</td>\n",
       "      <td>60.0</td>\n",
       "      <td>14.0</td>\n",
       "      <td>98.0</td>\n",
       "      <td>NaN</td>\n",
       "      <td>NaN</td>\n",
       "      <td>NaN</td>\n",
       "      <td>72.0</td>\n",
       "      <td>66.0</td>\n",
       "      <td>78.0</td>\n",
       "      <td>112.0</td>\n",
       "      <td>36.1</td>\n",
       "      <td>0.00</td>\n",
       "      <td>0</td>\n",
       "      <td>1</td>\n",
       "      <td>0</td>\n",
       "      <td>1</td>\n",
       "      <td>0</td>\n",
       "      <td>0</td>\n",
       "      <td>0</td>\n",
       "      <td>0</td>\n",
       "      <td>1</td>\n",
       "      <td>0</td>\n",
       "      <td>0</td>\n",
       "      <td>0</td>\n",
       "      <td>0</td>\n",
       "      <td>0</td>\n",
       "      <td>0</td>\n",
       "      <td>1</td>\n",
       "      <td>0</td>\n",
       "      <td>0</td>\n",
       "      <td>0</td>\n",
       "      <td>0</td>\n",
       "      <td>0</td>\n",
       "      <td>0</td>\n",
       "      <td>1</td>\n",
       "      <td>0</td>\n",
       "      <td>0</td>\n",
       "      <td>0</td>\n",
       "      <td>0</td>\n",
       "      <td>1</td>\n",
       "      <td>0</td>\n",
       "      <td>0</td>\n",
       "      <td>0</td>\n",
       "      <td>0</td>\n",
       "      <td>0</td>\n",
       "      <td>0</td>\n",
       "      <td>0</td>\n",
       "      <td>0</td>\n",
       "      <td>1</td>\n",
       "      <td>1</td>\n",
       "      <td>1</td>\n",
       "      <td>0</td>\n",
       "      <td>0</td>\n",
       "      <td>0</td>\n",
       "      <td>0</td>\n",
       "      <td>0</td>\n",
       "      <td>0</td>\n",
       "      <td>0</td>\n",
       "      <td>0</td>\n",
       "      <td>0</td>\n",
       "      <td>1</td>\n",
       "      <td>0</td>\n",
       "      <td>0</td>\n",
       "      <td>0</td>\n",
       "      <td>0</td>\n",
       "      <td>0</td>\n",
       "      <td>0</td>\n",
       "      <td>0</td>\n",
       "      <td>0</td>\n",
       "      <td>0</td>\n",
       "      <td>0</td>\n",
       "      <td>0</td>\n",
       "      <td>0</td>\n",
       "      <td>0</td>\n",
       "      <td>0</td>\n",
       "      <td>0</td>\n",
       "      <td>0</td>\n",
       "      <td>0</td>\n",
       "      <td>0</td>\n",
       "      <td>0</td>\n",
       "      <td>0</td>\n",
       "      <td>0</td>\n",
       "      <td>33</td>\n",
       "      <td>0</td>\n",
       "      <td>40</td>\n",
       "      <td>14.0</td>\n",
       "      <td>875.0</td>\n",
       "      <td>0</td>\n",
       "      <td>21</td>\n",
       "      <td>36</td>\n",
       "      <td>0.0</td>\n",
       "      <td>0.0</td>\n",
       "      <td>0</td>\n",
       "      <td>3</td>\n",
       "      <td>0.0</td>\n",
       "      <td>NaN</td>\n",
       "      <td>1.0</td>\n",
       "      <td>1.0</td>\n",
       "      <td>1.0</td>\n",
       "    </tr>\n",
       "    <tr>\n",
       "      <th>2</th>\n",
       "      <td>36</td>\n",
       "      <td>165660</td>\n",
       "      <td>241249</td>\n",
       "      <td>1</td>\n",
       "      <td>72.73000</td>\n",
       "      <td>0</td>\n",
       "      <td>1</td>\n",
       "      <td>4.3483</td>\n",
       "      <td>32.7</td>\n",
       "      <td>1</td>\n",
       "      <td>0</td>\n",
       "      <td>2.8</td>\n",
       "      <td>19.0</td>\n",
       "      <td>0.9</td>\n",
       "      <td>126.0</td>\n",
       "      <td>36.3</td>\n",
       "      <td>1.0</td>\n",
       "      <td>60.0</td>\n",
       "      <td>7.29</td>\n",
       "      <td>NaN</td>\n",
       "      <td>174.0</td>\n",
       "      <td>58.0</td>\n",
       "      <td>94.0</td>\n",
       "      <td>139.0</td>\n",
       "      <td>0.6</td>\n",
       "      <td>15.3</td>\n",
       "      <td>100.0</td>\n",
       "      <td>20.0</td>\n",
       "      <td>91.0</td>\n",
       "      <td>NaN</td>\n",
       "      <td>NaN</td>\n",
       "      <td>NaN</td>\n",
       "      <td>94.0</td>\n",
       "      <td>72.0</td>\n",
       "      <td>84.0</td>\n",
       "      <td>122.0</td>\n",
       "      <td>37.4</td>\n",
       "      <td>1.81</td>\n",
       "      <td>0</td>\n",
       "      <td>1</td>\n",
       "      <td>0</td>\n",
       "      <td>0</td>\n",
       "      <td>0</td>\n",
       "      <td>1</td>\n",
       "      <td>0</td>\n",
       "      <td>0</td>\n",
       "      <td>0</td>\n",
       "      <td>1</td>\n",
       "      <td>0</td>\n",
       "      <td>0</td>\n",
       "      <td>0</td>\n",
       "      <td>0</td>\n",
       "      <td>0</td>\n",
       "      <td>0</td>\n",
       "      <td>0</td>\n",
       "      <td>1</td>\n",
       "      <td>0</td>\n",
       "      <td>0</td>\n",
       "      <td>0</td>\n",
       "      <td>0</td>\n",
       "      <td>0</td>\n",
       "      <td>1</td>\n",
       "      <td>0</td>\n",
       "      <td>0</td>\n",
       "      <td>0</td>\n",
       "      <td>1</td>\n",
       "      <td>0</td>\n",
       "      <td>0</td>\n",
       "      <td>0</td>\n",
       "      <td>0</td>\n",
       "      <td>0</td>\n",
       "      <td>0</td>\n",
       "      <td>1</td>\n",
       "      <td>0</td>\n",
       "      <td>0</td>\n",
       "      <td>0</td>\n",
       "      <td>0</td>\n",
       "      <td>0</td>\n",
       "      <td>1</td>\n",
       "      <td>0</td>\n",
       "      <td>1</td>\n",
       "      <td>0</td>\n",
       "      <td>0</td>\n",
       "      <td>1</td>\n",
       "      <td>0</td>\n",
       "      <td>0</td>\n",
       "      <td>0</td>\n",
       "      <td>0</td>\n",
       "      <td>0</td>\n",
       "      <td>0</td>\n",
       "      <td>0</td>\n",
       "      <td>0</td>\n",
       "      <td>0</td>\n",
       "      <td>0</td>\n",
       "      <td>0</td>\n",
       "      <td>0</td>\n",
       "      <td>0</td>\n",
       "      <td>0</td>\n",
       "      <td>0</td>\n",
       "      <td>0</td>\n",
       "      <td>0</td>\n",
       "      <td>0</td>\n",
       "      <td>0</td>\n",
       "      <td>0</td>\n",
       "      <td>0</td>\n",
       "      <td>7</td>\n",
       "      <td>8</td>\n",
       "      <td>8</td>\n",
       "      <td>27</td>\n",
       "      <td>0</td>\n",
       "      <td>23</td>\n",
       "      <td>15.0</td>\n",
       "      <td>2030.0</td>\n",
       "      <td>1</td>\n",
       "      <td>14</td>\n",
       "      <td>31</td>\n",
       "      <td>0.0</td>\n",
       "      <td>0.0</td>\n",
       "      <td>0</td>\n",
       "      <td>5</td>\n",
       "      <td>1.0</td>\n",
       "      <td>NaN</td>\n",
       "      <td>1.0</td>\n",
       "      <td>0.0</td>\n",
       "      <td>0.0</td>\n",
       "    </tr>\n",
       "    <tr>\n",
       "      <th>3</th>\n",
       "      <td>85</td>\n",
       "      <td>112077</td>\n",
       "      <td>291697</td>\n",
       "      <td>1</td>\n",
       "      <td>76.85000</td>\n",
       "      <td>1</td>\n",
       "      <td>1</td>\n",
       "      <td>1.9909</td>\n",
       "      <td>31.8</td>\n",
       "      <td>0</td>\n",
       "      <td>0</td>\n",
       "      <td>NaN</td>\n",
       "      <td>17.0</td>\n",
       "      <td>1.4</td>\n",
       "      <td>114.0</td>\n",
       "      <td>26.4</td>\n",
       "      <td>NaN</td>\n",
       "      <td>NaN</td>\n",
       "      <td>NaN</td>\n",
       "      <td>NaN</td>\n",
       "      <td>24.0</td>\n",
       "      <td>NaN</td>\n",
       "      <td>NaN</td>\n",
       "      <td>137.0</td>\n",
       "      <td>NaN</td>\n",
       "      <td>8.3</td>\n",
       "      <td>NaN</td>\n",
       "      <td>39.0</td>\n",
       "      <td>99.0</td>\n",
       "      <td>NaN</td>\n",
       "      <td>NaN</td>\n",
       "      <td>NaN</td>\n",
       "      <td>136.0</td>\n",
       "      <td>87.0</td>\n",
       "      <td>99.0</td>\n",
       "      <td>166.0</td>\n",
       "      <td>37.0</td>\n",
       "      <td>0.00</td>\n",
       "      <td>0</td>\n",
       "      <td>1</td>\n",
       "      <td>0</td>\n",
       "      <td>0</td>\n",
       "      <td>0</td>\n",
       "      <td>1</td>\n",
       "      <td>0</td>\n",
       "      <td>0</td>\n",
       "      <td>0</td>\n",
       "      <td>1</td>\n",
       "      <td>0</td>\n",
       "      <td>0</td>\n",
       "      <td>0</td>\n",
       "      <td>0</td>\n",
       "      <td>0</td>\n",
       "      <td>0</td>\n",
       "      <td>0</td>\n",
       "      <td>1</td>\n",
       "      <td>0</td>\n",
       "      <td>0</td>\n",
       "      <td>0</td>\n",
       "      <td>0</td>\n",
       "      <td>0</td>\n",
       "      <td>1</td>\n",
       "      <td>0</td>\n",
       "      <td>0</td>\n",
       "      <td>0</td>\n",
       "      <td>1</td>\n",
       "      <td>0</td>\n",
       "      <td>0</td>\n",
       "      <td>0</td>\n",
       "      <td>1</td>\n",
       "      <td>0</td>\n",
       "      <td>0</td>\n",
       "      <td>0</td>\n",
       "      <td>0</td>\n",
       "      <td>0</td>\n",
       "      <td>0</td>\n",
       "      <td>1</td>\n",
       "      <td>1</td>\n",
       "      <td>0</td>\n",
       "      <td>0</td>\n",
       "      <td>0</td>\n",
       "      <td>0</td>\n",
       "      <td>1</td>\n",
       "      <td>0</td>\n",
       "      <td>0</td>\n",
       "      <td>0</td>\n",
       "      <td>1</td>\n",
       "      <td>1</td>\n",
       "      <td>0</td>\n",
       "      <td>0</td>\n",
       "      <td>0</td>\n",
       "      <td>0</td>\n",
       "      <td>0</td>\n",
       "      <td>0</td>\n",
       "      <td>0</td>\n",
       "      <td>0</td>\n",
       "      <td>0</td>\n",
       "      <td>0</td>\n",
       "      <td>0</td>\n",
       "      <td>0</td>\n",
       "      <td>0</td>\n",
       "      <td>0</td>\n",
       "      <td>0</td>\n",
       "      <td>0</td>\n",
       "      <td>1</td>\n",
       "      <td>7</td>\n",
       "      <td>6</td>\n",
       "      <td>15</td>\n",
       "      <td>47</td>\n",
       "      <td>0</td>\n",
       "      <td>35</td>\n",
       "      <td>15.0</td>\n",
       "      <td>1650.0</td>\n",
       "      <td>0</td>\n",
       "      <td>19</td>\n",
       "      <td>34</td>\n",
       "      <td>0.0</td>\n",
       "      <td>3.0</td>\n",
       "      <td>0</td>\n",
       "      <td>5</td>\n",
       "      <td>3.0</td>\n",
       "      <td>NaN</td>\n",
       "      <td>1.0</td>\n",
       "      <td>0.0</td>\n",
       "      <td>1.0</td>\n",
       "    </tr>\n",
       "    <tr>\n",
       "      <th>4</th>\n",
       "      <td>107</td>\n",
       "      <td>182383</td>\n",
       "      <td>252542</td>\n",
       "      <td>1</td>\n",
       "      <td>69.66000</td>\n",
       "      <td>1</td>\n",
       "      <td>0</td>\n",
       "      <td>1.0806</td>\n",
       "      <td>31.3</td>\n",
       "      <td>0</td>\n",
       "      <td>0</td>\n",
       "      <td>NaN</td>\n",
       "      <td>36.0</td>\n",
       "      <td>5.8</td>\n",
       "      <td>125.0</td>\n",
       "      <td>40.3</td>\n",
       "      <td>NaN</td>\n",
       "      <td>NaN</td>\n",
       "      <td>NaN</td>\n",
       "      <td>NaN</td>\n",
       "      <td>303.0</td>\n",
       "      <td>NaN</td>\n",
       "      <td>NaN</td>\n",
       "      <td>139.0</td>\n",
       "      <td>NaN</td>\n",
       "      <td>14.2</td>\n",
       "      <td>NaN</td>\n",
       "      <td>19.0</td>\n",
       "      <td>97.0</td>\n",
       "      <td>NaN</td>\n",
       "      <td>NaN</td>\n",
       "      <td>NaN</td>\n",
       "      <td>64.0</td>\n",
       "      <td>67.0</td>\n",
       "      <td>88.0</td>\n",
       "      <td>155.0</td>\n",
       "      <td>36.7</td>\n",
       "      <td>0.00</td>\n",
       "      <td>0</td>\n",
       "      <td>1</td>\n",
       "      <td>0</td>\n",
       "      <td>0</td>\n",
       "      <td>0</td>\n",
       "      <td>1</td>\n",
       "      <td>0</td>\n",
       "      <td>0</td>\n",
       "      <td>0</td>\n",
       "      <td>1</td>\n",
       "      <td>0</td>\n",
       "      <td>0</td>\n",
       "      <td>0</td>\n",
       "      <td>0</td>\n",
       "      <td>0</td>\n",
       "      <td>0</td>\n",
       "      <td>0</td>\n",
       "      <td>1</td>\n",
       "      <td>0</td>\n",
       "      <td>0</td>\n",
       "      <td>0</td>\n",
       "      <td>0</td>\n",
       "      <td>0</td>\n",
       "      <td>1</td>\n",
       "      <td>0</td>\n",
       "      <td>0</td>\n",
       "      <td>0</td>\n",
       "      <td>1</td>\n",
       "      <td>0</td>\n",
       "      <td>0</td>\n",
       "      <td>0</td>\n",
       "      <td>1</td>\n",
       "      <td>0</td>\n",
       "      <td>0</td>\n",
       "      <td>0</td>\n",
       "      <td>0</td>\n",
       "      <td>0</td>\n",
       "      <td>1</td>\n",
       "      <td>0</td>\n",
       "      <td>0</td>\n",
       "      <td>0</td>\n",
       "      <td>0</td>\n",
       "      <td>1</td>\n",
       "      <td>0</td>\n",
       "      <td>0</td>\n",
       "      <td>0</td>\n",
       "      <td>0</td>\n",
       "      <td>0</td>\n",
       "      <td>0</td>\n",
       "      <td>1</td>\n",
       "      <td>0</td>\n",
       "      <td>0</td>\n",
       "      <td>0</td>\n",
       "      <td>0</td>\n",
       "      <td>0</td>\n",
       "      <td>0</td>\n",
       "      <td>0</td>\n",
       "      <td>0</td>\n",
       "      <td>1</td>\n",
       "      <td>0</td>\n",
       "      <td>1</td>\n",
       "      <td>0</td>\n",
       "      <td>1</td>\n",
       "      <td>0</td>\n",
       "      <td>0</td>\n",
       "      <td>0</td>\n",
       "      <td>0</td>\n",
       "      <td>6</td>\n",
       "      <td>14</td>\n",
       "      <td>15</td>\n",
       "      <td>43</td>\n",
       "      <td>0</td>\n",
       "      <td>23</td>\n",
       "      <td>15.0</td>\n",
       "      <td>NaN</td>\n",
       "      <td>0</td>\n",
       "      <td>21</td>\n",
       "      <td>42</td>\n",
       "      <td>3.0</td>\n",
       "      <td>0.0</td>\n",
       "      <td>0</td>\n",
       "      <td>5</td>\n",
       "      <td>0.0</td>\n",
       "      <td>NaN</td>\n",
       "      <td>1.0</td>\n",
       "      <td>0.0</td>\n",
       "      <td>4.0</td>\n",
       "    </tr>\n",
       "  </tbody>\n",
       "</table>\n",
       "</div>"
      ],
      "text/plain": [
       "   SUBJECT_ID  HADM_ID  ICUSTAY_ID  GENDER    AGE_AD  TYPE_AD  ETHNICITY  \\\n",
       "0          23   124321      234044       1  75.26000        1          1   \n",
       "1          34   144319      290505       1  90.89934        1          1   \n",
       "2          36   165660      241249       1  72.73000        0          1   \n",
       "3          85   112077      291697       1  76.85000        1          1   \n",
       "4         107   182383      252542       1  69.66000        1          0   \n",
       "\n",
       "      LOS   BMI  I_VEN  NI_VEN  ALBUMIN   BUN  CREATININE  GLUCOSE  HTOCRIT  \\\n",
       "0  1.1862  21.7      0       0      NaN  14.0         0.6    136.0     36.9   \n",
       "1  1.5824  27.4      0       0      NaN  36.0         1.6    116.0     35.9   \n",
       "2  4.3483  32.7      1       0      2.8  19.0         0.9    126.0     36.3   \n",
       "3  1.9909  31.8      0       0      NaN  17.0         1.4    114.0     26.4   \n",
       "4  1.0806  31.3      0       0      NaN  36.0         5.8    125.0     40.3   \n",
       "\n",
       "   LACTIC  PCO2A   PHA  PHD  PLATELETC  PO2A  SAO2  SODIUM  TBILIRUBIN   WBC  \\\n",
       "0     NaN    NaN   NaN  NaN      208.0   NaN   NaN   144.0         NaN  14.8   \n",
       "1     NaN    NaN   NaN  NaN      343.0   NaN   NaN   139.0         NaN   7.1   \n",
       "2     1.0   60.0  7.29  NaN      174.0  58.0  94.0   139.0         0.6  15.3   \n",
       "3     NaN    NaN   NaN  NaN       24.0   NaN   NaN   137.0         NaN   8.3   \n",
       "4     NaN    NaN   NaN  NaN      303.0   NaN   NaN   139.0         NaN  14.2   \n",
       "\n",
       "    FIO2    RR   SPO2  ABPD  ABPM   ABPS     HR  NBPD  NBPM   NBPS  TEMP  \\\n",
       "0    NaN  14.0  100.0  74.0  86.0  181.0   77.0  45.0  50.0   67.0  35.4   \n",
       "1   60.0  14.0   98.0   NaN   NaN    NaN   72.0  66.0  78.0  112.0  36.1   \n",
       "2  100.0  20.0   91.0   NaN   NaN    NaN   94.0  72.0  84.0  122.0  37.4   \n",
       "3    NaN  39.0   99.0   NaN   NaN    NaN  136.0  87.0  99.0  166.0  37.0   \n",
       "4    NaN  19.0   97.0   NaN   NaN    NaN   64.0  67.0  88.0  155.0  36.7   \n",
       "\n",
       "   PrevDays  INSMcaid  INSMcare  INSPvate  FCU_CCU  FCU_CSRU  FCU_MICU  \\\n",
       "0      2.67         0         1         0        0         0         0   \n",
       "1      0.00         0         1         0        1         0         0   \n",
       "2      1.81         0         1         0        0         0         1   \n",
       "3      0.00         0         1         0        0         0         1   \n",
       "4      0.00         0         1         0        0         0         1   \n",
       "\n",
       "   FCU_SICU  FCU_TSICU  GCS_E_None  GCS_ESpon  GCS_EPain  GCS_ESpch  \\\n",
       "0         1          0           0          1          0          0   \n",
       "1         0          0           1          0          0          0   \n",
       "2         0          0           0          1          0          0   \n",
       "3         0          0           0          1          0          0   \n",
       "4         0          0           0          1          0          0   \n",
       "\n",
       "   GCS_MAbFl  GCS_MAbex  GCS_MFlwd  GCS_MLoPa  GCS_MNore  GCS_MObCo  \\\n",
       "0          0          0          0          0          0          1   \n",
       "1          0          0          0          1          0          0   \n",
       "2          0          0          0          0          0          1   \n",
       "3          0          0          0          0          0          1   \n",
       "4          0          0          0          0          0          1   \n",
       "\n",
       "   GCS_VConf  GCS_VInWo  GCS_VInso  GCS_VNORe  GCS_VNRET  GCS_VOrie  \\\n",
       "0          0          0          0          0          0          1   \n",
       "1          0          0          0          0          1          0   \n",
       "2          0          0          0          0          0          1   \n",
       "3          0          0          0          0          0          1   \n",
       "4          0          0          0          0          0          1   \n",
       "\n",
       "   S_TEMP_Cold  S_TEMP_Cool  S_TEMP_Hot  S_TEMP_Warm  FW12  FW14  FW15  FW23  \\\n",
       "0            0            0           0            1     0     0     0     0   \n",
       "1            0            0           0            1     0     0     0     0   \n",
       "2            0            0           0            1     0     0     0     0   \n",
       "3            0            0           0            1     0     0     0     1   \n",
       "4            0            0           0            1     0     0     0     1   \n",
       "\n",
       "   FW33  FW50  FW52  FW57  FW7  hfail  carr  vdis  pcirc  pvasc  htens  \\\n",
       "0     0     0     0     1    0      0     0     1      0      0      1   \n",
       "1     0     0     0     0    1      1     1     0      0      0      0   \n",
       "2     0     0     1     0    0      0     0     0      1      0      1   \n",
       "3     0     0     0     0    0      0     1     1      0      0      0   \n",
       "4     0     0     0     0    0      1     0     0      0      0      1   \n",
       "\n",
       "   paralysis  oneur  chpul  dunc  dcom  hthy  rfail  ldis  pulc  aids  \\\n",
       "0          0      1      0     0     0     0      0     0     0     0   \n",
       "1          0      0      0     0     0     1      0     0     0     0   \n",
       "2          0      0      1     0     0     0      0     0     0     0   \n",
       "3          0      1      0     0     0     1      1     0     0     0   \n",
       "4          0      0      0     0     0     0      1     0     0     0   \n",
       "\n",
       "   lymphoma  mcancer  solid_tumor  rhart  coath  obesity  wlost  flele  blane  \\\n",
       "0         0        0            0      0      0        0      0      0      0   \n",
       "1         0        0            0      0      0        0      0      0      0   \n",
       "2         0        0            0      0      0        0      0      0      0   \n",
       "3         0        0            0      0      0        0      0      0      0   \n",
       "4         0        0            0      0      0        1      0      1      0   \n",
       "\n",
       "   defane  alch  drg  psychoses  depression  elixvw  elix29  elix30  apsiii  \\\n",
       "0       0     0    0          0           0      -1       0       0      31   \n",
       "1       0     0    0          0           0       0       0       0      33   \n",
       "2       0     0    0          0           0       7       8       8      27   \n",
       "3       0     0    0          0           1       7       6      15      47   \n",
       "4       1     0    0          0           0       6      14      15      43   \n",
       "\n",
       "   icu_flag  oasis   gcs      uo  surg  saps  sapsii  potass  bicsc  comsco  \\\n",
       "0         0     24  15.0  6445.0     0    19      39     0.0    0.0       0   \n",
       "1         0     40  14.0   875.0     0    21      36     0.0    0.0       0   \n",
       "2         0     23  15.0  2030.0     1    14      31     0.0    0.0       0   \n",
       "3         0     35  15.0  1650.0     0    19      34     0.0    3.0       0   \n",
       "4         0     23  15.0     NaN     0    21      42     3.0    0.0       0   \n",
       "\n",
       "   sofa  coagulation  liver  cardiovascular  cns  renal  \n",
       "0     1          0.0    NaN             1.0  0.0    0.0  \n",
       "1     3          0.0    NaN             1.0  1.0    1.0  \n",
       "2     5          1.0    NaN             1.0  0.0    0.0  \n",
       "3     5          3.0    NaN             1.0  0.0    1.0  \n",
       "4     5          0.0    NaN             1.0  0.0    4.0  "
      ]
     },
     "execution_count": 52,
     "metadata": {},
     "output_type": "execute_result"
    }
   ],
   "source": [
    "admissions=pd.read_csv('MAIN_DF_10.csv')\n",
    "admissions=admissions.drop(['Unnamed: 0'], axis=1)\n",
    "admissions=admissions.reset_index(drop=True)\n",
    "print(admissions.shape)\n",
    "print('unique SUBJECT_ID:', admissions.SUBJECT_ID.nunique())\n",
    "print('unique HADM_ID   :', admissions.HADM_ID.nunique())\n",
    "print('unique ICUSTAY_ID:', admissions.ICUSTAY_ID.nunique())\n",
    "admissions.head()"
   ]
  },
  {
   "cell_type": "code",
   "execution_count": 53,
   "metadata": {},
   "outputs": [
    {
     "data": {
      "text/plain": [
       "1-2    7883\n",
       "2-4    6156\n",
       "0-1    3873\n",
       ">6     2957\n",
       "4-6    2186\n",
       "Name: LOS_C, dtype: int64"
      ]
     },
     "execution_count": 53,
     "metadata": {},
     "output_type": "execute_result"
    }
   ],
   "source": [
    "admissions['LOS_C']=np.where((admissions['LOS']>0)&(admissions['LOS']<1), '0-1',\n",
    "                              np.where((admissions['LOS']>=1)&(admissions['LOS']<2), '1-2',\n",
    "                                  np.where((admissions['LOS']>=2)&(admissions['LOS']<4), '2-4',\n",
    "                                          np.where((admissions['LOS']>=4)&(admissions['LOS']<6), '4-6','>6'))))\n",
    "admissions['LOS_C'].value_counts()"
   ]
  },
  {
   "cell_type": "code",
   "execution_count": 54,
   "metadata": {},
   "outputs": [
    {
     "data": {
      "text/plain": [
       "1    17912\n",
       "0     5143\n",
       "Name: LOS_C, dtype: int64"
      ]
     },
     "execution_count": 54,
     "metadata": {},
     "output_type": "execute_result"
    }
   ],
   "source": [
    "admissions['LOS_C']=np.where(admissions['LOS_C']=='0-1', 1,\n",
    "                              np.where(admissions['LOS_C']=='1-2', 1,\n",
    "                                  np.where(admissions['LOS_C']=='2-4', 1,\n",
    "                                          np.where(admissions['LOS_C']=='4-6', 0,0))))\n",
    "admissions['LOS_C'].value_counts()"
   ]
  },
  {
   "cell_type": "code",
   "execution_count": 55,
   "metadata": {},
   "outputs": [
    {
     "data": {
      "text/plain": [
       "0.77692474517458254"
      ]
     },
     "execution_count": 55,
     "metadata": {},
     "output_type": "execute_result"
    }
   ],
   "source": [
    "admissions['LOS_C'].value_counts()[1]/admissions['LOS_C'].value_counts().sum()"
   ]
  },
  {
   "cell_type": "code",
   "execution_count": 56,
   "metadata": {},
   "outputs": [
    {
     "data": {
      "text/plain": [
       "SAO2              17081\n",
       "ALBUMIN           14559\n",
       "PHD               14115\n",
       "ABPM              13737\n",
       "ABPS              13731\n",
       "ABPD              13712\n",
       "TBILIRUBIN        12842\n",
       "liver             12090\n",
       "PCO2A             11549\n",
       "PO2A              11491\n",
       "PHA               11479\n",
       "FIO2              10948\n",
       "LACTIC            10837\n",
       "uo                  972\n",
       "gcs                 351\n",
       "cns                 351\n",
       "cardiovascular      307\n",
       "bicsc               225\n",
       "coagulation         203\n",
       "potass              124\n",
       "renal                38\n",
       "FCU_CCU               0\n",
       "TEMP                  0\n",
       "dtype: int64"
      ]
     },
     "execution_count": 56,
     "metadata": {},
     "output_type": "execute_result"
    }
   ],
   "source": [
    "admissions.isnull().sum().sort_values(ascending=False)[:23]"
   ]
  },
  {
   "cell_type": "code",
   "execution_count": 57,
   "metadata": {},
   "outputs": [
    {
     "data": {
      "text/plain": [
       "0.0    12866\n",
       "1.0     5109\n",
       "2.0     1916\n",
       "4.0     1619\n",
       "3.0     1507\n",
       "Name: renal, dtype: int64"
      ]
     },
     "execution_count": 57,
     "metadata": {},
     "output_type": "execute_result"
    }
   ],
   "source": [
    "admissions['renal'].value_counts()"
   ]
  },
  {
   "cell_type": "code",
   "execution_count": 58,
   "metadata": {},
   "outputs": [
    {
     "data": {
      "text/plain": [
       " 900.000000     98\n",
       " 0.000000       95\n",
       " 1400.000000    90\n",
       " 1500.000000    89\n",
       " 1300.000000    83\n",
       " 950.000000     83\n",
       " 1900.000000    83\n",
       " 1200.000000    83\n",
       " 1000.000000    82\n",
       " 2000.000000    82\n",
       " 1250.000000    81\n",
       " 1550.000000    80\n",
       " 1450.000000    76\n",
       " 600.000000     76\n",
       " 1600.000000    76\n",
       " 1350.000000    75\n",
       " 1100.000000    73\n",
       " 800.000000     72\n",
       " 1050.000000    71\n",
       " 1150.000000    71\n",
       " 2250.000000    69\n",
       " 1700.000000    69\n",
       " 1800.000000    69\n",
       " 1650.000000    69\n",
       " 2400.000000    63\n",
       " 750.000000     62\n",
       " 1950.000000    61\n",
       " 1850.000000    61\n",
       " 400.000000     60\n",
       " 2200.000000    60\n",
       " 2300.000000    60\n",
       " 2100.000000    57\n",
       " 1625.000000    57\n",
       " 500.000000     57\n",
       " 1225.000000    55\n",
       " 850.000000     55\n",
       " 1575.000000    55\n",
       " 1750.000000    55\n",
       " 650.000000     54\n",
       " 700.000000     54\n",
       " 300.000000     54\n",
       " 2050.000000    52\n",
       " 1175.000000    50\n",
       " 2500.000000    50\n",
       " 1810.000000    50\n",
       " 2150.000000    49\n",
       " 1425.000000    49\n",
       " 2350.000000    47\n",
       " 1675.000000    46\n",
       " 550.000000     45\n",
       " 100.000000     45\n",
       " 2800.000000    44\n",
       " 1275.000000    44\n",
       " 1525.000000    44\n",
       " 1590.000000    44\n",
       " 2450.000000    44\n",
       " 350.000000     43\n",
       " 1375.000000    43\n",
       " 1125.000000    42\n",
       " 925.000000     42\n",
       " 2125.000000    41\n",
       " 1075.000000    40\n",
       " 1875.000000    40\n",
       " 2700.000000    40\n",
       " 1520.000000    39\n",
       " 775.000000     39\n",
       " 1510.000000    39\n",
       " 1610.000000    39\n",
       " 1025.000000    39\n",
       " 2750.000000    39\n",
       " 1130.000000    38\n",
       " 1725.000000    38\n",
       " 1630.000000    38\n",
       " 2020.000000    38\n",
       " 1775.000000    37\n",
       " 450.000000     37\n",
       " 1440.000000    37\n",
       " 1285.000000    37\n",
       " 1820.000000    37\n",
       " 1235.000000    37\n",
       " 1570.000000    37\n",
       " 1975.000000    37\n",
       " 2650.000000    36\n",
       " 1925.000000    36\n",
       " 1280.000000    36\n",
       " 2550.000000    36\n",
       " 825.000000     36\n",
       " 1110.000000    36\n",
       " 1475.000000    36\n",
       " 875.000000     36\n",
       " 200.000000     36\n",
       " 1740.000000    35\n",
       " 1720.000000    35\n",
       " 1230.000000    35\n",
       " 2360.000000    35\n",
       " 1325.000000    35\n",
       " 1020.000000    35\n",
       " 3200.000000    35\n",
       " 1620.000000    34\n",
       " 1545.000000    34\n",
       "                ..\n",
       " 3022.000000     1\n",
       " 823.000000      1\n",
       " 626.000000      1\n",
       " 2632.000000     1\n",
       " 1390.970001     1\n",
       " 2238.000000     1\n",
       " 2366.000000     1\n",
       " 187.000000      1\n",
       " 7400.000000     1\n",
       " 1638.000000     1\n",
       " 389.000000      1\n",
       " 3122.000000     1\n",
       " 2484.000000     1\n",
       " 6330.000000     1\n",
       " 542.000000      1\n",
       " 3143.000000     1\n",
       " 8850.000000     1\n",
       " 1183.000000     1\n",
       " 2444.000000     1\n",
       " 2972.000000     1\n",
       " 298.000000      1\n",
       " 638.000000      1\n",
       " 3995.000000     1\n",
       " 5770.000000     1\n",
       " 8985.000000     1\n",
       " 1416.000000     1\n",
       " 2648.000000     1\n",
       " 3467.000000     1\n",
       " 2822.000000     1\n",
       " 139.000000      1\n",
       " 1648.000000     1\n",
       " 939.000000      1\n",
       " 1523.000000     1\n",
       " 5370.000000     1\n",
       " 7635.000000     1\n",
       " 2304.000000     1\n",
       " 7595.000000     1\n",
       " 264.000000      1\n",
       " 3164.000000     1\n",
       " 97.000000       1\n",
       " 2816.000000     1\n",
       " 336.000000      1\n",
       " 316.000000      1\n",
       " 9.000000        1\n",
       " 5830.000000     1\n",
       " 2042.000000     1\n",
       " 4595.000000     1\n",
       " 5185.000000     1\n",
       " 2851.000000     1\n",
       " 6550.000000     1\n",
       " 1791.000000     1\n",
       " 6056.000000     1\n",
       " 1503.000000     1\n",
       " 6555.000000     1\n",
       " 3347.000000     1\n",
       " 1933.000000     1\n",
       " 6764.000000     1\n",
       " 2337.000000     1\n",
       " 7640.000000     1\n",
       "-1820.000000     1\n",
       " 77.000000       1\n",
       " 3408.000000     1\n",
       " 2362.000000     1\n",
       " 2923.000000     1\n",
       " 5428.000000     1\n",
       " 159.000000      1\n",
       " 6070.000000     1\n",
       " 1993.000000     1\n",
       " 1412.000000     1\n",
       " 591.000000      1\n",
       " 1946.000000     1\n",
       " 1179.000000     1\n",
       " 5315.000000     1\n",
       " 1461.000000     1\n",
       " 1336.000000     1\n",
       " 2647.000000     1\n",
       " 2858.000000     1\n",
       " 3579.000000     1\n",
       " 3101.000000     1\n",
       " 5880.000000     1\n",
       " 4755.000000     1\n",
       " 3248.000000     1\n",
       " 1121.000000     1\n",
       " 2788.000000     1\n",
       " 7925.000000     1\n",
       " 2492.000000     1\n",
       " 2397.000000     1\n",
       " 6040.000000     1\n",
       " 5015.000000     1\n",
       " 2383.000000     1\n",
       " 6295.000000     1\n",
       " 4146.000000     1\n",
       " 799.000000      1\n",
       " 2449.000000     1\n",
       " 4393.000000     1\n",
       " 337.000000      1\n",
       " 2991.000000     1\n",
       " 1619.000000     1\n",
       " 4013.000000     1\n",
       " 2567.000000     1\n",
       "Name: uo, Length: 3158, dtype: int64"
      ]
     },
     "execution_count": 58,
     "metadata": {},
     "output_type": "execute_result"
    }
   ],
   "source": [
    "admissions['uo'].value_counts()"
   ]
  },
  {
   "cell_type": "code",
   "execution_count": 59,
   "metadata": {},
   "outputs": [
    {
     "data": {
      "image/png": "[encoded data removed]",
      "text/plain": [
       "<matplotlib.figure.Figure at 0x7f09f1c85908>"
      ]
     },
     "metadata": {},
     "output_type": "display_data"
    }
   ],
   "source": [
    "admissions.plot.scatter(x='uo',y='LOS',alpha=0.10, s=10)\n",
    "#plt.xlim(-5, 80)\n",
    "plt.title('uo')\n",
    "plt.show()"
   ]
  },
  {
   "cell_type": "code",
   "execution_count": 60,
   "metadata": {
    "collapsed": true
   },
   "outputs": [],
   "source": [
    "admissions['uo']=admissions['uo'].mask(admissions['uo'].gt(7000))\n",
    "admissions['uo']=admissions['uo'].mask(admissions['uo'].lt(-50))"
   ]
  },
  {
   "cell_type": "code",
   "execution_count": 61,
   "metadata": {},
   "outputs": [
    {
     "data": {
      "image/png": "[encoded data removed]",
      "text/plain": [
       "<matplotlib.figure.Figure at 0x7f09f1f0c8d0>"
      ]
     },
     "metadata": {},
     "output_type": "display_data"
    }
   ],
   "source": [
    "admissions.plot.scatter(x='uo',y='LOS',alpha=0.10, s=10)\n",
    "#plt.xlim(-5, 80)\n",
    "plt.title('uo')\n",
    "plt.show()"
   ]
  },
  {
   "cell_type": "code",
   "execution_count": 62,
   "metadata": {},
   "outputs": [
    {
     "data": {
      "text/plain": [
       "SAO2              17081\n",
       "ALBUMIN           14559\n",
       "PHD               14115\n",
       "ABPM              13737\n",
       "ABPS              13731\n",
       "ABPD              13712\n",
       "TBILIRUBIN        12842\n",
       "liver             12090\n",
       "PCO2A             11549\n",
       "PO2A              11491\n",
       "PHA               11479\n",
       "FIO2              10948\n",
       "LACTIC            10837\n",
       "uo                 1086\n",
       "gcs                 351\n",
       "cns                 351\n",
       "cardiovascular      307\n",
       "bicsc               225\n",
       "coagulation         203\n",
       "potass              124\n",
       "renal                38\n",
       "FCU_CCU               0\n",
       "TEMP                  0\n",
       "dtype: int64"
      ]
     },
     "execution_count": 62,
     "metadata": {},
     "output_type": "execute_result"
    }
   ],
   "source": [
    "admissions.isnull().sum().sort_values(ascending=False)[:23]"
   ]
  },
  {
   "cell_type": "code",
   "execution_count": 63,
   "metadata": {},
   "outputs": [
    {
     "data": {
      "text/plain": [
       "(23055, 125)"
      ]
     },
     "execution_count": 63,
     "metadata": {},
     "output_type": "execute_result"
    }
   ],
   "source": [
    "admissions=admissions.drop(['LOS'], axis=1)\n",
    "admissions.shape"
   ]
  },
  {
   "cell_type": "code",
   "execution_count": 64,
   "metadata": {
    "collapsed": true
   },
   "outputs": [],
   "source": [
    "admissions=admissions[admissions['icu_flag']==0]"
   ]
  },
  {
   "cell_type": "code",
   "execution_count": 65,
   "metadata": {},
   "outputs": [
    {
     "data": {
      "text/plain": [
       "(21328, 124)"
      ]
     },
     "execution_count": 65,
     "metadata": {},
     "output_type": "execute_result"
    }
   ],
   "source": [
    "admissions=admissions.drop(['icu_flag'], axis=1)\n",
    "admissions.shape"
   ]
  },
  {
   "cell_type": "code",
   "execution_count": 66,
   "metadata": {},
   "outputs": [
    {
     "data": {
      "text/plain": [
       "GENDER\n",
       "0    194.555056\n",
       "1    212.398150\n",
       "Name: PO2A, dtype: float64"
      ]
     },
     "execution_count": 66,
     "metadata": {},
     "output_type": "execute_result"
    }
   ],
   "source": [
    "admissions['PO2A'].groupby(admissions['GENDER']).mean()"
   ]
  },
  {
   "cell_type": "markdown",
   "metadata": {},
   "source": [
    "Better fill missing values by gender"
   ]
  },
  {
   "cell_type": "code",
   "execution_count": 67,
   "metadata": {
    "collapsed": true
   },
   "outputs": [],
   "source": [
    "admissions['SAO2'] = admissions['SAO2'].groupby(admissions['GENDER']).transform(\n",
    "    lambda x: x.fillna(np.round(x.mean(),2)))\n",
    "admissions['ALBUMIN'] = admissions['ALBUMIN'].groupby(admissions['GENDER']).transform(\n",
    "    lambda x: x.fillna(np.round(x.mean(),2)))\n",
    "admissions['PHD'] = admissions['PHD'].groupby(admissions['GENDER']).transform(\n",
    "    lambda x: x.fillna(np.round(x.mean(),2)))\n",
    "admissions['ABPM'] = admissions['ABPM'].groupby(admissions['GENDER']).transform(\n",
    "    lambda x: x.fillna(np.round(x.mean(),2)))\n",
    "admissions['ABPS'] = admissions['ABPS'].groupby(admissions['GENDER']).transform(\n",
    "    lambda x: x.fillna(np.round(x.mean(),2)))\n",
    "admissions['ABPD'] = admissions['ABPD'].groupby(admissions['GENDER']).transform(\n",
    "    lambda x: x.fillna(np.round(x.mean(),2)))\n",
    "admissions['TBILIRUBIN'] = admissions['TBILIRUBIN'].groupby(admissions['GENDER']).transform(\n",
    "    lambda x: x.fillna(np.round(x.mean(),2)))\n",
    "admissions['PCO2A'] = admissions['PCO2A'].groupby(admissions['GENDER']).transform(\n",
    "    lambda x: x.fillna(np.round(x.mean(),2)))\n",
    "admissions['PO2A'] = admissions['PO2A'].groupby(admissions['GENDER']).transform(\n",
    "    lambda x: x.fillna(np.round(x.mean(),2)))\n",
    "admissions['PHA'] = admissions['PHA'].groupby(admissions['GENDER']).transform(\n",
    "    lambda x: x.fillna(np.round(x.mean(),2)))\n",
    "admissions['FIO2'] = admissions['FIO2'].groupby(admissions['GENDER']).transform(\n",
    "    lambda x: x.fillna(np.round(x.mean(),2)))\n",
    "admissions['LACTIC'] = admissions['LACTIC'].groupby(admissions['GENDER']).transform(\n",
    "    lambda x: x.fillna(np.round(x.mean(),2)))\n",
    "admissions['liver'] = admissions['liver'].groupby(admissions['GENDER']).transform(\n",
    "    lambda x: x.fillna(np.round(x.mean(),2)))\n",
    "admissions['uo'] = admissions['uo'].groupby(admissions['GENDER']).transform(\n",
    "    lambda x: x.fillna(np.round(x.mean(),2)))\n",
    "admissions['gcs'] = admissions['gcs'].groupby(admissions['GENDER']).transform(\n",
    "    lambda x: x.fillna(np.round(x.mean(),2)))\n",
    "admissions['cns'] = admissions['cns'].groupby(admissions['GENDER']).transform(\n",
    "    lambda x: x.fillna(np.round(x.mean(),2)))\n",
    "admissions['cardiovascular'] = admissions['cardiovascular'].groupby(admissions['GENDER']).transform(\n",
    "    lambda x: x.fillna(np.round(x.mean(),2)))\n",
    "admissions['bicsc'] = admissions['bicsc'].groupby(admissions['GENDER']).transform(\n",
    "    lambda x: x.fillna(np.round(x.mean(),2)))\n",
    "admissions['coagulation'] = admissions['coagulation'].groupby(admissions['GENDER']).transform(\n",
    "    lambda x: x.fillna(np.round(x.mean(),2)))\n",
    "admissions['potass'] = admissions['potass'].groupby(admissions['GENDER']).transform(\n",
    "    lambda x: x.fillna(np.round(x.mean(),2)))\n",
    "admissions['renal'] = admissions['renal'].groupby(admissions['GENDER']).transform(\n",
    "    lambda x: x.fillna(np.round(x.mean(),2)))"
   ]
  },
  {
   "cell_type": "code",
   "execution_count": 68,
   "metadata": {
    "collapsed": true
   },
   "outputs": [],
   "source": [
    "#admissions=admissions.drop(['SAO2', 'ABPD', 'ABPS'], axis=1)\n",
    "#admissions.shape"
   ]
  },
  {
   "cell_type": "code",
   "execution_count": 69,
   "metadata": {},
   "outputs": [
    {
     "data": {
      "text/plain": [
       "(21328, 121)"
      ]
     },
     "execution_count": 69,
     "metadata": {},
     "output_type": "execute_result"
    }
   ],
   "source": [
    "admissions=admissions.drop(['SUBJECT_ID', 'HADM_ID', 'ICUSTAY_ID'], axis=1)\n",
    "admissions.shape"
   ]
  },
  {
   "cell_type": "code",
   "execution_count": 70,
   "metadata": {},
   "outputs": [
    {
     "data": {
      "text/plain": [
       "0"
      ]
     },
     "execution_count": 70,
     "metadata": {},
     "output_type": "execute_result"
    }
   ],
   "source": [
    "admissions.isnull().sum().sum()"
   ]
  },
  {
   "cell_type": "code",
   "execution_count": 71,
   "metadata": {
    "collapsed": true
   },
   "outputs": [],
   "source": [
    "data_final_vars=admissions.columns.values.tolist()\n",
    "y=['LOS_C']\n",
    "x=[i for i in data_final_vars if i not in y]\n",
    "data_final=admissions\n",
    "data_final.shape\n",
    "X=data_final[x]\n",
    "y=data_final[y]"
   ]
  },
  {
   "cell_type": "code",
   "execution_count": 72,
   "metadata": {
    "collapsed": true
   },
   "outputs": [],
   "source": [
    "from sklearn.preprocessing import StandardScaler\n",
    "sc = StandardScaler()\n",
    "X = sc.fit_transform(X)\n",
    "#y = sc.transform(y)"
   ]
  },
  {
   "cell_type": "code",
   "execution_count": 23,
   "metadata": {},
   "outputs": [
    {
     "name": "stdout",
     "output_type": "stream",
     "text": [
      "Warning: Maximum number of iterations has been exceeded.\n",
      "         Current function value: 0.584700\n",
      "         Iterations: 35\n"
     ]
    },
    {
     "name": "stderr",
     "output_type": "stream",
     "text": [
      "/home/jordi/anaconda3/lib/python3.6/site-packages/statsmodels/base/model.py:496: ConvergenceWarning: Maximum Likelihood optimization failed to converge. Check mle_retvals\n",
      "  \"Check mle_retvals\", ConvergenceWarning)\n"
     ]
    }
   ],
   "source": [
    "import statsmodels.api as sm\n",
    "logit_model=sm.Logit(y,X)\n",
    "result=logit_model.fit()\n",
    "#print(result.summary())"
   ]
  },
  {
   "cell_type": "code",
   "execution_count": 24,
   "metadata": {},
   "outputs": [
    {
     "name": "stderr",
     "output_type": "stream",
     "text": [
      "/home/jordi/anaconda3/lib/python3.6/site-packages/sklearn/cross_validation.py:41: DeprecationWarning: This module was deprecated in version 0.18 in favor of the model_selection module into which all the refactored classes and functions are moved. Also note that the interface of the new CV iterators are different from that of this module. This module will be removed in 0.20.\n",
      "  \"This module will be removed in 0.20.\", DeprecationWarning)\n"
     ]
    }
   ],
   "source": [
    "from sklearn.cross_validation import train_test_split\n",
    "from sklearn import preprocessing\n",
    "X_train, X_test, y_train, y_test = train_test_split(X, y, test_size=0.3, random_state=34)\n",
    "X_train = sc.fit_transform(X_train)\n",
    "X_test = sc.transform(X_test)"
   ]
  },
  {
   "cell_type": "markdown",
   "metadata": {},
   "source": [
    "# Logistic Regression"
   ]
  },
  {
   "cell_type": "code",
   "execution_count": 25,
   "metadata": {
    "collapsed": true
   },
   "outputs": [],
   "source": [
    "from sklearn import metrics\n",
    "from sklearn.model_selection import KFold, cross_val_score\n",
    "from sklearn.pipeline import make_pipeline\n",
    "from sklearn.linear_model import LogisticRegression\n",
    "from sklearn import datasets, linear_model\n",
    "from sklearn.model_selection import train_test_split"
   ]
  },
  {
   "cell_type": "code",
   "execution_count": 26,
   "metadata": {},
   "outputs": [
    {
     "data": {
      "text/plain": [
       "0.84481950304735109"
      ]
     },
     "execution_count": 26,
     "metadata": {},
     "output_type": "execute_result"
    }
   ],
   "source": [
    "logreg = LogisticRegression()\n",
    "model = logreg.fit(X_train, y_train)\n",
    "predictions = logreg.predict(X_test)\n",
    "model.score(X_test, y_test)"
   ]
  },
  {
   "cell_type": "code",
   "execution_count": 27,
   "metadata": {},
   "outputs": [
    {
     "data": {
      "text/plain": [
       "0.84241454090944679"
      ]
     },
     "execution_count": 27,
     "metadata": {},
     "output_type": "execute_result"
    }
   ],
   "source": [
    "standardizer = StandardScaler()\n",
    "logit = LogisticRegression()\n",
    "pipeline = make_pipeline(standardizer, logit)\n",
    "# Create k-Fold cross-validation\n",
    "kf = KFold(n_splits=10, shuffle=True, random_state=1)\n",
    "# Do k-fold cross-validation\n",
    "cv_results = cross_val_score(pipeline,X,y,cv=kf,\n",
    "                             scoring=\"accuracy\") # Loss function\n",
    "                             #n_jobs=-1) # Use all CPU scores\n",
    "cv_results.mean()"
   ]
  },
  {
   "cell_type": "code",
   "execution_count": 28,
   "metadata": {},
   "outputs": [
    {
     "name": "stdout",
     "output_type": "stream",
     "text": [
      "Accuracy of logistic regression classifier on train set: 84.2923\n",
      "Accuracy of logistic regression classifier on test set: 84.482\n"
     ]
    }
   ],
   "source": [
    "logreg = LogisticRegression()\n",
    "logreg.fit(X_train, y_train)\n",
    "y_pred = logreg.predict(X_test)\n",
    "actr=np.round(100*logreg.score(X_train, y_train),4)\n",
    "acte=np.round(100*logreg.score(X_test, y_test),4)\n",
    "print('Accuracy of logistic regression classifier on train set:', actr)\n",
    "print('Accuracy of logistic regression classifier on test set:', acte)"
   ]
  },
  {
   "cell_type": "code",
   "execution_count": 29,
   "metadata": {},
   "outputs": [
    {
     "name": "stdout",
     "output_type": "stream",
     "text": [
      "[[ 584  765]\n",
      " [ 228 4822]]\n"
     ]
    }
   ],
   "source": [
    "from sklearn.metrics import confusion_matrix\n",
    "confusion_matrix = confusion_matrix(y_test, y_pred)\n",
    "print(confusion_matrix)"
   ]
  },
  {
   "cell_type": "code",
   "execution_count": 30,
   "metadata": {
    "collapsed": true
   },
   "outputs": [],
   "source": [
    "cm = metrics.confusion_matrix(y_test, y_pred)\n",
    "score = np.round(logreg.score(X_test, y_test)*100,4)"
   ]
  },
  {
   "cell_type": "code",
   "execution_count": 31,
   "metadata": {},
   "outputs": [
    {
     "data": {
      "image/png": "[encoded data removed]",
      "text/plain": [
       "<matplotlib.figure.Figure at 0x7f09f33e8a90>"
      ]
     },
     "metadata": {},
     "output_type": "display_data"
    }
   ],
   "source": [
    "plt.figure(figsize=(6,6))\n",
    "sns.heatmap(cm, annot=True, fmt=\".3f\", linewidths=.5, square = True, cmap = 'Blues_r');\n",
    "plt.ylabel('Actual label');\n",
    "plt.xlabel('Predicted label');\n",
    "all_sample_title = 'Accuracy Score: {0}'.format(score)\n",
    "plt.title(all_sample_title, size = 15)\n",
    "plt.show()"
   ]
  },
  {
   "cell_type": "code",
   "execution_count": 32,
   "metadata": {
    "collapsed": true
   },
   "outputs": [],
   "source": [
    "cm = cm.astype('float') / cm.sum(axis=1)[:, np.newaxis]"
   ]
  },
  {
   "cell_type": "code",
   "execution_count": 33,
   "metadata": {},
   "outputs": [
    {
     "data": {
      "image/png": "[encoded data removed]",
      "text/plain": [
       "<matplotlib.figure.Figure at 0x7f09f30629e8>"
      ]
     },
     "metadata": {},
     "output_type": "display_data"
    }
   ],
   "source": [
    "plt.figure(figsize=(6,6))\n",
    "sns.heatmap(cm, annot=True, fmt=\".3f\", linewidths=.5, square = True, cmap = 'Blues_r');\n",
    "plt.ylabel('Actual label');\n",
    "plt.xlabel('Predicted label');\n",
    "all_sample_title = 'Accuracy Score: {0}'.format(score)\n",
    "plt.title(all_sample_title, size = 15)\n",
    "plt.show()"
   ]
  },
  {
   "cell_type": "code",
   "execution_count": 34,
   "metadata": {},
   "outputs": [
    {
     "name": "stdout",
     "output_type": "stream",
     "text": [
      "             precision    recall  f1-score   support\n",
      "\n",
      "          0       0.72      0.43      0.54      1349\n",
      "          1       0.86      0.95      0.91      5050\n",
      "\n",
      "avg / total       0.83      0.84      0.83      6399\n",
      "\n"
     ]
    }
   ],
   "source": [
    "from sklearn.metrics import classification_report\n",
    "print(classification_report(y_test, y_pred))"
   ]
  },
  {
   "cell_type": "code",
   "execution_count": 35,
   "metadata": {},
   "outputs": [
    {
     "data": {
      "text/plain": [
       "array([0, 1, 1, ..., 1, 1, 1])"
      ]
     },
     "execution_count": 35,
     "metadata": {},
     "output_type": "execute_result"
    }
   ],
   "source": [
    "logreg.predict(X_test)"
   ]
  },
  {
   "cell_type": "code",
   "execution_count": 36,
   "metadata": {},
   "outputs": [
    {
     "data": {
      "text/plain": [
       "array([[ 0.7373659 ,  0.2626341 ],\n",
       "       [ 0.08496288,  0.91503712],\n",
       "       [ 0.09720649,  0.90279351],\n",
       "       ..., \n",
       "       [ 0.05328484,  0.94671516],\n",
       "       [ 0.04923737,  0.95076263],\n",
       "       [ 0.34964821,  0.65035179]])"
      ]
     },
     "execution_count": 36,
     "metadata": {},
     "output_type": "execute_result"
    }
   ],
   "source": [
    "logreg.predict_proba(X_test)"
   ]
  },
  {
   "cell_type": "code",
   "execution_count": 37,
   "metadata": {},
   "outputs": [
    {
     "data": {
      "text/plain": [
       "array([ 0.2626341 ,  0.91503712,  0.90279351, ...,  0.94671516,\n",
       "        0.95076263,  0.65035179])"
      ]
     },
     "execution_count": 37,
     "metadata": {},
     "output_type": "execute_result"
    }
   ],
   "source": [
    "logreg.predict_proba(X_test)[::,1]"
   ]
  },
  {
   "cell_type": "markdown",
   "metadata": {},
   "source": [
    "# Support Vector Machines"
   ]
  },
  {
   "cell_type": "code",
   "execution_count": 65,
   "metadata": {},
   "outputs": [
    {
     "data": {
      "text/plain": [
       "SVC(C=1.0, cache_size=200, class_weight='balanced', coef0=0.0,\n",
       "  decision_function_shape='ovr', degree=3, gamma='auto', kernel='linear',\n",
       "  max_iter=-1, probability=True, random_state=None, shrinking=True,\n",
       "  tol=0.001, verbose=False)"
      ]
     },
     "execution_count": 65,
     "metadata": {},
     "output_type": "execute_result"
    }
   ],
   "source": [
    "from sklearn.svm import SVC  \n",
    "svclassifier = SVC(kernel='linear', class_weight='balanced', probability=True)  \n",
    "svclassifier.fit(X_train, y_train)"
   ]
  },
  {
   "cell_type": "code",
   "execution_count": 66,
   "metadata": {
    "collapsed": true
   },
   "outputs": [],
   "source": [
    "y_pred = svclassifier.predict(X_test)\n",
    "#y_pred = svclassifier.predict_proba(X_test)"
   ]
  },
  {
   "cell_type": "code",
   "execution_count": 67,
   "metadata": {},
   "outputs": [
    {
     "name": "stdout",
     "output_type": "stream",
     "text": [
      "Accuracy of SVM classifier on train set: 77.8535\n",
      "Accuracy of SVM classifier on test set: 78.2565\n"
     ]
    }
   ],
   "source": [
    "svactr=np.round(100*svclassifier.score(X_train, y_train),4)\n",
    "svacte=np.round(100*svclassifier.score(X_test, y_test),4)\n",
    "print('Accuracy of SVM classifier on train set:', svactr)\n",
    "print('Accuracy of SVM classifier on test set:', svacte)"
   ]
  },
  {
   "cell_type": "code",
   "execution_count": 68,
   "metadata": {},
   "outputs": [
    {
     "data": {
      "text/plain": [
       "0.78256469567731679"
      ]
     },
     "execution_count": 68,
     "metadata": {},
     "output_type": "execute_result"
    }
   ],
   "source": [
    "metrics.accuracy_score(y_test, y_pred)"
   ]
  },
  {
   "cell_type": "markdown",
   "metadata": {},
   "source": [
    "# Random Forest"
   ]
  },
  {
   "cell_type": "code",
   "execution_count": 38,
   "metadata": {},
   "outputs": [
    {
     "name": "stdout",
     "output_type": "stream",
     "text": [
      "Accuracy test: 83.4818\n",
      "Accuracy train: 99.3704\n"
     ]
    }
   ],
   "source": [
    "from sklearn.model_selection import RandomizedSearchCV\n",
    "from sklearn.ensemble import RandomForestClassifier\n",
    "\n",
    "clf=RandomForestClassifier(n_estimators=10, random_state = 42)\n",
    "clf.fit(X_train,y_train)\n",
    "y_pred=clf.predict(X_test)\n",
    "ttac=np.round(metrics.accuracy_score(y_test, y_pred)*100,4)\n",
    "trac=np.round(clf.score(X_train, y_train)*100,4)\n",
    "print(\"Accuracy test:\",ttac)\n",
    "print(\"Accuracy train:\",trac)"
   ]
  },
  {
   "cell_type": "code",
   "execution_count": 39,
   "metadata": {},
   "outputs": [
    {
     "name": "stdout",
     "output_type": "stream",
     "text": [
      "Accuracy test: 85.6384\n",
      "Accuracy train: 99.3704\n"
     ]
    }
   ],
   "source": [
    "clf1=RandomForestClassifier(n_estimators=100, random_state = 42)\n",
    "clf1.fit(X_train,y_train)\n",
    "y_pred=clf1.predict(X_test)\n",
    "print(\"Accuracy test:\",np.round(metrics.accuracy_score(y_test, y_pred)*100,4))\n",
    "print(\"Accuracy train:\",np.round(clf.score(X_train, y_train)*100,4))"
   ]
  },
  {
   "cell_type": "markdown",
   "metadata": {},
   "source": [
    "Put more trees is not the solution! OVERFITTING"
   ]
  },
  {
   "cell_type": "code",
   "execution_count": 40,
   "metadata": {},
   "outputs": [
    {
     "data": {
      "text/plain": [
       "0.85910548435247414"
      ]
     },
     "execution_count": 40,
     "metadata": {},
     "output_type": "execute_result"
    }
   ],
   "source": [
    "RFC = RandomForestClassifier(n_estimators=100)\n",
    "scores = cross_val_score(RFC, X, y, cv = 10, scoring='accuracy')\n",
    "scores.mean()"
   ]
  },
  {
   "cell_type": "code",
   "execution_count": 41,
   "metadata": {},
   "outputs": [
    {
     "data": {
      "text/plain": [
       "0.85997812158149711"
      ]
     },
     "execution_count": 41,
     "metadata": {},
     "output_type": "execute_result"
    }
   ],
   "source": [
    "RFC.fit(X_train,y_train)\n",
    "y_pred=RFC.predict(X_test)\n",
    "metrics.accuracy_score(y_test, y_pred)"
   ]
  },
  {
   "cell_type": "code",
   "execution_count": 42,
   "metadata": {},
   "outputs": [
    {
     "data": {
      "text/plain": [
       "1.0"
      ]
     },
     "execution_count": 42,
     "metadata": {},
     "output_type": "execute_result"
    }
   ],
   "source": [
    "RFC.score(X_train, y_train)"
   ]
  },
  {
   "cell_type": "code",
   "execution_count": 43,
   "metadata": {
    "collapsed": true
   },
   "outputs": [],
   "source": [
    "feature_imp = pd.Series(RFC.feature_importances_,index=x).sort_values(ascending=False)[:50]"
   ]
  },
  {
   "cell_type": "code",
   "execution_count": 44,
   "metadata": {},
   "outputs": [
    {
     "data": {
      "image/png": "[encoded data removed]",
      "text/plain": [
       "<matplotlib.figure.Figure at 0x7f09f2fb31d0>"
      ]
     },
     "metadata": {},
     "output_type": "display_data"
    }
   ],
   "source": [
    "%matplotlib inline\n",
    "plt.figure(figsize=(5,12.5))\n",
    "# Creating a bar plot\n",
    "sns.barplot(x=feature_imp, y=feature_imp.index, color='steelblue')\n",
    "# Add labels to your graph\n",
    "plt.xlabel('Feature Importance Score')\n",
    "plt.ylabel('Features')\n",
    "plt.title('Visualizing 50 Most Important Features')\n",
    "plt.legend()\n",
    "plt.show()"
   ]
  },
  {
   "cell_type": "code",
   "execution_count": 45,
   "metadata": {},
   "outputs": [
    {
     "data": {
      "image/png": "[encoded data removed]",
      "text/plain": [
       "<matplotlib.figure.Figure at 0x7f09fb86c1d0>"
      ]
     },
     "metadata": {},
     "output_type": "display_data"
    }
   ],
   "source": [
    "importance = RFC.feature_importances_\n",
    "importance = pd.DataFrame(importance, index=x, columns=[\"Importance\"])\n",
    "importance[\"Std\"] = np.std([tree.feature_importances_\n",
    "                            for tree in RFC.estimators_], axis=0)\n",
    "x = range(importance.shape[0])\n",
    "y = importance.ix[:, 0]\n",
    "yerr = importance.ix[:, 1]\n",
    "plt.bar(x, y, yerr=yerr, align=\"center\")\n",
    "plt.show()"
   ]
  },
  {
   "cell_type": "code",
   "execution_count": 46,
   "metadata": {
    "collapsed": true
   },
   "outputs": [],
   "source": [
    "importance=importance.sort_values(by='Importance', ascending=False)"
   ]
  },
  {
   "cell_type": "code",
   "execution_count": 47,
   "metadata": {},
   "outputs": [
    {
     "data": {
      "image/png": "[encoded data removed]",
      "text/plain": [
       "<matplotlib.figure.Figure at 0x7f09f1d3c4e0>"
      ]
     },
     "metadata": {},
     "output_type": "display_data"
    }
   ],
   "source": [
    "plt.figure(figsize=(20,8))\n",
    "x = range(importance.shape[0])\n",
    "y = importance.ix[:, 0]\n",
    "yerr = importance.ix[:, 1]\n",
    "plt.bar(x, y, yerr=yerr, align=\"center\")\n",
    "LABELS = importance.index\n",
    "plt.xticks(x, LABELS, rotation='vertical')\n",
    "plt.ylabel('Feature Importance Score')\n",
    "#plt.margins(0.2)\n",
    "#plt.subplots_adjust(bottom=0.25)\n",
    "plt.savefig('Rich12features_Surv.eps', format='eps', dpi=1200)\n",
    "plt.show()"
   ]
  },
  {
   "cell_type": "code",
   "execution_count": 48,
   "metadata": {},
   "outputs": [
    {
     "data": {
      "image/png": "[encoded data removed]",
      "text/plain": [
       "<matplotlib.figure.Figure at 0x7f09f1c1bf98>"
      ]
     },
     "metadata": {},
     "output_type": "display_data"
    }
   ],
   "source": [
    "%matplotlib inline\n",
    "plt.figure(figsize=(5,12.5))\n",
    "sns.barplot(x=importance.Importance, y=importance.index,ci='sd', color='steelblue')\n",
    "#sns.barplot(x=importance.Importance, y=importance.index, data=importance)\n",
    "plt.xlabel('Feature Importance Score')\n",
    "plt.ylabel('Features')\n",
    "plt.title('Visualizing 50 Most Important Features')\n",
    "plt.legend()\n",
    "plt.show()"
   ]
  },
  {
   "cell_type": "code",
   "execution_count": 49,
   "metadata": {
    "collapsed": true
   },
   "outputs": [],
   "source": [
    "#from sklearn import svm\n",
    "#clf = svm.SVC(kernel='linear', C=10).fit(X_train, y_train)\n",
    "#clf.score(X_test, y_test)  \n",
    "#clf.score(X_train, y_train)"
   ]
  },
  {
   "cell_type": "markdown",
   "metadata": {},
   "source": [
    "# Random Forest Classifier"
   ]
  },
  {
   "cell_type": "code",
   "execution_count": 73,
   "metadata": {},
   "outputs": [],
   "source": [
    "from sklearn.model_selection import cross_val_predict\n",
    "predicted = cross_val_predict(RFC, X, y, cv=10, method='predict_proba')\n",
    "predicted1 = cross_val_predict(RFC, X, y, cv=10)\n",
    "acrff=np.round(metrics.accuracy_score(y, predicted1)*100,4) "
   ]
  },
  {
   "cell_type": "markdown",
   "metadata": {},
   "source": [
    "# Log Reg"
   ]
  },
  {
   "cell_type": "code",
   "execution_count": 74,
   "metadata": {
    "collapsed": true
   },
   "outputs": [],
   "source": [
    "logreg = LogisticRegression()\n",
    "pp = cross_val_predict(logreg, X, y, cv=10, method='predict_proba')\n",
    "pp1= cross_val_predict(logreg, X, y, cv=10)\n",
    "mmmm=np.round(metrics.accuracy_score(y, pp1)*100,4)"
   ]
  },
  {
   "cell_type": "code",
   "execution_count": 75,
   "metadata": {
    "collapsed": true
   },
   "outputs": [],
   "source": [
    "#from sklearn import svm\n",
    "#clf = svm.SVC(kernel='linear', C=10, probability=True, class_weight='balanced') \n",
    "#kk = cross_val_predict(clf, X, y, cv=10, method='predict_proba')\n",
    "#kk1= cross_val_predict(clf, X, y, cv=10)\n",
    "#kkkk=np.round(metrics.accuracy_score(y, kk1)*100,4)"
   ]
  },
  {
   "cell_type": "markdown",
   "metadata": {
    "collapsed": true
   },
   "source": [
    "# Tune Random Forest"
   ]
  },
  {
   "cell_type": "markdown",
   "metadata": {},
   "source": [
    "We need to tune! I use a regression that we are going to convert via a cut in the probability prediction"
   ]
  },
  {
   "cell_type": "code",
   "execution_count": 82,
   "metadata": {},
   "outputs": [
    {
     "name": "stdout",
     "output_type": "stream",
     "text": [
      "Parameters currently in use:\n",
      "\n",
      "{'bootstrap': True,\n",
      " 'criterion': 'mse',\n",
      " 'max_depth': None,\n",
      " 'max_features': 'auto',\n",
      " 'max_leaf_nodes': None,\n",
      " 'min_impurity_decrease': 0.0,\n",
      " 'min_impurity_split': None,\n",
      " 'min_samples_leaf': 1,\n",
      " 'min_samples_split': 2,\n",
      " 'min_weight_fraction_leaf': 0.0,\n",
      " 'n_estimators': 10,\n",
      " 'n_jobs': 1,\n",
      " 'oob_score': False,\n",
      " 'random_state': 42,\n",
      " 'verbose': 0,\n",
      " 'warm_start': False}\n"
     ]
    }
   ],
   "source": [
    "from sklearn.ensemble import RandomForestRegressor\n",
    "rf = RandomForestRegressor(random_state = 42)\n",
    "from pprint import pprint\n",
    "\n",
    "# Look at parameters used by our current forest\n",
    "print('Parameters currently in use:\\n')\n",
    "pprint(rf.get_params())"
   ]
  },
  {
   "cell_type": "code",
   "execution_count": 83,
   "metadata": {},
   "outputs": [
    {
     "name": "stdout",
     "output_type": "stream",
     "text": [
      "{'bootstrap': [True, False],\n",
      " 'max_depth': [10, 20, 30, 40, 50, 60, 70, 80, 90, 100, 110, None],\n",
      " 'max_features': ['auto', 'sqrt'],\n",
      " 'min_samples_leaf': [1, 2, 4],\n",
      " 'min_samples_split': [2, 5, 10],\n",
      " 'n_estimators': [200, 300]}\n"
     ]
    }
   ],
   "source": [
    "from sklearn.model_selection import RandomizedSearchCV\n",
    "\n",
    "# Number of trees in random forest\n",
    "n_estimators = [int(x) for x in np.linspace(start = 200, stop = 300, num = 2)]\n",
    "# Number of features to consider at every split\n",
    "max_features = ['auto', 'sqrt']\n",
    "# Maximum number of levels in tree\n",
    "max_depth = [int(x) for x in np.linspace(10, 110, num = 11)]\n",
    "max_depth.append(None)\n",
    "# Minimum number of samples required to split a node\n",
    "min_samples_split = [2, 5, 10]\n",
    "# Minimum number of samples required at each leaf node\n",
    "min_samples_leaf = [1, 2, 4]\n",
    "# Method of selecting samples for training each tree\n",
    "bootstrap = [True, False]\n",
    "\n",
    "# Create the random grid\n",
    "random_grid = {'n_estimators': n_estimators,\n",
    "               'max_features': max_features,\n",
    "               'max_depth': max_depth,\n",
    "               'min_samples_split': min_samples_split,\n",
    "               'min_samples_leaf': min_samples_leaf,\n",
    "               'bootstrap': bootstrap}\n",
    "\n",
    "pprint(random_grid)"
   ]
  },
  {
   "cell_type": "code",
   "execution_count": 84,
   "metadata": {
    "scrolled": true
   },
   "outputs": [
    {
     "name": "stdout",
     "output_type": "stream",
     "text": [
      "Fitting 3 folds for each of 100 candidates, totalling 300 fits\n",
      "[CV] n_estimators=200, min_samples_split=2, min_samples_leaf=1, max_features=sqrt, max_depth=60, bootstrap=True \n",
      "[CV] n_estimators=200, min_samples_split=2, min_samples_leaf=1, max_features=sqrt, max_depth=60, bootstrap=True \n",
      "[CV] n_estimators=200, min_samples_split=2, min_samples_leaf=1, max_features=sqrt, max_depth=60, bootstrap=True \n",
      "[CV] n_estimators=200, min_samples_split=2, min_samples_leaf=1, max_features=auto, max_depth=90, bootstrap=False \n",
      "[CV]  n_estimators=200, min_samples_split=2, min_samples_leaf=1, max_features=sqrt, max_depth=60, bootstrap=True, total=   5.9s\n",
      "[CV] n_estimators=200, min_samples_split=2, min_samples_leaf=1, max_features=auto, max_depth=90, bootstrap=False \n",
      "[CV]  n_estimators=200, min_samples_split=2, min_samples_leaf=1, max_features=sqrt, max_depth=60, bootstrap=True, total=   7.0s\n",
      "[CV] n_estimators=200, min_samples_split=2, min_samples_leaf=1, max_features=auto, max_depth=90, bootstrap=False \n",
      "[CV]  n_estimators=200, min_samples_split=2, min_samples_leaf=1, max_features=sqrt, max_depth=60, bootstrap=True, total=   6.9s\n",
      "[CV] n_estimators=300, min_samples_split=10, min_samples_leaf=1, max_features=sqrt, max_depth=60, bootstrap=False \n",
      "[CV]  n_estimators=300, min_samples_split=10, min_samples_leaf=1, max_features=sqrt, max_depth=60, bootstrap=False, total=  21.3s\n",
      "[CV] n_estimators=300, min_samples_split=10, min_samples_leaf=1, max_features=sqrt, max_depth=60, bootstrap=False \n",
      "[CV]  n_estimators=300, min_samples_split=10, min_samples_leaf=1, max_features=sqrt, max_depth=60, bootstrap=False, total=  23.6s\n",
      "[CV] n_estimators=300, min_samples_split=10, min_samples_leaf=1, max_features=sqrt, max_depth=60, bootstrap=False \n",
      "[CV]  n_estimators=300, min_samples_split=10, min_samples_leaf=1, max_features=sqrt, max_depth=60, bootstrap=False, total=  22.5s\n",
      "[CV] n_estimators=300, min_samples_split=5, min_samples_leaf=1, max_features=sqrt, max_depth=90, bootstrap=True \n",
      "[CV]  n_estimators=300, min_samples_split=5, min_samples_leaf=1, max_features=sqrt, max_depth=90, bootstrap=True, total=  12.4s\n",
      "[CV] n_estimators=300, min_samples_split=5, min_samples_leaf=1, max_features=sqrt, max_depth=90, bootstrap=True \n",
      "[CV]  n_estimators=300, min_samples_split=5, min_samples_leaf=1, max_features=sqrt, max_depth=90, bootstrap=True, total=  12.9s\n",
      "[CV] n_estimators=300, min_samples_split=5, min_samples_leaf=1, max_features=sqrt, max_depth=90, bootstrap=True \n",
      "[CV]  n_estimators=200, min_samples_split=2, min_samples_leaf=1, max_features=auto, max_depth=90, bootstrap=False, total= 1.8min\n",
      "[CV] n_estimators=300, min_samples_split=10, min_samples_leaf=1, max_features=sqrt, max_depth=10, bootstrap=True \n",
      "[CV]  n_estimators=200, min_samples_split=2, min_samples_leaf=1, max_features=auto, max_depth=90, bootstrap=False, total= 1.8min\n",
      "[CV] n_estimators=300, min_samples_split=10, min_samples_leaf=1, max_features=sqrt, max_depth=10, bootstrap=True \n",
      "[CV]  n_estimators=300, min_samples_split=10, min_samples_leaf=1, max_features=sqrt, max_depth=10, bootstrap=True, total=   8.9s\n",
      "[CV] n_estimators=300, min_samples_split=10, min_samples_leaf=1, max_features=sqrt, max_depth=10, bootstrap=True \n",
      "[CV]  n_estimators=300, min_samples_split=5, min_samples_leaf=1, max_features=sqrt, max_depth=90, bootstrap=True, total=  13.8s\n",
      "[CV] n_estimators=300, min_samples_split=10, min_samples_leaf=2, max_features=auto, max_depth=90, bootstrap=True \n",
      "[CV]  n_estimators=300, min_samples_split=10, min_samples_leaf=1, max_features=sqrt, max_depth=10, bootstrap=True, total=   7.8s\n",
      "[CV] n_estimators=300, min_samples_split=10, min_samples_leaf=2, max_features=auto, max_depth=90, bootstrap=True \n",
      "[CV]  n_estimators=200, min_samples_split=2, min_samples_leaf=1, max_features=auto, max_depth=90, bootstrap=False, total= 1.9min\n",
      "[CV] n_estimators=300, min_samples_split=10, min_samples_leaf=2, max_features=auto, max_depth=90, bootstrap=True \n",
      "[CV]  n_estimators=300, min_samples_split=10, min_samples_leaf=1, max_features=sqrt, max_depth=10, bootstrap=True, total=   8.7s\n",
      "[CV] n_estimators=300, min_samples_split=10, min_samples_leaf=4, max_features=auto, max_depth=50, bootstrap=False \n",
      "[CV]  n_estimators=300, min_samples_split=10, min_samples_leaf=2, max_features=auto, max_depth=90, bootstrap=True, total= 1.6min\n",
      "[CV] n_estimators=300, min_samples_split=10, min_samples_leaf=4, max_features=auto, max_depth=50, bootstrap=False \n",
      "[CV]  n_estimators=300, min_samples_split=10, min_samples_leaf=2, max_features=auto, max_depth=90, bootstrap=True, total= 1.6min\n",
      "[CV] n_estimators=300, min_samples_split=10, min_samples_leaf=4, max_features=auto, max_depth=50, bootstrap=False \n",
      "[CV]  n_estimators=300, min_samples_split=10, min_samples_leaf=2, max_features=auto, max_depth=90, bootstrap=True, total= 1.6min\n",
      "[CV] n_estimators=200, min_samples_split=10, min_samples_leaf=2, max_features=auto, max_depth=90, bootstrap=True \n",
      "[CV]  n_estimators=300, min_samples_split=10, min_samples_leaf=4, max_features=auto, max_depth=50, bootstrap=False, total= 2.2min\n",
      "[CV] n_estimators=200, min_samples_split=10, min_samples_leaf=2, max_features=auto, max_depth=90, bootstrap=True \n",
      "[CV]  n_estimators=200, min_samples_split=10, min_samples_leaf=2, max_features=auto, max_depth=90, bootstrap=True, total= 1.1min\n",
      "[CV] n_estimators=200, min_samples_split=10, min_samples_leaf=2, max_features=auto, max_depth=90, bootstrap=True \n",
      "[CV]  n_estimators=200, min_samples_split=10, min_samples_leaf=2, max_features=auto, max_depth=90, bootstrap=True, total= 1.0min\n",
      "[CV] n_estimators=300, min_samples_split=10, min_samples_leaf=4, max_features=auto, max_depth=20, bootstrap=False \n",
      "[CV]  n_estimators=300, min_samples_split=10, min_samples_leaf=4, max_features=auto, max_depth=50, bootstrap=False, total= 2.2min\n",
      "[CV] n_estimators=300, min_samples_split=10, min_samples_leaf=4, max_features=auto, max_depth=20, bootstrap=False \n",
      "[CV]  n_estimators=200, min_samples_split=10, min_samples_leaf=2, max_features=auto, max_depth=90, bootstrap=True, total= 1.1min\n",
      "[CV] n_estimators=300, min_samples_split=10, min_samples_leaf=4, max_features=auto, max_depth=20, bootstrap=False \n",
      "[CV]  n_estimators=300, min_samples_split=10, min_samples_leaf=4, max_features=auto, max_depth=50, bootstrap=False, total= 2.3min\n",
      "[CV] n_estimators=300, min_samples_split=2, min_samples_leaf=4, max_features=auto, max_depth=60, bootstrap=False \n",
      "[CV]  n_estimators=300, min_samples_split=10, min_samples_leaf=4, max_features=auto, max_depth=20, bootstrap=False, total= 2.1min\n",
      "[CV] n_estimators=300, min_samples_split=2, min_samples_leaf=4, max_features=auto, max_depth=60, bootstrap=False \n",
      "[CV]  n_estimators=300, min_samples_split=10, min_samples_leaf=4, max_features=auto, max_depth=20, bootstrap=False, total= 2.1min\n",
      "[CV] n_estimators=300, min_samples_split=2, min_samples_leaf=4, max_features=auto, max_depth=60, bootstrap=False \n",
      "[CV]  n_estimators=300, min_samples_split=10, min_samples_leaf=4, max_features=auto, max_depth=20, bootstrap=False, total= 2.2min\n",
      "[CV] n_estimators=300, min_samples_split=5, min_samples_leaf=4, max_features=sqrt, max_depth=110, bootstrap=True \n",
      "[CV]  n_estimators=300, min_samples_split=2, min_samples_leaf=4, max_features=auto, max_depth=60, bootstrap=False, total= 2.3min\n",
      "[CV] n_estimators=300, min_samples_split=5, min_samples_leaf=4, max_features=sqrt, max_depth=110, bootstrap=True \n",
      "[CV]  n_estimators=300, min_samples_split=5, min_samples_leaf=4, max_features=sqrt, max_depth=110, bootstrap=True, total=  12.7s\n",
      "[CV] n_estimators=300, min_samples_split=5, min_samples_leaf=4, max_features=sqrt, max_depth=110, bootstrap=True \n",
      "[CV]  n_estimators=300, min_samples_split=5, min_samples_leaf=4, max_features=sqrt, max_depth=110, bootstrap=True, total=  12.4s\n",
      "[CV] n_estimators=200, min_samples_split=10, min_samples_leaf=1, max_features=sqrt, max_depth=100, bootstrap=False \n",
      "[CV]  n_estimators=300, min_samples_split=5, min_samples_leaf=4, max_features=sqrt, max_depth=110, bootstrap=True, total=  11.8s\n",
      "[CV] n_estimators=200, min_samples_split=10, min_samples_leaf=1, max_features=sqrt, max_depth=100, bootstrap=False \n",
      "[CV]  n_estimators=200, min_samples_split=10, min_samples_leaf=1, max_features=sqrt, max_depth=100, bootstrap=False, total=  14.4s\n"
     ]
    },
    {
     "name": "stdout",
     "output_type": "stream",
     "text": [
      "[CV] n_estimators=200, min_samples_split=10, min_samples_leaf=1, max_features=sqrt, max_depth=100, bootstrap=False \n",
      "[CV]  n_estimators=200, min_samples_split=10, min_samples_leaf=1, max_features=sqrt, max_depth=100, bootstrap=False, total=  12.7s\n",
      "[CV] n_estimators=300, min_samples_split=2, min_samples_leaf=1, max_features=sqrt, max_depth=60, bootstrap=False \n"
     ]
    },
    {
     "name": "stderr",
     "output_type": "stream",
     "text": [
      "[Parallel(n_jobs=-1)]: Done  33 tasks      | elapsed:  8.8min\n"
     ]
    },
    {
     "name": "stdout",
     "output_type": "stream",
     "text": [
      "[CV]  n_estimators=200, min_samples_split=10, min_samples_leaf=1, max_features=sqrt, max_depth=100, bootstrap=False, total=  13.7s\n",
      "[CV] n_estimators=300, min_samples_split=2, min_samples_leaf=1, max_features=sqrt, max_depth=60, bootstrap=False \n",
      "[CV]  n_estimators=300, min_samples_split=2, min_samples_leaf=1, max_features=sqrt, max_depth=60, bootstrap=False, total=  21.0s\n",
      "[CV] n_estimators=300, min_samples_split=2, min_samples_leaf=1, max_features=sqrt, max_depth=60, bootstrap=False \n",
      "[CV]  n_estimators=300, min_samples_split=2, min_samples_leaf=1, max_features=sqrt, max_depth=60, bootstrap=False, total=  20.3s\n",
      "[CV] n_estimators=200, min_samples_split=5, min_samples_leaf=4, max_features=sqrt, max_depth=10, bootstrap=False \n",
      "[CV]  n_estimators=200, min_samples_split=5, min_samples_leaf=4, max_features=sqrt, max_depth=10, bootstrap=False, total=   8.1s\n",
      "[CV] n_estimators=200, min_samples_split=5, min_samples_leaf=4, max_features=sqrt, max_depth=10, bootstrap=False \n",
      "[CV]  n_estimators=300, min_samples_split=2, min_samples_leaf=1, max_features=sqrt, max_depth=60, bootstrap=False, total=  20.9s\n",
      "[CV] n_estimators=200, min_samples_split=5, min_samples_leaf=4, max_features=sqrt, max_depth=10, bootstrap=False \n",
      "[CV]  n_estimators=200, min_samples_split=5, min_samples_leaf=4, max_features=sqrt, max_depth=10, bootstrap=False, total=   8.1s\n",
      "[CV] n_estimators=200, min_samples_split=10, min_samples_leaf=4, max_features=sqrt, max_depth=70, bootstrap=False \n",
      "[CV]  n_estimators=200, min_samples_split=5, min_samples_leaf=4, max_features=sqrt, max_depth=10, bootstrap=False, total=   9.2s\n",
      "[CV] n_estimators=200, min_samples_split=10, min_samples_leaf=4, max_features=sqrt, max_depth=70, bootstrap=False \n",
      "[CV]  n_estimators=300, min_samples_split=2, min_samples_leaf=4, max_features=auto, max_depth=60, bootstrap=False, total= 2.3min\n",
      "[CV] n_estimators=200, min_samples_split=10, min_samples_leaf=4, max_features=sqrt, max_depth=70, bootstrap=False \n",
      "[CV]  n_estimators=200, min_samples_split=10, min_samples_leaf=4, max_features=sqrt, max_depth=70, bootstrap=False, total=  11.2s\n",
      "[CV] n_estimators=300, min_samples_split=2, min_samples_leaf=2, max_features=sqrt, max_depth=90, bootstrap=False \n",
      "[CV]  n_estimators=200, min_samples_split=10, min_samples_leaf=4, max_features=sqrt, max_depth=70, bootstrap=False, total=  13.2s\n",
      "[CV] n_estimators=300, min_samples_split=2, min_samples_leaf=2, max_features=sqrt, max_depth=90, bootstrap=False \n",
      "[CV]  n_estimators=200, min_samples_split=10, min_samples_leaf=4, max_features=sqrt, max_depth=70, bootstrap=False, total=  12.2s\n",
      "[CV] n_estimators=300, min_samples_split=2, min_samples_leaf=2, max_features=sqrt, max_depth=90, bootstrap=False \n",
      "[CV]  n_estimators=300, min_samples_split=2, min_samples_leaf=2, max_features=sqrt, max_depth=90, bootstrap=False, total=  18.6s\n",
      "[CV] n_estimators=300, min_samples_split=2, min_samples_leaf=4, max_features=sqrt, max_depth=20, bootstrap=True \n",
      "[CV]  n_estimators=300, min_samples_split=2, min_samples_leaf=2, max_features=sqrt, max_depth=90, bootstrap=False, total=  18.9s\n",
      "[CV] n_estimators=300, min_samples_split=2, min_samples_leaf=4, max_features=sqrt, max_depth=20, bootstrap=True \n",
      "[CV]  n_estimators=300, min_samples_split=2, min_samples_leaf=4, max_features=auto, max_depth=60, bootstrap=False, total= 2.4min\n",
      "[CV] n_estimators=300, min_samples_split=2, min_samples_leaf=4, max_features=sqrt, max_depth=20, bootstrap=True \n",
      "[CV]  n_estimators=300, min_samples_split=2, min_samples_leaf=2, max_features=sqrt, max_depth=90, bootstrap=False, total=  20.9s\n",
      "[CV] n_estimators=300, min_samples_split=5, min_samples_leaf=1, max_features=sqrt, max_depth=None, bootstrap=False \n",
      "[CV]  n_estimators=300, min_samples_split=2, min_samples_leaf=4, max_features=sqrt, max_depth=20, bootstrap=True, total=  12.0s\n",
      "[CV] n_estimators=300, min_samples_split=5, min_samples_leaf=1, max_features=sqrt, max_depth=None, bootstrap=False \n",
      "[CV]  n_estimators=300, min_samples_split=2, min_samples_leaf=4, max_features=sqrt, max_depth=20, bootstrap=True, total=  12.1s\n",
      "[CV] n_estimators=300, min_samples_split=5, min_samples_leaf=1, max_features=sqrt, max_depth=None, bootstrap=False \n",
      "[CV]  n_estimators=300, min_samples_split=2, min_samples_leaf=4, max_features=sqrt, max_depth=20, bootstrap=True, total=  12.3s\n",
      "[CV] n_estimators=200, min_samples_split=5, min_samples_leaf=4, max_features=sqrt, max_depth=80, bootstrap=False \n",
      "[CV]  n_estimators=300, min_samples_split=5, min_samples_leaf=1, max_features=sqrt, max_depth=None, bootstrap=False, total=  21.0s\n",
      "[CV] n_estimators=200, min_samples_split=5, min_samples_leaf=4, max_features=sqrt, max_depth=80, bootstrap=False \n",
      "[CV]  n_estimators=200, min_samples_split=5, min_samples_leaf=4, max_features=sqrt, max_depth=80, bootstrap=False, total=  11.1s\n",
      "[CV] n_estimators=200, min_samples_split=5, min_samples_leaf=4, max_features=sqrt, max_depth=80, bootstrap=False \n",
      "[CV]  n_estimators=300, min_samples_split=5, min_samples_leaf=1, max_features=sqrt, max_depth=None, bootstrap=False, total=  22.1s\n",
      "[CV] n_estimators=200, min_samples_split=2, min_samples_leaf=2, max_features=sqrt, max_depth=30, bootstrap=True \n",
      "[CV]  n_estimators=300, min_samples_split=5, min_samples_leaf=1, max_features=sqrt, max_depth=None, bootstrap=False, total=  21.5s\n",
      "[CV] n_estimators=200, min_samples_split=2, min_samples_leaf=2, max_features=sqrt, max_depth=30, bootstrap=True \n",
      "[CV]  n_estimators=200, min_samples_split=5, min_samples_leaf=4, max_features=sqrt, max_depth=80, bootstrap=False, total=  11.2s\n",
      "[CV] n_estimators=200, min_samples_split=2, min_samples_leaf=2, max_features=sqrt, max_depth=30, bootstrap=True \n",
      "[CV]  n_estimators=200, min_samples_split=2, min_samples_leaf=2, max_features=sqrt, max_depth=30, bootstrap=True, total=   9.1s\n",
      "[CV] n_estimators=200, min_samples_split=10, min_samples_leaf=4, max_features=auto, max_depth=70, bootstrap=False \n",
      "[CV]  n_estimators=200, min_samples_split=5, min_samples_leaf=4, max_features=sqrt, max_depth=80, bootstrap=False, total=  12.7s\n",
      "[CV] n_estimators=200, min_samples_split=10, min_samples_leaf=4, max_features=auto, max_depth=70, bootstrap=False \n",
      "[CV]  n_estimators=200, min_samples_split=2, min_samples_leaf=2, max_features=sqrt, max_depth=30, bootstrap=True, total=   8.4s\n",
      "[CV] n_estimators=200, min_samples_split=10, min_samples_leaf=4, max_features=auto, max_depth=70, bootstrap=False \n",
      "[CV]  n_estimators=200, min_samples_split=2, min_samples_leaf=2, max_features=sqrt, max_depth=30, bootstrap=True, total=   9.0s\n",
      "[CV] n_estimators=300, min_samples_split=10, min_samples_leaf=2, max_features=auto, max_depth=70, bootstrap=False \n",
      "[CV]  n_estimators=200, min_samples_split=10, min_samples_leaf=4, max_features=auto, max_depth=70, bootstrap=False, total= 1.4min\n",
      "[CV] n_estimators=300, min_samples_split=10, min_samples_leaf=2, max_features=auto, max_depth=70, bootstrap=False \n",
      "[CV]  n_estimators=200, min_samples_split=10, min_samples_leaf=4, max_features=auto, max_depth=70, bootstrap=False, total= 1.5min\n",
      "[CV] n_estimators=300, min_samples_split=10, min_samples_leaf=2, max_features=auto, max_depth=70, bootstrap=False \n",
      "[CV]  n_estimators=200, min_samples_split=10, min_samples_leaf=4, max_features=auto, max_depth=70, bootstrap=False, total= 1.5min\n",
      "[CV] n_estimators=200, min_samples_split=5, min_samples_leaf=4, max_features=sqrt, max_depth=20, bootstrap=False \n",
      "[CV]  n_estimators=200, min_samples_split=5, min_samples_leaf=4, max_features=sqrt, max_depth=20, bootstrap=False, total=  12.2s\n",
      "[CV] n_estimators=200, min_samples_split=5, min_samples_leaf=4, max_features=sqrt, max_depth=20, bootstrap=False \n",
      "[CV]  n_estimators=200, min_samples_split=5, min_samples_leaf=4, max_features=sqrt, max_depth=20, bootstrap=False, total=  11.8s\n",
      "[CV] n_estimators=200, min_samples_split=5, min_samples_leaf=4, max_features=sqrt, max_depth=20, bootstrap=False \n",
      "[CV]  n_estimators=200, min_samples_split=5, min_samples_leaf=4, max_features=sqrt, max_depth=20, bootstrap=False, total=  12.2s\n",
      "[CV] n_estimators=300, min_samples_split=10, min_samples_leaf=1, max_features=auto, max_depth=50, bootstrap=False \n",
      "[CV]  n_estimators=300, min_samples_split=10, min_samples_leaf=2, max_features=auto, max_depth=70, bootstrap=False, total= 2.5min\n",
      "[CV] n_estimators=300, min_samples_split=10, min_samples_leaf=1, max_features=auto, max_depth=50, bootstrap=False \n"
     ]
    },
    {
     "name": "stdout",
     "output_type": "stream",
     "text": [
      "[CV]  n_estimators=300, min_samples_split=10, min_samples_leaf=2, max_features=auto, max_depth=70, bootstrap=False, total= 2.4min\n",
      "[CV] n_estimators=300, min_samples_split=10, min_samples_leaf=1, max_features=auto, max_depth=50, bootstrap=False \n",
      "[CV]  n_estimators=300, min_samples_split=10, min_samples_leaf=2, max_features=auto, max_depth=70, bootstrap=False, total= 2.5min\n",
      "[CV] n_estimators=200, min_samples_split=5, min_samples_leaf=4, max_features=auto, max_depth=30, bootstrap=True \n",
      "[CV]  n_estimators=300, min_samples_split=10, min_samples_leaf=1, max_features=auto, max_depth=50, bootstrap=False, total= 2.6min\n",
      "[CV] n_estimators=200, min_samples_split=5, min_samples_leaf=4, max_features=auto, max_depth=30, bootstrap=True \n",
      "[CV]  n_estimators=200, min_samples_split=5, min_samples_leaf=4, max_features=auto, max_depth=30, bootstrap=True, total=  59.5s\n",
      "[CV] n_estimators=200, min_samples_split=5, min_samples_leaf=4, max_features=auto, max_depth=30, bootstrap=True \n",
      "[CV]  n_estimators=300, min_samples_split=10, min_samples_leaf=1, max_features=auto, max_depth=50, bootstrap=False, total= 2.4min\n",
      "[CV] n_estimators=300, min_samples_split=2, min_samples_leaf=2, max_features=sqrt, max_depth=10, bootstrap=False \n",
      "[CV]  n_estimators=300, min_samples_split=2, min_samples_leaf=2, max_features=sqrt, max_depth=10, bootstrap=False, total=  11.1s\n",
      "[CV] n_estimators=300, min_samples_split=2, min_samples_leaf=2, max_features=sqrt, max_depth=10, bootstrap=False \n",
      "[CV]  n_estimators=300, min_samples_split=2, min_samples_leaf=2, max_features=sqrt, max_depth=10, bootstrap=False, total=  12.8s\n",
      "[CV] n_estimators=300, min_samples_split=2, min_samples_leaf=2, max_features=sqrt, max_depth=10, bootstrap=False \n",
      "[CV]  n_estimators=300, min_samples_split=2, min_samples_leaf=2, max_features=sqrt, max_depth=10, bootstrap=False, total=  12.8s\n",
      "[CV] n_estimators=300, min_samples_split=10, min_samples_leaf=2, max_features=sqrt, max_depth=40, bootstrap=True \n",
      "[CV]  n_estimators=200, min_samples_split=5, min_samples_leaf=4, max_features=auto, max_depth=30, bootstrap=True, total=  58.1s\n",
      "[CV] n_estimators=300, min_samples_split=10, min_samples_leaf=2, max_features=sqrt, max_depth=40, bootstrap=True \n",
      "[CV]  n_estimators=300, min_samples_split=10, min_samples_leaf=2, max_features=sqrt, max_depth=40, bootstrap=True, total=  11.2s\n",
      "[CV] n_estimators=300, min_samples_split=10, min_samples_leaf=2, max_features=sqrt, max_depth=40, bootstrap=True \n",
      "[CV]  n_estimators=300, min_samples_split=10, min_samples_leaf=2, max_features=sqrt, max_depth=40, bootstrap=True, total=  12.5s\n",
      "[CV] n_estimators=300, min_samples_split=5, min_samples_leaf=4, max_features=auto, max_depth=None, bootstrap=True \n",
      "[CV]  n_estimators=200, min_samples_split=5, min_samples_leaf=4, max_features=auto, max_depth=30, bootstrap=True, total= 1.0min\n",
      "[CV] n_estimators=300, min_samples_split=5, min_samples_leaf=4, max_features=auto, max_depth=None, bootstrap=True \n",
      "[CV]  n_estimators=300, min_samples_split=10, min_samples_leaf=2, max_features=sqrt, max_depth=40, bootstrap=True, total=  11.3s\n",
      "[CV] n_estimators=300, min_samples_split=5, min_samples_leaf=4, max_features=auto, max_depth=None, bootstrap=True \n",
      "[CV]  n_estimators=300, min_samples_split=10, min_samples_leaf=1, max_features=auto, max_depth=50, bootstrap=False, total= 2.7min\n",
      "[CV] n_estimators=200, min_samples_split=10, min_samples_leaf=4, max_features=sqrt, max_depth=70, bootstrap=True \n",
      "[CV]  n_estimators=200, min_samples_split=10, min_samples_leaf=4, max_features=sqrt, max_depth=70, bootstrap=True, total=   7.1s\n",
      "[CV] n_estimators=200, min_samples_split=10, min_samples_leaf=4, max_features=sqrt, max_depth=70, bootstrap=True \n",
      "[CV]  n_estimators=200, min_samples_split=10, min_samples_leaf=4, max_features=sqrt, max_depth=70, bootstrap=True, total=   7.1s\n",
      "[CV] n_estimators=200, min_samples_split=10, min_samples_leaf=4, max_features=sqrt, max_depth=70, bootstrap=True \n",
      "[CV]  n_estimators=200, min_samples_split=10, min_samples_leaf=4, max_features=sqrt, max_depth=70, bootstrap=True, total=   7.2s\n",
      "[CV] n_estimators=300, min_samples_split=2, min_samples_leaf=1, max_features=auto, max_depth=110, bootstrap=True \n",
      "[CV]  n_estimators=300, min_samples_split=5, min_samples_leaf=4, max_features=auto, max_depth=None, bootstrap=True, total= 1.5min\n",
      "[CV] n_estimators=300, min_samples_split=2, min_samples_leaf=1, max_features=auto, max_depth=110, bootstrap=True \n",
      "[CV]  n_estimators=300, min_samples_split=5, min_samples_leaf=4, max_features=auto, max_depth=None, bootstrap=True, total= 1.5min\n",
      "[CV] n_estimators=300, min_samples_split=2, min_samples_leaf=1, max_features=auto, max_depth=110, bootstrap=True \n",
      "[CV]  n_estimators=300, min_samples_split=5, min_samples_leaf=4, max_features=auto, max_depth=None, bootstrap=True, total= 1.4min\n",
      "[CV] n_estimators=200, min_samples_split=5, min_samples_leaf=1, max_features=auto, max_depth=100, bootstrap=True \n",
      "[CV]  n_estimators=300, min_samples_split=2, min_samples_leaf=1, max_features=auto, max_depth=110, bootstrap=True, total= 1.7min\n",
      "[CV] n_estimators=200, min_samples_split=5, min_samples_leaf=1, max_features=auto, max_depth=100, bootstrap=True \n",
      "[CV]  n_estimators=200, min_samples_split=5, min_samples_leaf=1, max_features=auto, max_depth=100, bootstrap=True, total= 1.1min\n",
      "[CV] n_estimators=200, min_samples_split=5, min_samples_leaf=1, max_features=auto, max_depth=100, bootstrap=True \n",
      "[CV]  n_estimators=300, min_samples_split=2, min_samples_leaf=1, max_features=auto, max_depth=110, bootstrap=True, total= 1.7min\n",
      "[CV] n_estimators=200, min_samples_split=10, min_samples_leaf=1, max_features=sqrt, max_depth=100, bootstrap=True \n",
      "[CV]  n_estimators=300, min_samples_split=2, min_samples_leaf=1, max_features=auto, max_depth=110, bootstrap=True, total= 1.7min\n",
      "[CV] n_estimators=200, min_samples_split=10, min_samples_leaf=1, max_features=sqrt, max_depth=100, bootstrap=True \n",
      "[CV]  n_estimators=200, min_samples_split=10, min_samples_leaf=1, max_features=sqrt, max_depth=100, bootstrap=True, total=   7.8s\n",
      "[CV] n_estimators=200, min_samples_split=10, min_samples_leaf=1, max_features=sqrt, max_depth=100, bootstrap=True \n",
      "[CV]  n_estimators=200, min_samples_split=10, min_samples_leaf=1, max_features=sqrt, max_depth=100, bootstrap=True, total=   7.7s\n",
      "[CV] n_estimators=200, min_samples_split=5, min_samples_leaf=2, max_features=sqrt, max_depth=110, bootstrap=False \n",
      "[CV]  n_estimators=200, min_samples_split=10, min_samples_leaf=1, max_features=sqrt, max_depth=100, bootstrap=True, total=   7.6s\n",
      "[CV] n_estimators=200, min_samples_split=5, min_samples_leaf=2, max_features=sqrt, max_depth=110, bootstrap=False \n",
      "[CV]  n_estimators=200, min_samples_split=5, min_samples_leaf=2, max_features=sqrt, max_depth=110, bootstrap=False, total=  11.7s\n",
      "[CV] n_estimators=200, min_samples_split=5, min_samples_leaf=2, max_features=sqrt, max_depth=110, bootstrap=False \n",
      "[CV]  n_estimators=200, min_samples_split=5, min_samples_leaf=2, max_features=sqrt, max_depth=110, bootstrap=False, total=  11.5s\n",
      "[CV] n_estimators=300, min_samples_split=5, min_samples_leaf=1, max_features=auto, max_depth=110, bootstrap=True \n",
      "[CV]  n_estimators=200, min_samples_split=5, min_samples_leaf=1, max_features=auto, max_depth=100, bootstrap=True, total= 1.2min\n",
      "[CV] n_estimators=300, min_samples_split=5, min_samples_leaf=1, max_features=auto, max_depth=110, bootstrap=True \n",
      "[CV]  n_estimators=200, min_samples_split=5, min_samples_leaf=2, max_features=sqrt, max_depth=110, bootstrap=False, total=  11.7s\n",
      "[CV] n_estimators=300, min_samples_split=5, min_samples_leaf=1, max_features=auto, max_depth=110, bootstrap=True \n",
      "[CV]  n_estimators=200, min_samples_split=5, min_samples_leaf=1, max_features=auto, max_depth=100, bootstrap=True, total= 1.1min\n",
      "[CV] n_estimators=200, min_samples_split=2, min_samples_leaf=1, max_features=sqrt, max_depth=30, bootstrap=False \n",
      "[CV]  n_estimators=200, min_samples_split=2, min_samples_leaf=1, max_features=sqrt, max_depth=30, bootstrap=False, total=  12.5s\n",
      "[CV] n_estimators=200, min_samples_split=2, min_samples_leaf=1, max_features=sqrt, max_depth=30, bootstrap=False \n",
      "[CV]  n_estimators=200, min_samples_split=2, min_samples_leaf=1, max_features=sqrt, max_depth=30, bootstrap=False, total=  13.7s\n",
      "[CV] n_estimators=200, min_samples_split=2, min_samples_leaf=1, max_features=sqrt, max_depth=30, bootstrap=False \n"
     ]
    },
    {
     "name": "stdout",
     "output_type": "stream",
     "text": [
      "[CV]  n_estimators=200, min_samples_split=2, min_samples_leaf=1, max_features=sqrt, max_depth=30, bootstrap=False, total=  13.5s\n",
      "[CV] n_estimators=200, min_samples_split=10, min_samples_leaf=2, max_features=sqrt, max_depth=40, bootstrap=True \n",
      "[CV]  n_estimators=200, min_samples_split=10, min_samples_leaf=2, max_features=sqrt, max_depth=40, bootstrap=True, total=   7.0s\n",
      "[CV] n_estimators=200, min_samples_split=10, min_samples_leaf=2, max_features=sqrt, max_depth=40, bootstrap=True \n",
      "[CV]  n_estimators=200, min_samples_split=10, min_samples_leaf=2, max_features=sqrt, max_depth=40, bootstrap=True, total=   7.2s\n",
      "[CV] n_estimators=200, min_samples_split=10, min_samples_leaf=2, max_features=sqrt, max_depth=40, bootstrap=True \n",
      "[CV]  n_estimators=200, min_samples_split=10, min_samples_leaf=2, max_features=sqrt, max_depth=40, bootstrap=True, total=   7.0s\n",
      "[CV] n_estimators=300, min_samples_split=2, min_samples_leaf=1, max_features=sqrt, max_depth=110, bootstrap=False \n",
      "[CV]  n_estimators=300, min_samples_split=2, min_samples_leaf=1, max_features=sqrt, max_depth=110, bootstrap=False, total=  18.2s\n",
      "[CV] n_estimators=300, min_samples_split=2, min_samples_leaf=1, max_features=sqrt, max_depth=110, bootstrap=False \n",
      "[CV]  n_estimators=300, min_samples_split=5, min_samples_leaf=1, max_features=auto, max_depth=110, bootstrap=True, total= 1.6min\n",
      "[CV] n_estimators=300, min_samples_split=2, min_samples_leaf=1, max_features=sqrt, max_depth=110, bootstrap=False \n",
      "[CV]  n_estimators=300, min_samples_split=5, min_samples_leaf=1, max_features=auto, max_depth=110, bootstrap=True, total= 1.6min\n",
      "[CV] n_estimators=300, min_samples_split=10, min_samples_leaf=1, max_features=sqrt, max_depth=70, bootstrap=True \n",
      "[CV]  n_estimators=300, min_samples_split=5, min_samples_leaf=1, max_features=auto, max_depth=110, bootstrap=True, total= 1.6min\n",
      "[CV] n_estimators=300, min_samples_split=10, min_samples_leaf=1, max_features=sqrt, max_depth=70, bootstrap=True \n",
      "[CV]  n_estimators=300, min_samples_split=2, min_samples_leaf=1, max_features=sqrt, max_depth=110, bootstrap=False, total=  19.9s\n",
      "[CV] n_estimators=300, min_samples_split=10, min_samples_leaf=1, max_features=sqrt, max_depth=70, bootstrap=True \n",
      "[CV]  n_estimators=300, min_samples_split=10, min_samples_leaf=1, max_features=sqrt, max_depth=70, bootstrap=True, total=  12.1s\n",
      "[CV] n_estimators=300, min_samples_split=2, min_samples_leaf=4, max_features=sqrt, max_depth=40, bootstrap=True \n",
      "[CV]  n_estimators=300, min_samples_split=2, min_samples_leaf=1, max_features=sqrt, max_depth=110, bootstrap=False, total=  18.3s\n",
      "[CV] n_estimators=300, min_samples_split=2, min_samples_leaf=4, max_features=sqrt, max_depth=40, bootstrap=True \n",
      "[CV]  n_estimators=300, min_samples_split=10, min_samples_leaf=1, max_features=sqrt, max_depth=70, bootstrap=True, total=  11.7s\n",
      "[CV] n_estimators=300, min_samples_split=2, min_samples_leaf=4, max_features=sqrt, max_depth=40, bootstrap=True \n",
      "[CV]  n_estimators=300, min_samples_split=10, min_samples_leaf=1, max_features=sqrt, max_depth=70, bootstrap=True, total=  11.8s\n",
      "[CV] n_estimators=300, min_samples_split=5, min_samples_leaf=1, max_features=sqrt, max_depth=30, bootstrap=False \n",
      "[CV]  n_estimators=300, min_samples_split=2, min_samples_leaf=4, max_features=sqrt, max_depth=40, bootstrap=True, total=  10.6s\n",
      "[CV] n_estimators=300, min_samples_split=5, min_samples_leaf=1, max_features=sqrt, max_depth=30, bootstrap=False \n",
      "[CV]  n_estimators=300, min_samples_split=2, min_samples_leaf=4, max_features=sqrt, max_depth=40, bootstrap=True, total=  11.2s\n",
      "[CV] n_estimators=300, min_samples_split=5, min_samples_leaf=1, max_features=sqrt, max_depth=30, bootstrap=False \n",
      "[CV]  n_estimators=300, min_samples_split=2, min_samples_leaf=4, max_features=sqrt, max_depth=40, bootstrap=True, total=  10.9s\n",
      "[CV] n_estimators=300, min_samples_split=10, min_samples_leaf=2, max_features=sqrt, max_depth=90, bootstrap=False \n",
      "[CV]  n_estimators=300, min_samples_split=5, min_samples_leaf=1, max_features=sqrt, max_depth=30, bootstrap=False, total=  18.5s\n",
      "[CV] n_estimators=300, min_samples_split=10, min_samples_leaf=2, max_features=sqrt, max_depth=90, bootstrap=False \n",
      "[CV]  n_estimators=300, min_samples_split=5, min_samples_leaf=1, max_features=sqrt, max_depth=30, bootstrap=False, total=  18.2s\n",
      "[CV] n_estimators=300, min_samples_split=10, min_samples_leaf=2, max_features=sqrt, max_depth=90, bootstrap=False \n",
      "[CV]  n_estimators=300, min_samples_split=5, min_samples_leaf=1, max_features=sqrt, max_depth=30, bootstrap=False, total=  20.0s\n",
      "[CV] n_estimators=300, min_samples_split=10, min_samples_leaf=2, max_features=sqrt, max_depth=60, bootstrap=True \n",
      "[CV]  n_estimators=300, min_samples_split=10, min_samples_leaf=2, max_features=sqrt, max_depth=90, bootstrap=False, total=  17.1s\n",
      "[CV] n_estimators=300, min_samples_split=10, min_samples_leaf=2, max_features=sqrt, max_depth=60, bootstrap=True \n",
      "[CV]  n_estimators=300, min_samples_split=10, min_samples_leaf=2, max_features=sqrt, max_depth=60, bootstrap=True, total=  10.8s\n",
      "[CV] n_estimators=300, min_samples_split=10, min_samples_leaf=2, max_features=sqrt, max_depth=60, bootstrap=True \n",
      "[CV]  n_estimators=300, min_samples_split=10, min_samples_leaf=2, max_features=sqrt, max_depth=60, bootstrap=True, total=  12.0s\n",
      "[CV] n_estimators=300, min_samples_split=10, min_samples_leaf=4, max_features=auto, max_depth=110, bootstrap=True \n",
      "[CV]  n_estimators=300, min_samples_split=10, min_samples_leaf=2, max_features=sqrt, max_depth=90, bootstrap=False, total=  17.8s\n",
      "[CV] n_estimators=300, min_samples_split=10, min_samples_leaf=4, max_features=auto, max_depth=110, bootstrap=True \n",
      "[CV]  n_estimators=300, min_samples_split=10, min_samples_leaf=2, max_features=sqrt, max_depth=90, bootstrap=False, total=  17.4s\n",
      "[CV] n_estimators=300, min_samples_split=10, min_samples_leaf=4, max_features=auto, max_depth=110, bootstrap=True \n",
      "[CV]  n_estimators=300, min_samples_split=10, min_samples_leaf=2, max_features=sqrt, max_depth=60, bootstrap=True, total=  11.7s\n",
      "[CV] n_estimators=200, min_samples_split=5, min_samples_leaf=4, max_features=auto, max_depth=90, bootstrap=True \n",
      "[CV]  n_estimators=200, min_samples_split=5, min_samples_leaf=4, max_features=auto, max_depth=90, bootstrap=True, total=  57.4s\n",
      "[CV] n_estimators=200, min_samples_split=5, min_samples_leaf=4, max_features=auto, max_depth=90, bootstrap=True \n",
      "[CV]  n_estimators=300, min_samples_split=10, min_samples_leaf=4, max_features=auto, max_depth=110, bootstrap=True, total= 1.3min\n",
      "[CV] n_estimators=200, min_samples_split=5, min_samples_leaf=4, max_features=auto, max_depth=90, bootstrap=True \n",
      "[CV]  n_estimators=300, min_samples_split=10, min_samples_leaf=4, max_features=auto, max_depth=110, bootstrap=True, total= 1.3min\n",
      "[CV] n_estimators=300, min_samples_split=5, min_samples_leaf=1, max_features=auto, max_depth=90, bootstrap=True \n",
      "[CV]  n_estimators=300, min_samples_split=10, min_samples_leaf=4, max_features=auto, max_depth=110, bootstrap=True, total= 1.3min\n",
      "[CV] n_estimators=300, min_samples_split=5, min_samples_leaf=1, max_features=auto, max_depth=90, bootstrap=True \n",
      "[CV]  n_estimators=200, min_samples_split=5, min_samples_leaf=4, max_features=auto, max_depth=90, bootstrap=True, total=  52.3s\n",
      "[CV] n_estimators=300, min_samples_split=5, min_samples_leaf=1, max_features=auto, max_depth=90, bootstrap=True \n",
      "[CV]  n_estimators=200, min_samples_split=5, min_samples_leaf=4, max_features=auto, max_depth=90, bootstrap=True, total=  53.1s\n",
      "[CV] n_estimators=200, min_samples_split=2, min_samples_leaf=4, max_features=sqrt, max_depth=60, bootstrap=True \n",
      "[CV]  n_estimators=200, min_samples_split=2, min_samples_leaf=4, max_features=sqrt, max_depth=60, bootstrap=True, total=   7.2s\n",
      "[CV] n_estimators=200, min_samples_split=2, min_samples_leaf=4, max_features=sqrt, max_depth=60, bootstrap=True \n",
      "[CV]  n_estimators=200, min_samples_split=2, min_samples_leaf=4, max_features=sqrt, max_depth=60, bootstrap=True, total=   7.3s\n",
      "[CV] n_estimators=200, min_samples_split=2, min_samples_leaf=4, max_features=sqrt, max_depth=60, bootstrap=True \n",
      "[CV]  n_estimators=200, min_samples_split=2, min_samples_leaf=4, max_features=sqrt, max_depth=60, bootstrap=True, total=   7.0s\n",
      "[CV] n_estimators=300, min_samples_split=5, min_samples_leaf=1, max_features=auto, max_depth=20, bootstrap=True \n"
     ]
    },
    {
     "name": "stdout",
     "output_type": "stream",
     "text": [
      "[CV]  n_estimators=300, min_samples_split=5, min_samples_leaf=1, max_features=auto, max_depth=90, bootstrap=True, total= 1.5min\n",
      "[CV] n_estimators=300, min_samples_split=5, min_samples_leaf=1, max_features=auto, max_depth=20, bootstrap=True \n",
      "[CV]  n_estimators=300, min_samples_split=5, min_samples_leaf=1, max_features=auto, max_depth=90, bootstrap=True, total= 1.6min\n",
      "[CV] n_estimators=300, min_samples_split=5, min_samples_leaf=1, max_features=auto, max_depth=20, bootstrap=True \n",
      "[CV]  n_estimators=300, min_samples_split=5, min_samples_leaf=1, max_features=auto, max_depth=90, bootstrap=True, total= 1.5min\n",
      "[CV] n_estimators=300, min_samples_split=5, min_samples_leaf=4, max_features=auto, max_depth=110, bootstrap=True \n",
      "[CV]  n_estimators=300, min_samples_split=5, min_samples_leaf=1, max_features=auto, max_depth=20, bootstrap=True, total= 1.4min\n",
      "[CV] n_estimators=300, min_samples_split=5, min_samples_leaf=4, max_features=auto, max_depth=110, bootstrap=True \n",
      "[CV]  n_estimators=300, min_samples_split=5, min_samples_leaf=1, max_features=auto, max_depth=20, bootstrap=True, total= 1.4min\n",
      "[CV] n_estimators=300, min_samples_split=5, min_samples_leaf=4, max_features=auto, max_depth=110, bootstrap=True \n",
      "[CV]  n_estimators=300, min_samples_split=5, min_samples_leaf=1, max_features=auto, max_depth=20, bootstrap=True, total= 1.5min\n",
      "[CV] n_estimators=300, min_samples_split=2, min_samples_leaf=2, max_features=sqrt, max_depth=50, bootstrap=False \n",
      "[CV]  n_estimators=300, min_samples_split=2, min_samples_leaf=2, max_features=sqrt, max_depth=50, bootstrap=False, total=  17.6s\n",
      "[CV] n_estimators=300, min_samples_split=2, min_samples_leaf=2, max_features=sqrt, max_depth=50, bootstrap=False \n",
      "[CV]  n_estimators=300, min_samples_split=5, min_samples_leaf=4, max_features=auto, max_depth=110, bootstrap=True, total= 1.3min\n",
      "[CV] n_estimators=300, min_samples_split=2, min_samples_leaf=2, max_features=sqrt, max_depth=50, bootstrap=False \n",
      "[CV]  n_estimators=300, min_samples_split=2, min_samples_leaf=2, max_features=sqrt, max_depth=50, bootstrap=False, total=  17.6s\n",
      "[CV] n_estimators=200, min_samples_split=5, min_samples_leaf=2, max_features=auto, max_depth=100, bootstrap=True \n",
      "[CV]  n_estimators=300, min_samples_split=2, min_samples_leaf=2, max_features=sqrt, max_depth=50, bootstrap=False, total=  18.2s\n",
      "[CV] n_estimators=200, min_samples_split=5, min_samples_leaf=2, max_features=auto, max_depth=100, bootstrap=True \n",
      "[CV]  n_estimators=300, min_samples_split=5, min_samples_leaf=4, max_features=auto, max_depth=110, bootstrap=True, total= 1.4min\n",
      "[CV] n_estimators=200, min_samples_split=5, min_samples_leaf=2, max_features=auto, max_depth=100, bootstrap=True \n",
      "[CV]  n_estimators=300, min_samples_split=5, min_samples_leaf=4, max_features=auto, max_depth=110, bootstrap=True, total= 1.3min\n",
      "[CV] n_estimators=200, min_samples_split=5, min_samples_leaf=4, max_features=auto, max_depth=100, bootstrap=True \n",
      "[CV]  n_estimators=200, min_samples_split=5, min_samples_leaf=2, max_features=auto, max_depth=100, bootstrap=True, total=  57.6s\n",
      "[CV] n_estimators=200, min_samples_split=5, min_samples_leaf=4, max_features=auto, max_depth=100, bootstrap=True \n",
      "[CV]  n_estimators=200, min_samples_split=5, min_samples_leaf=2, max_features=auto, max_depth=100, bootstrap=True, total= 1.0min\n",
      "[CV] n_estimators=200, min_samples_split=5, min_samples_leaf=4, max_features=auto, max_depth=100, bootstrap=True \n",
      "[CV]  n_estimators=200, min_samples_split=5, min_samples_leaf=2, max_features=auto, max_depth=100, bootstrap=True, total=  59.2s\n",
      "[CV] n_estimators=200, min_samples_split=2, min_samples_leaf=4, max_features=sqrt, max_depth=10, bootstrap=True \n",
      "[CV]  n_estimators=200, min_samples_split=2, min_samples_leaf=4, max_features=sqrt, max_depth=10, bootstrap=True, total=   4.8s\n",
      "[CV] n_estimators=200, min_samples_split=2, min_samples_leaf=4, max_features=sqrt, max_depth=10, bootstrap=True \n",
      "[CV]  n_estimators=200, min_samples_split=2, min_samples_leaf=4, max_features=sqrt, max_depth=10, bootstrap=True, total=   4.8s\n",
      "[CV] n_estimators=200, min_samples_split=2, min_samples_leaf=4, max_features=sqrt, max_depth=10, bootstrap=True \n",
      "[CV]  n_estimators=200, min_samples_split=2, min_samples_leaf=4, max_features=sqrt, max_depth=10, bootstrap=True, total=   4.8s\n",
      "[CV] n_estimators=200, min_samples_split=10, min_samples_leaf=2, max_features=sqrt, max_depth=70, bootstrap=True \n",
      "[CV]  n_estimators=200, min_samples_split=5, min_samples_leaf=4, max_features=auto, max_depth=100, bootstrap=True, total=  54.6s\n",
      "[CV] n_estimators=200, min_samples_split=10, min_samples_leaf=2, max_features=sqrt, max_depth=70, bootstrap=True \n"
     ]
    },
    {
     "name": "stderr",
     "output_type": "stream",
     "text": [
      "[Parallel(n_jobs=-1)]: Done 154 tasks      | elapsed: 29.9min\n"
     ]
    },
    {
     "name": "stdout",
     "output_type": "stream",
     "text": [
      "[CV]  n_estimators=200, min_samples_split=10, min_samples_leaf=2, max_features=sqrt, max_depth=70, bootstrap=True, total=   7.5s\n",
      "[CV] n_estimators=200, min_samples_split=10, min_samples_leaf=2, max_features=sqrt, max_depth=70, bootstrap=True \n",
      "[CV]  n_estimators=200, min_samples_split=10, min_samples_leaf=2, max_features=sqrt, max_depth=70, bootstrap=True, total=   8.1s\n",
      "[CV] n_estimators=300, min_samples_split=5, min_samples_leaf=4, max_features=sqrt, max_depth=80, bootstrap=False \n",
      "[CV]  n_estimators=200, min_samples_split=10, min_samples_leaf=2, max_features=sqrt, max_depth=70, bootstrap=True, total=   7.8s\n",
      "[CV] n_estimators=300, min_samples_split=5, min_samples_leaf=4, max_features=sqrt, max_depth=80, bootstrap=False \n",
      "[CV]  n_estimators=200, min_samples_split=5, min_samples_leaf=4, max_features=auto, max_depth=100, bootstrap=True, total=  52.5s\n",
      "[CV] n_estimators=300, min_samples_split=5, min_samples_leaf=4, max_features=sqrt, max_depth=80, bootstrap=False \n",
      "[CV]  n_estimators=300, min_samples_split=5, min_samples_leaf=4, max_features=sqrt, max_depth=80, bootstrap=False, total=  16.1s\n",
      "[CV] n_estimators=200, min_samples_split=2, min_samples_leaf=4, max_features=sqrt, max_depth=110, bootstrap=False \n",
      "[CV]  n_estimators=200, min_samples_split=5, min_samples_leaf=4, max_features=auto, max_depth=100, bootstrap=True, total=  52.0s\n",
      "[CV] n_estimators=200, min_samples_split=2, min_samples_leaf=4, max_features=sqrt, max_depth=110, bootstrap=False \n",
      "[CV]  n_estimators=300, min_samples_split=5, min_samples_leaf=4, max_features=sqrt, max_depth=80, bootstrap=False, total=  18.1s\n",
      "[CV] n_estimators=200, min_samples_split=2, min_samples_leaf=4, max_features=sqrt, max_depth=110, bootstrap=False \n",
      "[CV]  n_estimators=300, min_samples_split=5, min_samples_leaf=4, max_features=sqrt, max_depth=80, bootstrap=False, total=  16.2s\n",
      "[CV] n_estimators=300, min_samples_split=10, min_samples_leaf=4, max_features=sqrt, max_depth=110, bootstrap=False \n",
      "[CV]  n_estimators=200, min_samples_split=2, min_samples_leaf=4, max_features=sqrt, max_depth=110, bootstrap=False, total=  10.6s\n",
      "[CV] n_estimators=300, min_samples_split=10, min_samples_leaf=4, max_features=sqrt, max_depth=110, bootstrap=False \n",
      "[CV]  n_estimators=200, min_samples_split=2, min_samples_leaf=4, max_features=sqrt, max_depth=110, bootstrap=False, total=  11.9s\n",
      "[CV] n_estimators=300, min_samples_split=10, min_samples_leaf=4, max_features=sqrt, max_depth=110, bootstrap=False \n",
      "[CV]  n_estimators=200, min_samples_split=2, min_samples_leaf=4, max_features=sqrt, max_depth=110, bootstrap=False, total=  11.2s\n",
      "[CV] n_estimators=300, min_samples_split=5, min_samples_leaf=4, max_features=sqrt, max_depth=60, bootstrap=True \n",
      "[CV]  n_estimators=300, min_samples_split=10, min_samples_leaf=4, max_features=sqrt, max_depth=110, bootstrap=False, total=  18.0s\n",
      "[CV] n_estimators=300, min_samples_split=5, min_samples_leaf=4, max_features=sqrt, max_depth=60, bootstrap=True \n",
      "[CV]  n_estimators=300, min_samples_split=5, min_samples_leaf=4, max_features=sqrt, max_depth=60, bootstrap=True, total=  10.2s\n",
      "[CV] n_estimators=300, min_samples_split=5, min_samples_leaf=4, max_features=sqrt, max_depth=60, bootstrap=True \n",
      "[CV]  n_estimators=300, min_samples_split=10, min_samples_leaf=4, max_features=sqrt, max_depth=110, bootstrap=False, total=  16.6s\n",
      "[CV] n_estimators=200, min_samples_split=5, min_samples_leaf=1, max_features=sqrt, max_depth=None, bootstrap=True \n",
      "[CV]  n_estimators=300, min_samples_split=10, min_samples_leaf=4, max_features=sqrt, max_depth=110, bootstrap=False, total=  16.3s\n",
      "[CV] n_estimators=200, min_samples_split=5, min_samples_leaf=1, max_features=sqrt, max_depth=None, bootstrap=True \n",
      "[CV]  n_estimators=200, min_samples_split=5, min_samples_leaf=1, max_features=sqrt, max_depth=None, bootstrap=True, total=   7.7s\n",
      "[CV] n_estimators=200, min_samples_split=5, min_samples_leaf=1, max_features=sqrt, max_depth=None, bootstrap=True \n",
      "[CV]  n_estimators=300, min_samples_split=5, min_samples_leaf=4, max_features=sqrt, max_depth=60, bootstrap=True, total=  11.1s\n",
      "[CV] n_estimators=200, min_samples_split=5, min_samples_leaf=1, max_features=sqrt, max_depth=80, bootstrap=False \n",
      "[CV]  n_estimators=200, min_samples_split=5, min_samples_leaf=1, max_features=sqrt, max_depth=None, bootstrap=True, total=   8.5s\n",
      "[CV] n_estimators=200, min_samples_split=5, min_samples_leaf=1, max_features=sqrt, max_depth=80, bootstrap=False \n",
      "[CV]  n_estimators=300, min_samples_split=5, min_samples_leaf=4, max_features=sqrt, max_depth=60, bootstrap=True, total=  10.8s\n",
      "[CV] n_estimators=200, min_samples_split=5, min_samples_leaf=1, max_features=sqrt, max_depth=80, bootstrap=False \n",
      "[CV]  n_estimators=200, min_samples_split=5, min_samples_leaf=1, max_features=sqrt, max_depth=None, bootstrap=True, total=   8.1s\n",
      "[CV] n_estimators=300, min_samples_split=5, min_samples_leaf=2, max_features=sqrt, max_depth=100, bootstrap=True \n",
      "[CV]  n_estimators=200, min_samples_split=5, min_samples_leaf=1, max_features=sqrt, max_depth=80, bootstrap=False, total=  11.9s\n",
      "[CV] n_estimators=300, min_samples_split=5, min_samples_leaf=2, max_features=sqrt, max_depth=100, bootstrap=True \n",
      "[CV]  n_estimators=200, min_samples_split=5, min_samples_leaf=1, max_features=sqrt, max_depth=80, bootstrap=False, total=  12.4s\n",
      "[CV] n_estimators=300, min_samples_split=5, min_samples_leaf=2, max_features=sqrt, max_depth=100, bootstrap=True \n",
      "[CV]  n_estimators=200, min_samples_split=5, min_samples_leaf=1, max_features=sqrt, max_depth=80, bootstrap=False, total=  13.4s\n",
      "[CV] n_estimators=300, min_samples_split=5, min_samples_leaf=2, max_features=auto, max_depth=100, bootstrap=True \n",
      "[CV]  n_estimators=300, min_samples_split=5, min_samples_leaf=2, max_features=sqrt, max_depth=100, bootstrap=True, total=  11.7s\n",
      "[CV] n_estimators=300, min_samples_split=5, min_samples_leaf=2, max_features=auto, max_depth=100, bootstrap=True \n",
      "[CV]  n_estimators=300, min_samples_split=5, min_samples_leaf=2, max_features=sqrt, max_depth=100, bootstrap=True, total=  11.6s\n",
      "[CV] n_estimators=300, min_samples_split=5, min_samples_leaf=2, max_features=auto, max_depth=100, bootstrap=True \n",
      "[CV]  n_estimators=300, min_samples_split=5, min_samples_leaf=2, max_features=sqrt, max_depth=100, bootstrap=True, total=  12.5s\n",
      "[CV] n_estimators=200, min_samples_split=5, min_samples_leaf=2, max_features=sqrt, max_depth=50, bootstrap=False \n",
      "[CV]  n_estimators=200, min_samples_split=5, min_samples_leaf=2, max_features=sqrt, max_depth=50, bootstrap=False, total=  11.5s\n",
      "[CV] n_estimators=200, min_samples_split=5, min_samples_leaf=2, max_features=sqrt, max_depth=50, bootstrap=False \n",
      "[CV]  n_estimators=200, min_samples_split=5, min_samples_leaf=2, max_features=sqrt, max_depth=50, bootstrap=False, total=  11.8s\n",
      "[CV] n_estimators=200, min_samples_split=5, min_samples_leaf=2, max_features=sqrt, max_depth=50, bootstrap=False \n",
      "[CV]  n_estimators=200, min_samples_split=5, min_samples_leaf=2, max_features=sqrt, max_depth=50, bootstrap=False, total=  12.1s\n",
      "[CV] n_estimators=300, min_samples_split=10, min_samples_leaf=4, max_features=sqrt, max_depth=10, bootstrap=False \n",
      "[CV]  n_estimators=300, min_samples_split=10, min_samples_leaf=4, max_features=sqrt, max_depth=10, bootstrap=False, total=  11.2s\n",
      "[CV] n_estimators=300, min_samples_split=10, min_samples_leaf=4, max_features=sqrt, max_depth=10, bootstrap=False \n",
      "[CV]  n_estimators=300, min_samples_split=10, min_samples_leaf=4, max_features=sqrt, max_depth=10, bootstrap=False, total=  11.6s\n",
      "[CV] n_estimators=300, min_samples_split=10, min_samples_leaf=4, max_features=sqrt, max_depth=10, bootstrap=False \n",
      "[CV]  n_estimators=300, min_samples_split=10, min_samples_leaf=4, max_features=sqrt, max_depth=10, bootstrap=False, total=  11.0s\n",
      "[CV] n_estimators=200, min_samples_split=5, min_samples_leaf=2, max_features=auto, max_depth=110, bootstrap=True \n",
      "[CV]  n_estimators=300, min_samples_split=5, min_samples_leaf=2, max_features=auto, max_depth=100, bootstrap=True, total= 1.4min\n",
      "[CV] n_estimators=200, min_samples_split=5, min_samples_leaf=2, max_features=auto, max_depth=110, bootstrap=True \n",
      "[CV]  n_estimators=300, min_samples_split=5, min_samples_leaf=2, max_features=auto, max_depth=100, bootstrap=True, total= 1.5min\n",
      "[CV] n_estimators=200, min_samples_split=5, min_samples_leaf=2, max_features=auto, max_depth=110, bootstrap=True \n"
     ]
    },
    {
     "name": "stdout",
     "output_type": "stream",
     "text": [
      "[CV]  n_estimators=300, min_samples_split=5, min_samples_leaf=2, max_features=auto, max_depth=100, bootstrap=True, total= 1.5min\n",
      "[CV] n_estimators=300, min_samples_split=10, min_samples_leaf=2, max_features=sqrt, max_depth=80, bootstrap=True \n",
      "[CV]  n_estimators=300, min_samples_split=10, min_samples_leaf=2, max_features=sqrt, max_depth=80, bootstrap=True, total=  11.1s\n",
      "[CV] n_estimators=300, min_samples_split=10, min_samples_leaf=2, max_features=sqrt, max_depth=80, bootstrap=True \n",
      "[CV]  n_estimators=300, min_samples_split=10, min_samples_leaf=2, max_features=sqrt, max_depth=80, bootstrap=True, total=  10.7s\n",
      "[CV] n_estimators=300, min_samples_split=10, min_samples_leaf=2, max_features=sqrt, max_depth=80, bootstrap=True \n",
      "[CV]  n_estimators=300, min_samples_split=10, min_samples_leaf=2, max_features=sqrt, max_depth=80, bootstrap=True, total=  10.7s\n",
      "[CV] n_estimators=200, min_samples_split=2, min_samples_leaf=4, max_features=sqrt, max_depth=20, bootstrap=True \n",
      "[CV]  n_estimators=200, min_samples_split=2, min_samples_leaf=4, max_features=sqrt, max_depth=20, bootstrap=True, total=   6.6s\n",
      "[CV] n_estimators=200, min_samples_split=2, min_samples_leaf=4, max_features=sqrt, max_depth=20, bootstrap=True \n",
      "[CV]  n_estimators=200, min_samples_split=5, min_samples_leaf=2, max_features=auto, max_depth=110, bootstrap=True, total= 1.0min\n",
      "[CV] n_estimators=200, min_samples_split=2, min_samples_leaf=4, max_features=sqrt, max_depth=20, bootstrap=True \n",
      "[CV]  n_estimators=200, min_samples_split=5, min_samples_leaf=2, max_features=auto, max_depth=110, bootstrap=True, total= 1.0min\n",
      "[CV] n_estimators=300, min_samples_split=2, min_samples_leaf=4, max_features=sqrt, max_depth=None, bootstrap=False \n",
      "[CV]  n_estimators=200, min_samples_split=2, min_samples_leaf=4, max_features=sqrt, max_depth=20, bootstrap=True, total=   6.6s\n",
      "[CV] n_estimators=300, min_samples_split=2, min_samples_leaf=4, max_features=sqrt, max_depth=None, bootstrap=False \n",
      "[CV]  n_estimators=200, min_samples_split=2, min_samples_leaf=4, max_features=sqrt, max_depth=20, bootstrap=True, total=   7.1s\n",
      "[CV] n_estimators=300, min_samples_split=2, min_samples_leaf=4, max_features=sqrt, max_depth=None, bootstrap=False \n",
      "[CV]  n_estimators=200, min_samples_split=5, min_samples_leaf=2, max_features=auto, max_depth=110, bootstrap=True, total=  58.0s\n",
      "[CV] n_estimators=300, min_samples_split=5, min_samples_leaf=4, max_features=auto, max_depth=50, bootstrap=False \n",
      "[CV]  n_estimators=300, min_samples_split=2, min_samples_leaf=4, max_features=sqrt, max_depth=None, bootstrap=False, total=  16.2s\n",
      "[CV] n_estimators=300, min_samples_split=5, min_samples_leaf=4, max_features=auto, max_depth=50, bootstrap=False \n",
      "[CV]  n_estimators=300, min_samples_split=2, min_samples_leaf=4, max_features=sqrt, max_depth=None, bootstrap=False, total=  17.7s\n",
      "[CV] n_estimators=300, min_samples_split=5, min_samples_leaf=4, max_features=auto, max_depth=50, bootstrap=False \n",
      "[CV]  n_estimators=300, min_samples_split=2, min_samples_leaf=4, max_features=sqrt, max_depth=None, bootstrap=False, total=  16.4s\n",
      "[CV] n_estimators=200, min_samples_split=5, min_samples_leaf=4, max_features=sqrt, max_depth=60, bootstrap=False \n",
      "[CV]  n_estimators=200, min_samples_split=5, min_samples_leaf=4, max_features=sqrt, max_depth=60, bootstrap=False, total=  12.0s\n",
      "[CV] n_estimators=200, min_samples_split=5, min_samples_leaf=4, max_features=sqrt, max_depth=60, bootstrap=False \n",
      "[CV]  n_estimators=200, min_samples_split=5, min_samples_leaf=4, max_features=sqrt, max_depth=60, bootstrap=False, total=  10.9s\n",
      "[CV] n_estimators=200, min_samples_split=5, min_samples_leaf=4, max_features=sqrt, max_depth=60, bootstrap=False \n",
      "[CV]  n_estimators=200, min_samples_split=5, min_samples_leaf=4, max_features=sqrt, max_depth=60, bootstrap=False, total=  11.1s\n",
      "[CV] n_estimators=200, min_samples_split=10, min_samples_leaf=1, max_features=auto, max_depth=110, bootstrap=False \n",
      "[CV]  n_estimators=300, min_samples_split=5, min_samples_leaf=4, max_features=auto, max_depth=50, bootstrap=False, total= 2.0min\n",
      "[CV] n_estimators=200, min_samples_split=10, min_samples_leaf=1, max_features=auto, max_depth=110, bootstrap=False \n",
      "[CV]  n_estimators=300, min_samples_split=5, min_samples_leaf=4, max_features=auto, max_depth=50, bootstrap=False, total= 2.0min\n",
      "[CV] n_estimators=200, min_samples_split=10, min_samples_leaf=1, max_features=auto, max_depth=110, bootstrap=False \n",
      "[CV]  n_estimators=300, min_samples_split=5, min_samples_leaf=4, max_features=auto, max_depth=50, bootstrap=False, total= 2.1min\n",
      "[CV] n_estimators=300, min_samples_split=2, min_samples_leaf=2, max_features=auto, max_depth=80, bootstrap=True \n",
      "[CV]  n_estimators=200, min_samples_split=10, min_samples_leaf=1, max_features=auto, max_depth=110, bootstrap=False, total= 1.6min\n",
      "[CV] n_estimators=300, min_samples_split=2, min_samples_leaf=2, max_features=auto, max_depth=80, bootstrap=True \n",
      "[CV]  n_estimators=200, min_samples_split=10, min_samples_leaf=1, max_features=auto, max_depth=110, bootstrap=False, total= 1.5min\n",
      "[CV] n_estimators=300, min_samples_split=2, min_samples_leaf=2, max_features=auto, max_depth=80, bootstrap=True \n",
      "[CV]  n_estimators=200, min_samples_split=10, min_samples_leaf=1, max_features=auto, max_depth=110, bootstrap=False, total= 1.6min\n",
      "[CV] n_estimators=200, min_samples_split=10, min_samples_leaf=2, max_features=auto, max_depth=10, bootstrap=False \n",
      "[CV]  n_estimators=300, min_samples_split=2, min_samples_leaf=2, max_features=auto, max_depth=80, bootstrap=True, total= 1.5min\n",
      "[CV] n_estimators=200, min_samples_split=10, min_samples_leaf=2, max_features=auto, max_depth=10, bootstrap=False \n",
      "[CV]  n_estimators=300, min_samples_split=2, min_samples_leaf=2, max_features=auto, max_depth=80, bootstrap=True, total= 1.5min\n",
      "[CV] n_estimators=200, min_samples_split=10, min_samples_leaf=2, max_features=auto, max_depth=10, bootstrap=False \n",
      "[CV]  n_estimators=200, min_samples_split=10, min_samples_leaf=2, max_features=auto, max_depth=10, bootstrap=False, total=  52.3s\n",
      "[CV] n_estimators=200, min_samples_split=2, min_samples_leaf=2, max_features=sqrt, max_depth=60, bootstrap=False \n",
      "[CV]  n_estimators=200, min_samples_split=10, min_samples_leaf=2, max_features=auto, max_depth=10, bootstrap=False, total=  55.9s\n",
      "[CV] n_estimators=200, min_samples_split=2, min_samples_leaf=2, max_features=sqrt, max_depth=60, bootstrap=False \n",
      "[CV]  n_estimators=200, min_samples_split=2, min_samples_leaf=2, max_features=sqrt, max_depth=60, bootstrap=False, total=  11.5s\n",
      "[CV] n_estimators=200, min_samples_split=2, min_samples_leaf=2, max_features=sqrt, max_depth=60, bootstrap=False \n",
      "[CV]  n_estimators=200, min_samples_split=10, min_samples_leaf=2, max_features=auto, max_depth=10, bootstrap=False, total=  55.5s\n",
      "[CV] n_estimators=200, min_samples_split=5, min_samples_leaf=2, max_features=sqrt, max_depth=60, bootstrap=False \n",
      "[CV]  n_estimators=300, min_samples_split=2, min_samples_leaf=2, max_features=auto, max_depth=80, bootstrap=True, total= 1.5min\n",
      "[CV] n_estimators=200, min_samples_split=5, min_samples_leaf=2, max_features=sqrt, max_depth=60, bootstrap=False \n",
      "[CV]  n_estimators=200, min_samples_split=2, min_samples_leaf=2, max_features=sqrt, max_depth=60, bootstrap=False, total=  11.7s\n",
      "[CV] n_estimators=200, min_samples_split=5, min_samples_leaf=2, max_features=sqrt, max_depth=60, bootstrap=False \n",
      "[CV]  n_estimators=200, min_samples_split=5, min_samples_leaf=2, max_features=sqrt, max_depth=60, bootstrap=False, total=  11.9s\n",
      "[CV] n_estimators=200, min_samples_split=5, min_samples_leaf=1, max_features=auto, max_depth=70, bootstrap=False \n",
      "[CV]  n_estimators=200, min_samples_split=2, min_samples_leaf=2, max_features=sqrt, max_depth=60, bootstrap=False, total=  13.0s\n",
      "[CV] n_estimators=200, min_samples_split=5, min_samples_leaf=1, max_features=auto, max_depth=70, bootstrap=False \n",
      "[CV]  n_estimators=200, min_samples_split=5, min_samples_leaf=2, max_features=sqrt, max_depth=60, bootstrap=False, total=  11.6s\n",
      "[CV] n_estimators=200, min_samples_split=5, min_samples_leaf=1, max_features=auto, max_depth=70, bootstrap=False \n",
      "[CV]  n_estimators=200, min_samples_split=5, min_samples_leaf=2, max_features=sqrt, max_depth=60, bootstrap=False, total=  11.5s\n",
      "[CV] n_estimators=200, min_samples_split=5, min_samples_leaf=4, max_features=auto, max_depth=None, bootstrap=False \n"
     ]
    },
    {
     "name": "stdout",
     "output_type": "stream",
     "text": [
      "[CV]  n_estimators=200, min_samples_split=5, min_samples_leaf=4, max_features=auto, max_depth=None, bootstrap=False, total= 1.3min\n",
      "[CV] n_estimators=200, min_samples_split=5, min_samples_leaf=4, max_features=auto, max_depth=None, bootstrap=False \n",
      "[CV]  n_estimators=200, min_samples_split=5, min_samples_leaf=1, max_features=auto, max_depth=70, bootstrap=False, total= 1.5min\n",
      "[CV] n_estimators=200, min_samples_split=5, min_samples_leaf=4, max_features=auto, max_depth=None, bootstrap=False \n",
      "[CV]  n_estimators=200, min_samples_split=5, min_samples_leaf=1, max_features=auto, max_depth=70, bootstrap=False, total= 1.6min\n",
      "[CV] n_estimators=200, min_samples_split=10, min_samples_leaf=1, max_features=auto, max_depth=100, bootstrap=False \n",
      "[CV]  n_estimators=200, min_samples_split=5, min_samples_leaf=1, max_features=auto, max_depth=70, bootstrap=False, total= 1.7min\n",
      "[CV] n_estimators=200, min_samples_split=10, min_samples_leaf=1, max_features=auto, max_depth=100, bootstrap=False \n",
      "[CV]  n_estimators=200, min_samples_split=5, min_samples_leaf=4, max_features=auto, max_depth=None, bootstrap=False, total= 1.3min\n",
      "[CV] n_estimators=200, min_samples_split=10, min_samples_leaf=1, max_features=auto, max_depth=100, bootstrap=False \n",
      "[CV]  n_estimators=200, min_samples_split=5, min_samples_leaf=4, max_features=auto, max_depth=None, bootstrap=False, total= 1.3min\n",
      "[CV] n_estimators=300, min_samples_split=5, min_samples_leaf=4, max_features=auto, max_depth=10, bootstrap=False \n",
      "[CV]  n_estimators=200, min_samples_split=10, min_samples_leaf=1, max_features=auto, max_depth=100, bootstrap=False, total= 1.5min\n",
      "[CV] n_estimators=300, min_samples_split=5, min_samples_leaf=4, max_features=auto, max_depth=10, bootstrap=False \n",
      "[CV]  n_estimators=200, min_samples_split=10, min_samples_leaf=1, max_features=auto, max_depth=100, bootstrap=False, total= 1.7min\n",
      "[CV] n_estimators=300, min_samples_split=5, min_samples_leaf=4, max_features=auto, max_depth=10, bootstrap=False \n",
      "[CV]  n_estimators=300, min_samples_split=5, min_samples_leaf=4, max_features=auto, max_depth=10, bootstrap=False, total= 1.3min\n",
      "[CV] n_estimators=300, min_samples_split=2, min_samples_leaf=2, max_features=sqrt, max_depth=70, bootstrap=False \n",
      "[CV]  n_estimators=200, min_samples_split=10, min_samples_leaf=1, max_features=auto, max_depth=100, bootstrap=False, total= 1.7min\n",
      "[CV] n_estimators=300, min_samples_split=2, min_samples_leaf=2, max_features=sqrt, max_depth=70, bootstrap=False \n",
      "[CV]  n_estimators=300, min_samples_split=2, min_samples_leaf=2, max_features=sqrt, max_depth=70, bootstrap=False, total=  18.3s\n",
      "[CV] n_estimators=300, min_samples_split=2, min_samples_leaf=2, max_features=sqrt, max_depth=70, bootstrap=False \n",
      "[CV]  n_estimators=300, min_samples_split=5, min_samples_leaf=4, max_features=auto, max_depth=10, bootstrap=False, total= 1.3min\n",
      "[CV] n_estimators=200, min_samples_split=10, min_samples_leaf=1, max_features=auto, max_depth=40, bootstrap=False \n",
      "[CV]  n_estimators=300, min_samples_split=5, min_samples_leaf=4, max_features=auto, max_depth=10, bootstrap=False, total= 1.4min\n",
      "[CV] n_estimators=200, min_samples_split=10, min_samples_leaf=1, max_features=auto, max_depth=40, bootstrap=False \n",
      "[CV]  n_estimators=300, min_samples_split=2, min_samples_leaf=2, max_features=sqrt, max_depth=70, bootstrap=False, total=  18.3s\n",
      "[CV] n_estimators=200, min_samples_split=10, min_samples_leaf=1, max_features=auto, max_depth=40, bootstrap=False \n",
      "[CV]  n_estimators=300, min_samples_split=2, min_samples_leaf=2, max_features=sqrt, max_depth=70, bootstrap=False, total=  18.0s\n",
      "[CV] n_estimators=300, min_samples_split=5, min_samples_leaf=1, max_features=sqrt, max_depth=60, bootstrap=False \n",
      "[CV]  n_estimators=300, min_samples_split=5, min_samples_leaf=1, max_features=sqrt, max_depth=60, bootstrap=False, total=  18.0s\n",
      "[CV] n_estimators=300, min_samples_split=5, min_samples_leaf=1, max_features=sqrt, max_depth=60, bootstrap=False \n",
      "[CV]  n_estimators=300, min_samples_split=5, min_samples_leaf=1, max_features=sqrt, max_depth=60, bootstrap=False, total=  18.1s\n",
      "[CV] n_estimators=300, min_samples_split=5, min_samples_leaf=1, max_features=sqrt, max_depth=60, bootstrap=False \n",
      "[CV]  n_estimators=300, min_samples_split=5, min_samples_leaf=1, max_features=sqrt, max_depth=60, bootstrap=False, total=  18.7s\n",
      "[CV] n_estimators=300, min_samples_split=5, min_samples_leaf=2, max_features=sqrt, max_depth=20, bootstrap=True \n",
      "[CV]  n_estimators=300, min_samples_split=5, min_samples_leaf=2, max_features=sqrt, max_depth=20, bootstrap=True, total=  10.8s\n",
      "[CV] n_estimators=300, min_samples_split=5, min_samples_leaf=2, max_features=sqrt, max_depth=20, bootstrap=True \n",
      "[CV]  n_estimators=200, min_samples_split=10, min_samples_leaf=1, max_features=auto, max_depth=40, bootstrap=False, total= 1.4min\n",
      "[CV] n_estimators=300, min_samples_split=5, min_samples_leaf=2, max_features=sqrt, max_depth=20, bootstrap=True \n",
      "[CV]  n_estimators=300, min_samples_split=5, min_samples_leaf=2, max_features=sqrt, max_depth=20, bootstrap=True, total=  11.0s\n",
      "[CV] n_estimators=200, min_samples_split=10, min_samples_leaf=4, max_features=sqrt, max_depth=100, bootstrap=False \n",
      "[CV]  n_estimators=200, min_samples_split=10, min_samples_leaf=1, max_features=auto, max_depth=40, bootstrap=False, total= 1.6min\n",
      "[CV] n_estimators=200, min_samples_split=10, min_samples_leaf=4, max_features=sqrt, max_depth=100, bootstrap=False \n",
      "[CV]  n_estimators=300, min_samples_split=5, min_samples_leaf=2, max_features=sqrt, max_depth=20, bootstrap=True, total=  10.8s\n",
      "[CV] n_estimators=200, min_samples_split=10, min_samples_leaf=4, max_features=sqrt, max_depth=100, bootstrap=False \n",
      "[CV]  n_estimators=200, min_samples_split=10, min_samples_leaf=4, max_features=sqrt, max_depth=100, bootstrap=False, total=  11.4s\n",
      "[CV] n_estimators=300, min_samples_split=2, min_samples_leaf=2, max_features=sqrt, max_depth=30, bootstrap=False \n",
      "[CV]  n_estimators=200, min_samples_split=10, min_samples_leaf=4, max_features=sqrt, max_depth=100, bootstrap=False, total=  11.8s\n",
      "[CV] n_estimators=300, min_samples_split=2, min_samples_leaf=2, max_features=sqrt, max_depth=30, bootstrap=False \n",
      "[CV]  n_estimators=200, min_samples_split=10, min_samples_leaf=1, max_features=auto, max_depth=40, bootstrap=False, total= 1.7min\n",
      "[CV] n_estimators=300, min_samples_split=2, min_samples_leaf=2, max_features=sqrt, max_depth=30, bootstrap=False \n",
      "[CV]  n_estimators=200, min_samples_split=10, min_samples_leaf=4, max_features=sqrt, max_depth=100, bootstrap=False, total=  11.9s\n",
      "[CV] n_estimators=300, min_samples_split=2, min_samples_leaf=2, max_features=auto, max_depth=100, bootstrap=True \n",
      "[CV]  n_estimators=300, min_samples_split=2, min_samples_leaf=2, max_features=sqrt, max_depth=30, bootstrap=False, total=  18.3s\n",
      "[CV] n_estimators=300, min_samples_split=2, min_samples_leaf=2, max_features=auto, max_depth=100, bootstrap=True \n",
      "[CV]  n_estimators=300, min_samples_split=2, min_samples_leaf=2, max_features=sqrt, max_depth=30, bootstrap=False, total=  18.6s\n",
      "[CV] n_estimators=300, min_samples_split=2, min_samples_leaf=2, max_features=auto, max_depth=100, bootstrap=True \n",
      "[CV]  n_estimators=300, min_samples_split=2, min_samples_leaf=2, max_features=sqrt, max_depth=30, bootstrap=False, total=  17.5s\n",
      "[CV] n_estimators=300, min_samples_split=10, min_samples_leaf=2, max_features=sqrt, max_depth=20, bootstrap=True \n",
      "[CV]  n_estimators=300, min_samples_split=10, min_samples_leaf=2, max_features=sqrt, max_depth=20, bootstrap=True, total=  10.3s\n",
      "[CV] n_estimators=300, min_samples_split=10, min_samples_leaf=2, max_features=sqrt, max_depth=20, bootstrap=True \n",
      "[CV]  n_estimators=300, min_samples_split=10, min_samples_leaf=2, max_features=sqrt, max_depth=20, bootstrap=True, total=  10.7s\n",
      "[CV] n_estimators=300, min_samples_split=10, min_samples_leaf=2, max_features=sqrt, max_depth=20, bootstrap=True \n",
      "[CV]  n_estimators=300, min_samples_split=10, min_samples_leaf=2, max_features=sqrt, max_depth=20, bootstrap=True, total=  10.4s\n",
      "[CV] n_estimators=200, min_samples_split=2, min_samples_leaf=2, max_features=sqrt, max_depth=70, bootstrap=False \n",
      "[CV]  n_estimators=200, min_samples_split=2, min_samples_leaf=2, max_features=sqrt, max_depth=70, bootstrap=False, total=  12.1s\n",
      "[CV] n_estimators=200, min_samples_split=2, min_samples_leaf=2, max_features=sqrt, max_depth=70, bootstrap=False \n"
     ]
    },
    {
     "name": "stdout",
     "output_type": "stream",
     "text": [
      "[CV]  n_estimators=200, min_samples_split=2, min_samples_leaf=2, max_features=sqrt, max_depth=70, bootstrap=False, total=  11.4s\n",
      "[CV] n_estimators=200, min_samples_split=2, min_samples_leaf=2, max_features=sqrt, max_depth=70, bootstrap=False \n",
      "[CV]  n_estimators=200, min_samples_split=2, min_samples_leaf=2, max_features=sqrt, max_depth=70, bootstrap=False, total=  11.5s\n",
      "[CV] n_estimators=200, min_samples_split=2, min_samples_leaf=4, max_features=auto, max_depth=40, bootstrap=True \n",
      "[CV]  n_estimators=300, min_samples_split=2, min_samples_leaf=2, max_features=auto, max_depth=100, bootstrap=True, total= 1.5min\n",
      "[CV] n_estimators=200, min_samples_split=2, min_samples_leaf=4, max_features=auto, max_depth=40, bootstrap=True \n",
      "[CV]  n_estimators=300, min_samples_split=2, min_samples_leaf=2, max_features=auto, max_depth=100, bootstrap=True, total= 1.4min\n",
      "[CV] n_estimators=200, min_samples_split=2, min_samples_leaf=4, max_features=auto, max_depth=40, bootstrap=True \n",
      "[CV]  n_estimators=300, min_samples_split=2, min_samples_leaf=2, max_features=auto, max_depth=100, bootstrap=True, total= 1.6min\n",
      "[CV] n_estimators=200, min_samples_split=2, min_samples_leaf=2, max_features=auto, max_depth=30, bootstrap=True \n",
      "[CV]  n_estimators=200, min_samples_split=2, min_samples_leaf=4, max_features=auto, max_depth=40, bootstrap=True, total=  56.0s\n",
      "[CV] n_estimators=200, min_samples_split=2, min_samples_leaf=2, max_features=auto, max_depth=30, bootstrap=True \n",
      "[CV]  n_estimators=200, min_samples_split=2, min_samples_leaf=4, max_features=auto, max_depth=40, bootstrap=True, total=  54.1s\n",
      "[CV] n_estimators=200, min_samples_split=2, min_samples_leaf=2, max_features=auto, max_depth=30, bootstrap=True \n",
      "[CV]  n_estimators=200, min_samples_split=2, min_samples_leaf=4, max_features=auto, max_depth=40, bootstrap=True, total=  52.1s\n",
      "[CV] n_estimators=300, min_samples_split=10, min_samples_leaf=2, max_features=sqrt, max_depth=40, bootstrap=False \n",
      "[CV]  n_estimators=200, min_samples_split=2, min_samples_leaf=2, max_features=auto, max_depth=30, bootstrap=True, total=  57.7s\n",
      "[CV] n_estimators=300, min_samples_split=10, min_samples_leaf=2, max_features=sqrt, max_depth=40, bootstrap=False \n",
      "[CV]  n_estimators=300, min_samples_split=10, min_samples_leaf=2, max_features=sqrt, max_depth=40, bootstrap=False, total=  16.5s\n",
      "[CV] n_estimators=300, min_samples_split=10, min_samples_leaf=2, max_features=sqrt, max_depth=40, bootstrap=False \n",
      "[CV]  n_estimators=300, min_samples_split=10, min_samples_leaf=2, max_features=sqrt, max_depth=40, bootstrap=False, total=  18.7s\n",
      "[CV] n_estimators=200, min_samples_split=5, min_samples_leaf=4, max_features=auto, max_depth=80, bootstrap=True \n",
      "[CV]  n_estimators=300, min_samples_split=10, min_samples_leaf=2, max_features=sqrt, max_depth=40, bootstrap=False, total=  16.5s\n",
      "[CV] n_estimators=200, min_samples_split=5, min_samples_leaf=4, max_features=auto, max_depth=80, bootstrap=True \n",
      "[CV]  n_estimators=200, min_samples_split=2, min_samples_leaf=2, max_features=auto, max_depth=30, bootstrap=True, total=  57.4s\n",
      "[CV] n_estimators=200, min_samples_split=5, min_samples_leaf=4, max_features=auto, max_depth=80, bootstrap=True \n",
      "[CV]  n_estimators=200, min_samples_split=2, min_samples_leaf=2, max_features=auto, max_depth=30, bootstrap=True, total= 1.0min\n",
      "[CV] n_estimators=300, min_samples_split=5, min_samples_leaf=2, max_features=auto, max_depth=30, bootstrap=False \n",
      "[CV]  n_estimators=200, min_samples_split=5, min_samples_leaf=4, max_features=auto, max_depth=80, bootstrap=True, total=  51.9s\n",
      "[CV] n_estimators=300, min_samples_split=5, min_samples_leaf=2, max_features=auto, max_depth=30, bootstrap=False \n",
      "[CV]  n_estimators=200, min_samples_split=5, min_samples_leaf=4, max_features=auto, max_depth=80, bootstrap=True, total=  51.9s\n",
      "[CV] n_estimators=300, min_samples_split=5, min_samples_leaf=2, max_features=auto, max_depth=30, bootstrap=False \n",
      "[CV]  n_estimators=200, min_samples_split=5, min_samples_leaf=4, max_features=auto, max_depth=80, bootstrap=True, total=  55.6s\n",
      "[CV] n_estimators=200, min_samples_split=2, min_samples_leaf=2, max_features=sqrt, max_depth=80, bootstrap=False \n",
      "[CV]  n_estimators=200, min_samples_split=2, min_samples_leaf=2, max_features=sqrt, max_depth=80, bootstrap=False, total=  11.7s\n",
      "[CV] n_estimators=200, min_samples_split=2, min_samples_leaf=2, max_features=sqrt, max_depth=80, bootstrap=False \n",
      "[CV]  n_estimators=200, min_samples_split=2, min_samples_leaf=2, max_features=sqrt, max_depth=80, bootstrap=False, total=  12.0s\n",
      "[CV] n_estimators=200, min_samples_split=2, min_samples_leaf=2, max_features=sqrt, max_depth=80, bootstrap=False \n",
      "[CV]  n_estimators=200, min_samples_split=2, min_samples_leaf=2, max_features=sqrt, max_depth=80, bootstrap=False, total=  12.6s\n",
      "[CV] n_estimators=200, min_samples_split=2, min_samples_leaf=4, max_features=sqrt, max_depth=None, bootstrap=True \n",
      "[CV]  n_estimators=200, min_samples_split=2, min_samples_leaf=4, max_features=sqrt, max_depth=None, bootstrap=True, total=   7.3s\n",
      "[CV] n_estimators=200, min_samples_split=2, min_samples_leaf=4, max_features=sqrt, max_depth=None, bootstrap=True \n",
      "[CV]  n_estimators=200, min_samples_split=2, min_samples_leaf=4, max_features=sqrt, max_depth=None, bootstrap=True, total=   7.8s\n",
      "[CV] n_estimators=200, min_samples_split=2, min_samples_leaf=4, max_features=sqrt, max_depth=None, bootstrap=True \n",
      "[CV]  n_estimators=200, min_samples_split=2, min_samples_leaf=4, max_features=sqrt, max_depth=None, bootstrap=True, total=   7.1s\n",
      "[CV] n_estimators=200, min_samples_split=10, min_samples_leaf=1, max_features=sqrt, max_depth=90, bootstrap=False \n",
      "[CV]  n_estimators=200, min_samples_split=10, min_samples_leaf=1, max_features=sqrt, max_depth=90, bootstrap=False, total=  11.8s\n",
      "[CV] n_estimators=200, min_samples_split=10, min_samples_leaf=1, max_features=sqrt, max_depth=90, bootstrap=False \n",
      "[CV]  n_estimators=300, min_samples_split=5, min_samples_leaf=2, max_features=auto, max_depth=30, bootstrap=False, total= 2.2min\n",
      "[CV] n_estimators=200, min_samples_split=10, min_samples_leaf=1, max_features=sqrt, max_depth=90, bootstrap=False \n",
      "[CV]  n_estimators=200, min_samples_split=10, min_samples_leaf=1, max_features=sqrt, max_depth=90, bootstrap=False, total=  11.8s\n",
      "[CV] n_estimators=300, min_samples_split=2, min_samples_leaf=1, max_features=sqrt, max_depth=30, bootstrap=False \n",
      "[CV]  n_estimators=200, min_samples_split=10, min_samples_leaf=1, max_features=sqrt, max_depth=90, bootstrap=False, total=  11.8s\n",
      "[CV] n_estimators=300, min_samples_split=2, min_samples_leaf=1, max_features=sqrt, max_depth=30, bootstrap=False \n",
      "[CV]  n_estimators=300, min_samples_split=2, min_samples_leaf=1, max_features=sqrt, max_depth=30, bootstrap=False, total=  17.7s\n",
      "[CV] n_estimators=300, min_samples_split=2, min_samples_leaf=1, max_features=sqrt, max_depth=30, bootstrap=False \n",
      "[CV]  n_estimators=300, min_samples_split=5, min_samples_leaf=2, max_features=auto, max_depth=30, bootstrap=False, total= 2.2min\n",
      "[CV] n_estimators=200, min_samples_split=5, min_samples_leaf=1, max_features=auto, max_depth=40, bootstrap=True \n",
      "[CV]  n_estimators=300, min_samples_split=2, min_samples_leaf=1, max_features=sqrt, max_depth=30, bootstrap=False, total=  18.9s\n",
      "[CV] n_estimators=200, min_samples_split=5, min_samples_leaf=1, max_features=auto, max_depth=40, bootstrap=True \n",
      "[CV]  n_estimators=300, min_samples_split=5, min_samples_leaf=2, max_features=auto, max_depth=30, bootstrap=False, total= 2.3min\n",
      "[CV] n_estimators=200, min_samples_split=5, min_samples_leaf=1, max_features=auto, max_depth=40, bootstrap=True \n",
      "[CV]  n_estimators=300, min_samples_split=2, min_samples_leaf=1, max_features=sqrt, max_depth=30, bootstrap=False, total=  19.3s\n",
      "[CV] n_estimators=200, min_samples_split=10, min_samples_leaf=1, max_features=sqrt, max_depth=60, bootstrap=False \n",
      "[CV]  n_estimators=200, min_samples_split=10, min_samples_leaf=1, max_features=sqrt, max_depth=60, bootstrap=False, total=  11.3s\n",
      "[CV] n_estimators=200, min_samples_split=10, min_samples_leaf=1, max_features=sqrt, max_depth=60, bootstrap=False \n",
      "[CV]  n_estimators=200, min_samples_split=10, min_samples_leaf=1, max_features=sqrt, max_depth=60, bootstrap=False, total=  12.8s\n",
      "[CV] n_estimators=200, min_samples_split=10, min_samples_leaf=1, max_features=sqrt, max_depth=60, bootstrap=False \n"
     ]
    },
    {
     "name": "stdout",
     "output_type": "stream",
     "text": [
      "[CV]  n_estimators=200, min_samples_split=10, min_samples_leaf=1, max_features=sqrt, max_depth=60, bootstrap=False, total=  11.8s\n",
      "[CV] n_estimators=300, min_samples_split=2, min_samples_leaf=4, max_features=auto, max_depth=20, bootstrap=True \n",
      "[CV]  n_estimators=200, min_samples_split=5, min_samples_leaf=1, max_features=auto, max_depth=40, bootstrap=True, total= 1.0min\n",
      "[CV] n_estimators=300, min_samples_split=2, min_samples_leaf=4, max_features=auto, max_depth=20, bootstrap=True \n",
      "[CV]  n_estimators=200, min_samples_split=5, min_samples_leaf=1, max_features=auto, max_depth=40, bootstrap=True, total= 1.1min\n",
      "[CV] n_estimators=300, min_samples_split=2, min_samples_leaf=4, max_features=auto, max_depth=20, bootstrap=True \n",
      "[CV]  n_estimators=200, min_samples_split=5, min_samples_leaf=1, max_features=auto, max_depth=40, bootstrap=True, total= 1.1min\n",
      "[CV] n_estimators=200, min_samples_split=10, min_samples_leaf=2, max_features=sqrt, max_depth=60, bootstrap=False \n",
      "[CV]  n_estimators=200, min_samples_split=10, min_samples_leaf=2, max_features=sqrt, max_depth=60, bootstrap=False, total=  11.9s\n",
      "[CV] n_estimators=200, min_samples_split=10, min_samples_leaf=2, max_features=sqrt, max_depth=60, bootstrap=False \n",
      "[CV]  n_estimators=200, min_samples_split=10, min_samples_leaf=2, max_features=sqrt, max_depth=60, bootstrap=False, total=  11.4s\n",
      "[CV] n_estimators=200, min_samples_split=10, min_samples_leaf=2, max_features=sqrt, max_depth=60, bootstrap=False \n",
      "[CV]  n_estimators=200, min_samples_split=10, min_samples_leaf=2, max_features=sqrt, max_depth=60, bootstrap=False, total=  11.6s\n",
      "[CV]  n_estimators=300, min_samples_split=2, min_samples_leaf=4, max_features=auto, max_depth=20, bootstrap=True, total= 1.3min\n",
      "[CV]  n_estimators=300, min_samples_split=2, min_samples_leaf=4, max_features=auto, max_depth=20, bootstrap=True, total= 1.0min\n",
      "[CV]  n_estimators=300, min_samples_split=2, min_samples_leaf=4, max_features=auto, max_depth=20, bootstrap=True, total= 1.2min\n"
     ]
    },
    {
     "name": "stderr",
     "output_type": "stream",
     "text": [
      "[Parallel(n_jobs=-1)]: Done 300 out of 300 | elapsed: 53.8min finished\n"
     ]
    },
    {
     "data": {
      "text/plain": [
       "RandomizedSearchCV(cv=3, error_score='raise',\n",
       "          estimator=RandomForestRegressor(bootstrap=True, criterion='mse', max_depth=None,\n",
       "           max_features='auto', max_leaf_nodes=None,\n",
       "           min_impurity_decrease=0.0, min_impurity_split=None,\n",
       "           min_samples_leaf=1, min_samples_split=2,\n",
       "           min_weight_fraction_leaf=0.0, n_estimators=10, n_jobs=1,\n",
       "           oob_score=False, random_state=None, verbose=0, warm_start=False),\n",
       "          fit_params=None, iid=True, n_iter=100, n_jobs=-1,\n",
       "          param_distributions={'n_estimators': [200, 300], 'max_features': ['auto', 'sqrt'], 'max_depth': [10, 20, 30, 40, 50, 60, 70, 80, 90, 100, 110, None], 'min_samples_split': [2, 5, 10], 'min_samples_leaf': [1, 2, 4], 'bootstrap': [True, False]},\n",
       "          pre_dispatch='2*n_jobs', random_state=42, refit=True,\n",
       "          return_train_score='warn', scoring=None, verbose=2)"
      ]
     },
     "execution_count": 84,
     "metadata": {},
     "output_type": "execute_result"
    }
   ],
   "source": [
    "# Use the random grid to search for best hyperparameters\n",
    "# First create the base model to tune\n",
    "rf = RandomForestRegressor()\n",
    "# Random search of parameters, using 3 fold cross validation, \n",
    "# search across 100 different combinations, and use all available cores\n",
    "rf_random = RandomizedSearchCV(estimator = rf, param_distributions = random_grid, n_iter = 100, cv = 3, \n",
    "                               verbose=2, random_state=42, n_jobs = -1)\n",
    "# Fit the random search model\n",
    "rf_random.fit(X_train, y_train)"
   ]
  },
  {
   "cell_type": "code",
   "execution_count": 85,
   "metadata": {},
   "outputs": [
    {
     "data": {
      "text/plain": [
       "{'bootstrap': False,\n",
       " 'max_depth': 80,\n",
       " 'max_features': 'sqrt',\n",
       " 'min_samples_leaf': 4,\n",
       " 'min_samples_split': 5,\n",
       " 'n_estimators': 300}"
      ]
     },
     "execution_count": 85,
     "metadata": {},
     "output_type": "execute_result"
    }
   ],
   "source": [
    "rf_random.best_params_"
   ]
  },
  {
   "cell_type": "code",
   "execution_count": 86,
   "metadata": {
    "collapsed": true
   },
   "outputs": [],
   "source": [
    "best_random = rf_random.best_estimator_\n",
    "y_pred = best_random.predict(X_test)\n",
    "y_pred = (y_pred>0.5)"
   ]
  },
  {
   "cell_type": "code",
   "execution_count": 87,
   "metadata": {},
   "outputs": [
    {
     "name": "stdout",
     "output_type": "stream",
     "text": [
      "Accuracy test: 84.7911\n",
      "Accuracy train: 83.3876\n"
     ]
    }
   ],
   "source": [
    "bac=np.round(metrics.accuracy_score(y_test, y_pred)*100,4)\n",
    "bactr=np.round(best_random.score(X_train, y_train)*100,4)\n",
    "print(\"Accuracy test:\",bac) #rf_random.score(X_test, y_test)\n",
    "print(\"Accuracy train:\",bactr)"
   ]
  },
  {
   "cell_type": "markdown",
   "metadata": {},
   "source": [
    "That's not bad!"
   ]
  },
  {
   "cell_type": "code",
   "execution_count": 101,
   "metadata": {
    "scrolled": true
   },
   "outputs": [
    {
     "name": "stdout",
     "output_type": "stream",
     "text": [
      "Fitting 3 folds for each of 4 candidates, totalling 12 fits\n",
      "[CV] bootstrap=False, max_depth=80, max_features=sqrt, min_samples_leaf=2, min_samples_split=5, n_estimators=300 \n",
      "[CV] bootstrap=False, max_depth=80, max_features=sqrt, min_samples_leaf=2, min_samples_split=5, n_estimators=300 \n",
      "[CV] bootstrap=False, max_depth=80, max_features=sqrt, min_samples_leaf=2, min_samples_split=5, n_estimators=300 \n",
      "[CV] bootstrap=False, max_depth=80, max_features=sqrt, min_samples_leaf=2, min_samples_split=10, n_estimators=300 \n",
      "[CV]  bootstrap=False, max_depth=80, max_features=sqrt, min_samples_leaf=2, min_samples_split=5, n_estimators=300, total=  16.4s\n",
      "[CV] bootstrap=False, max_depth=80, max_features=sqrt, min_samples_leaf=2, min_samples_split=10, n_estimators=300 \n",
      "[CV]  bootstrap=False, max_depth=80, max_features=sqrt, min_samples_leaf=2, min_samples_split=10, n_estimators=300, total=  16.4s\n",
      "[CV] bootstrap=False, max_depth=80, max_features=sqrt, min_samples_leaf=2, min_samples_split=10, n_estimators=300 \n",
      "[CV]  bootstrap=False, max_depth=80, max_features=sqrt, min_samples_leaf=2, min_samples_split=5, n_estimators=300, total=  17.9s\n",
      "[CV] bootstrap=False, max_depth=80, max_features=sqrt, min_samples_leaf=4, min_samples_split=5, n_estimators=300 \n",
      "[CV]  bootstrap=False, max_depth=80, max_features=sqrt, min_samples_leaf=2, min_samples_split=5, n_estimators=300, total=  18.1s\n",
      "[CV] bootstrap=False, max_depth=80, max_features=sqrt, min_samples_leaf=4, min_samples_split=5, n_estimators=300 \n",
      "[CV]  bootstrap=False, max_depth=80, max_features=sqrt, min_samples_leaf=4, min_samples_split=5, n_estimators=300, total=  17.2s\n",
      "[CV] bootstrap=False, max_depth=80, max_features=sqrt, min_samples_leaf=4, min_samples_split=5, n_estimators=300 \n",
      "[CV]  bootstrap=False, max_depth=80, max_features=sqrt, min_samples_leaf=2, min_samples_split=10, n_estimators=300, total=  20.2s\n",
      "[CV] bootstrap=False, max_depth=80, max_features=sqrt, min_samples_leaf=4, min_samples_split=10, n_estimators=300 \n",
      "[CV]  bootstrap=False, max_depth=80, max_features=sqrt, min_samples_leaf=4, min_samples_split=5, n_estimators=300, total=  19.0s\n",
      "[CV] bootstrap=False, max_depth=80, max_features=sqrt, min_samples_leaf=4, min_samples_split=10, n_estimators=300 \n",
      "[CV]  bootstrap=False, max_depth=80, max_features=sqrt, min_samples_leaf=2, min_samples_split=10, n_estimators=300, total=  20.9s\n",
      "[CV] bootstrap=False, max_depth=80, max_features=sqrt, min_samples_leaf=4, min_samples_split=10, n_estimators=300 \n",
      "[CV]  bootstrap=False, max_depth=80, max_features=sqrt, min_samples_leaf=4, min_samples_split=10, n_estimators=300, total=  17.4s\n",
      "[CV]  bootstrap=False, max_depth=80, max_features=sqrt, min_samples_leaf=4, min_samples_split=5, n_estimators=300, total=  19.6s\n",
      "[CV]  bootstrap=False, max_depth=80, max_features=sqrt, min_samples_leaf=4, min_samples_split=10, n_estimators=300, total=  18.7s\n",
      "[CV]  bootstrap=False, max_depth=80, max_features=sqrt, min_samples_leaf=4, min_samples_split=10, n_estimators=300, total=  19.1s\n"
     ]
    },
    {
     "name": "stderr",
     "output_type": "stream",
     "text": [
      "[Parallel(n_jobs=-1)]: Done  12 out of  12 | elapsed:   58.6s remaining:    0.0s\n",
      "[Parallel(n_jobs=-1)]: Done  12 out of  12 | elapsed:   58.6s finished\n"
     ]
    },
    {
     "data": {
      "text/plain": [
       "GridSearchCV(cv=3, error_score='raise',\n",
       "       estimator=RandomForestRegressor(bootstrap=True, criterion='mse', max_depth=None,\n",
       "           max_features='auto', max_leaf_nodes=None,\n",
       "           min_impurity_decrease=0.0, min_impurity_split=None,\n",
       "           min_samples_leaf=1, min_samples_split=2,\n",
       "           min_weight_fraction_leaf=0.0, n_estimators=10, n_jobs=1,\n",
       "           oob_score=False, random_state=None, verbose=0, warm_start=False),\n",
       "       fit_params=None, iid=True, n_jobs=-1,\n",
       "       param_grid={'bootstrap': [False], 'max_depth': [80], 'max_features': ['sqrt'], 'min_samples_leaf': [2, 4], 'min_samples_split': [5, 10], 'n_estimators': [300]},\n",
       "       pre_dispatch='2*n_jobs', refit=True, return_train_score='warn',\n",
       "       scoring=None, verbose=2)"
      ]
     },
     "execution_count": 101,
     "metadata": {},
     "output_type": "execute_result"
    }
   ],
   "source": [
    "from sklearn.model_selection import GridSearchCV\n",
    "from sklearn.ensemble import RandomForestRegressor\n",
    "\n",
    "# Create the parameter grid based on the results of random search \n",
    "param_grid = {\n",
    "    'bootstrap': [False],\n",
    "    'max_depth': [80],\n",
    "    'max_features': ['sqrt'],\n",
    "    'min_samples_leaf': [2,4],\n",
    "    'min_samples_split': [5, 10],\n",
    "    'n_estimators': [300]\n",
    "}\n",
    "\n",
    "rf = RandomForestRegressor()\n",
    "\n",
    "grid_search = GridSearchCV(estimator = rf, param_grid = param_grid, \n",
    "                          cv = 3, verbose = 2, n_jobs = -1)\n",
    "grid_search.fit(X_train, y_train)"
   ]
  },
  {
   "cell_type": "code",
   "execution_count": 102,
   "metadata": {},
   "outputs": [
    {
     "data": {
      "text/plain": [
       "{'bootstrap': False,\n",
       " 'max_depth': 80,\n",
       " 'max_features': 'sqrt',\n",
       " 'min_samples_leaf': 4,\n",
       " 'min_samples_split': 10,\n",
       " 'n_estimators': 300}"
      ]
     },
     "execution_count": 102,
     "metadata": {},
     "output_type": "execute_result"
    }
   ],
   "source": [
    "grid_search.best_params_"
   ]
  },
  {
   "cell_type": "code",
   "execution_count": 127,
   "metadata": {
    "collapsed": true
   },
   "outputs": [],
   "source": [
    "best_grid = grid_search.best_estimator_\n",
    "y_pred = best_grid.predict(X_test)\n",
    "y_pred = (y_pred>0.5)"
   ]
  },
  {
   "cell_type": "code",
   "execution_count": 128,
   "metadata": {},
   "outputs": [
    {
     "name": "stdout",
     "output_type": "stream",
     "text": [
      "Accuracy test: 93.4075\n",
      "Accuracy train: 66.6844\n"
     ]
    }
   ],
   "source": [
    "fac=np.round(metrics.accuracy_score(y_test, y_pred)*100,4)\n",
    "factr=np.round(best_grid.score(X_train, y_train)*100,4)\n",
    "print(\"Accuracy test:\",fac) #rf_random.score(X_test, y_test)\n",
    "print(\"Accuracy train:\",factr)"
   ]
  },
  {
   "cell_type": "code",
   "execution_count": 96,
   "metadata": {
    "collapsed": true
   },
   "outputs": [],
   "source": [
    "feature_imp = pd.Series(RFC.feature_importances_,index=x).sort_values(ascending=False)[:50]"
   ]
  },
  {
   "cell_type": "code",
   "execution_count": 97,
   "metadata": {},
   "outputs": [
    {
     "data": {
      "image/png": "[encoded data removed]",
      "text/plain": [
       "<matplotlib.figure.Figure at 0x7f6bb6f43940>"
      ]
     },
     "metadata": {},
     "output_type": "display_data"
    }
   ],
   "source": [
    "%matplotlib inline\n",
    "plt.figure(figsize=(5,12.5))\n",
    "# Creating a bar plot\n",
    "sns.barplot(x=feature_imp, y=feature_imp.index, color='steelblue')\n",
    "# Add labels to your graph\n",
    "plt.xlabel('Feature Importance Score')\n",
    "plt.ylabel('Features')\n",
    "plt.title('Visualizing 50 Most Important Features')\n",
    "plt.legend()\n",
    "plt.show()"
   ]
  },
  {
   "cell_type": "markdown",
   "metadata": {
    "collapsed": true
   },
   "source": [
    "# Neural Networks"
   ]
  },
  {
   "cell_type": "code",
   "execution_count": 76,
   "metadata": {},
   "outputs": [
    {
     "data": {
      "text/plain": [
       "(6399, 120)"
      ]
     },
     "execution_count": 76,
     "metadata": {},
     "output_type": "execute_result"
    }
   ],
   "source": [
    "X_test.shape"
   ]
  },
  {
   "cell_type": "code",
   "execution_count": 77,
   "metadata": {
    "scrolled": true
   },
   "outputs": [
    {
     "name": "stderr",
     "output_type": "stream",
     "text": [
      "Using TensorFlow backend.\n"
     ]
    },
    {
     "name": "stdout",
     "output_type": "stream",
     "text": [
      "Epoch 1/25\n",
      "14929/14929 [==============================] - 0s 27us/step - loss: 0.5375 - acc: 0.7698\n",
      "Epoch 2/25\n",
      "14929/14929 [==============================] - 0s 18us/step - loss: 0.4432 - acc: 0.8104\n",
      "Epoch 3/25\n",
      "14929/14929 [==============================] - 0s 18us/step - loss: 0.4167 - acc: 0.8207\n",
      "Epoch 4/25\n",
      "14929/14929 [==============================] - 0s 18us/step - loss: 0.4067 - acc: 0.8284\n",
      "Epoch 5/25\n",
      "14929/14929 [==============================] - 0s 18us/step - loss: 0.3950 - acc: 0.8331\n",
      "Epoch 6/25\n",
      "14929/14929 [==============================] - 0s 19us/step - loss: 0.3884 - acc: 0.8374\n",
      "Epoch 7/25\n",
      "14929/14929 [==============================] - 0s 18us/step - loss: 0.3827 - acc: 0.8414\n",
      "Epoch 8/25\n",
      "14929/14929 [==============================] - 0s 18us/step - loss: 0.3780 - acc: 0.8393\n",
      "Epoch 9/25\n",
      "14929/14929 [==============================] - 0s 19us/step - loss: 0.3736 - acc: 0.8465\n",
      "Epoch 10/25\n",
      "14929/14929 [==============================] - 0s 19us/step - loss: 0.3662 - acc: 0.8481\n",
      "Epoch 11/25\n",
      "14929/14929 [==============================] - 0s 18us/step - loss: 0.3656 - acc: 0.8481\n",
      "Epoch 12/25\n",
      "14929/14929 [==============================] - 0s 17us/step - loss: 0.3604 - acc: 0.8500\n",
      "Epoch 13/25\n",
      "14929/14929 [==============================] - 0s 17us/step - loss: 0.3587 - acc: 0.8542\n",
      "Epoch 14/25\n",
      "14929/14929 [==============================] - 0s 17us/step - loss: 0.3576 - acc: 0.8520\n",
      "Epoch 15/25\n",
      "14929/14929 [==============================] - 0s 17us/step - loss: 0.3532 - acc: 0.8552\n",
      "Epoch 16/25\n",
      "14929/14929 [==============================] - 0s 18us/step - loss: 0.3510 - acc: 0.8551\n",
      "Epoch 17/25\n",
      "14929/14929 [==============================] - 0s 17us/step - loss: 0.3448 - acc: 0.8611\n",
      "Epoch 18/25\n",
      "14929/14929 [==============================] - 0s 17us/step - loss: 0.3490 - acc: 0.8578\n",
      "Epoch 19/25\n",
      "14929/14929 [==============================] - 0s 17us/step - loss: 0.3413 - acc: 0.8599\n",
      "Epoch 20/25\n",
      "14929/14929 [==============================] - 0s 17us/step - loss: 0.3394 - acc: 0.8622\n",
      "Epoch 21/25\n",
      "14929/14929 [==============================] - 0s 17us/step - loss: 0.3394 - acc: 0.8624\n",
      "Epoch 22/25\n",
      "14929/14929 [==============================] - 0s 17us/step - loss: 0.3384 - acc: 0.8629\n",
      "Epoch 23/25\n",
      "14929/14929 [==============================] - 0s 17us/step - loss: 0.3330 - acc: 0.8668\n",
      "Epoch 24/25\n",
      "14929/14929 [==============================] - 0s 17us/step - loss: 0.3306 - acc: 0.8687\n",
      "Epoch 25/25\n",
      "14929/14929 [==============================] - 0s 17us/step - loss: 0.3284 - acc: 0.8679\n",
      "6399/6399 [==============================] - 0s 12us/step\n",
      "14929/14929 [==============================] - 0s 8us/step\n"
     ]
    }
   ],
   "source": [
    "import keras\n",
    "from keras.models import Sequential\n",
    "from keras.layers import Dense, Dropout\n",
    "\n",
    "model = Sequential()\n",
    "model.add(Dense(128, input_dim=120, activation='relu'))\n",
    "model.add(Dropout(0.5))\n",
    "model.add(Dense(64, activation='relu'))\n",
    "model.add(Dropout(0.5))\n",
    "model.add(Dense(1, activation='sigmoid'))\n",
    "\n",
    "model.compile(loss='binary_crossentropy',\n",
    "              optimizer='rmsprop',\n",
    "              metrics=['accuracy'])\n",
    "\n",
    "model.fit(X_train, y_train,\n",
    "          epochs=25,\n",
    "          batch_size=128)\n",
    "score1 = model.evaluate(X_test, y_test, batch_size=128)\n",
    "score2 = model.evaluate(X_train, y_train, batch_size=128)\n",
    "score1 = np.round(score1[1]*100,4)\n",
    "score2 = np.round(score2[1]*100,4)"
   ]
  },
  {
   "cell_type": "code",
   "execution_count": 78,
   "metadata": {},
   "outputs": [
    {
     "name": "stdout",
     "output_type": "stream",
     "text": [
      "test : 84.6695\n",
      "train: 88.4386\n"
     ]
    }
   ],
   "source": [
    "print('test :', score1)\n",
    "print('train:', score2)"
   ]
  },
  {
   "cell_type": "code",
   "execution_count": 79,
   "metadata": {
    "collapsed": true
   },
   "outputs": [],
   "source": [
    "from keras import models\n",
    "from keras import layers\n",
    "from keras.wrappers.scikit_learn import KerasClassifier\n",
    "from sklearn.model_selection import cross_val_score\n",
    "from sklearn.datasets import make_classification\n",
    "np.random.seed(0)"
   ]
  },
  {
   "cell_type": "code",
   "execution_count": 80,
   "metadata": {
    "collapsed": true
   },
   "outputs": [],
   "source": [
    "def create_network():\n",
    "    \n",
    "    model = Sequential()\n",
    "    model.add(Dense(128, input_dim=120, activation='relu'))\n",
    "    model.add(Dropout(0.5))\n",
    "    model.add(Dense(64, activation='relu'))\n",
    "    model.add(Dropout(0.5))\n",
    "    model.add(Dense(1, activation='sigmoid'))\n",
    "    model.compile(loss='binary_crossentropy',\n",
    "              optimizer='rmsprop',\n",
    "              metrics=['accuracy'])\n",
    "    \n",
    "    return model"
   ]
  },
  {
   "cell_type": "code",
   "execution_count": 81,
   "metadata": {
    "collapsed": true
   },
   "outputs": [],
   "source": [
    "neural_network = KerasClassifier(build_fn=create_network, \n",
    "                                 epochs=25, \n",
    "                                 batch_size=100, \n",
    "                                 verbose=0)"
   ]
  },
  {
   "cell_type": "code",
   "execution_count": 82,
   "metadata": {},
   "outputs": [
    {
     "data": {
      "text/plain": [
       "0.84930584636767481"
      ]
     },
     "execution_count": 82,
     "metadata": {},
     "output_type": "execute_result"
    }
   ],
   "source": [
    "np.mean(cross_val_score(neural_network, X, y, cv=10))"
   ]
  },
  {
   "cell_type": "code",
   "execution_count": 83,
   "metadata": {
    "collapsed": true
   },
   "outputs": [],
   "source": [
    "nn = cross_val_predict(neural_network, X, y, cv=10, method='predict_proba')\n",
    "nn1 = cross_val_predict(neural_network, X, y, cv=10)\n",
    "nnnn=np.round(metrics.accuracy_score(y, nn1)*100,4)"
   ]
  },
  {
   "cell_type": "markdown",
   "metadata": {},
   "source": [
    "# KNeighbors Classifier"
   ]
  },
  {
   "cell_type": "code",
   "execution_count": 84,
   "metadata": {
    "collapsed": true
   },
   "outputs": [],
   "source": [
    "from sklearn.neighbors import KNeighborsClassifier"
   ]
  },
  {
   "cell_type": "code",
   "execution_count": 107,
   "metadata": {
    "collapsed": true
   },
   "outputs": [],
   "source": [
    "hh=[]\n",
    "for i in range (1,51):\n",
    "    kn=KNeighborsClassifier(n_neighbors=i)\n",
    "    kkk = cross_val_predict(kn, X, y, cv=10, method='predict_proba')\n",
    "    kkk1= cross_val_predict(kn, X, y, cv=10)\n",
    "    kkkk=np.round(metrics.accuracy_score(y, kkk1)*100,4)\n",
    "    hh.append(kkkk)"
   ]
  },
  {
   "cell_type": "code",
   "execution_count": 108,
   "metadata": {
    "collapsed": true
   },
   "outputs": [],
   "source": [
    "yy=list(range(1,51))"
   ]
  },
  {
   "cell_type": "code",
   "execution_count": 85,
   "metadata": {},
   "outputs": [
    {
     "ename": "NameError",
     "evalue": "name 'yy' is not defined",
     "output_type": "error",
     "traceback": [
      "\u001b[0;31m---------------------------------------------------------------------------\u001b[0m",
      "\u001b[0;31mNameError\u001b[0m                                 Traceback (most recent call last)",
      "\u001b[0;32m<ipython-input-85-49314e2b4ca8>\u001b[0m in \u001b[0;36m<module>\u001b[0;34m()\u001b[0m\n\u001b[0;32m----> 1\u001b[0;31m \u001b[0mplt\u001b[0m\u001b[0;34m.\u001b[0m\u001b[0mplot\u001b[0m\u001b[0;34m(\u001b[0m\u001b[0myy\u001b[0m\u001b[0;34m,\u001b[0m\u001b[0mhh\u001b[0m\u001b[0;34m)\u001b[0m\u001b[0;34m\u001b[0m\u001b[0m\n\u001b[0m\u001b[1;32m      2\u001b[0m \u001b[0mplt\u001b[0m\u001b[0;34m.\u001b[0m\u001b[0mxlabel\u001b[0m\u001b[0;34m(\u001b[0m\u001b[0;34m'Number of Neighbors'\u001b[0m\u001b[0;34m)\u001b[0m\u001b[0;34m\u001b[0m\u001b[0m\n\u001b[1;32m      3\u001b[0m \u001b[0mplt\u001b[0m\u001b[0;34m.\u001b[0m\u001b[0mylabel\u001b[0m\u001b[0;34m(\u001b[0m\u001b[0;34m'Accuracy Score'\u001b[0m\u001b[0;34m)\u001b[0m\u001b[0;34m\u001b[0m\u001b[0m\n\u001b[1;32m      4\u001b[0m \u001b[0;31m#plt.title()\u001b[0m\u001b[0;34m\u001b[0m\u001b[0;34m\u001b[0m\u001b[0m\n\u001b[1;32m      5\u001b[0m \u001b[0;31m#plt.savefig('Rich12neigh.eps', format='eps', dpi=1200)\u001b[0m\u001b[0;34m\u001b[0m\u001b[0;34m\u001b[0m\u001b[0m\n",
      "\u001b[0;31mNameError\u001b[0m: name 'yy' is not defined"
     ]
    }
   ],
   "source": [
    "plt.plot(yy,hh)\n",
    "plt.xlabel('Number of Neighbors')\n",
    "plt.ylabel('Accuracy Score')\n",
    "#plt.title()\n",
    "#plt.savefig('Rich12neigh.eps', format='eps', dpi=1200)\n",
    "plt.show()"
   ]
  },
  {
   "cell_type": "code",
   "execution_count": 86,
   "metadata": {
    "collapsed": true
   },
   "outputs": [],
   "source": [
    "kn=KNeighborsClassifier(n_neighbors=8)\n",
    "kkk = cross_val_predict(kn, X, y, cv=10, method='predict_proba')\n",
    "kkk1= cross_val_predict(kn, X, y, cv=10)\n",
    "kkkk=np.round(metrics.accuracy_score(y, kkk1)*100,4)"
   ]
  },
  {
   "cell_type": "markdown",
   "metadata": {
    "collapsed": true
   },
   "source": [
    "# Results"
   ]
  },
  {
   "cell_type": "code",
   "execution_count": 87,
   "metadata": {},
   "outputs": [
    {
     "data": {
      "image/png": "[encoded data removed]",
      "text/plain": [
       "<matplotlib.figure.Figure at 0x7f099c1095f8>"
      ]
     },
     "metadata": {},
     "output_type": "display_data"
    }
   ],
   "source": [
    "from sklearn.metrics import classification_report,confusion_matrix,auc,precision_recall_curve\n",
    "from sklearn.metrics import roc_auc_score\n",
    "from sklearn.metrics import roc_curve\n",
    "fig = plt.figure(figsize=(15,8))\n",
    "ax1 = fig.add_subplot(1,2,1)\n",
    "ax1.set_xlim([-0.025,1])\n",
    "ax1.set_ylim([0,1.025])\n",
    "ax1.set_xlabel('Recall')\n",
    "ax1.set_ylabel('Precision')\n",
    "ax1.set_title('PR Curve')\n",
    "\n",
    "ax2 = fig.add_subplot(1,2,2)\n",
    "ax2.plot([0, 1], [0, 1], color='navy', linestyle='--')\n",
    "ax2.set_xlim([-0.025,1])\n",
    "ax2.set_ylim([0,1.025])\n",
    "ax2.set_xlabel('False Positive Rate')\n",
    "ax2.set_ylabel('True Positive Rate')\n",
    "ax2.set_title('ROC Curve')\n",
    "\n",
    "#y_pred_proba=best_grid.predict(X_test)\n",
    "y_pred_proba=predicted[::,1]\n",
    "fpr, tpr, _ = metrics.roc_curve(y,  y_pred_proba)\n",
    "p,r,_ = precision_recall_curve(y,y_pred_proba)\n",
    "auc = np.round(metrics.roc_auc_score(y, y_pred_proba),6)\n",
    "ax2.plot(fpr,tpr,label=\"RF, AUC=\"+str(auc)+\", AC=\"+str(acrff),color='black')\n",
    "ax1.plot(r,p,label='RF',color='black')\n",
    "#plt.legend(loc=4)\n",
    "\n",
    "#y_pred_proba = model.predict_proba(X_test)\n",
    "y_pred_proba=nn[::,1]\n",
    "fpr, tpr, _ = metrics.roc_curve(y,  y_pred_proba)\n",
    "p,r,_ = precision_recall_curve(y,y_pred_proba)\n",
    "auc = np.round(metrics.roc_auc_score(y, y_pred_proba),6)\n",
    "ax2.plot(fpr,tpr,label=\"NN, AUC=\"+str(auc)+\", AC=\"+str(nnnn),color='darkorange')\n",
    "ax1.plot(r,p,label='NN',color='darkorange')\n",
    "#ax2.legend(loc=4)\n",
    "\n",
    "for w,k in zip([1],'bgrcmykw'):\n",
    "    #lr_model = LogisticRegression(class_weight={0:1,1:w})\n",
    "    #lr_model.fit(X_train,y_train)\n",
    "    #pred_prob = lr_model.predict_proba(X_test)[:,1]\n",
    "    #pred_prob = logreg.predict_proba(X_test)[::,1]\n",
    "    pred_prob=pp[::,1]\n",
    "    p,r,_ = precision_recall_curve(y,pred_prob)\n",
    "    tpr,fpr,_ = roc_curve(y,pred_prob)\n",
    "    auc = np.round(metrics.roc_auc_score(y, pred_prob),6)\n",
    "    ax1.plot(r,p,c=k,label='LR')\n",
    "    ax2.plot(tpr,fpr,c=k,label='LR, AUC='+str(auc)+\", AC=\"+str(mmmm))\n",
    "\n",
    "#y_pred_proba=svclassifier.predict_proba(X_test)[:,1]\n",
    "y_pred_proba=kkk[::,1]\n",
    "fpr, tpr, _ = metrics.roc_curve(y,  y_pred_proba)\n",
    "p,r,_ = precision_recall_curve(y,y_pred_proba)\n",
    "auc = np.round(metrics.roc_auc_score(y, y_pred_proba),6)\n",
    "ax2.plot(fpr,tpr,label=\"KN, AUC=\"+str(auc)+\", AC=\"+str(kkkk),color='red')\n",
    "ax1.plot(r,p,label='KN',color='red')\n",
    "#plt.legend(loc=4)\n",
    "\n",
    "ax1.legend(loc='lower right')    \n",
    "ax2.legend(loc='lower right')\n",
    "plt.savefig('Rich12roc_Surv.eps', format='eps', dpi=1200)\n",
    "plt.show()"
   ]
  },
  {
   "cell_type": "code",
   "execution_count": null,
   "metadata": {
    "collapsed": true
   },
   "outputs": [],
   "source": []
  },
  {
   "cell_type": "code",
   "execution_count": null,
   "metadata": {
    "collapsed": true
   },
   "outputs": [],
   "source": []
  }
 ],
 "metadata": {
  "kernelspec": {
   "display_name": "Python 3",
   "language": "python",
   "name": "python3"
  },
  "language_info": {
   "codemirror_mode": {
    "name": "ipython",
    "version": 3
   },
   "file_extension": ".py",
   "mimetype": "text/x-python",
   "name": "python",
   "nbconvert_exporter": "python",
   "pygments_lexer": "ipython3",
   "version": "3.6.1"
  }
 },
 "nbformat": 4,
 "nbformat_minor": 2
}
